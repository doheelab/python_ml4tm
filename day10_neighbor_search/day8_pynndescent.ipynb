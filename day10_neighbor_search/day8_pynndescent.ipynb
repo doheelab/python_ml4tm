{
 "cells": [
  {
   "cell_type": "markdown",
   "metadata": {},
   "source": [
    "NN-descent 의 Python 구현체는 pynndescent 가 있습니다 (https://github.com/lmcinnes/pynndescent/blob/master/pynndescent/pynndescent_.py)\n",
    "\n",
    "```\n",
    "pip install pynndescent\n",
    "```"
   ]
  },
  {
   "cell_type": "code",
   "execution_count": 1,
   "metadata": {},
   "outputs": [
    {
     "name": "stdout",
     "output_type": "stream",
     "text": [
      "soynlp=0.0.492\n",
      "added lovit_textmining_dataset\n",
      "(30091, 9774)\n"
     ]
    }
   ],
   "source": [
    "import config\n",
    "import sklearn\n",
    "from navernews_10days import get_bow, get_news_paths\n",
    "from soynlp.utils import DoublespaceLineCorpus\n",
    "\n",
    "x, idx_to_vocab, vocab_to_idx = get_bow(date='2016-10-20', tokenize='noun')\n",
    "path = get_news_paths(date='2016-10-20')\n",
    "docs = [doc for doc in DoublespaceLineCorpus(path, iter_sent=False)]\n",
    "\n",
    "print(x.shape)"
   ]
  },
  {
   "cell_type": "markdown",
   "metadata": {},
   "source": [
    "버그가 존재합니다. Zero vector 가 포함되어 있거나, sparse matrix 이거나, 입력데이터의 차원이 크면 indexing 이 실패할 경우들이 있습니다. 일단 Random Projection 기반 인덱서에 버그가 있는 것 까지는 확인했습니다만, 이 패키지를 뜯어보지 않아서 이유는 잘 모르겠습니다.\n",
    "\n",
    "nonzero dense matrix 로 변환하여 학습을 진행하였습니다."
   ]
  },
  {
   "cell_type": "code",
   "execution_count": 2,
   "metadata": {},
   "outputs": [],
   "source": [
    "import numpy as np\n",
    "\n",
    "doc_length = np.asarray(x.sum(axis=1)).reshape(-1)\n",
    "nonzero_doc_idxs = np.where(doc_length > 0)[0]\n",
    "x_ = x[nonzero_doc_idxs].todense()"
   ]
  },
  {
   "cell_type": "markdown",
   "metadata": {},
   "source": [
    "Random Projection 을 이용하여 nearest neighbor graph 를 생성합니다."
   ]
  },
  {
   "cell_type": "code",
   "execution_count": 3,
   "metadata": {},
   "outputs": [
    {
     "name": "stdout",
     "output_type": "stream",
     "text": [
      "Sat Jun 22 08:20:03 2019 Building RP forest with 8 trees\n",
      "Sat Jun 22 08:20:15 2019 NN descent for 10 iterations\n",
      "\t 0  /  10\n",
      "\t 1  /  10\n",
      "\t 2  /  10\n",
      "\t 3  /  10\n",
      "\t 4  /  10\n",
      "\t 5  /  10\n",
      "\t 6  /  10\n",
      "\t 7  /  10\n",
      "\t 8  /  10\n",
      "\t 9  /  10\n",
      "CPU times: user 40.6 s, sys: 4.92 s, total: 45.5 s\n",
      "Wall time: 45.4 s\n"
     ]
    }
   ],
   "source": [
    "%%time\n",
    "\n",
    "from pynndescent import NNDescent\n",
    "\n",
    "index = NNDescent(x_, verbose=True, metric='cosine')"
   ]
  },
  {
   "cell_type": "markdown",
   "metadata": {},
   "source": [
    "앞선 튜토리얼들과 같은 미국 대선 문서에 대하여 similarity search 를 수행합니다."
   ]
  },
  {
   "cell_type": "code",
   "execution_count": 4,
   "metadata": {},
   "outputs": [],
   "source": [
    "query = 15\n",
    "query_vec = x[query].reshape(1,-1).todense()"
   ]
  },
  {
   "cell_type": "code",
   "execution_count": 5,
   "metadata": {},
   "outputs": [
    {
     "name": "stdout",
     "output_type": "stream",
     "text": [
      "CPU times: user 6.87 s, sys: 24 ms, total: 6.9 s\n",
      "Wall time: 3.18 s\n"
     ]
    }
   ],
   "source": [
    "%%time\n",
    "\n",
    "idxs, dist = index.query(query_vec, k=10)"
   ]
  },
  {
   "cell_type": "markdown",
   "metadata": {},
   "source": [
    "nonzero documents 만 학습에 이용하였으니 x_ 의 row index 를 원래의 row index 로 변환합니다."
   ]
  },
  {
   "cell_type": "code",
   "execution_count": 6,
   "metadata": {},
   "outputs": [
    {
     "name": "stdout",
     "output_type": "stream",
     "text": [
      "[idx = 15, cos = 1.0] 클린턴 득표율 50 목표 가능성 아주 크다  워싱턴 연합뉴스 강영두 특파원 미국 민주당 대선후보 힐러리 클린턴이 다음달 8일 대선에서 400명 이상의 선거인단을 확보하면서 대승을 거둘 수 있다는 분석이 나왔다  미국 민주당 대선후보 힐러리 클린턴이 지난 10일 현지시간 오하이오 주 콜럼버스에서 유세하는 모습 연합뉴스  미 공화당 전략가인 스티브 슈미트는 1 ...\n",
      "\n",
      "[idx = 15006, cos = 0.846] 미국 민주당 대선후보 힐러리 클린턴이 다음달 8일 대선에서 400명 이상의 선거인단을 확보하면서 대승을 거둘 수 있다는 분석이 나왔다  미 공화당 전략가인 스티브 슈미트는 현지시간 19일 방송의 모닝조 프로그램 인터뷰에서 이 같이 전망했다 슈미트는 2008년 존 매케인의 대선캠프에 관여했다 간접선거인 미 대선에서 승리에 필요한 선거인단 매직 넘버 는 전체  ...\n",
      "\n",
      "[idx = 7421, cos = 0.74] 여론조사서는 304명 확보 예상  힐러리 클린턴 미국 민주당 대선후보가 다음달 8일 대선에서 과반은 물론 선거인단의 4분의 3 이상 확보할 것이라는 분석이 공화당에서 나왔다  미 공화당 전략가인 스티브 슈미트는 19일 현지시간 방송과의 인터뷰에서 이같이 전망했다 그는 지난 2008년 대선 당시 공화당 후보였던 존 메케인 캠프에 관여한 인물이다  그는 현 상 ...\n",
      "\n",
      "[idx = 11309, cos = 0.698] 공화 상 하원선거도 고전할 듯 2016년 미국 대선이 19일 앞으로 다가온 가운데 민주당 후보 힐러리 클린턴 전 국무장관이 400명 이상의 선거인단을 확보해 압승을 거둘 것이라는 전망이 제기됐다 미 공화당 전략가인 스티브 슈밋은 19일 방송의 모닝조 프로그램에 출연 클린턴이 당선 매직넘버인 선거인단 270명을 훌쩍 넘어선 400명을 확보해 공화당 도널드 트 ...\n",
      "\n",
      "[idx = 13752, cos = 0.632] 미 대선 3주 앞 판세 분석  미국 대선을 3주일 앞두고 치러진 19일 현지시간 의 마지막 대선후보 토론을 가리켜 정치전문매체 폴리티코 등은 공화당 도널드 트럼프 후보의 생사의 순간 이라 불렀다 트럼프는 앞선 두 번의 토론에 비해 민주당 힐러리 클린턴 후보에 대한 인신공격을 자제하고 차분하게 말하려 작심한 기색이 역력했다 하지만 판세를 뒤집기에는 역부족이었 ...\n",
      "\n",
      "[idx = 14182, cos = 0.611] 힐러리 클린턴 미국 민주당 대선후보가 다음 달 8일 대선에서 400명 이상의 선거인단을 확보하면서 대승을 거둘 수 있다는 분석이 나왔습니다  미 공화당 전략가인 스티브 슈미트는 미국 방송에 출연해 현 상황은 힐러리가 선거인단 400명을 넘기는 추세라고 말했습니다  간접선거인 미 대선에서 승리에 필요한 선거인단 수는 전체 538명 가운데 과반인 270명입니다 ...\n",
      "\n",
      "[idx = 10422, cos = 0.602] 판세 갈수록 불리해지자 승복 그때 가서 보겠다 폭탄 발언  힐러리 편드는 썩어빠진 언론 비난 지지층 결집 시도인듯  원색 비난 오갔지만 이번에도 토론 승리는 클린턴  사진  뉴욕 이데일리 안승찬 특파원 미국 공화당 대선후보인 도널드 트럼프가 대선 결과에 대한 불복 가능성을 시사했다 선거라는 민주주의의 근간을 뒤흔드는 발언이다 미국 대선이 최악의 진흙탕 싸움 ...\n",
      "\n",
      "[idx = 12536, cos = 0.598] 한겨레 19일 토론 승리 힐러리 52 트럼프 39  클린턴 선거인단 309명 매직넘버 훌쩍 넘겨  공화당 전략가 클린턴 압승할듯 패닉 시작돼  미국 대선 마지막 텔레비전 토론이 열린 19일 현지시각 쏟아진 각종 여론조사에서 판세가 클린턴 쪽으로 확연히 기울고 있는 게 다시 한 번 확인됐다  토론 직후 시엔엔 방송과 여론조사업체 오아르시 가 공동실시한 시청자 ...\n",
      "\n",
      "[idx = 3687, cos = 0.597] 라스베이거스 뉴시스 힐러리 클린턴 미국 민주당 대선후보가 19일 현지시간 네바다주 라스베이거스에서 열린 마지막 3차 대선주자 토론을 시작하기 전 객석을 향해 손을 흔들고 있다 2016 10 20  서울 뉴시스 박상주 기자 미국 대선 레이스가 막판으로 접어들고 있다 힐러리 클린턴 민주당 대선후보와 도널드 트럼프 공화당 대선후보는 19일 오후 9시 현지시간 네 ...\n",
      "\n",
      "[idx = 9194, cos = 0.585] 클린턴 52 로 3연승  트럼프 지저분한 여자 선거에 나와선 안 될 범죄자  클린턴 푸틴의 꼭두각시 불복 시사 발언 소름 끼친다  워싱턴 박수진 임근호 기자  힐러리 클린턴 미국 민주당 대통령 후보가 3차 토론에서도 도널드 트럼프 공화당 후보를 이겼다 1 2차 토론에 이어 3연승이다 토론 지지율 격차를 줄인 트럼프는 오는 11월8일 선거 결과 패배시 에 불 ...\n",
      "\n"
     ]
    }
   ],
   "source": [
    "for d, idx in zip(dist[0], idxs[0]):\n",
    "    idx = nonzero_doc_idxs[idx]\n",
    "    print('[idx = {}, cos = {:.3}] {} ...\\n'.format(idx, 1 - d, docs[idx][:200]))"
   ]
  }
 ],
 "metadata": {
  "kernelspec": {
   "display_name": "Python 3",
   "language": "python",
   "name": "python3"
  },
  "language_info": {
   "codemirror_mode": {
    "name": "ipython",
    "version": 3
   },
   "file_extension": ".py",
   "mimetype": "text/x-python",
   "name": "python",
   "nbconvert_exporter": "python",
   "pygments_lexer": "ipython3",
   "version": "3.7.1"
  }
 },
 "nbformat": 4,
 "nbformat_minor": 2
}
