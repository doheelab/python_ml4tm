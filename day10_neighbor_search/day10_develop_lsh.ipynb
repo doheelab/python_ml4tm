{
 "cells": [
  {
   "cell_type": "markdown",
   "metadata": {},
   "source": [
    "## Random Projection\n",
    "\n",
    "Scikit-learn 의 LSHForest 는 한 종류의 metric 만 이용 가능하며, LSH 의 문제점들을 개선하는 방향으로 추가적인 개발이 되지 않았습니다. Scikit-learn 의 0.21 이후부터는 LSHForest 는 더 이상 제공되지 않는다고 합니다. 또한 Scikit-learn 의 다른 인덱서인 BallTree 와 KDTree 는 sparse matrix 에 대한 인덱싱을 지원하지 않습니다.\n",
    "\n",
    "안정적인 성능을 내기 위해서는 많은 작업들이 필요하지만, 기본적인 LSH 의 코드는 손쉽게 만들 수 있습니다. 이 튜토리얼을 통하여 Random Projection 을 이용하는 LSH 를 직접 개발해 봅니다.\n",
    "\n",
    "Hash function 의 설계에 따라 다양하게 인덱서를 변형할 수 있습니다."
   ]
  },
  {
   "cell_type": "code",
   "execution_count": 1,
   "metadata": {},
   "outputs": [],
   "source": [
    "import numpy as np\n",
    "from sklearn.preprocessing import normalize\n",
    "from lovit_textmining_dataset.navernews_10days import get_bow\n",
    "\n",
    "X, idx_to_vocab, vocab_to_idx = get_bow(date='2016-10-20', tokenize='noun')"
   ]
  },
  {
   "cell_type": "code",
   "execution_count": 2,
   "metadata": {},
   "outputs": [
    {
     "data": {
      "text/plain": [
       "(30091, 9774)"
      ]
     },
     "execution_count": 2,
     "metadata": {},
     "output_type": "execute_result"
    }
   ],
   "source": [
    "X.shape"
   ]
  },
  {
   "cell_type": "markdown",
   "metadata": {},
   "source": [
    "numpy.random.random_samples 는 [0, 1) 사이의 값을 생성하기 때문에 0.5 를 뺍니다."
   ]
  },
  {
   "cell_type": "code",
   "execution_count": 3,
   "metadata": {},
   "outputs": [
    {
     "data": {
      "text/plain": [
       "(9774, 10)"
      ]
     },
     "execution_count": 3,
     "metadata": {},
     "output_type": "execute_result"
    }
   ],
   "source": [
    "def generate_mapper(input_dim, output_dim, b_scale=0.1):\n",
    "    # uniform distribution\n",
    "    M = np.random.random_sample((input_dim, output_dim)) - 0.5\n",
    "    M = normalize(M, axis=0, norm='l2')\n",
    "    b = (np.random.random_sample(1) - 0.5) * b_scale\n",
    "    return M, b\n",
    "\n",
    "n_codes = 10\n",
    "M, b = generate_mapper(X.shape[1], n_codes)\n",
    "M.shape"
   ]
  },
  {
   "cell_type": "code",
   "execution_count": 4,
   "metadata": {},
   "outputs": [
    {
     "data": {
      "text/plain": [
       "array([0.01365153])"
      ]
     },
     "execution_count": 4,
     "metadata": {},
     "output_type": "execute_result"
    }
   ],
   "source": [
    "b"
   ]
  },
  {
   "cell_type": "markdown",
   "metadata": {},
   "source": [
    "Sparse matrix 와 numpy.ndarray 의 곱은 safe_sparse_dot 함수를 이용해야 효율적입니다. safe_sparse_dot 함수는 sparse matrix 의 nonzero element 기준으로 곱셈을 수행합니다."
   ]
  },
  {
   "cell_type": "code",
   "execution_count": 5,
   "metadata": {},
   "outputs": [
    {
     "data": {
      "text/plain": [
       "(30091, 10)"
      ]
     },
     "execution_count": 5,
     "metadata": {},
     "output_type": "execute_result"
    }
   ],
   "source": [
    "from sklearn.utils.extmath import safe_sparse_dot\n",
    "\n",
    "def transform(X, mapper, dense_output=False):\n",
    "    Y = safe_sparse_dot(X, mapper, dense_output)\n",
    "    return Y\n",
    "\n",
    "Y = transform(X, M)\n",
    "Y.shape"
   ]
  },
  {
   "cell_type": "markdown",
   "metadata": {},
   "source": [
    "numpy.ndarray 형식의 float vector 는 dtype 을 변경하여 손쉽게 integer vector 로 만들 수 있습니다."
   ]
  },
  {
   "cell_type": "code",
   "execution_count": 6,
   "metadata": {},
   "outputs": [
    {
     "data": {
      "text/plain": [
       "array([-2.24423257, -0.13922416,  0.39920841, -4.25557761, -2.9478034 ,\n",
       "       -5.73837581, -1.00782216, -2.86794736, -0.70919218,  1.64046998])"
      ]
     },
     "execution_count": 6,
     "metadata": {},
     "output_type": "execute_result"
    }
   ],
   "source": [
    "Y[1] / 0.01"
   ]
  },
  {
   "cell_type": "code",
   "execution_count": 7,
   "metadata": {},
   "outputs": [
    {
     "data": {
      "text/plain": [
       "array([-2,  0,  0, -4, -2, -5, -1, -2,  0,  1])"
      ]
     },
     "execution_count": 7,
     "metadata": {},
     "output_type": "execute_result"
    }
   ],
   "source": [
    "np.asarray(Y[1] / 0.01, dtype=np.int)"
   ]
  },
  {
   "cell_type": "markdown",
   "metadata": {},
   "source": [
    "Sign 함수를 이용할 수도 있습니다."
   ]
  },
  {
   "cell_type": "code",
   "execution_count": 8,
   "metadata": {},
   "outputs": [
    {
     "data": {
      "text/plain": [
       "array([-1,  0,  0, -1, -1, -1, -1, -1,  0,  1])"
      ]
     },
     "execution_count": 8,
     "metadata": {},
     "output_type": "execute_result"
    }
   ],
   "source": [
    "np.sign(np.asarray(Y[1] / 0.01, dtype=np.int))"
   ]
  },
  {
   "cell_type": "markdown",
   "metadata": {},
   "source": [
    "## Locality Sensitive Hashing\n",
    "\n",
    "앞서 만든 transform 함수를 이용하여 hash function 인 encode 함수를 만듭니다. Python 의 list 는 hashing 이 되지 않기 때문에 key 의 데이터 타입을 tuple 로 변경합니다. 모든 데이터에 대한 hash code 를 만든 뒤, 이를 기준으로 dict 에 row index 를 추가합니다."
   ]
  },
  {
   "cell_type": "code",
   "execution_count": 9,
   "metadata": {},
   "outputs": [],
   "source": [
    "from collections import defaultdict\n",
    "\n",
    "def encode(X, mapper, b, radius=1):\n",
    "    b_ = b / radius\n",
    "    # Y = (transform(X, mapper) - b) / radius\n",
    "    Y = np.sign((transform(X, mapper) - b))\n",
    "    C = np.asarray(Y, dtype=np.int)\n",
    "    # numpy.ndarray to tuple\n",
    "    C = [tuple(c) for c in C.tolist()]\n",
    "    return C\n",
    "\n",
    "def indexing(C, bucket=None):\n",
    "    if bucket is None:\n",
    "        bucket = defaultdict(lambda: [])\n",
    "    elif isinstance(bucket, dict):\n",
    "        bucket = defaultdict(lambda: [], bucket)\n",
    "\n",
    "    for i, c in enumerate(C):\n",
    "        bucket[c].append(i)\n",
    "    return dict(bucket)"
   ]
  },
  {
   "cell_type": "code",
   "execution_count": 10,
   "metadata": {},
   "outputs": [],
   "source": [
    "radius = 0.1\n",
    "\n",
    "C = encode(X, M, b, radius)\n",
    "buckets = indexing(C)"
   ]
  },
  {
   "cell_type": "markdown",
   "metadata": {},
   "source": [
    "단 한번이 random projection 으로는 buckets 의 사이즈가 불균형적입니다."
   ]
  },
  {
   "cell_type": "code",
   "execution_count": 11,
   "metadata": {},
   "outputs": [
    {
     "name": "stdout",
     "output_type": "stream",
     "text": [
      "(-1, -1, -1, -1, -1, -1, -1, -1, -1, -1) has 1121 items\n",
      "(-1, -1, -1, -1, -1, -1, -1, -1, -1, 1) has 197 items\n",
      "(1, -1, -1, -1, -1, 1, -1, -1, -1, -1) has 126 items\n",
      "(-1, -1, -1, -1, 1, 1, 1, -1, -1, -1) has 119 items\n",
      "(-1, -1, -1, -1, -1, 1, 1, -1, -1, -1) has 113 items\n",
      "(-1, -1, -1, 1, -1, -1, 1, -1, -1, 1) has 138 items\n",
      "(1, -1, -1, -1, -1, 1, 1, -1, -1, -1) has 124 items\n",
      "(-1, 1, -1, 1, -1, -1, -1, -1, 1, -1) has 101 items\n",
      "(-1, -1, -1, -1, -1, -1, -1, 1, -1, -1) has 101 items\n",
      "(1, -1, -1, -1, -1, -1, -1, -1, -1, -1) has 117 items\n",
      "(1, 1, -1, -1, -1, -1, -1, -1, -1, 1) has 128 items\n",
      "(1, -1, 1, -1, -1, -1, -1, -1, -1, -1) has 123 items\n",
      "(1, -1, -1, 1, 1, 1, 1, -1, -1, -1) has 116 items\n",
      "(-1, -1, -1, -1, -1, 1, -1, -1, -1, -1) has 133 items\n",
      "(1, -1, -1, -1, 1, 1, 1, -1, -1, -1) has 230 items\n",
      "(-1, -1, -1, -1, 1, -1, -1, -1, -1, -1) has 133 items\n",
      "(-1, -1, -1, -1, 1, -1, 1, -1, -1, 1) has 150 items\n",
      "(-1, -1, -1, 1, 1, 1, -1, -1, 1, -1) has 150 items\n",
      "(1, -1, -1, 1, 1, 1, 1, -1, 1, 1) has 133 items\n",
      "(-1, -1, 1, -1, -1, 1, 1, -1, -1, -1) has 101 items\n",
      "(-1, -1, -1, 1, -1, 1, -1, -1, 1, -1) has 120 items\n",
      "(1, -1, 1, -1, -1, 1, -1, -1, -1, -1) has 110 items\n",
      "(1, -1, -1, -1, 1, -1, 1, -1, -1, -1) has 114 items\n",
      "(-1, -1, -1, -1, -1, -1, -1, -1, 1, -1) has 610 items\n",
      "(1, -1, -1, 1, -1, 1, 1, -1, -1, -1) has 141 items\n",
      "(1, 1, -1, -1, -1, -1, -1, -1, -1, -1) has 114 items\n",
      "(-1, 1, -1, 1, 1, 1, -1, -1, 1, -1) has 110 items\n",
      "(-1, 1, -1, 1, -1, 1, -1, -1, 1, -1) has 107 items\n",
      "(-1, -1, -1, -1, -1, -1, 1, -1, -1, -1) has 112 items\n",
      "(-1, 1, -1, 1, 1, -1, -1, -1, 1, -1) has 161 items\n",
      "(-1, -1, -1, 1, -1, -1, -1, -1, 1, -1) has 211 items\n",
      "(-1, -1, -1, -1, 1, -1, 1, -1, -1, -1) has 194 items\n",
      "(-1, -1, -1, 1, 1, -1, -1, -1, 1, -1) has 228 items\n",
      "(-1, 1, -1, -1, -1, -1, 1, -1, 1, 1) has 184 items\n"
     ]
    }
   ],
   "source": [
    "for code, bucket in buckets.items():\n",
    "    if len(bucket) < 100:\n",
    "        continue\n",
    "    print('{} has {} items'.format(code, len(bucket)))"
   ]
  },
  {
   "cell_type": "markdown",
   "metadata": {},
   "source": [
    "검색된 뉴스를 확인하기 위하여 뉴스를 list 로 읽어둡니다."
   ]
  },
  {
   "cell_type": "code",
   "execution_count": 12,
   "metadata": {},
   "outputs": [],
   "source": [
    "from lovit_textmining_dataset.navernews_10days import get_news_paths\n",
    "from soynlp.utils import DoublespaceLineCorpus\n",
    "\n",
    "path = get_news_paths(date='2016-10-20')\n",
    "docs = list(DoublespaceLineCorpus(path))"
   ]
  },
  {
   "cell_type": "markdown",
   "metadata": {},
   "source": [
    "인덱싱 과정은 앞서 구현한 함수를 이용하며, 검색 함수만 따로 구현하였습니다."
   ]
  },
  {
   "cell_type": "code",
   "execution_count": 13,
   "metadata": {},
   "outputs": [],
   "source": [
    "from sklearn.metrics import pairwise_distances\n",
    "\n",
    "class HashingBasedIndexer:\n",
    "    def __init__(self, n_codes=10, n_layers=10, radius=1, b_scale=0.05):\n",
    "        self.n_codes = n_codes\n",
    "        self.n_layers = n_layers\n",
    "        self.radius = radius\n",
    "        self.b_scale = b_scale\n",
    "\n",
    "    def train(self, X):\n",
    "        input_dim = X.shape[1]\n",
    "        self.X = X\n",
    "        self._generate_mapper(input_dim, self.n_layers)\n",
    "        self._indexing(X, self.mappers, self.biases)\n",
    "\n",
    "    def _generate_mapper(self, input_dim, n_layers):\n",
    "        # initialize\n",
    "        self.biases = []\n",
    "        self.buckets = []\n",
    "        self.mappers = []\n",
    "\n",
    "        # generate mapper\n",
    "        for _ in range(n_layers):\n",
    "            M, b = generate_mapper(input_dim, n_codes)\n",
    "            self.mappers.append(M)\n",
    "            self.biases.append(b)\n",
    "\n",
    "    def _indexing(self, X, mappers, biases):\n",
    "        for M, b in zip(mappers, biases):\n",
    "            C = encode(X, M, b, self.radius)\n",
    "            self.buckets.append(indexing(C))\n",
    "\n",
    "    def find_similar(self, query_vec, topk=10, candidates_factor=1.0, debug=False):\n",
    "        candidates = self._get_candidates(query_vec, topk, candidates_factor)\n",
    "        if debug:\n",
    "            print('num candidatse = {}'.format(candidates.shape[0]))\n",
    "        dist, idxs = self._compute_distance(query_vec, candidates, topk)\n",
    "        return dist, idxs\n",
    "\n",
    "    def _get_candidates(self, query_vec, min_num, candidates_factor):\n",
    "        # {idx:co-occurrence}\n",
    "        cooccurrences = defaultdict(int)\n",
    "        for M, b, bucket in zip(self.mappers, self.biases, self.buckets):\n",
    "            C = encode(query_vec, M, b, self.radius)[0]\n",
    "            for idx in bucket.get(C, []):\n",
    "                cooccurrences[idx] += 1\n",
    "\n",
    "        # {co-occurrence:[idx, ...]}\n",
    "        group_by = defaultdict(lambda: [])\n",
    "        for idx, count in cooccurrences.items():\n",
    "            group_by[count].append(idx)\n",
    "\n",
    "        n_max_candidates = int(candidates_factor * min_num)\n",
    "        candidates = []\n",
    "        for count in sorted(group_by, key=lambda x:-x):\n",
    "            if len(candidates) >= n_max_candidates:\n",
    "                break\n",
    "            candidates += group_by[count]\n",
    "\n",
    "        # as numpy.ndarray\n",
    "        return np.asarray(candidates, dtype=np.int)\n",
    "\n",
    "    def _compute_distance(self, query_vec, candidates, topk):\n",
    "        dist = pairwise_distances(self.X[candidates], query_vec, metric='cosine').reshape(-1)        \n",
    "        sim_ref_idxs = dist.argsort()[:topk]\n",
    "        sim_idxs = candidates[sim_ref_idxs]\n",
    "        sim_dist = dist[sim_ref_idxs]\n",
    "        return sim_dist, sim_idxs"
   ]
  },
  {
   "cell_type": "markdown",
   "metadata": {},
   "source": [
    "구현한 함수를 테스트해 봅니다."
   ]
  },
  {
   "cell_type": "code",
   "execution_count": 14,
   "metadata": {},
   "outputs": [
    {
     "name": "stdout",
     "output_type": "stream",
     "text": [
      "CPU times: user 636 ms, sys: 64 ms, total: 700 ms\n",
      "Wall time: 698 ms\n"
     ]
    }
   ],
   "source": [
    "%%time\n",
    "indexer = HashingBasedIndexer(n_codes=6, n_layers=8, radius=0.3)\n",
    "indexer.train(X)"
   ]
  },
  {
   "cell_type": "markdown",
   "metadata": {},
   "source": [
    "Bucket 만 잘 나뉘어진다면 실제 거리 계산을 수행하는 횟수가 크게 줄어듭니다. 그리고 그 성능은 hash function 의 설계에 전적으로 달려있습니다."
   ]
  },
  {
   "cell_type": "code",
   "execution_count": 15,
   "metadata": {
    "scrolled": false
   },
   "outputs": [],
   "source": [
    "query = 15\n",
    "query_vec = X[query].reshape(1,-1)"
   ]
  },
  {
   "cell_type": "code",
   "execution_count": 16,
   "metadata": {},
   "outputs": [
    {
     "name": "stdout",
     "output_type": "stream",
     "text": [
      "num candidatse = 460\n",
      "CPU times: user 8 ms, sys: 0 ns, total: 8 ms\n",
      "Wall time: 7.43 ms\n"
     ]
    }
   ],
   "source": [
    "%%time\n",
    "\n",
    "dist, idxs = indexer.find_similar(query_vec, candidates_factor=5, debug=True)"
   ]
  },
  {
   "cell_type": "code",
   "execution_count": 17,
   "metadata": {},
   "outputs": [
    {
     "name": "stdout",
     "output_type": "stream",
     "text": [
      "[idx = 15, cos = 1.0] 클린턴 득표율 50 목표 가능성 아주 크다  워싱턴 연합뉴스 강영두 특파원 미국 민주당 대선후보 힐러리 클린턴이 다음달 8일 대선에서 400명 이상의 선거인단을 확보하면서 대승을 거둘 수 있다는 분석이 나왔다  미국 민주당 대선후보 힐러리 클린턴이 지난 10일 현지시간 오하이오 주 콜럼버스에서 유세하는 모습 연합뉴스  미 공화당 전략가인 스티브 슈미트는 1 ...\n",
      "\n",
      "[idx = 7421, cos = 0.74] 여론조사서는 304명 확보 예상  힐러리 클린턴 미국 민주당 대선후보가 다음달 8일 대선에서 과반은 물론 선거인단의 4분의 3 이상 확보할 것이라는 분석이 공화당에서 나왔다  미 공화당 전략가인 스티브 슈미트는 19일 현지시간 방송과의 인터뷰에서 이같이 전망했다 그는 지난 2008년 대선 당시 공화당 후보였던 존 메케인 캠프에 관여한 인물이다  그는 현 상 ...\n",
      "\n",
      "[idx = 13752, cos = 0.632] 미 대선 3주 앞 판세 분석  미국 대선을 3주일 앞두고 치러진 19일 현지시간 의 마지막 대선후보 토론을 가리켜 정치전문매체 폴리티코 등은 공화당 도널드 트럼프 후보의 생사의 순간 이라 불렀다 트럼프는 앞선 두 번의 토론에 비해 민주당 힐러리 클린턴 후보에 대한 인신공격을 자제하고 차분하게 말하려 작심한 기색이 역력했다 하지만 판세를 뒤집기에는 역부족이었 ...\n",
      "\n",
      "[idx = 7563, cos = 0.57] 공화당 텃밭서도 우세 유타 주는 맥멀린 1위 이변  19일 현지시간 미국 라스베이거스 네바다주에서 3차 토론을 벌이고 있는 힐러리 클린턴 오른쪽 민주당 후보와 도널드 트럼프 공화당 후보 라스베이거스 연합뉴스  11월 8일 치러질 미국 대통령 선거를 3주 앞두고 민주당 힐러리 클린턴 후보의 지지율이 주요 경합주에서 도널드 트럼프 공화당 후보를 앞서고 있다   ...\n",
      "\n",
      "[idx = 558, cos = 0.567] 클린턴 공화당 텃밭서도 우세 유타 맥멀린 1위 이변  현재 지지율 호감도 1월 수준으로 회귀  서울 연합뉴스 김남권 기자 미국 대선 11월 8일 을 3주 앞둔 시점에서 민주당 힐러리 클린턴이 공화당의 도널드 트럼프에 전국은 물론 주요 경합주 지지율 면에서도 앞서가고 있다  공화당의 텃밭으로 불리는 유타 주에서 무소속 후보 에번 맥멀린이 1위에 나섰다는 여론 ...\n",
      "\n",
      "[idx = 16858, cos = 0.526] 워싱턴 연합뉴스 미국 공화당 전략가인 스티브 슈미트는 19일 현지시간 방송의 모닝조 프로그램 인터뷰에서 현 추세로 볼 때 민주당 대선후보 힐러리 클린턴이 대선에서 400명 이상의 선거인단을 확보하면서 대승을 거둘 수 있을 것이라고 전망했다 사진은 힐러리가 지난 13일 샌프란시스코에서 유세하는 모습 ...\n",
      "\n",
      "[idx = 7558, cos = 0.465] 클린턴 후보는 와 끝까지 싸워야 하는 것은 맞다 면서도 시리아 안에 아직 많은 난민들이 존재한다 여성이나 아이들을 두고 문을 닫을 수는 없다 며 이 같이 밝혔다 이어 이슬람국가 와 같은 극단주의 무장단체와의 연계성을 철저하게 살핀 이후에 받아들이겠다는 입장을 강조했다  트럼프는 클린턴 측과 미디어가 한편이 돼 선거를 조작했다는 주장과 관련 대선결과에 승복하 ...\n",
      "\n",
      "[idx = 6906, cos = 0.446] 19일 현지시간 미국 네바다 주 라스베이거스 네바다대학에서 끝난 미국 대통령 선거 3차 토론의 승자는 민주당의 후보 힐러리 클린턴 전 국무장관으로 나타났다  미국 방송이 토론 직후 와 공동으로 벌인 여론조사에서 응답자의 52 가 클린턴을 승자로 꼽았다 공화당 대선 후보인 도널드 트럼프를 승자로 택한 응답자는 39 에 그쳤다  트럼프를 겨냥한 클린턴 후보의  ...\n",
      "\n",
      "[idx = 27797, cos = 0.434] 미국 대선 3차 토론이 끝난 19일 현지시간 도널드 트럼프 공화당 대통령 후보와 힐러리 클린턴 민주당 대통령 후보가 토론장을 나설 채비를 하고 있다 뉴스1  대선 3차 토론  과거 비해 정제됐지만 열띤 명대사 난립  서울 뉴스1 김혜지 기자 미국 대선의 마지막 토론이 19일 현지시간 유세 막바지를 화려하게 장식하며 끝났다  공화 민주 양당 대통령 후보인 도 ...\n",
      "\n",
      "[idx = 3686, cos = 0.431] 라스베이거스 뉴시스 힐러리 클린턴 미국 민주당 대선후보와 도널드 트럼프 공화당 후보가 19일 현지시간 네바다주 라스베이거스에서 마지막 3차 토론을 벌이고 있다 2016 10 20  서울 뉴시스 권성근 기자 미국 대선후보 3차 토론이 19일 현지시간 네바다주 라스베이거스 네바다대학에서 마무리됐다  오는 11월8일 치러지는 대선 전 마지막인 이번 토론에서 공화 ...\n",
      "\n"
     ]
    }
   ],
   "source": [
    "for d, idx in zip(dist, idxs):\n",
    "    print('[idx = {}, cos = {:.3}] {} ...\\n'.format(idx, 1 - d, docs[idx][:200]))"
   ]
  },
  {
   "cell_type": "markdown",
   "metadata": {},
   "source": [
    "## Various Hash Function (NMF based Hash Function)\n",
    "\n",
    "NMF 로 학습한 components 를 mapper 로 이용할 수도 있습니다. Sign 함수와 함께 이용하면 각 component 에 해당하는 토픽과 비슷하면 1 의 hash code value 를 가지게 됩니다."
   ]
  },
  {
   "cell_type": "code",
   "execution_count": 18,
   "metadata": {},
   "outputs": [
    {
     "name": "stderr",
     "output_type": "stream",
     "text": [
      "/home/lovit/anaconda3/envs/pytorch/lib/python3.7/site-packages/sklearn/utils/deprecation.py:144: FutureWarning: The sklearn.decomposition.nmf module is  deprecated in version 0.22 and will be removed in version 0.24. The corresponding classes / functions should instead be imported from sklearn.decomposition. Anything that cannot be imported from sklearn.decomposition is now part of the private API.\n",
      "  warnings.warn(message, FutureWarning)\n",
      "/home/lovit/anaconda3/envs/pytorch/lib/python3.7/site-packages/sklearn/base.py:318: UserWarning: Trying to unpickle estimator NMF from version 0.21.3 when using version 0.22.1. This might lead to breaking code or invalid results. Use at your own risk.\n",
      "  UserWarning)\n"
     ]
    },
    {
     "data": {
      "text/plain": [
       "(100, 9774)"
      ]
     },
     "execution_count": 18,
     "metadata": {},
     "output_type": "execute_result"
    }
   ],
   "source": [
    "import pickle\n",
    "with open('../day05_topicmodeling/2016-10-20-nmf.pkl', 'rb') as f:\n",
    "    nmf_model = pickle.load(f)\n",
    "components = nmf_model.components_\n",
    "components.shape"
   ]
  },
  {
   "cell_type": "markdown",
   "metadata": {},
   "source": [
    "Permutation 을 이용하여 components 를 sampling 합니다."
   ]
  },
  {
   "cell_type": "code",
   "execution_count": 19,
   "metadata": {},
   "outputs": [
    {
     "name": "stdout",
     "output_type": "stream",
     "text": [
      "[5 1 8 3 9 0 6 2 7 4]\n"
     ]
    }
   ],
   "source": [
    "print(np.random.permutation(10))\n",
    "\n",
    "def sample_index(high, n_samples):\n",
    "    return np.random.permutation(high)[:n_samples]"
   ]
  },
  {
   "cell_type": "markdown",
   "metadata": {},
   "source": [
    "mapper 와 bias 를 따로 만든 뒤, 다시 한 번 인덱싱을 합니다."
   ]
  },
  {
   "cell_type": "code",
   "execution_count": 20,
   "metadata": {},
   "outputs": [],
   "source": [
    "components = normalize(components, norm='l2')\n",
    "n_layers = 16\n",
    "n_codes = 5\n",
    "n_components = components.shape[0]\n",
    "\n",
    "custom_mapper = [\n",
    "    components[sample_index(n_components, n_codes)].transpose() \n",
    "    for _ in range(n_layers)\n",
    "]\n",
    "\n",
    "custom_bias = [\n",
    "    np.random.random_sample(1) * 0.05\n",
    "    for _ in range(n_layers)\n",
    "]"
   ]
  },
  {
   "cell_type": "code",
   "execution_count": 21,
   "metadata": {},
   "outputs": [],
   "source": [
    "indexer.radius = 0.5\n",
    "indexer._indexing(X, custom_mapper, custom_bias)"
   ]
  },
  {
   "cell_type": "markdown",
   "metadata": {},
   "source": [
    "NMF 로 만든 인덱서도 테스트해봅니다."
   ]
  },
  {
   "cell_type": "code",
   "execution_count": 22,
   "metadata": {},
   "outputs": [
    {
     "name": "stdout",
     "output_type": "stream",
     "text": [
      "num candidatse = 460\n",
      "CPU times: user 4 ms, sys: 0 ns, total: 4 ms\n",
      "Wall time: 4.24 ms\n"
     ]
    }
   ],
   "source": [
    "%%time\n",
    "\n",
    "dist, idxs = indexer.find_similar(query_vec, candidates_factor=2, debug=True)"
   ]
  },
  {
   "cell_type": "code",
   "execution_count": 23,
   "metadata": {},
   "outputs": [
    {
     "name": "stdout",
     "output_type": "stream",
     "text": [
      "[idx = 15, cos = 1.0] 클린턴 득표율 50 목표 가능성 아주 크다  워싱턴 연합뉴스 강영두 특파원 미국 민주당 대선후보 힐러리 클린턴이 다음달 8일 대선에서 400명 이상의 선거인단을 확보하면서 대승을 거둘 수 있다는 분석이 나왔다  미국 민주당 대선후보 힐러리 클린턴이 지난 10일 현지시간 오하이오 주 콜럼버스에서 유세하는 모습 연합뉴스  미 공화당 전략가인 스티브 슈미트는 1 ...\n",
      "\n",
      "[idx = 7421, cos = 0.74] 여론조사서는 304명 확보 예상  힐러리 클린턴 미국 민주당 대선후보가 다음달 8일 대선에서 과반은 물론 선거인단의 4분의 3 이상 확보할 것이라는 분석이 공화당에서 나왔다  미 공화당 전략가인 스티브 슈미트는 19일 현지시간 방송과의 인터뷰에서 이같이 전망했다 그는 지난 2008년 대선 당시 공화당 후보였던 존 메케인 캠프에 관여한 인물이다  그는 현 상 ...\n",
      "\n",
      "[idx = 13752, cos = 0.632] 미 대선 3주 앞 판세 분석  미국 대선을 3주일 앞두고 치러진 19일 현지시간 의 마지막 대선후보 토론을 가리켜 정치전문매체 폴리티코 등은 공화당 도널드 트럼프 후보의 생사의 순간 이라 불렀다 트럼프는 앞선 두 번의 토론에 비해 민주당 힐러리 클린턴 후보에 대한 인신공격을 자제하고 차분하게 말하려 작심한 기색이 역력했다 하지만 판세를 뒤집기에는 역부족이었 ...\n",
      "\n",
      "[idx = 7563, cos = 0.57] 공화당 텃밭서도 우세 유타 주는 맥멀린 1위 이변  19일 현지시간 미국 라스베이거스 네바다주에서 3차 토론을 벌이고 있는 힐러리 클린턴 오른쪽 민주당 후보와 도널드 트럼프 공화당 후보 라스베이거스 연합뉴스  11월 8일 치러질 미국 대통령 선거를 3주 앞두고 민주당 힐러리 클린턴 후보의 지지율이 주요 경합주에서 도널드 트럼프 공화당 후보를 앞서고 있다   ...\n",
      "\n",
      "[idx = 558, cos = 0.567] 클린턴 공화당 텃밭서도 우세 유타 맥멀린 1위 이변  현재 지지율 호감도 1월 수준으로 회귀  서울 연합뉴스 김남권 기자 미국 대선 11월 8일 을 3주 앞둔 시점에서 민주당 힐러리 클린턴이 공화당의 도널드 트럼프에 전국은 물론 주요 경합주 지지율 면에서도 앞서가고 있다  공화당의 텃밭으로 불리는 유타 주에서 무소속 후보 에번 맥멀린이 1위에 나섰다는 여론 ...\n",
      "\n",
      "[idx = 16858, cos = 0.526] 워싱턴 연합뉴스 미국 공화당 전략가인 스티브 슈미트는 19일 현지시간 방송의 모닝조 프로그램 인터뷰에서 현 추세로 볼 때 민주당 대선후보 힐러리 클린턴이 대선에서 400명 이상의 선거인단을 확보하면서 대승을 거둘 수 있을 것이라고 전망했다 사진은 힐러리가 지난 13일 샌프란시스코에서 유세하는 모습 ...\n",
      "\n",
      "[idx = 7558, cos = 0.465] 클린턴 후보는 와 끝까지 싸워야 하는 것은 맞다 면서도 시리아 안에 아직 많은 난민들이 존재한다 여성이나 아이들을 두고 문을 닫을 수는 없다 며 이 같이 밝혔다 이어 이슬람국가 와 같은 극단주의 무장단체와의 연계성을 철저하게 살핀 이후에 받아들이겠다는 입장을 강조했다  트럼프는 클린턴 측과 미디어가 한편이 돼 선거를 조작했다는 주장과 관련 대선결과에 승복하 ...\n",
      "\n",
      "[idx = 6906, cos = 0.446] 19일 현지시간 미국 네바다 주 라스베이거스 네바다대학에서 끝난 미국 대통령 선거 3차 토론의 승자는 민주당의 후보 힐러리 클린턴 전 국무장관으로 나타났다  미국 방송이 토론 직후 와 공동으로 벌인 여론조사에서 응답자의 52 가 클린턴을 승자로 꼽았다 공화당 대선 후보인 도널드 트럼프를 승자로 택한 응답자는 39 에 그쳤다  트럼프를 겨냥한 클린턴 후보의  ...\n",
      "\n",
      "[idx = 27797, cos = 0.434] 미국 대선 3차 토론이 끝난 19일 현지시간 도널드 트럼프 공화당 대통령 후보와 힐러리 클린턴 민주당 대통령 후보가 토론장을 나설 채비를 하고 있다 뉴스1  대선 3차 토론  과거 비해 정제됐지만 열띤 명대사 난립  서울 뉴스1 김혜지 기자 미국 대선의 마지막 토론이 19일 현지시간 유세 막바지를 화려하게 장식하며 끝났다  공화 민주 양당 대통령 후보인 도 ...\n",
      "\n",
      "[idx = 3686, cos = 0.431] 라스베이거스 뉴시스 힐러리 클린턴 미국 민주당 대선후보와 도널드 트럼프 공화당 후보가 19일 현지시간 네바다주 라스베이거스에서 마지막 3차 토론을 벌이고 있다 2016 10 20  서울 뉴시스 권성근 기자 미국 대선후보 3차 토론이 19일 현지시간 네바다주 라스베이거스 네바다대학에서 마무리됐다  오는 11월8일 치러지는 대선 전 마지막인 이번 토론에서 공화 ...\n",
      "\n"
     ]
    }
   ],
   "source": [
    "for d, idx in zip(dist, idxs):\n",
    "    print('[idx = {}, cos = {:.3}] {} ...\\n'.format(idx, 1 - d, docs[idx][:200]))"
   ]
  },
  {
   "cell_type": "code",
   "execution_count": null,
   "metadata": {},
   "outputs": [],
   "source": []
  },
  {
   "cell_type": "code",
   "execution_count": null,
   "metadata": {},
   "outputs": [],
   "source": []
  }
 ],
 "metadata": {
  "kernelspec": {
   "display_name": "Python 3",
   "language": "python",
   "name": "python3"
  },
  "language_info": {
   "codemirror_mode": {
    "name": "ipython",
    "version": 3
   },
   "file_extension": ".py",
   "mimetype": "text/x-python",
   "name": "python",
   "nbconvert_exporter": "python",
   "pygments_lexer": "ipython3",
   "version": "3.7.1"
  }
 },
 "nbformat": 4,
 "nbformat_minor": 2
}
