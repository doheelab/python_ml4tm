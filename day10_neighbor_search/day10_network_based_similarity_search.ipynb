{
 "cells": [
  {
   "cell_type": "markdown",
   "metadata": {},
   "source": [
    "튜토리얼에 이용된 구현체는 https://github.com/lovit/network_based_nearest_neighbors 에 올려두었습니다."
   ]
  },
  {
   "cell_type": "code",
   "execution_count": 1,
   "metadata": {},
   "outputs": [
    {
     "name": "stdout",
     "output_type": "stream",
     "text": [
      "(30091, 9774)\n"
     ]
    }
   ],
   "source": [
    "import sklearn\n",
    "from lovit_textmining_dataset.navernews_10days import get_bow, get_news_paths\n",
    "from soynlp.utils import DoublespaceLineCorpus\n",
    "\n",
    "x, idx_to_vocab, vocab_to_idx = get_bow(date='2016-10-20', tokenize='noun')\n",
    "path = get_news_paths(date='2016-10-20')\n",
    "docs = [doc for doc in DoublespaceLineCorpus(path, iter_sent=False)]\n",
    "\n",
    "print(x.shape)"
   ]
  },
  {
   "cell_type": "markdown",
   "metadata": {},
   "source": [
    "Scipy 에서 제공하는 임의의 metric 에 대하여 이용 가능합니다."
   ]
  },
  {
   "cell_type": "code",
   "execution_count": 2,
   "metadata": {},
   "outputs": [
    {
     "name": "stdout",
     "output_type": "stream",
     "text": [
      "Indexing ...\n",
      "batch 16 / 16 done. computation time = 181.639558 sec.\n",
      "Indexing was done\n"
     ]
    }
   ],
   "source": [
    "import sys\n",
    "sys.path.append('./network_based_nearest_neighbors/')\n",
    "from network_based_nearest_neighbors import NetworkBasedNeighbors\n",
    "\n",
    "index = NetworkBasedNeighbors(x, batch_size=2000, metric='cosine')"
   ]
  },
  {
   "cell_type": "code",
   "execution_count": 3,
   "metadata": {},
   "outputs": [],
   "source": [
    "query = 15\n",
    "query_vec = x[query].reshape(1,-1)"
   ]
  },
  {
   "cell_type": "code",
   "execution_count": 4,
   "metadata": {},
   "outputs": [
    {
     "name": "stdout",
     "output_type": "stream",
     "text": [
      "CPU times: user 20 ms, sys: 0 ns, total: 20 ms\n",
      "Wall time: 19.6 ms\n"
     ]
    }
   ],
   "source": [
    "%%time\n",
    "\n",
    "dist, idxs = index.search_neighbors(query_vec, k=10)"
   ]
  },
  {
   "cell_type": "code",
   "execution_count": 5,
   "metadata": {},
   "outputs": [
    {
     "name": "stdout",
     "output_type": "stream",
     "text": [
      "[idx = 10422, cos = 0.602] 판세 갈수록 불리해지자 승복 그때 가서 보겠다 폭탄 발언  힐러리 편드는 썩어빠진 언론 비난 지지층 결집 시도인듯  원색 비난 오갔지만 이번에도 토론 승리는 클린턴  사진  뉴욕 이데일리 안승찬 특파원 미국 공화당 대선후보인 도널드 트럼프가 대선 결과에 대한 불복 가능성을 시사했다 선거라는 민주주의의 근간을 뒤흔드는 발언이다 미국 대선이 최악의 진흙탕 싸움 ...\n",
      "\n",
      "[idx = 9194, cos = 0.585] 클린턴 52 로 3연승  트럼프 지저분한 여자 선거에 나와선 안 될 범죄자  클린턴 푸틴의 꼭두각시 불복 시사 발언 소름 끼친다  워싱턴 박수진 임근호 기자  힐러리 클린턴 미국 민주당 대통령 후보가 3차 토론에서도 도널드 트럼프 공화당 후보를 이겼다 1 2차 토론에 이어 3연승이다 토론 지지율 격차를 줄인 트럼프는 오는 11월8일 선거 결과 패배시 에 불 ...\n",
      "\n",
      "[idx = 1106, cos = 0.567] 트럼프 대선승복 여부 그때가서 말할것 힐러리 소름끼친다  힐러리 굳히기 트럼프 뒤집기 막판 대혈투 예고  워싱턴 연합뉴스 심인성 특파원 미국 공화당 대선후보인 도널드 트럼프가 19일 현지시간 선거결과에 불복할 수 있음을 강하게 시사하면서 3주 앞으로 다가온 대선판이 요동치고 있다  19일 3차 토론장의 힐러리 클린턴 오른쪽 과 도널드 트럼프 연합뉴스  트럼 ...\n",
      "\n",
      "[idx = 15680, cos = 0.555] 미국 공화당 대선후보인 도널드 트럼프가 19일 현지시간 선거결과에 불복할 수 있음을 강하게 시사하면서 3주 앞으로 다가온 대선판이 요동치고 있습니다  트럼프가 그동안 트위터나 유세를 통해 선거조작 가능성을 제기해 왔으나 여기에서 한 발짝 더 나아가 아예 선거결과에 불복할 수 있음을 내비쳤다는 점에서 그것도 전 국민이 지켜보는 토론 무대에서 공식으로 언급했다 ...\n",
      "\n",
      "[idx = 3685, cos = 0.516] 라스베이거스 뉴시스 힐러리 클린턴 미국 민주당 대선후보가 19일 현지시간 네바다주 라스베이거스에서 열린 3차 토론에서 발언하고 있다 2016 10 20  서울 뉴시스 이지예 기자 미국 민주당 대선 후보 힐러리 클린턴과 공화당 도널드 트럼프가 19일 현지시간 3차 토론에서 격돌했다 선거를 21일 앞두고 치른 마지막 승부였다  클린턴과 트럼프는 이날 네바다주  ...\n",
      "\n",
      "[idx = 18139, cos = 0.505] 19일 현지 시간 미국 라스베이거스 네바다대학에서 열린 대선후보 3차 토론을 마친 후 민주당 대선후보 힐러리 클린턴이 공화당 대선후보 도널드 트럼프를 지나 청중에게 다가가고 있다 연합뉴스  미국 공화당 대선후보인 도널드 트럼프가 선거 결과에 불복할 수 있음을 강하게 내비치면서 대선판이 최악의 진흙탕 싸움으로 빠져들고 있다 선거 불복 논란이 그동안의 모든 선 ...\n",
      "\n",
      "[idx = 28336, cos = 0.502] 19일 치러진 3차 미국 대선 토론 뉴스1  대선 3차 토론 클린턴 3연승 대선 승리 다져  서울 뉴스1 윤지원 기자 힐러리 클린턴 미국 민주당 대통령 후보와 도널드 트럼프 공화당 후보가 19일 현지시간 3차 대선 토론에서 마지막 설전을 벌였다  90분간 진행된 이날 토론은 후보들간 막말이 오가고 재단 비리 이메일 스캔들 성추문 등 상대 후보의 약점을 파고 ...\n",
      "\n",
      "[idx = 2942, cos = 0.486] 신시내티 뉴시스 도널드 트럼프 미국 공화당 대선후보가 13일 현지시간 오하이오주 신시내티에서 열린 유세 도중 움켜쥔 오른손을 들어올리고 있다 2016 10 14  서울 뉴시스 이지예 기자 미국 민주당 대선 후보 힐러리 클린턴과 공화당 도널드 트럼프가 19일 현지시간 3차 토론에서 마지막 승부를 겨룬다  선거일 11월 8일 은 이제 21일 앞으로 다가왔다   ...\n",
      "\n",
      "[idx = 28424, cos = 0.486] 힐러리 클린턴 미국 민주당 대통령 후보 왼쪽 와 도널드 트럼프 공화당 후보가 19일 현지시간 라스베이거스 네바다주립대학에서 3차 토론을 치렀다 뉴스1  대선 3차 토론  서울 뉴스1 최종일 기자 정이나 기자 윤지원 기자 미국 대선 최종 토론에서 도널드 트럼프 공화당 대통령 후보가 대선 결과에 불복할 수 있음을 강하게 시사했다 힐러리 클린턴 민주당 후보는 미 ...\n",
      "\n",
      "[idx = 17330, cos = 0.484] 워싱턴 노컷뉴스 임미현 특파원 미국 공화당 대선 후보 도널드 트럼프가 대선 결과에 불복할 수 있음을 시사해 파장이 일고 있다  트럼프는 19일 현지시간 네바다주 라스베이거스 네바다 대학에서 열린 3차 토론에서 대선에서 패배할 경우 결과에 승복하겠느냐는 사회자 크리스 윌리스의 질문에 그때 가서 말하겠다 고 답했다  트럼프는 대선 결과를 받아들이는 미국의 전통 ...\n",
      "\n"
     ]
    }
   ],
   "source": [
    "for d, idx in zip(dist, idxs):\n",
    "    print('[idx = {}, cos = {:.3}] {} ...\\n'.format(idx, 1 - d, docs[idx][:200]))"
   ]
  },
  {
   "cell_type": "code",
   "execution_count": null,
   "metadata": {},
   "outputs": [],
   "source": []
  }
 ],
 "metadata": {
  "kernelspec": {
   "display_name": "Python 3",
   "language": "python",
   "name": "python3"
  },
  "language_info": {
   "codemirror_mode": {
    "name": "ipython",
    "version": 3
   },
   "file_extension": ".py",
   "mimetype": "text/x-python",
   "name": "python",
   "nbconvert_exporter": "python",
   "pygments_lexer": "ipython3",
   "version": "3.7.1"
  }
 },
 "nbformat": 4,
 "nbformat_minor": 2
}
