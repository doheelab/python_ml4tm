{
 "cells": [
  {
   "cell_type": "markdown",
   "metadata": {},
   "source": [
    "2016-10-20 일 뉴스에서 하나의 뉴스와 비슷한 뉴스를 찾아봅니다."
   ]
  },
  {
   "cell_type": "code",
   "execution_count": 1,
   "metadata": {},
   "outputs": [
    {
     "name": "stdout",
     "output_type": "stream",
     "text": [
      "soynlp=0.0.493\n",
      "added lovit_textmining_dataset\n",
      "0.21.3\n",
      "(30091, 9774)\n",
      "30091\n"
     ]
    }
   ],
   "source": [
    "import config\n",
    "import sklearn\n",
    "from navernews_10days import get_bow, get_news_paths\n",
    "from soynlp.utils import DoublespaceLineCorpus\n",
    "from sklearn.metrics import pairwise_distances\n",
    "\n",
    "x, idx_to_vocab, vocab_to_idx = get_bow(date='2016-10-20', tokenize='noun')\n",
    "path = get_news_paths(date='2016-10-20')\n",
    "docs = [doc for doc in DoublespaceLineCorpus(path, iter_sent=False)]\n",
    "\n",
    "print(sklearn.__version__)\n",
    "print(x.shape)\n",
    "print(len(docs))"
   ]
  },
  {
   "cell_type": "markdown",
   "metadata": {},
   "source": [
    "임의의 문서 하나를 선택하였습니다. 도널드 트럼프 vs 힐러리 클린턴의 미국 대선에 대한 뉴스입니다.\n",
    "\n",
    "이 뉴스의 term frequency vector 는 x[4,:] 으로 선택할 수 있습니다. "
   ]
  },
  {
   "cell_type": "code",
   "execution_count": 2,
   "metadata": {},
   "outputs": [
    {
     "data": {
      "text/plain": [
       "'클린턴 득표율 50 목표 가능성 아주 크다  워싱턴 연합뉴스 강영두 특파원 미국 민주당 대선후보 힐러리 클린턴이 다음달 8일 대선에서 400명 이상의 선거인단을 확보하면서 대승을 거둘 수 있다는 분석이 나왔다  미국 민주당 대선후보 힐러리 클린턴이 지난 10일 현지시간 오하이오 주 콜럼버스에서 유세하는 모습 연합뉴스  미 공화당 전략가인 스티브 슈미트는 19일 현지시간 방송의 모닝조 프로그램 인터뷰에서 이 같이 전망했다  슈미트는 2008년 존 매케인의 대선캠프에 관여했다  간접선거인 미 대선에서 승리에 필요한 선거인단 매직 넘버 는 전체 538명 의 과반인 270명이다  슈미트는 현 상황은 클린턴이 선거인단 400명을 넘기는 추세 라고 분석했다  그는 대선과 함께 치러지는 연방 상 하원의원 선거에 대해서도 상원은 민주당이 장악할 것으로 보이며 하원도 민주당이 장악할 수 있는 쪽으로 근접해 가고 있다 고 관측했다  현재는 공화당이 상원과 하원을 모두 장악하고 있다  슈미트는 만약 선거가 오늘 열린다고 가정하면 공화당은 하원에서 25석을 잃게 될 것으로 보인다 면서 공화당 입장에서는 선거판의 흐름을 보여주는 추세선이 잘못된 방향으로 가고 있다 내부에서 패닉이 시작됐다 고 말했다  미 일간 워싱턴포스트 가 서베이몽키와 15개 경합주에 대한 공동 여론조사 10월8 16일 1만7천379명 를 실시해 전날 발표한 결과를 보면 클린턴은 9개 주에서 공화당의 도널드 트럼프를 앞섰고 선거인단 304명을 확보한 것으로 나타났다  공화당 주변에서조차 트럼프의 완패 가능성이 거론되는 가운데 클린턴 진영은 득표율 50 고지 점령을 새로운 목표로 내걸었다  클린턴 측은 트럼프가 음담패설 비디오 파문과 성추문 논란에 휩싸이면 사실상 지지율을 견인할 추동력을 잃은 것으로 판단하고 있다 다만 자유당 게리 존슨 등 제3 후보 의 지지율이 10 안팎으로 상대적으로 높다는 점이 변수다  클린턴 캠프의 중량감 있는 한 인사는 의회전문매체 더힐 과의 인터뷰에서 득표율 50 전망에 대해 가능성이 아주 크다 며 이를 위해 현재 자금과 인력을 총동원해 쏟아붓고 있다 고 말했다  실제로 클린턴은 지난 17일 발표된 몬마우스 대학이 적극 투표층을 상대로 한 대선 여론조사에서 50 의 지지율을 기록한 바 있다 이 조사에서 트럼프는 38 를 얻었고 게리 존슨과 질 스타인 녹색당 이 각각 5 와 2 를 차지했다  0279'"
      ]
     },
     "execution_count": 2,
     "metadata": {},
     "output_type": "execute_result"
    }
   ],
   "source": [
    "query_idx = 15\n",
    "docs[query_idx]"
   ]
  },
  {
   "cell_type": "markdown",
   "metadata": {},
   "source": [
    "PySparCNN 은 클러스터 기반 인덱서를 제공합니다. vector 와 return 할 값을 함께 입력합니다."
   ]
  },
  {
   "cell_type": "code",
   "execution_count": 3,
   "metadata": {},
   "outputs": [
    {
     "name": "stderr",
     "output_type": "stream",
     "text": [
      "/home/lovit/anaconda3/envs/pytorch/lib/python3.7/site-packages/pysparnn/matrix_distance.py:192: RuntimeWarning: divide by zero encountered in true_divide\n",
      "  magnitude = 1.0 / (a_root_sum_square * self.matrix_root_sum_square)\n"
     ]
    },
    {
     "name": "stdout",
     "output_type": "stream",
     "text": [
      "CPU times: user 2min 53s, sys: 9.76 s, total: 3min 3s\n",
      "Wall time: 1min 17s\n"
     ]
    }
   ],
   "source": [
    "%%time\n",
    "\n",
    "import pysparnn.cluster_index as ci\n",
    "cp = ci.MultiClusterIndex(features=x, records_data=docs)"
   ]
  },
  {
   "cell_type": "markdown",
   "metadata": {},
   "source": [
    "15 번 문서와 유사한 5개의 문서를 선택하였습니다. 가장 비슷한 문서는 15 번 이어야 합니다. "
   ]
  },
  {
   "cell_type": "code",
   "execution_count": 6,
   "metadata": {},
   "outputs": [],
   "source": [
    "query_vec = x[query_idx,:].reshape(1,-1)"
   ]
  },
  {
   "cell_type": "code",
   "execution_count": 11,
   "metadata": {},
   "outputs": [
    {
     "name": "stdout",
     "output_type": "stream",
     "text": [
      "dist = 0.5758321399295545\n",
      "doc = 조아라 기자 사진 뉴욕 타임즈  힐러리 클린턴 민주당 후보가 미국 대선 마지막 토론에서 승리한 것으로 평가되면서 관련주들에 관심이 쏠리고 있다 친환경과 신산업 투자가 클린턴 후보의 주요 공약에 속한다  19일 현지시간 미국 대선 최종 분수령으로 꼽히는 3차 토론의 승자는 클린턴 후보로 나타났다 토론 후 미국 방송이 실시한 여론조사에서 응답자의 52 가 클린턴을 승자로 선택했다 트럼프를 승자로 택한 응답자는 39 에 그쳤다  토론이 대선에 큰 영향을 미치는 점을 고려하면 클린턴 후보 정책 관련주들의 수혜가 기대된다 대선은 20일 후인\n",
      "\n",
      "dist = 0.583173234232665\n",
      "doc = 헤럴드경제 슈퍼리치팀 윤현종 이세진 기자 보름여 앞으로 다가온 미국 대선 유력 대통령 후보인 민주당의 힐러리 클린턴을 든든하게 후원하고 있는 기부자들 가운데는 슈퍼 히어로 도 숨어 있다  하임 사반 유니비전 소유주  유명 시리즈 파워레인저 를 탄생시킨 기획자 하임 사반 72 이야기다 이스라엘 출신 이민자인 그는 1990년대 파워레인저 의 국내외 흥행으로 승승장구한 후 지금은 미국 최대 스페인어 공중파 채널 유니비전 을 소유한 억만장자가 됐다 미국 경제전문지 블룸버그는 그의 자산 규모를 37억달러 4조1500억원 로 추산했다  파워레\n",
      "\n",
      "dist = 0.586259401975874\n",
      "doc = 내각 절반 여성으로 채울 듯  20여년간 밀착 보좌 셰릴 밀스 백악관 비서실장 1순위로 꼽혀  금녀 영역 국방장관도 여성 유력 오바마정부 출신 대거 중용할 듯  남편 빌 일자리 정책 맡을 수도  워싱턴 박수진 기자 힐러리 클린턴 미국 민주당 대통령 후보가 1 2 3차 토론에서 도널드 트럼프 공화당 후보를 이긴 데다 선거인단도 당선에 필요한 270석 넘게 확보할 것으로 예상되자 차기 클린턴 정부 입각 예상자에 대한 하마평이 무성해지고 있다 백악관 비서실장 국무장관 국방장관 자리에 여성 기용설이 나돌고 재무장관 후보에는 10명 가까운 \n",
      "\n",
      "dist = 0.6421973863197654\n",
      "doc = 도널드 트럼프 미국 공화당 대통령 후보 뉴스1  대선 3차 토론  서울 뉴스1 정이나 기자 도널드 트럼프 미국 공화당 대통령 후보는 19일 현지시간 힐러리 클린턴을 선택하는 것은 버락 오바마 정부를 4년 더 갖게되는 셈 이라고 말했다  라스베이거스 네바다대학에서 개최된 3차 대선후보 토론회에 참석한 트럼프 후보는 다음달 8일 대선에서 유권자들이 자신을 선택해야 하는 이유에 대해 내가 선거전을 시작한 것은 미국을 다시 위대하게 만들기 위해서였다 며 군사 개혁과 참전용사 이민자 처우 사법시스템 개선을 약속했다  그는 또 비백인 유권자들\n",
      "\n",
      "dist = 0.642838047894845\n",
      "doc = 방송 유튜브 캡처 힐러리 클린턴 미국 민주당 대선 후보가 19일 현지시간 라스베이거스 네바다주립대학교에서 열린 3차 토론회에서 경제 회복을 위해 제조업에 집중하겠다는 계획을 밝혔다 클린턴 후보는 미국이 제조업 강국이었을 때 경제가 가장 좋았다 며 내가 대통령이 되면 신재생에너지 등 신기술 개발을 중심으로 제조업을 살릴 것 이라고 말했다 클린턴 후보는 최저임금 인상에 관해서도 언급했다 그는 빈곤층의 경제력을 높이기 위해 최저임금을 높여야 한다 고 밝혔다  클린턴 후보는 도널드 트럼프 공화당 대선후보의 경제 공약이 미국 경제에 도움이 \n",
      "\n",
      "CPU times: user 80 ms, sys: 0 ns, total: 80 ms\n",
      "Wall time: 81.1 ms\n"
     ]
    },
    {
     "name": "stderr",
     "output_type": "stream",
     "text": [
      "/home/lovit/anaconda3/envs/pytorch/lib/python3.7/site-packages/pysparnn/matrix_distance.py:192: RuntimeWarning: divide by zero encountered in true_divide\n",
      "  magnitude = 1.0 / (a_root_sum_square * self.matrix_root_sum_square)\n"
     ]
    }
   ],
   "source": [
    "%%time\n",
    "\n",
    "for dist, doc in cp.search(query_vec, k=5, k_clusters=10, return_distance=True)[0]:\n",
    "    print('dist = {}\\ndoc = {}\\n'.format(dist, doc[:300]))"
   ]
  },
  {
   "cell_type": "markdown",
   "metadata": {},
   "source": [
    "모든 데이터와의 거리를 직접 계산해 봅니다. 속도가 크게 차이가 나지 않아보입니다. 이는 탐색에 이용한 문서의 개수가 3 만 여개이기 때문입니다."
   ]
  },
  {
   "cell_type": "code",
   "execution_count": 10,
   "metadata": {},
   "outputs": [
    {
     "name": "stdout",
     "output_type": "stream",
     "text": [
      "[1.22124533e-15 1.54039685e-01 2.59936422e-01 3.02067278e-01\n",
      " 3.68421976e-01 3.89076177e-01 3.97966315e-01 4.02494323e-01\n",
      " 4.02579822e-01 4.14500710e-01]\n",
      "[   15 15006  7421 11309 13752 14182 10422 12536  3687  9194]\n",
      "CPU times: user 476 ms, sys: 32 ms, total: 508 ms\n",
      "Wall time: 194 ms\n"
     ]
    }
   ],
   "source": [
    "%%time\n",
    "\n",
    "def full_search(query_vec, x, n_neighbors):\n",
    "    dist = pairwise_distances(query_vec, x, metric='cosine')[0]\n",
    "    sim_idxs = dist.argsort()[:n_neighbors]\n",
    "    sim_dist = dist[sim_idxs]\n",
    "    return sim_dist, sim_idxs\n",
    "\n",
    "dist, idxs = full_search(query_vec, x, n_neighbors=10)\n",
    "print(dist)\n",
    "print(idxs)"
   ]
  },
  {
   "cell_type": "code",
   "execution_count": null,
   "metadata": {},
   "outputs": [],
   "source": []
  }
 ],
 "metadata": {
  "kernelspec": {
   "display_name": "Python 3",
   "language": "python",
   "name": "python3"
  },
  "language_info": {
   "codemirror_mode": {
    "name": "ipython",
    "version": 3
   },
   "file_extension": ".py",
   "mimetype": "text/x-python",
   "name": "python",
   "nbconvert_exporter": "python",
   "pygments_lexer": "ipython3",
   "version": "3.7.1"
  }
 },
 "nbformat": 4,
 "nbformat_minor": 1
}
