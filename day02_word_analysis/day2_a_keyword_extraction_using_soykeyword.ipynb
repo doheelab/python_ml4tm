{
 "cells": [
  {
   "cell_type": "markdown",
   "metadata": {},
   "source": [
    "아래의 2016-10-20의 뉴스로부터 명사를 추출하여 미리 토크나이즈를 해둔 tokenized_corpus_fname으로부터 term frequency matrix인 x와 index2word를 만들어 뒀습니다. "
   ]
  },
  {
   "cell_type": "code",
   "execution_count": 1,
   "metadata": {},
   "outputs": [
    {
     "name": "stdout",
     "output_type": "stream",
     "text": [
      "lovit_textmining_dataset==0.1.0\n"
     ]
    }
   ],
   "source": [
    "import lovit_textmining_dataset\n",
    "from lovit_textmining_dataset.navernews_10days import get_bow\n",
    "\n",
    "print(f'lovit_textmining_dataset=={lovit_textmining_dataset.__version__}')\n",
    "x, _idx_to_vocab, _vocab_to_idx = get_bow(tokenize='noun', date='2016-10-20')"
   ]
  },
  {
   "cell_type": "code",
   "execution_count": 2,
   "metadata": {},
   "outputs": [
    {
     "name": "stdout",
     "output_type": "stream",
     "text": [
      "0.0.14\n"
     ]
    }
   ],
   "source": [
    "import soykeyword\n",
    "print(soykeyword.__version__)"
   ]
  },
  {
   "cell_type": "markdown",
   "metadata": {},
   "source": [
    "## Lasso regression for keyword extraction"
   ]
  },
  {
   "cell_type": "markdown",
   "metadata": {},
   "source": [
    "Lasso regression 을 이용하여 키워드를 찾는 과정을 패키징하여 soykeyword 에 올려두었습니다. 설치는 pip install 이 가능합니다. \n",
    "\n",
    "    pip install soykeyword\n",
    "\n",
    "LassoKeywordExtractor는 Lasso Logistic regression을 이용하여 positive documents와 negative (or refeerence) documents를 잘 구분하는 단어들을 선택합니다. 이를 위해 scikit-learn의 Logistic Regression을 이용하였습니다.\n",
    "\n",
    "sparse matrix 형식의 x를 LassoKeywordExtractor의 train()의 argument로 입력받으며, minimum term frequency와 minimum document frequency로 키워드 후보를 제한하기 쉽도록 LassoKeywordExtractor 생성자의 arguments를 넣어뒀습니다. Logistic regression이 이용하는 regularization cost coefficient C는 costs라는 list of number로 입력됩니다. \n",
    "\n",
    "LassoKeywordExtractor는 텍스트 형식의 데이터는 지원하지 않습니다. Sparse matrix 형식에만 지원하며, train 단계에서 index2word를 입력하지 않으면 <키워드 아이디, 빈도수, Logistic regression coefficient> 형식의 namedtuple인 KeywordScore로 출력됩니다. \n",
    "\n",
    "min_num_of_keywords L1 regularization cost를 조금씩 낮춰가면서 선택되는 최소한의 키워드의 개수가 min_num_of_keywords 이상이 되도록 하는 최초의 keywords를 return하도록 하는 parameter입니다. "
   ]
  },
  {
   "cell_type": "code",
   "execution_count": 3,
   "metadata": {},
   "outputs": [
    {
     "name": "stderr",
     "output_type": "stream",
     "text": [
      "/home/lovit/anaconda3/envs/pytorch/lib/python3.7/site-packages/sklearn/linear_model/logistic.py:432: FutureWarning: Default solver will be changed to 'lbfgs' in 0.22. Specify a solver to silence this warning.\n",
      "  FutureWarning)\n"
     ]
    },
    {
     "name": "stdout",
     "output_type": "stream",
     "text": [
      "28 keywords extracted from 0.100 cost\n",
      "63 keywords extracted from 1.000 cost\n"
     ]
    },
    {
     "data": {
      "text/plain": [
       "[KeywordScore(word=2308, frequency=86, coefficient=3.8106261136802213),\n",
       " KeywordScore(word=4701, frequency=40, coefficient=3.2605874417927754),\n",
       " KeywordScore(word=4441, frequency=90, coefficient=2.44653502029006),\n",
       " KeywordScore(word=5880, frequency=221, coefficient=1.7621032136545098),\n",
       " KeywordScore(word=8215, frequency=105, coefficient=1.496700517445117),\n",
       " KeywordScore(word=4343, frequency=46, coefficient=1.4205940822619534),\n",
       " KeywordScore(word=2913, frequency=119, coefficient=1.348151257506511),\n",
       " KeywordScore(word=3527, frequency=195, coefficient=1.189512187820931),\n",
       " KeywordScore(word=3261, frequency=216, coefficient=1.1689189183407211),\n",
       " KeywordScore(word=6208, frequency=77, coefficient=1.1130839392959468)]"
      ]
     },
     "execution_count": 3,
     "metadata": {},
     "output_type": "execute_result"
    }
   ],
   "source": [
    "from soykeyword.lasso import LassoKeywordExtractor\n",
    "\n",
    "lassobased_extractor = LassoKeywordExtractor(\n",
    "    costs=[500, 200, 100, 50, 10, 5, 1, 0.1],\n",
    "    min_tf=20, \n",
    "    min_df=10\n",
    ")\n",
    "\n",
    "lassobased_extractor.train(x)\n",
    "keywords = lassobased_extractor.extract_from_word(\n",
    "    5537, min_num_of_keywords=30)\n",
    "keywords[:10]"
   ]
  },
  {
   "cell_type": "markdown",
   "metadata": {},
   "source": [
    "index2word를 x와 함께 train()에 넣는다면 키워드 추출 결과는 모두 word index가 str로 바뀌어서 입력됩니다. 만약 word index가 index2word의 boundary를 넘어가는 경우라면 Unk101과 같이 Unk%d의 형식으로 출력됩니다. "
   ]
  },
  {
   "cell_type": "code",
   "execution_count": 4,
   "metadata": {},
   "outputs": [],
   "source": [
    "from soykeyword.lasso import LassoKeywordExtractor\n",
    "\n",
    "lassobased_extractor = LassoKeywordExtractor(\n",
    "    costs=[500, 200, 100, 50, 10, 5, 1, 0.1],\n",
    "    min_tf=20, \n",
    "    min_df=10\n",
    ")\n",
    "\n",
    "lassobased_extractor.train(x, _idx_to_vocab)"
   ]
  },
  {
   "cell_type": "markdown",
   "metadata": {},
   "source": [
    "index2word가 train에 입력되면 '아이오아이'가 포함된 문서의 index를 가져올 수도 있습니다. "
   ]
  },
  {
   "cell_type": "code",
   "execution_count": 5,
   "metadata": {},
   "outputs": [],
   "source": [
    "documents = lassobased_extractor.get_document_index('아이오아이')"
   ]
  },
  {
   "cell_type": "markdown",
   "metadata": {},
   "source": [
    "extract_from_docs(documents)는 documents를 positive set으로, documents가 아닌 모든 문서를 negative set으로 선택한 뒤, 이 둘을 구분하는 L1 Logistic regression을 학습합니다. 이 때에는 '아이오아이'라는 단어가 포함된 문서와 포함되지 않는 문서를 구분하는 classifier를 학습하였기 때문에 '아이오아이'가 최상위 키워드로 선택됩니다. 하지만 이는 정답을 알고 문제를 푸는 격입니다. extract_from_docs는 이 경우보다는 본인이 positive set으로 선택하고 싶은 문서 집합이 명확히 있을 때 이용하는 방법입니다.  "
   ]
  },
  {
   "cell_type": "code",
   "execution_count": 6,
   "metadata": {},
   "outputs": [
    {
     "name": "stdout",
     "output_type": "stream",
     "text": [
      "4 keywords extracted from 0.100 cost\n",
      "4 keywords extracted from 1.000 cost\n",
      "3 keywords extracted from 5.000 cost\n",
      "4 keywords extracted from 10.000 cost\n",
      "8 keywords extracted from 50.000 cost\n",
      "34 keywords extracted from 100.000 cost\n"
     ]
    },
    {
     "data": {
      "text/plain": [
       "[KeywordScore(word='아이오아이', frequency=270, coefficient=16.47816571771818),\n",
       " KeywordScore(word='엠카운트다운', frequency=221, coefficient=1.1989987000099576),\n",
       " KeywordScore(word='뮤직', frequency=195, coefficient=0.7672716785774933),\n",
       " KeywordScore(word='키미', frequency=297, coefficient=0.6598459549490725),\n",
       " KeywordScore(word='일산동구', frequency=36, coefficient=0.5091714991444418),\n",
       " KeywordScore(word='화려', frequency=518, coefficient=0.3701672752813487),\n",
       " KeywordScore(word='보컬', frequency=155, coefficient=0.35856137142891165),\n",
       " KeywordScore(word='카메라', frequency=439, coefficient=0.3452033533848326),\n",
       " KeywordScore(word='컴백', frequency=536, coefficient=0.33990274167403045),\n",
       " KeywordScore(word='고양시', frequency=264, coefficient=0.31237737308796637),\n",
       " KeywordScore(word='수출', frequency=735, coefficient=0.27878173773854104),\n",
       " KeywordScore(word='걸그룹', frequency=1060, coefficient=0.25489562544745725),\n",
       " KeywordScore(word='세련', frequency=192, coefficient=0.24780413800036355),\n",
       " KeywordScore(word='뉴스1스타', frequency=357, coefficient=0.23763424834425395),\n",
       " KeywordScore(word='챔피언', frequency=105, coefficient=0.18210187326441862),\n",
       " KeywordScore(word='1위', frequency=1357, coefficient=0.1514918149181375),\n",
       " KeywordScore(word='선의', frequency=40, coefficient=0.14244732100565316),\n",
       " KeywordScore(word='방영', frequency=208, coefficient=0.14168930883835315),\n",
       " KeywordScore(word='337', frequency=112, coefficient=0.13273906608579839),\n",
       " KeywordScore(word='걸크러쉬', frequency=111, coefficient=0.12803127317688265),\n",
       " KeywordScore(word='동시', frequency=965, coefficient=0.1242151350894966),\n",
       " KeywordScore(word='뉴스1', frequency=5964, coefficient=0.11656043493721514),\n",
       " KeywordScore(word='데뷔', frequency=1365, coefficient=0.10674712366877524),\n",
       " KeywordScore(word='불독', frequency=1212, coefficient=0.10670673702813613),\n",
       " KeywordScore(word='산들', frequency=90, coefficient=0.10338267311640359),\n",
       " KeywordScore(word='순위', frequency=259, coefficient=0.10302793999266285),\n",
       " KeywordScore(word='음반', frequency=204, coefficient=0.0874455007308124),\n",
       " KeywordScore(word='해외', frequency=1612, coefficient=0.08475239076305341),\n",
       " KeywordScore(word='무대', frequency=1332, coefficient=0.08443178004893426),\n",
       " KeywordScore(word='신용재', frequency=82, coefficient=0.07573360239951525),\n",
       " KeywordScore(word='블랙핑크', frequency=190, coefficient=0.015879102489452422),\n",
       " KeywordScore(word='진영', frequency=304, coefficient=0.014137306548319333),\n",
       " KeywordScore(word='프로듀스101', frequency=96, coefficient=0.010346609952928229),\n",
       " KeywordScore(word='방탄소년단', frequency=638, coefficient=0.009728798288386364)]"
      ]
     },
     "execution_count": 6,
     "metadata": {},
     "output_type": "execute_result"
    }
   ],
   "source": [
    "keywords = lassobased_extractor.extract_from_docs(documents, min_num_of_keywords=30)\n",
    "keywords"
   ]
  },
  {
   "cell_type": "markdown",
   "metadata": {},
   "source": [
    "extract_from_word(aspect_word)는 aspect_word가 들어간 문서 집합을 positive set으로, 그렇지 않은 문서 집합을 negative set으로 선택하여 이를 구분하는 classifier를 학습하는 것입니다. 이 때, positive set에서 aspect_word를 제외합니다. 이렇게 할 경우, aspect_word 때문에 잘못된 hyperplane이 선택되는 문제를 해결할 수 있습니다. \n",
    "\n",
    "2016-10-20에는 '아이오아이'가 마지막 곡인 '너무너무너무'곡으로 활동하던 시절입니다. 그렇기 때문에 '너무너무너무'와 '엠카운트다운'과 같은 단어가 키워드로 선택되었음을 볼 수 있습니다. "
   ]
  },
  {
   "cell_type": "code",
   "execution_count": 7,
   "metadata": {},
   "outputs": [
    {
     "name": "stdout",
     "output_type": "stream",
     "text": [
      "28 keywords extracted from 0.100 cost\n",
      "63 keywords extracted from 1.000 cost\n"
     ]
    },
    {
     "data": {
      "text/plain": [
       "[KeywordScore(word='너무너무너무', frequency=86, coefficient=3.8098171485148455),\n",
       " KeywordScore(word='선의', frequency=40, coefficient=3.2636566222269088),\n",
       " KeywordScore(word='산들', frequency=90, coefficient=2.444163496759975),\n",
       " KeywordScore(word='엠카운트다운', frequency=221, coefficient=1.7579961160601894),\n",
       " KeywordScore(word='챔피언', frequency=105, coefficient=1.4959128979071168),\n",
       " KeywordScore(word='사나', frequency=46, coefficient=1.4201031909143853),\n",
       " KeywordScore(word='드림', frequency=119, coefficient=1.3464939957003752),\n",
       " KeywordScore(word='뮤직', frequency=195, coefficient=1.1886477895865517),\n",
       " KeywordScore(word='먹고', frequency=216, coefficient=1.1687183533356398),\n",
       " KeywordScore(word='완전체', frequency=77, coefficient=1.117115330337381),\n",
       " KeywordScore(word='일산', frequency=194, coefficient=0.9685693950688322),\n",
       " KeywordScore(word='세련', frequency=192, coefficient=0.9502754654246467),\n",
       " KeywordScore(word='같이', frequency=918, coefficient=0.8458911792257717),\n",
       " KeywordScore(word='뉴스1스타', frequency=357, coefficient=0.7786171293841853),\n",
       " KeywordScore(word='컴백', frequency=536, coefficient=0.7689780430532918),\n",
       " KeywordScore(word='소속사', frequency=460, coefficient=0.7430209181521891),\n",
       " KeywordScore(word='곡으로', frequency=126, coefficient=0.7347514595172879),\n",
       " KeywordScore(word='보컬', frequency=155, coefficient=0.717907199768212),\n",
       " KeywordScore(word='열창', frequency=40, coefficient=0.7150920951730746),\n",
       " KeywordScore(word='만나게', frequency=127, coefficient=0.6956463918167318),\n",
       " KeywordScore(word='인사', frequency=1213, coefficient=0.6833746539924611),\n",
       " KeywordScore(word='마무리', frequency=606, coefficient=0.6266239733945148),\n",
       " KeywordScore(word='박진영', frequency=81, coefficient=0.6059868846262093),\n",
       " KeywordScore(word='선보', frequency=2623, coefficient=0.6007173066525051),\n",
       " KeywordScore(word='무대', frequency=1332, coefficient=0.5946612569366794),\n",
       " KeywordScore(word='수출', frequency=735, coefficient=0.5712222448833418),\n",
       " KeywordScore(word='서울신문', frequency=776, coefficient=0.5493044895568384),\n",
       " KeywordScore(word='활동', frequency=2473, coefficient=0.4894624432684244),\n",
       " KeywordScore(word='다이아', frequency=182, coefficient=0.48399231768336604),\n",
       " KeywordScore(word='유정', frequency=161, coefficient=0.48181598288716493),\n",
       " KeywordScore(word='인기', frequency=1494, coefficient=0.46274004400057483),\n",
       " KeywordScore(word='매력', frequency=1371, coefficient=0.4517153088661879),\n",
       " KeywordScore(word='등장', frequency=1038, coefficient=0.4416567434000163),\n",
       " KeywordScore(word='카메라', frequency=439, coefficient=0.42670133132345606),\n",
       " KeywordScore(word='개인', frequency=1246, coefficient=0.39575163585467715),\n",
       " KeywordScore(word='고양시', frequency=264, coefficient=0.37623772919684834),\n",
       " KeywordScore(word='비타민', frequency=115, coefficient=0.3591074342129067),\n",
       " KeywordScore(word='수준', frequency=2240, coefficient=0.3526201600957015),\n",
       " KeywordScore(word='멤버들', frequency=504, coefficient=0.3422651715929354),\n",
       " KeywordScore(word='걸그룹', frequency=1060, coefficient=0.3369705884083508),\n",
       " KeywordScore(word='한편', frequency=3393, coefficient=0.3342889587698431),\n",
       " KeywordScore(word='1위', frequency=1357, coefficient=0.2909416006431475),\n",
       " KeywordScore(word='예능', frequency=634, coefficient=0.2869370046160193),\n",
       " KeywordScore(word='세븐', frequency=76, coefficient=0.27953481985917694),\n",
       " KeywordScore(word='순위', frequency=259, coefficient=0.2763077817047484),\n",
       " KeywordScore(word='발매', frequency=664, coefficient=0.27547373442604267),\n",
       " KeywordScore(word='야구', frequency=148, coefficient=0.24119312735319048),\n",
       " KeywordScore(word='파워풀', frequency=152, coefficient=0.19009496263946568),\n",
       " KeywordScore(word='불독', frequency=1212, coefficient=0.1889178722249745),\n",
       " KeywordScore(word='다비치', frequency=84, coefficient=0.18641592298918794),\n",
       " KeywordScore(word='이날', frequency=6340, coefficient=0.17562850018748785),\n",
       " KeywordScore(word='신용재', frequency=82, coefficient=0.15999223392613318),\n",
       " KeywordScore(word='걸크러쉬', frequency=111, coefficient=0.15702434161431209),\n",
       " KeywordScore(word='화려', frequency=518, coefficient=0.1552745511879186),\n",
       " KeywordScore(word='프로듀스101', frequency=96, coefficient=0.06169475408997001),\n",
       " KeywordScore(word='반전', frequency=202, coefficient=0.06146927102186336),\n",
       " KeywordScore(word='프로그램', frequency=2648, coefficient=0.05881806113486445),\n",
       " KeywordScore(word='일간스포츠', frequency=1235, coefficient=0.05842195284492336),\n",
       " KeywordScore(word='스마트폰', frequency=996, coefficient=0.055487407731367074),\n",
       " KeywordScore(word='일산동구', frequency=36, coefficient=0.05163754971777142),\n",
       " KeywordScore(word='키미', frequency=297, coefficient=0.03245551094494421),\n",
       " KeywordScore(word='트와이스', frequency=655, coefficient=0.027551725314936507),\n",
       " KeywordScore(word='프로듀스', frequency=185, coefficient=0.013832911599806505)]"
      ]
     },
     "execution_count": 7,
     "metadata": {},
     "output_type": "execute_result"
    }
   ],
   "source": [
    "keywords = lassobased_extractor.extract_from_word('아이오아이', min_num_of_keywords=30)\n",
    "keywords"
   ]
  },
  {
   "cell_type": "markdown",
   "metadata": {},
   "source": [
    "'최순실'의 경우에도 '박근혜-최순실 게이트'사건이 시작되는 단계이기 때문에 해당 뉴스들이 나오고 있었습니다. '최순실'이라는 단어가 들어간 문서를 선택하는 기준은 [게이트, 정유라, 고영태, 이화여대, 미르재단]과 같은 단어가 선택되어 해당 날짜의 뉴스를 잘 요약하고 있음을 볼 수 있습니다. "
   ]
  },
  {
   "cell_type": "code",
   "execution_count": 8,
   "metadata": {},
   "outputs": [
    {
     "name": "stdout",
     "output_type": "stream",
     "text": [
      "78 keywords extracted from 0.100 cost\n"
     ]
    },
    {
     "data": {
      "text/plain": [
       "[KeywordScore(word='게이트', frequency=303, coefficient=4.203283727301987),\n",
       " KeywordScore(word='정유라', frequency=329, coefficient=2.0369165697773197),\n",
       " KeywordScore(word='고영태', frequency=65, coefficient=1.7214903917068278),\n",
       " KeywordScore(word='편파기소', frequency=54, coefficient=1.286527097242276),\n",
       " KeywordScore(word='최서원', frequency=94, coefficient=1.2735996521411217),\n",
       " KeywordScore(word='비선', frequency=288, coefficient=1.0137307416613792),\n",
       " KeywordScore(word='씨와', frequency=372, coefficient=0.7831509783072879),\n",
       " KeywordScore(word='이화여대', frequency=651, coefficient=0.7236910507022366),\n",
       " KeywordScore(word='송민순', frequency=821, coefficient=0.690194128557519),\n",
       " KeywordScore(word='뉴스', frequency=4682, coefficient=0.5788281561983689),\n",
       " KeywordScore(word='연설문', frequency=204, coefficient=0.4973791586352994),\n",
       " KeywordScore(word='침묵', frequency=223, coefficient=0.42632211543482357),\n",
       " KeywordScore(word='박근혜', frequency=1445, coefficient=0.40736257749934424),\n",
       " KeywordScore(word='실세', frequency=309, coefficient=0.3799313093890156),\n",
       " KeywordScore(word='거의', frequency=522, coefficient=0.3629338618518658),\n",
       " KeywordScore(word='미르재단', frequency=247, coefficient=0.34184893827852764),\n",
       " KeywordScore(word='자료', frequency=1029, coefficient=0.3300952580914242),\n",
       " KeywordScore(word='청와대', frequency=2112, coefficient=0.3272529378332051),\n",
       " KeywordScore(word='사퇴', frequency=463, coefficient=0.3233329083330449),\n",
       " KeywordScore(word='비선실세', frequency=219, coefficient=0.3088156957901726),\n",
       " KeywordScore(word='의혹', frequency=3602, coefficient=0.2883199264076439),\n",
       " KeywordScore(word='기자들', frequency=463, coefficient=0.2766444210871204),\n",
       " KeywordScore(word='더블루케이', frequency=194, coefficient=0.2711988671978825),\n",
       " KeywordScore(word='더블', frequency=225, coefficient=0.2562677397255546),\n",
       " KeywordScore(word='민생', frequency=164, coefficient=0.2284946265630589),\n",
       " KeywordScore(word='우병우', frequency=721, coefficient=0.22493668722331406),\n",
       " KeywordScore(word='독일', frequency=959, coefficient=0.22356842733520135),\n",
       " KeywordScore(word='설립', frequency=1522, coefficient=0.2235274538444854),\n",
       " KeywordScore(word='검색어', frequency=62, coefficient=0.2175250820233072),\n",
       " KeywordScore(word='나라', frequency=1090, coefficient=0.21611449976700386),\n",
       " KeywordScore(word='개명', frequency=124, coefficient=0.2115287786297173),\n",
       " KeywordScore(word='오늘', frequency=2318, coefficient=0.20310016146377957),\n",
       " KeywordScore(word='총격', frequency=750, coefficient=0.18647521112388232),\n",
       " KeywordScore(word='위원장', frequency=720, coefficient=0.1838020042786433),\n",
       " KeywordScore(word='이대', frequency=419, coefficient=0.1758063898624788),\n",
       " KeywordScore(word='교수', frequency=2075, coefficient=0.16693479008572604),\n",
       " KeywordScore(word='호텔', frequency=826, coefficient=0.16443246623710733),\n",
       " KeywordScore(word='문체부', frequency=268, coefficient=0.1644248042473118),\n",
       " KeywordScore(word='스포츠재단', frequency=676, coefficient=0.15427829661620843),\n",
       " KeywordScore(word='창단', frequency=108, coefficient=0.14867049816839864),\n",
       " KeywordScore(word='00', frequency=462, coefficient=0.14446998458423152),\n",
       " KeywordScore(word='재단', frequency=1690, coefficient=0.14301514580904617),\n",
       " KeywordScore(word='미르', frequency=604, coefficient=0.13362926361855265),\n",
       " KeywordScore(word='핵심', frequency=948, coefficient=0.1293837917880909),\n",
       " KeywordScore(word='간사', frequency=473, coefficient=0.1291590254638282),\n",
       " KeywordScore(word='학생들', frequency=1270, coefficient=0.12691636751870441),\n",
       " KeywordScore(word='새누리당', frequency=2151, coefficient=0.12066533196126088),\n",
       " KeywordScore(word='정국', frequency=137, coefficient=0.1143549281271164),\n",
       " KeywordScore(word='복지부', frequency=191, coefficient=0.11319739866229334),\n",
       " KeywordScore(word='수사', frequency=2215, coefficient=0.1093908285907578),\n",
       " KeywordScore(word='더불어민주당', frequency=1980, coefficient=0.10574774298935397),\n",
       " KeywordScore(word='개입', frequency=473, coefficient=0.104095439519815),\n",
       " KeywordScore(word='대통령', frequency=5682, coefficient=0.1040454644554066),\n",
       " KeywordScore(word='특혜', frequency=532, coefficient=0.09335544584877216),\n",
       " KeywordScore(word='있습니다', frequency=3068, coefficient=0.08925593335001063),\n",
       " KeywordScore(word='문제', frequency=4224, coefficient=0.08780813186700868),\n",
       " KeywordScore(word='금지', frequency=19890, coefficient=0.08767969493804019),\n",
       " KeywordScore(word='부총리', frequency=426, coefficient=0.08741529296817008),\n",
       " KeywordScore(word='보도', frequency=1737, coefficient=0.08487770987953508),\n",
       " KeywordScore(word='오패산', frequency=412, coefficient=0.08377809092141297),\n",
       " KeywordScore(word='검토', frequency=871, coefficient=0.0800687385694958),\n",
       " KeywordScore(word='국정원', frequency=797, coefficient=0.07341522211954048),\n",
       " KeywordScore(word='여당', frequency=471, coefficient=0.07086041127211867),\n",
       " KeywordScore(word='확인', frequency=3545, coefficient=0.06677461760977745),\n",
       " KeywordScore(word='사람', frequency=4919, coefficient=0.06518339611005952),\n",
       " KeywordScore(word='언급', frequency=1094, coefficient=0.06449666371888775),\n",
       " KeywordScore(word='인권', frequency=512, coefficient=0.06299188223399026),\n",
       " KeywordScore(word='경제', frequency=3594, coefficient=0.051016095557559565),\n",
       " KeywordScore(word='대표', frequency=7727, coefficient=0.0398659930077865),\n",
       " KeywordScore(word='여야', frequency=477, coefficient=0.033025289919839676),\n",
       " KeywordScore(word='의원', frequency=2925, coefficient=0.03150489964487451),\n",
       " KeywordScore(word='이런', frequency=2693, coefficient=0.029987115149528017),\n",
       " KeywordScore(word='사람들', frequency=2455, coefficient=0.02917908192832109),\n",
       " KeywordScore(word='기존', frequency=2055, coefficient=0.028958601279006405),\n",
       " KeywordScore(word='전화', frequency=1002, coefficient=0.024138454396004684),\n",
       " KeywordScore(word='고발', frequency=435, coefficient=0.013191208153904932),\n",
       " KeywordScore(word='인터뷰', frequency=1376, coefficient=0.003722381275688528),\n",
       " KeywordScore(word='일이다', frequency=194, coefficient=0.00041671395563858685)]"
      ]
     },
     "execution_count": 8,
     "metadata": {},
     "output_type": "execute_result"
    }
   ],
   "source": [
    "keywords = lassobased_extractor.extract_from_word('최순실', min_num_of_keywords=30)\n",
    "keywords"
   ]
  },
  {
   "cell_type": "markdown",
   "metadata": {},
   "source": [
    "## Proportion ratio for keyword extraction\n",
    "\n",
    "proportion ratio 를 이용하는 방법도 soykeyword 에 올려두었습니다. Interface 는 Lasso 와 동일합니다. \n",
    "\n",
    "extract_from_word 와 extract_from_docs 를 제공합니다. "
   ]
  },
  {
   "cell_type": "code",
   "execution_count": 9,
   "metadata": {},
   "outputs": [
    {
     "name": "stdout",
     "output_type": "stream",
     "text": [
      "MatrixbasedKeywordExtractor trained\n"
     ]
    }
   ],
   "source": [
    "from soykeyword.proportion import MatrixbasedKeywordExtractor\n",
    "\n",
    "proportion_based_extractor = MatrixbasedKeywordExtractor(\n",
    "    min_tf=20, \n",
    "    min_df=2,\n",
    "    verbose=True)\n",
    "\n",
    "proportion_based_extractor.train(x, _idx_to_vocab)"
   ]
  },
  {
   "cell_type": "code",
   "execution_count": 10,
   "metadata": {},
   "outputs": [
    {
     "data": {
      "text/plain": [
       "[KeywordScore(word='아이오아이', frequency=270, score=1.0),\n",
       " KeywordScore(word='엠카운트다운', frequency=221, score=0.9978307775631691),\n",
       " KeywordScore(word='펜타곤', frequency=104, score=0.9934422266805437),\n",
       " KeywordScore(word='잠깐', frequency=162, score=0.9929667382454291),\n",
       " KeywordScore(word='엠넷', frequency=125, score=0.9907514986652862),\n",
       " KeywordScore(word='걸크러쉬', frequency=111, score=0.99017203825805),\n",
       " KeywordScore(word='타이틀곡', frequency=311, score=0.9869906112674688),\n",
       " KeywordScore(word='코드', frequency=105, score=0.9867835556082788),\n",
       " KeywordScore(word='본명', frequency=105, score=0.98596911773225),\n",
       " KeywordScore(word='엑스', frequency=101, score=0.9847950780631249)]"
      ]
     },
     "execution_count": 10,
     "metadata": {},
     "output_type": "execute_result"
    }
   ],
   "source": [
    "keywords = proportion_based_extractor.extract_from_word(\n",
    "    '아이오아이', min_score=0.8, min_frequency=100)\n",
    "keywords[:10]"
   ]
  },
  {
   "cell_type": "code",
   "execution_count": null,
   "metadata": {
    "collapsed": true
   },
   "outputs": [],
   "source": []
  }
 ],
 "metadata": {
  "kernelspec": {
   "display_name": "Python 3",
   "language": "python",
   "name": "python3"
  },
  "language_info": {
   "codemirror_mode": {
    "name": "ipython",
    "version": 3
   },
   "file_extension": ".py",
   "mimetype": "text/x-python",
   "name": "python",
   "nbconvert_exporter": "python",
   "pygments_lexer": "ipython3",
   "version": "3.7.1"
  }
 },
 "nbformat": 4,
 "nbformat_minor": 1
}
