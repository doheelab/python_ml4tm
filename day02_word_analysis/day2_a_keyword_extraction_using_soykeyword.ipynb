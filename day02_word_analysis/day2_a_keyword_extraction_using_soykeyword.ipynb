{
 "cells": [
  {
   "cell_type": "markdown",
   "metadata": {},
   "source": [
    "아래의 2016-10-20의 뉴스로부터 명사를 추출하여 미리 토크나이즈를 해둔 tokenized_corpus_fname으로부터 term frequency matrix인 x와 index2word를 만들어 뒀습니다. "
   ]
  },
  {
   "cell_type": "code",
   "execution_count": 1,
   "metadata": {},
   "outputs": [
    {
     "name": "stdout",
     "output_type": "stream",
     "text": [
      "soynlp=0.0.493\n",
      "added lovit_textmining_dataset\n"
     ]
    }
   ],
   "source": [
    "import config\n",
    "from navernews_10days import get_bow\n",
    "\n",
    "x, _idx_to_vocab, _vocab_to_idx = get_bow(tokenize='noun', date='2016-10-20')"
   ]
  },
  {
   "cell_type": "code",
   "execution_count": 2,
   "metadata": {},
   "outputs": [
    {
     "name": "stdout",
     "output_type": "stream",
     "text": [
      "0.0.14\n"
     ]
    }
   ],
   "source": [
    "import soykeyword\n",
    "print(soykeyword.__version__)"
   ]
  },
  {
   "cell_type": "markdown",
   "metadata": {},
   "source": [
    "## Lasso regression for keyword extraction"
   ]
  },
  {
   "cell_type": "markdown",
   "metadata": {},
   "source": [
    "Lasso regression 을 이용하여 키워드를 찾는 과정을 패키징하여 soykeyword 에 올려두었습니다. 설치는 pip install 이 가능합니다. \n",
    "\n",
    "    pip install soykeyword\n",
    "\n",
    "LassoKeywordExtractor는 Lasso Logistic regression을 이용하여 positive documents와 negative (or refeerence) documents를 잘 구분하는 단어들을 선택합니다. 이를 위해 scikit-learn의 Logistic Regression을 이용하였습니다.\n",
    "\n",
    "sparse matrix 형식의 x를 LassoKeywordExtractor의 train()의 argument로 입력받으며, minimum term frequency와 minimum document frequency로 키워드 후보를 제한하기 쉽도록 LassoKeywordExtractor 생성자의 arguments를 넣어뒀습니다. Logistic regression이 이용하는 regularization cost coefficient C는 costs라는 list of number로 입력됩니다. \n",
    "\n",
    "LassoKeywordExtractor는 텍스트 형식의 데이터는 지원하지 않습니다. Sparse matrix 형식에만 지원하며, train 단계에서 index2word를 입력하지 않으면 <키워드 아이디, 빈도수, Logistic regression coefficient> 형식의 namedtuple인 KeywordScore로 출력됩니다. \n",
    "\n",
    "min_num_of_keywords L1 regularization cost를 조금씩 낮춰가면서 선택되는 최소한의 키워드의 개수가 min_num_of_keywords 이상이 되도록 하는 최초의 keywords를 return하도록 하는 parameter입니다. "
   ]
  },
  {
   "cell_type": "code",
   "execution_count": 3,
   "metadata": {},
   "outputs": [
    {
     "name": "stderr",
     "output_type": "stream",
     "text": [
      "/home/lovit/anaconda3/envs/pytorch/lib/python3.7/site-packages/sklearn/linear_model/logistic.py:433: FutureWarning: Default solver will be changed to 'lbfgs' in 0.22. Specify a solver to silence this warning.\n",
      "  FutureWarning)\n"
     ]
    },
    {
     "name": "stdout",
     "output_type": "stream",
     "text": [
      "28 keywords extracted from 0.100 cost\n",
      "63 keywords extracted from 1.000 cost\n"
     ]
    },
    {
     "data": {
      "text/plain": [
       "[KeywordScore(word=2308, frequency=86, coefficient=3.8109923864179485),\n",
       " KeywordScore(word=4701, frequency=40, coefficient=3.2615271468214306),\n",
       " KeywordScore(word=4441, frequency=90, coefficient=2.4388429138534993),\n",
       " KeywordScore(word=5880, frequency=221, coefficient=1.7587550580823625),\n",
       " KeywordScore(word=8215, frequency=105, coefficient=1.4872233777826738),\n",
       " KeywordScore(word=4343, frequency=46, coefficient=1.4169179533715255),\n",
       " KeywordScore(word=2913, frequency=119, coefficient=1.335421536763229),\n",
       " KeywordScore(word=3527, frequency=195, coefficient=1.1815873039356088),\n",
       " KeywordScore(word=3261, frequency=216, coefficient=1.1656347648550005),\n",
       " KeywordScore(word=6208, frequency=77, coefficient=1.1211339065943784)]"
      ]
     },
     "execution_count": 3,
     "metadata": {},
     "output_type": "execute_result"
    }
   ],
   "source": [
    "from soykeyword.lasso import LassoKeywordExtractor\n",
    "\n",
    "lassobased_extractor = LassoKeywordExtractor(\n",
    "    costs=[500, 200, 100, 50, 10, 5, 1, 0.1],\n",
    "    min_tf=20, \n",
    "    min_df=10\n",
    ")\n",
    "\n",
    "lassobased_extractor.train(x)\n",
    "keywords = lassobased_extractor.extract_from_word(\n",
    "    5537, min_num_of_keywords=30)\n",
    "keywords[:10]"
   ]
  },
  {
   "cell_type": "markdown",
   "metadata": {},
   "source": [
    "index2word를 x와 함께 train()에 넣는다면 키워드 추출 결과는 모두 word index가 str로 바뀌어서 입력됩니다. 만약 word index가 index2word의 boundary를 넘어가는 경우라면 Unk101과 같이 Unk%d의 형식으로 출력됩니다. "
   ]
  },
  {
   "cell_type": "code",
   "execution_count": 4,
   "metadata": {},
   "outputs": [],
   "source": [
    "from soykeyword.lasso import LassoKeywordExtractor\n",
    "\n",
    "lassobased_extractor = LassoKeywordExtractor(\n",
    "    costs=[500, 200, 100, 50, 10, 5, 1, 0.1],\n",
    "    min_tf=20, \n",
    "    min_df=10\n",
    ")\n",
    "\n",
    "lassobased_extractor.train(x, _idx_to_vocab)"
   ]
  },
  {
   "cell_type": "markdown",
   "metadata": {},
   "source": [
    "index2word가 train에 입력되면 '아이오아이'가 포함된 문서의 index를 가져올 수도 있습니다. "
   ]
  },
  {
   "cell_type": "code",
   "execution_count": 5,
   "metadata": {},
   "outputs": [],
   "source": [
    "documents = lassobased_extractor.get_document_index('아이오아이')"
   ]
  },
  {
   "cell_type": "markdown",
   "metadata": {},
   "source": [
    "extract_from_docs(documents)는 documents를 positive set으로, documents가 아닌 모든 문서를 negative set으로 선택한 뒤, 이 둘을 구분하는 L1 Logistic regression을 학습합니다. 이 때에는 '아이오아이'라는 단어가 포함된 문서와 포함되지 않는 문서를 구분하는 classifier를 학습하였기 때문에 '아이오아이'가 최상위 키워드로 선택됩니다. 하지만 이는 정답을 알고 문제를 푸는 격입니다. extract_from_docs는 이 경우보다는 본인이 positive set으로 선택하고 싶은 문서 집합이 명확히 있을 때 이용하는 방법입니다.  "
   ]
  },
  {
   "cell_type": "code",
   "execution_count": 6,
   "metadata": {},
   "outputs": [
    {
     "name": "stdout",
     "output_type": "stream",
     "text": [
      "4 keywords extracted from 0.100 cost\n",
      "4 keywords extracted from 1.000 cost\n",
      "4 keywords extracted from 5.000 cost\n",
      "4 keywords extracted from 10.000 cost\n",
      "8 keywords extracted from 50.000 cost\n",
      "23 keywords extracted from 100.000 cost\n",
      "32 keywords extracted from 200.000 cost\n"
     ]
    },
    {
     "data": {
      "text/plain": [
       "[KeywordScore(word='아이오아이', frequency=270, coefficient=17.04611288254494),\n",
       " KeywordScore(word='일산동구', frequency=36, coefficient=2.0961800310723504),\n",
       " KeywordScore(word='엠카운트다운', frequency=221, coefficient=1.1649210988548764),\n",
       " KeywordScore(word='산들', frequency=90, coefficient=1.0470638260607994),\n",
       " KeywordScore(word='키미', frequency=297, coefficient=0.5543319697041955),\n",
       " KeywordScore(word='뉴스1스타', frequency=357, coefficient=0.531615874768716),\n",
       " KeywordScore(word='컴백', frequency=536, coefficient=0.46237152291339667),\n",
       " KeywordScore(word='뮤직', frequency=195, coefficient=0.3770648503854356),\n",
       " KeywordScore(word='보컬', frequency=155, coefficient=0.3695534702938712),\n",
       " KeywordScore(word='세련', frequency=192, coefficient=0.36450175634977766),\n",
       " KeywordScore(word='걸그룹', frequency=1060, coefficient=0.28407074439249735),\n",
       " KeywordScore(word='수출', frequency=735, coefficient=0.27154601046235505),\n",
       " KeywordScore(word='프로듀스101', frequency=96, coefficient=0.2683479495993373),\n",
       " KeywordScore(word='강렬', frequency=352, coefficient=0.2513548264862448),\n",
       " KeywordScore(word='선의', frequency=40, coefficient=0.2148476837588263),\n",
       " KeywordScore(word='챔피언', frequency=105, coefficient=0.2116025026493648),\n",
       " KeywordScore(word='카메라', frequency=439, coefficient=0.17386263092989682),\n",
       " KeywordScore(word='순위', frequency=259, coefficient=0.17172032076889632),\n",
       " KeywordScore(word='방영', frequency=208, coefficient=0.15194797083630826),\n",
       " KeywordScore(word='수준', frequency=2240, coefficient=0.14582526613363214),\n",
       " KeywordScore(word='해외', frequency=1612, coefficient=0.13130540471451527),\n",
       " KeywordScore(word='1위', frequency=1357, coefficient=0.11067729459291235),\n",
       " KeywordScore(word='걸크러쉬', frequency=111, coefficient=0.10481131386771572),\n",
       " KeywordScore(word='본명', frequency=105, coefficient=0.08321259942482837),\n",
       " KeywordScore(word='피어', frequency=109, coefficient=0.0775114868019571),\n",
       " KeywordScore(word='불독', frequency=1212, coefficient=0.0689167261214058),\n",
       " KeywordScore(word='데뷔', frequency=1365, coefficient=0.05210945846523919),\n",
       " KeywordScore(word='화려', frequency=518, coefficient=0.037088338477330285),\n",
       " KeywordScore(word='블랙핑크', frequency=190, coefficient=0.030617498673884653),\n",
       " KeywordScore(word='방탄소년단', frequency=638, coefficient=0.030528907133515117),\n",
       " KeywordScore(word='음반', frequency=204, coefficient=0.0050814692492844905),\n",
       " KeywordScore(word='무대', frequency=1332, coefficient=0.003709942014852539)]"
      ]
     },
     "execution_count": 6,
     "metadata": {},
     "output_type": "execute_result"
    }
   ],
   "source": [
    "keywords = lassobased_extractor.extract_from_docs(documents, min_num_of_keywords=30)\n",
    "keywords"
   ]
  },
  {
   "cell_type": "markdown",
   "metadata": {},
   "source": [
    "extract_from_word(aspect_word)는 aspect_word가 들어간 문서 집합을 positive set으로, 그렇지 않은 문서 집합을 negative set으로 선택하여 이를 구분하는 classifier를 학습하는 것입니다. 이 때, positive set에서 aspect_word를 제외합니다. 이렇게 할 경우, aspect_word 때문에 잘못된 hyperplane이 선택되는 문제를 해결할 수 있습니다. \n",
    "\n",
    "2016-10-20에는 '아이오아이'가 마지막 곡인 '너무너무너무'곡으로 활동하던 시절입니다. 그렇기 때문에 '너무너무너무'와 '엠카운트다운'과 같은 단어가 키워드로 선택되었음을 볼 수 있습니다. "
   ]
  },
  {
   "cell_type": "code",
   "execution_count": 7,
   "metadata": {},
   "outputs": [
    {
     "name": "stdout",
     "output_type": "stream",
     "text": [
      "28 keywords extracted from 0.100 cost\n",
      "64 keywords extracted from 1.000 cost\n"
     ]
    },
    {
     "data": {
      "text/plain": [
       "[KeywordScore(word='너무너무너무', frequency=86, coefficient=3.8096028366481636),\n",
       " KeywordScore(word='선의', frequency=40, coefficient=3.261186425028557),\n",
       " KeywordScore(word='산들', frequency=90, coefficient=2.446048997183587),\n",
       " KeywordScore(word='엠카운트다운', frequency=221, coefficient=1.7629942336354736),\n",
       " KeywordScore(word='챔피언', frequency=105, coefficient=1.4956038235416238),\n",
       " KeywordScore(word='사나', frequency=46, coefficient=1.421405468764132),\n",
       " KeywordScore(word='드림', frequency=119, coefficient=1.3448369072497581),\n",
       " KeywordScore(word='뮤직', frequency=195, coefficient=1.1882011238283534),\n",
       " KeywordScore(word='먹고', frequency=216, coefficient=1.167852063484577),\n",
       " KeywordScore(word='완전체', frequency=77, coefficient=1.114956997200036),\n",
       " KeywordScore(word='일산', frequency=194, coefficient=0.969320166815714),\n",
       " KeywordScore(word='세련', frequency=192, coefficient=0.9482545219297164),\n",
       " KeywordScore(word='같이', frequency=918, coefficient=0.8436500818450696),\n",
       " KeywordScore(word='컴백', frequency=536, coefficient=0.7691577065525281),\n",
       " KeywordScore(word='뉴스1스타', frequency=357, coefficient=0.7634503248186876),\n",
       " KeywordScore(word='소속사', frequency=460, coefficient=0.7447452864576759),\n",
       " KeywordScore(word='곡으로', frequency=126, coefficient=0.7396712107556731),\n",
       " KeywordScore(word='보컬', frequency=155, coefficient=0.7212676525736594),\n",
       " KeywordScore(word='열창', frequency=40, coefficient=0.7161493783313796),\n",
       " KeywordScore(word='만나게', frequency=127, coefficient=0.699871234261164),\n",
       " KeywordScore(word='인사', frequency=1213, coefficient=0.6843591973325466),\n",
       " KeywordScore(word='마무리', frequency=606, coefficient=0.6273487047617663),\n",
       " KeywordScore(word='박진영', frequency=81, coefficient=0.6057341911390012),\n",
       " KeywordScore(word='선보', frequency=2623, coefficient=0.6004085503000216),\n",
       " KeywordScore(word='무대', frequency=1332, coefficient=0.5934962482056689),\n",
       " KeywordScore(word='수출', frequency=735, coefficient=0.5713270943632676),\n",
       " KeywordScore(word='서울신문', frequency=776, coefficient=0.5480156662457855),\n",
       " KeywordScore(word='활동', frequency=2473, coefficient=0.4875905159442238),\n",
       " KeywordScore(word='다이아', frequency=182, coefficient=0.48573080811384683),\n",
       " KeywordScore(word='유정', frequency=161, coefficient=0.4826777847475854),\n",
       " KeywordScore(word='인기', frequency=1494, coefficient=0.46230376738518314),\n",
       " KeywordScore(word='매력', frequency=1371, coefficient=0.44607085617665),\n",
       " KeywordScore(word='등장', frequency=1038, coefficient=0.4421013981460259),\n",
       " KeywordScore(word='카메라', frequency=439, coefficient=0.42692480484924095),\n",
       " KeywordScore(word='개인', frequency=1246, coefficient=0.39447400130656757),\n",
       " KeywordScore(word='고양시', frequency=264, coefficient=0.37882392718405883),\n",
       " KeywordScore(word='비타민', frequency=115, coefficient=0.35905505030255425),\n",
       " KeywordScore(word='수준', frequency=2240, coefficient=0.35275611950778674),\n",
       " KeywordScore(word='멤버들', frequency=504, coefficient=0.3394976147001599),\n",
       " KeywordScore(word='걸그룹', frequency=1060, coefficient=0.3365446587174316),\n",
       " KeywordScore(word='한편', frequency=3393, coefficient=0.33543952375139074),\n",
       " KeywordScore(word='1위', frequency=1357, coefficient=0.29203512254974884),\n",
       " KeywordScore(word='예능', frequency=634, coefficient=0.2881908300573108),\n",
       " KeywordScore(word='세븐', frequency=76, coefficient=0.27768240752161866),\n",
       " KeywordScore(word='순위', frequency=259, coefficient=0.27585456460518415),\n",
       " KeywordScore(word='발매', frequency=664, coefficient=0.2731570306914572),\n",
       " KeywordScore(word='야구', frequency=148, coefficient=0.24184221678144896),\n",
       " KeywordScore(word='불독', frequency=1212, coefficient=0.19562556273182982),\n",
       " KeywordScore(word='다비치', frequency=84, coefficient=0.1811124487098002),\n",
       " KeywordScore(word='이날', frequency=6340, coefficient=0.17544456827744492),\n",
       " KeywordScore(word='파워풀', frequency=152, coefficient=0.1719399560903196),\n",
       " KeywordScore(word='걸크러쉬', frequency=111, coefficient=0.1662107379373388),\n",
       " KeywordScore(word='신용재', frequency=82, coefficient=0.15794328755133025),\n",
       " KeywordScore(word='화려', frequency=518, coefficient=0.1553253114134636),\n",
       " KeywordScore(word='프로듀스101', frequency=96, coefficient=0.0702632596545356),\n",
       " KeywordScore(word='반전', frequency=202, coefficient=0.06147626386165293),\n",
       " KeywordScore(word='일간스포츠', frequency=1235, coefficient=0.05747799775903146),\n",
       " KeywordScore(word='일산동구', frequency=36, coefficient=0.05745573374885177),\n",
       " KeywordScore(word='프로그램', frequency=2648, coefficient=0.057391483321205736),\n",
       " KeywordScore(word='스마트폰', frequency=996, coefficient=0.05527355161997229),\n",
       " KeywordScore(word='트와이스', frequency=655, coefficient=0.028376643777744067),\n",
       " KeywordScore(word='프로듀스', frequency=185, coefficient=0.018426791798184117),\n",
       " KeywordScore(word='키미', frequency=297, coefficient=0.010657528002985335),\n",
       " KeywordScore(word='기자', frequency=27189, coefficient=0.001474877550462714)]"
      ]
     },
     "execution_count": 7,
     "metadata": {},
     "output_type": "execute_result"
    }
   ],
   "source": [
    "keywords = lassobased_extractor.extract_from_word('아이오아이', min_num_of_keywords=30)\n",
    "keywords"
   ]
  },
  {
   "cell_type": "markdown",
   "metadata": {},
   "source": [
    "'최순실'의 경우에도 '박근혜-최순실 게이트'사건이 시작되는 단계이기 때문에 해당 뉴스들이 나오고 있었습니다. '최순실'이라는 단어가 들어간 문서를 선택하는 기준은 [게이트, 정유라, 고영태, 이화여대, 미르재단]과 같은 단어가 선택되어 해당 날짜의 뉴스를 잘 요약하고 있음을 볼 수 있습니다. "
   ]
  },
  {
   "cell_type": "code",
   "execution_count": 8,
   "metadata": {},
   "outputs": [
    {
     "name": "stdout",
     "output_type": "stream",
     "text": [
      "78 keywords extracted from 0.100 cost\n"
     ]
    },
    {
     "data": {
      "text/plain": [
       "[KeywordScore(word='게이트', frequency=303, coefficient=4.203336572530251),\n",
       " KeywordScore(word='정유라', frequency=329, coefficient=2.0368233820262525),\n",
       " KeywordScore(word='고영태', frequency=65, coefficient=1.7217478010358578),\n",
       " KeywordScore(word='편파기소', frequency=54, coefficient=1.2867360230212403),\n",
       " KeywordScore(word='최서원', frequency=94, coefficient=1.2736801673933789),\n",
       " KeywordScore(word='비선', frequency=288, coefficient=1.0162383648726923),\n",
       " KeywordScore(word='씨와', frequency=372, coefficient=0.7831438540703912),\n",
       " KeywordScore(word='이화여대', frequency=651, coefficient=0.7236089774624898),\n",
       " KeywordScore(word='송민순', frequency=821, coefficient=0.6901003243119923),\n",
       " KeywordScore(word='뉴스', frequency=4682, coefficient=0.5787848977105258),\n",
       " KeywordScore(word='연설문', frequency=204, coefficient=0.49737402728129215),\n",
       " KeywordScore(word='침묵', frequency=223, coefficient=0.4264079579746792),\n",
       " KeywordScore(word='박근혜', frequency=1445, coefficient=0.4073899416590886),\n",
       " KeywordScore(word='실세', frequency=309, coefficient=0.3774494154229674),\n",
       " KeywordScore(word='거의', frequency=522, coefficient=0.36281601764334304),\n",
       " KeywordScore(word='미르재단', frequency=247, coefficient=0.34184748254136776),\n",
       " KeywordScore(word='자료', frequency=1029, coefficient=0.3302706288199355),\n",
       " KeywordScore(word='청와대', frequency=2112, coefficient=0.32718981679164),\n",
       " KeywordScore(word='사퇴', frequency=463, coefficient=0.32356326927994133),\n",
       " KeywordScore(word='비선실세', frequency=219, coefficient=0.3089959009402701),\n",
       " KeywordScore(word='의혹', frequency=3602, coefficient=0.2881662444740944),\n",
       " KeywordScore(word='기자들', frequency=463, coefficient=0.27687347402165996),\n",
       " KeywordScore(word='더블루케이', frequency=194, coefficient=0.27114440473046025),\n",
       " KeywordScore(word='더블', frequency=225, coefficient=0.25593215745403963),\n",
       " KeywordScore(word='민생', frequency=164, coefficient=0.22856125237672983),\n",
       " KeywordScore(word='우병우', frequency=721, coefficient=0.22503713139137901),\n",
       " KeywordScore(word='독일', frequency=959, coefficient=0.22366757009786817),\n",
       " KeywordScore(word='설립', frequency=1522, coefficient=0.22349358989537002),\n",
       " KeywordScore(word='검색어', frequency=62, coefficient=0.21745443779468918),\n",
       " KeywordScore(word='나라', frequency=1090, coefficient=0.21633396461842735),\n",
       " KeywordScore(word='개명', frequency=124, coefficient=0.2114154184557491),\n",
       " KeywordScore(word='오늘', frequency=2318, coefficient=0.20310488207869173),\n",
       " KeywordScore(word='총격', frequency=750, coefficient=0.186437461539478),\n",
       " KeywordScore(word='위원장', frequency=720, coefficient=0.18379347563246728),\n",
       " KeywordScore(word='이대', frequency=419, coefficient=0.17586645711845805),\n",
       " KeywordScore(word='교수', frequency=2075, coefficient=0.166956499207921),\n",
       " KeywordScore(word='문체부', frequency=268, coefficient=0.16449671974015953),\n",
       " KeywordScore(word='호텔', frequency=826, coefficient=0.16438402866294818),\n",
       " KeywordScore(word='스포츠재단', frequency=676, coefficient=0.15417765828879867),\n",
       " KeywordScore(word='창단', frequency=108, coefficient=0.14888189614180344),\n",
       " KeywordScore(word='00', frequency=462, coefficient=0.14454987870834568),\n",
       " KeywordScore(word='재단', frequency=1690, coefficient=0.14304639638884245),\n",
       " KeywordScore(word='미르', frequency=604, coefficient=0.13358388532008286),\n",
       " KeywordScore(word='핵심', frequency=948, coefficient=0.12949079198251062),\n",
       " KeywordScore(word='간사', frequency=473, coefficient=0.1289971529397711),\n",
       " KeywordScore(word='학생들', frequency=1270, coefficient=0.12692408215988887),\n",
       " KeywordScore(word='새누리당', frequency=2151, coefficient=0.12071791032159282),\n",
       " KeywordScore(word='정국', frequency=137, coefficient=0.11424357410131196),\n",
       " KeywordScore(word='복지부', frequency=191, coefficient=0.11321718554460146),\n",
       " KeywordScore(word='수사', frequency=2215, coefficient=0.10936734051029147),\n",
       " KeywordScore(word='더불어민주당', frequency=1980, coefficient=0.10580275323000293),\n",
       " KeywordScore(word='개입', frequency=473, coefficient=0.10428462895978029),\n",
       " KeywordScore(word='대통령', frequency=5682, coefficient=0.10407728096575103),\n",
       " KeywordScore(word='특혜', frequency=532, coefficient=0.09347822091413087),\n",
       " KeywordScore(word='있습니다', frequency=3068, coefficient=0.08918959181588815),\n",
       " KeywordScore(word='문제', frequency=4224, coefficient=0.0877662377839704),\n",
       " KeywordScore(word='부총리', frequency=426, coefficient=0.08744519063806912),\n",
       " KeywordScore(word='금지', frequency=19890, coefficient=0.0873177070267993),\n",
       " KeywordScore(word='보도', frequency=1737, coefficient=0.08486075975759082),\n",
       " KeywordScore(word='오패산', frequency=412, coefficient=0.08386278830434422),\n",
       " KeywordScore(word='검토', frequency=871, coefficient=0.080107685264887),\n",
       " KeywordScore(word='국정원', frequency=797, coefficient=0.07361832735773499),\n",
       " KeywordScore(word='여당', frequency=471, coefficient=0.07101802875714826),\n",
       " KeywordScore(word='확인', frequency=3545, coefficient=0.06676230343634192),\n",
       " KeywordScore(word='사람', frequency=4919, coefficient=0.06506189007901605),\n",
       " KeywordScore(word='언급', frequency=1094, coefficient=0.06459552860335174),\n",
       " KeywordScore(word='인권', frequency=512, coefficient=0.06305420878336208),\n",
       " KeywordScore(word='경제', frequency=3594, coefficient=0.05101172105474124),\n",
       " KeywordScore(word='대표', frequency=7727, coefficient=0.0398583124725305),\n",
       " KeywordScore(word='여야', frequency=477, coefficient=0.032906078622055475),\n",
       " KeywordScore(word='의원', frequency=2925, coefficient=0.03146932390335148),\n",
       " KeywordScore(word='이런', frequency=2693, coefficient=0.030094504189434323),\n",
       " KeywordScore(word='사람들', frequency=2455, coefficient=0.029221447850315295),\n",
       " KeywordScore(word='기존', frequency=2055, coefficient=0.028957672874472498),\n",
       " KeywordScore(word='전화', frequency=1002, coefficient=0.024040992286193746),\n",
       " KeywordScore(word='고발', frequency=435, coefficient=0.013246574339018588),\n",
       " KeywordScore(word='인터뷰', frequency=1376, coefficient=0.0037453419062320175),\n",
       " KeywordScore(word='일이다', frequency=194, coefficient=0.00035132008368878986)]"
      ]
     },
     "execution_count": 8,
     "metadata": {},
     "output_type": "execute_result"
    }
   ],
   "source": [
    "keywords = lassobased_extractor.extract_from_word('최순실', min_num_of_keywords=30)\n",
    "keywords"
   ]
  },
  {
   "cell_type": "markdown",
   "metadata": {},
   "source": [
    "## Proportion ratio for keyword extraction\n",
    "\n",
    "proportion ratio 를 이용하는 방법도 soykeyword 에 올려두었습니다. Interface 는 Lasso 와 동일합니다. \n",
    "\n",
    "extract_from_word 와 extract_from_docs 를 제공합니다. "
   ]
  },
  {
   "cell_type": "code",
   "execution_count": 9,
   "metadata": {},
   "outputs": [
    {
     "name": "stdout",
     "output_type": "stream",
     "text": [
      "MatrixbasedKeywordExtractor trained\n"
     ]
    }
   ],
   "source": [
    "from soykeyword.proportion import MatrixbasedKeywordExtractor\n",
    "\n",
    "proportion_based_extractor = MatrixbasedKeywordExtractor(\n",
    "    min_tf=20, \n",
    "    min_df=2,\n",
    "    verbose=True)\n",
    "\n",
    "proportion_based_extractor.train(x, _idx_to_vocab)"
   ]
  },
  {
   "cell_type": "code",
   "execution_count": 10,
   "metadata": {},
   "outputs": [
    {
     "data": {
      "text/plain": [
       "[KeywordScore(word='아이오아이', frequency=270, score=1.0),\n",
       " KeywordScore(word='엠카운트다운', frequency=221, score=0.9978307775631691),\n",
       " KeywordScore(word='펜타곤', frequency=104, score=0.9934422266805437),\n",
       " KeywordScore(word='잠깐', frequency=162, score=0.9929667382454291),\n",
       " KeywordScore(word='엠넷', frequency=125, score=0.9907514986652862),\n",
       " KeywordScore(word='걸크러쉬', frequency=111, score=0.99017203825805),\n",
       " KeywordScore(word='타이틀곡', frequency=311, score=0.9869906112674688),\n",
       " KeywordScore(word='코드', frequency=105, score=0.9867835556082788),\n",
       " KeywordScore(word='본명', frequency=105, score=0.98596911773225),\n",
       " KeywordScore(word='엑스', frequency=101, score=0.9847950780631249)]"
      ]
     },
     "execution_count": 10,
     "metadata": {},
     "output_type": "execute_result"
    }
   ],
   "source": [
    "keywords = proportion_based_extractor.extract_from_word(\n",
    "    '아이오아이', min_score=0.8, min_frequency=100)\n",
    "keywords[:10]"
   ]
  },
  {
   "cell_type": "code",
   "execution_count": null,
   "metadata": {
    "collapsed": true
   },
   "outputs": [],
   "source": []
  }
 ],
 "metadata": {
  "kernelspec": {
   "display_name": "Python 3",
   "language": "python",
   "name": "python3"
  },
  "language_info": {
   "codemirror_mode": {
    "name": "ipython",
    "version": 3
   },
   "file_extension": ".py",
   "mimetype": "text/x-python",
   "name": "python",
   "nbconvert_exporter": "python",
   "pygments_lexer": "ipython3",
   "version": "3.7.1"
  }
 },
 "nbformat": 4,
 "nbformat_minor": 1
}
