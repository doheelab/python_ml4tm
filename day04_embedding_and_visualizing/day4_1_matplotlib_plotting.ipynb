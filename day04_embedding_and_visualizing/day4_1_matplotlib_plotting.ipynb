{
 "cells": [
  {
   "cell_type": "code",
   "execution_count": 1,
   "metadata": {},
   "outputs": [
    {
     "name": "stdout",
     "output_type": "stream",
     "text": [
      "[[1.37836668 9.88771204]\n",
      " [7.81090881 8.87870267]\n",
      " [5.43154768 1.03298344]\n",
      " [7.08114601 6.87219025]\n",
      " [8.07290016 2.33062487]]\n"
     ]
    }
   ],
   "source": [
    "import numpy as np\n",
    "\n",
    "# generate data\n",
    "data = np.random.random_sample((5,2)) * 10\n",
    "print(data)\n",
    "\n",
    "# set x, y\n",
    "x = data[:,0]\n",
    "y = data[:,1]"
   ]
  },
  {
   "cell_type": "markdown",
   "metadata": {},
   "source": [
    "IPython notebook 에서 matplitlib 의 그림을 그리려면 반드시 아래의 명령어를 한 번 이상 실행시켜야 합니다.\n",
    "\n",
    "```\n",
    "%matplotlib inline\n",
    "```\n",
    "\n",
    "그림에 한글을 출력할 때에는 한글 폰트를 지정해야 합니다."
   ]
  },
  {
   "cell_type": "code",
   "execution_count": 2,
   "metadata": {},
   "outputs": [
    {
     "name": "stdout",
     "output_type": "stream",
     "text": [
      "['/usr/share/fonts/truetype/liberation/LiberationSans-Regular.ttf',\n",
      " '/usr/share/fonts/truetype/ttf-indic-fonts-core/Kedage-b.ttf',\n",
      " '/usr/share/fonts/truetype/ttf-indic-fonts-core/Malige-n.ttf',\n",
      " '/usr/share/fonts/truetype/kacst/KacstTitleL.ttf',\n",
      " '/usr/share/fonts/truetype/tlwg/TlwgTypewriter-Bold.ttf']\n"
     ]
    }
   ],
   "source": [
    "import matplotlib\n",
    "import matplotlib.pyplot as plt\n",
    "%matplotlib inline\n",
    "\n",
    "from pprint import pprint\n",
    "pprint(list(matplotlib.font_manager.get_fontconfig_fonts())[:5])\n",
    "\n",
    "krfont = {'family' : 'nanumgothic', 'weight' : 'bold', 'size'   : 10}\n",
    "matplotlib.rc('font', **krfont)"
   ]
  },
  {
   "cell_type": "markdown",
   "metadata": {},
   "source": [
    "matplotlib 역시 figure 를 만든 뒤, 그 위에 scatter plot 과 annotation 을 그립니다. show 를 통하여 plot 을 출력합니다.\n",
    "\n",
    "하지만 resizing 을 위해서는 figsize 부터 다시 설정해야 합니다."
   ]
  },
  {
   "cell_type": "code",
   "execution_count": 3,
   "metadata": {},
   "outputs": [
    {
     "data": {
      "image/png": "[encoded data removed]",
      "text/plain": [
       "<Figure size 720x720 with 1 Axes>"
      ]
     },
     "metadata": {
      "needs_background": "light"
     },
     "output_type": "display_data"
    }
   ],
   "source": [
    "# generate figure\n",
    "fig = plt.figure(figsize=(10,10))\n",
    "\n",
    "# scatter plot\n",
    "plt.scatter(data[:,0], data[:,1], color='red')\n",
    "\n",
    "# annotation\n",
    "for idx in range(data.shape[0]):\n",
    "    x_ = data[idx,0] + 0.05\n",
    "    y_ = data[idx,1] + 0.05\n",
    "    text = 'point #{}'.format(idx+1)\n",
    "    plt.annotate(text, (x_, y_))\n",
    "\n",
    "# show\n",
    "plt.show()"
   ]
  },
  {
   "cell_type": "markdown",
   "metadata": {},
   "source": [
    "그림의 저장은 fig.savefig 를 이용합니다. DPI 등을 조절할 수 있습니다. 파일의 확장자에 따라 -jpg, -png 등의 그림을 맞춰서 저장합니다."
   ]
  },
  {
   "cell_type": "code",
   "execution_count": 4,
   "metadata": {},
   "outputs": [],
   "source": [
    "fig.savefig('matplotlib_scatterplot.png')"
   ]
  },
  {
   "cell_type": "code",
   "execution_count": null,
   "metadata": {
    "collapsed": true
   },
   "outputs": [],
   "source": []
  }
 ],
 "metadata": {
  "kernelspec": {
   "display_name": "Python 3",
   "language": "python",
   "name": "python3"
  },
  "language_info": {
   "codemirror_mode": {
    "name": "ipython",
    "version": 3
   },
   "file_extension": ".py",
   "mimetype": "text/x-python",
   "name": "python",
   "nbconvert_exporter": "python",
   "pygments_lexer": "ipython3",
   "version": "3.7.1"
  }
 },
 "nbformat": 4,
 "nbformat_minor": 2
}
