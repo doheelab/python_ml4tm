{
 "cells": [
  {
   "cell_type": "code",
   "execution_count": 1,
   "metadata": {},
   "outputs": [],
   "source": [
    "import config\n",
    "\n",
    "from navernews_10days import get_news_paths, get_news_index_paths\n",
    "from navernews_10days import get_comments_paths, get_comments_index_paths"
   ]
  },
  {
   "cell_type": "code",
   "execution_count": 2,
   "metadata": {},
   "outputs": [],
   "source": [
    "corpus_path = get_news_paths(date='2016-10-20')"
   ]
  },
  {
   "cell_type": "code",
   "execution_count": 3,
   "metadata": {},
   "outputs": [
    {
     "name": "stdout",
     "output_type": "stream",
     "text": [
      "num docs = 30091\n",
      "num sents = 223357\n"
     ]
    }
   ],
   "source": [
    "from soynlp.utils import DoublespaceLineCorpus\n",
    "\n",
    "corpus = DoublespaceLineCorpus(\n",
    "    corpus_path,\n",
    "    iter_sent=False,\n",
    "    num_doc=-1,\n",
    "    num_sent=-1\n",
    ")\n",
    "\n",
    "print('num docs = {}'.format(len(corpus)))\n",
    "\n",
    "corpus.iter_sent = True\n",
    "print('num sents = {}'.format(len(corpus)))"
   ]
  },
  {
   "cell_type": "code",
   "execution_count": 4,
   "metadata": {},
   "outputs": [
    {
     "name": "stdout",
     "output_type": "stream",
     "text": [
      "sent0: 19\n",
      "sent1: 1990\n",
      "sent2: 52 1 22\n",
      "sent3: 오패산터널 총격전 용의자 검거 서울 연합뉴스 경찰 관계자들이 19일 오후 서울 강북구 오패\n",
      "sent4: 서울 연합뉴스 김은경 기자 사제 총기로 경찰을 살해한 범인 성모 46 씨는 주도면밀했다\n",
      "sent5: 경찰에 따르면 성씨는 19일 오후 강북경찰서 인근 부동산 업소 밖에서 부동산업자 이모 67\n",
      "sent6: 이씨가 나와 걷기 시작하자 성씨는 따라가면서 미리 준비해온 사제 총기를 이씨에게 발사했다 \n",
      "sent7: 성씨는 강북서 인근 치킨집까지 이씨 뒤를 쫓으며 실랑이하다 쓰러뜨린 후 총기와 함께 가져온\n",
      "sent8: 이 과정에서 오후 6시 20분께 강북구 번동 길 위에서 사람들이 싸우고 있다 총소리가 났다\n",
      "sent9: 5분 후에 성씨의 전자발찌가 훼손됐다는 신고가 보호관찰소 시스템을 통해 들어왔다 성범죄자로\n"
     ]
    }
   ],
   "source": [
    "corpus.num_sent = 10\n",
    "for i, sent in enumerate(corpus):\n",
    "    print('sent{}: {}'.format(i, sent[:50]))"
   ]
  },
  {
   "cell_type": "code",
   "execution_count": 5,
   "metadata": {},
   "outputs": [
    {
     "name": "stdout",
     "output_type": "stream",
     "text": [
      "doc0: \n",
      "doc1: 19  1990  52 1 22\n",
      "doc2: 오패산터널 총격전 용의자 검거 서울 연합뉴스 경찰 관계자들이 19일 오후 서울 강북구 오패산 터널 인근에서 사제 총기를 발사해 경찰을 살해한 용의자 성모씨를 검거하고 있다 성씨는\n"
     ]
    }
   ],
   "source": [
    "corpus.num_doc = 3\n",
    "corpus.iter_sent = False\n",
    "for i, doc in enumerate(corpus):\n",
    "    print('doc{}: {}'.format(i, doc[:100].strip()))"
   ]
  },
  {
   "cell_type": "code",
   "execution_count": null,
   "metadata": {},
   "outputs": [],
   "source": []
  }
 ],
 "metadata": {
  "kernelspec": {
   "display_name": "Python 3",
   "language": "python",
   "name": "python3"
  },
  "language_info": {
   "codemirror_mode": {
    "name": "ipython",
    "version": 3
   },
   "file_extension": ".py",
   "mimetype": "text/x-python",
   "name": "python",
   "nbconvert_exporter": "python",
   "pygments_lexer": "ipython3",
   "version": "3.7.1"
  }
 },
 "nbformat": 4,
 "nbformat_minor": 2
}
