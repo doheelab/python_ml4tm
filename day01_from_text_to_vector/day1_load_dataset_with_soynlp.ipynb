{
 "cells": [
  {
   "cell_type": "code",
   "execution_count": 1,
   "metadata": {},
   "outputs": [],
   "source": [
    "from lovit_textmining_dataset.navernews_10days import get_news_paths\n",
    "from lovit_textmining_dataset.navernews_10days import get_news_index_paths\n",
    "from lovit_textmining_dataset.navernews_10days import get_comments_paths\n",
    "from lovit_textmining_dataset.navernews_10days import get_comments_index_paths"
   ]
  },
  {
   "cell_type": "code",
   "execution_count": 2,
   "metadata": {},
   "outputs": [],
   "source": [
    "corpus_path = get_news_paths(date='2016-10-20')"
   ]
  },
  {
   "cell_type": "code",
   "execution_count": 3,
   "metadata": {},
   "outputs": [
    {
     "name": "stdout",
     "output_type": "stream",
     "text": [
      "num docs = 30091\n",
      "num sents = 223357\n"
     ]
    }
   ],
   "source": [
    "from soynlp.utils import DoublespaceLineCorpus\n",
    "\n",
    "corpus = DoublespaceLineCorpus(\n",
    "    corpus_path,\n",
    "    iter_sent=False,\n",
    "    num_doc=-1,\n",
    "    num_sent=-1\n",
    ")\n",
    "\n",
    "print('num docs = {}'.format(len(corpus)))\n",
    "\n",
    "corpus.iter_sent = True\n",
    "print('num sents = {}'.format(len(corpus)))"
   ]
  },
  {
   "cell_type": "code",
   "execution_count": 4,
   "metadata": {},
   "outputs": [
    {
     "name": "stdout",
     "output_type": "stream",
     "text": [
      "sent0: 19\n",
      "sent1: 1990\n",
      "sent2: 52 1 22\n",
      "sent3: 오패산터널 총격전 용의자 검거 서울 연합뉴스 경찰 관계자들이 19일 오후 서울 강북구 오패\n",
      "sent4: 서울 연합뉴스 김은경 기자 사제 총기로 경찰을 살해한 범인 성모 46 씨는 주도면밀했다\n",
      "sent5: 경찰에 따르면 성씨는 19일 오후 강북경찰서 인근 부동산 업소 밖에서 부동산업자 이모 67\n",
      "sent6: 이씨가 나와 걷기 시작하자 성씨는 따라가면서 미리 준비해온 사제 총기를 이씨에게 발사했다 \n",
      "sent7: 성씨는 강북서 인근 치킨집까지 이씨 뒤를 쫓으며 실랑이하다 쓰러뜨린 후 총기와 함께 가져온\n",
      "sent8: 이 과정에서 오후 6시 20분께 강북구 번동 길 위에서 사람들이 싸우고 있다 총소리가 났다\n",
      "sent9: 5분 후에 성씨의 전자발찌가 훼손됐다는 신고가 보호관찰소 시스템을 통해 들어왔다 성범죄자로\n"
     ]
    }
   ],
   "source": [
    "corpus.num_sent = 10\n",
    "for i, sent in enumerate(corpus):\n",
    "    print('sent{}: {}'.format(i, sent[:50]))"
   ]
  },
  {
   "cell_type": "code",
   "execution_count": 5,
   "metadata": {},
   "outputs": [
    {
     "name": "stdout",
     "output_type": "stream",
     "text": [
      "doc0: \n",
      "doc1: 19  1990  52 1 22\n",
      "doc2: 오패산터널 총격전 용의자 검거 서울 연합뉴스 경찰 관계자들이 19일 오후 서울 강북구 오패산 터널 인근에서 사제 총기를 발사해 경찰을 살해한 용의자 성모씨를 검거하고 있다 성씨는\n"
     ]
    }
   ],
   "source": [
    "corpus.num_doc = 3\n",
    "corpus.iter_sent = False\n",
    "for i, doc in enumerate(corpus):\n",
    "    print('doc{}: {}'.format(i, doc[:100].strip()))"
   ]
  },
  {
   "cell_type": "code",
   "execution_count": 7,
   "metadata": {},
   "outputs": [
    {
     "data": {
      "text/plain": [
       "['001\\t2016-10-20\\t0008765175\\t104\\t2016-10-20 00:00',\n",
       " '001\\t2016-10-20\\t0008765177\\t104\\t2016-10-20 00:03',\n",
       " '001\\t2016-10-20\\t0008765178\\t102\\t2016-10-20 07:53',\n",
       " '001\\t2016-10-20\\t0008765179\\t104\\t2016-10-20 00:19',\n",
       " '001\\t2016-10-20\\t0008765180\\t104\\t2016-10-20 00:20']"
      ]
     },
     "execution_count": 7,
     "metadata": {},
     "output_type": "execute_result"
    }
   ],
   "source": [
    "index_path = get_news_index_paths(date='2016-10-20')\n",
    "index = DoublespaceLineCorpus(index_path, num_doc=5)\n",
    "list(index)"
   ]
  },
  {
   "cell_type": "code",
   "execution_count": 8,
   "metadata": {},
   "outputs": [
    {
     "data": {
      "text/plain": [
       "['한국고유의情이란게있다 각박해지는세상 섭외해서하는것도아니고 리얼도그렇고 프로그램취지가 너무마음에드는데 재미도있었음 잘하면 착하고웃음주예능될것같다 응원하겠습니다',\n",
       " '한때 유재석과 쌍벽을 나눈 엠씨 였다가 세금탈루 때문에 저리  인지도가 떨어지는 강호동!!!!!!!!안타깝다..  의원출마까지도  생각했을 터일텐데.',\n",
       " '진심 대박나길 바랍니다아아아',\n",
       " '현실감속에서  재밋게 봤습니다 ㅡㅡ대박나세요  신선함도 !!!',\n",
       " '꿀잼ㅋㅋㅋ 뭔가 짠하면서 재밌네요']"
      ]
     },
     "execution_count": 8,
     "metadata": {},
     "output_type": "execute_result"
    }
   ],
   "source": [
    "comment_path = get_comments_paths(date='2016-10-20')\n",
    "comment = DoublespaceLineCorpus(comment_path, num_doc=5)\n",
    "list(comment)"
   ]
  },
  {
   "cell_type": "code",
   "execution_count": 9,
   "metadata": {},
   "outputs": [
    {
     "data": {
      "text/plain": [
       "['2016-10-20\\t112\\t0002858604\\t712619182\\t1\\t0',\n",
       " '2016-10-20\\t112\\t0002858604\\t712605402\\t0\\t0',\n",
       " '2016-10-20\\t112\\t0002858604\\t712604832\\t1\\t0',\n",
       " '2016-10-20\\t112\\t0002858604\\t712497112\\t9\\t0',\n",
       " '2016-10-20\\t112\\t0002858604\\t712493012\\t12\\t0']"
      ]
     },
     "execution_count": 9,
     "metadata": {},
     "output_type": "execute_result"
    }
   ],
   "source": [
    "comment_index_path = get_comments_index_paths(date='2016-10-20')\n",
    "comment_index = DoublespaceLineCorpus(comment_index_path, num_doc=5)\n",
    "list(comment_index)"
   ]
  },
  {
   "cell_type": "code",
   "execution_count": null,
   "metadata": {},
   "outputs": [],
   "source": []
  }
 ],
 "metadata": {
  "kernelspec": {
   "display_name": "Python 3",
   "language": "python",
   "name": "python3"
  },
  "language_info": {
   "codemirror_mode": {
    "name": "ipython",
    "version": 3
   },
   "file_extension": ".py",
   "mimetype": "text/x-python",
   "name": "python",
   "nbconvert_exporter": "python",
   "pygments_lexer": "ipython3",
   "version": "3.7.1"
  }
 },
 "nbformat": 4,
 "nbformat_minor": 2
}
