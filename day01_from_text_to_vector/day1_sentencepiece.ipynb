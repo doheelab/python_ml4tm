{
 "cells": [
  {
   "cell_type": "markdown",
   "metadata": {},
   "source": [
    "Google 에서도 sentencepiece 라는 이름으로 Word Piece Model package 를 공개하였습니다. 설치는 pip install 로 가능합니다. 실습 환경에서의 버전은 `sentencepiece==0.1.83` 입니다.\n",
    "\n",
    "```\n",
    "pip install sentencepiece\n",
    "```\n",
    "\n",
    "학습 데이터는 빈 칸이 포함되지 않은 문서 집합입니다. 우리의 실습 데이터에는 정규화 과정에서 한문으로만 이뤄진 기사의 텍스트가 지워졌기 때문에 빈 줄이 포함되어 있습니다. 이 빈 줄을 제거하여 `spm_input.txt` 파일을 만듭니다."
   ]
  },
  {
   "cell_type": "code",
   "execution_count": 1,
   "metadata": {},
   "outputs": [],
   "source": [
    "import sentencepiece as spm\n",
    "from lovit_textmining_dataset.navernews_10days import get_news_paths\n",
    "from soynlp.utils import DoublespaceLineCorpus\n",
    "\n",
    "path = get_news_paths(date='2016-10-20', tokenize=None)\n",
    "corpus = DoublespaceLineCorpus(path, iter_sent=True, num_doc=1000)\n",
    "\n",
    "input_file = 'spm_input.txt'\n",
    "with open(input_file, 'w', encoding='utf-8') as f:\n",
    "    for sent in corpus:\n",
    "        f.write('{}\\n'.format(sent))"
   ]
  },
  {
   "cell_type": "markdown",
   "metadata": {},
   "source": [
    "Sentencepiece 는 C++ 로 구현되어 있으며, subprocess 를 이용하여 파이썬에서 스크립트를 실행시키는 방식입니다. Input 은 반드시 텍스트 파일이어야 합니다. command message 는 input, prefix, vocab_size 를 입력해야 합니다.\n",
    "\n",
    "IPython notebook 에서는 파이썬 스크립트에서 오류가 날 경우 커널이 그대로 죽습니다. 파이썬 인터프리터에서 직접 작업하면 코드의 오류를 볼 수 있습니다. vocab_size 가 지나치게 작게 설정되면 모델이 학습을 하다 오류를 발생시킵니다. 당황하지 마시고 vocab_size 를 키우면 됩니다. 우리의 실습 예시에서는 vocab_size 1000 으로 설정하면 오류가 발생합니다. 2000 으로 키우면 문제없이 작동합니다."
   ]
  },
  {
   "cell_type": "code",
   "execution_count": 2,
   "metadata": {},
   "outputs": [
    {
     "data": {
      "text/plain": [
       "True"
      ]
     },
     "execution_count": 2,
     "metadata": {},
     "output_type": "execute_result"
    }
   ],
   "source": [
    "templates = '--input={} --model_prefix={} --vocab_size={}'\n",
    "\n",
    "vocab_size = 2000\n",
    "prefix = '2016-10-20-news'\n",
    "cmd = templates.format(input_file, prefix, vocab_size)\n",
    "\n",
    "spm.SentencePieceTrainer.Train(cmd)"
   ]
  },
  {
   "cell_type": "markdown",
   "metadata": {},
   "source": [
    "학습이 끝나면 `2016-10-20-news` 라는 prefix 를 지니는 .model 파일과 .vocab 파일이 만들어집니다."
   ]
  },
  {
   "cell_type": "code",
   "execution_count": 3,
   "metadata": {},
   "outputs": [
    {
     "name": "stdout",
     "output_type": "stream",
     "text": [
      "2016-10-20-news.model                  day1_soynlp_word_noun_tokenizer.ipynb\r\n",
      "2016-10-20-news.vocab                  \u001b[0m\u001b[01;34m__pycache__\u001b[0m/\r\n",
      "day1_from_text_to_sparse_matrix.ipynb  README.md\r\n",
      "day1_KoNLPy.ipynb                      spm_input.txt\r\n",
      "day1_load_dataset_with_soynlp.ipynb    \u001b[01;34mtmp\u001b[0m/\r\n",
      "day1_sentencepiece.ipynb               userdic.txt\r\n"
     ]
    }
   ],
   "source": [
    "ls"
   ]
  },
  {
   "cell_type": "markdown",
   "metadata": {},
   "source": [
    "학습된 모델을 이용하려면 .model 을 로딩합니다."
   ]
  },
  {
   "cell_type": "code",
   "execution_count": 4,
   "metadata": {},
   "outputs": [
    {
     "data": {
      "text/plain": [
       "True"
      ]
     },
     "execution_count": 4,
     "metadata": {},
     "output_type": "execute_result"
    }
   ],
   "source": [
    "sp = spm.SentencePieceProcessor()\n",
    "sp.Load('{}.model'.format(prefix))"
   ]
  },
  {
   "cell_type": "markdown",
   "metadata": {},
   "source": [
    "문장을 입력하면 subword list 로 출력할 수 있습니다."
   ]
  },
  {
   "cell_type": "code",
   "execution_count": 5,
   "metadata": {},
   "outputs": [
    {
     "data": {
      "text/plain": [
       "['▁오', '늘', '의', '▁연합뉴스', '▁기', '사', '입', '니', '다']"
      ]
     },
     "execution_count": 5,
     "metadata": {},
     "output_type": "execute_result"
    }
   ],
   "source": [
    "sp.EncodeAsPieces('오늘의 연합뉴스 기사입니다')"
   ]
  },
  {
   "cell_type": "markdown",
   "metadata": {},
   "source": [
    "혹은 subword idx list 로 출력할 수도 있습니다."
   ]
  },
  {
   "cell_type": "code",
   "execution_count": 6,
   "metadata": {},
   "outputs": [
    {
     "data": {
      "text/plain": [
       "[203, 870, 7, 23, 171, 26, 327, 186, 25]"
      ]
     },
     "execution_count": 6,
     "metadata": {},
     "output_type": "execute_result"
    }
   ],
   "source": [
    "sp.EncodeAsIds('오늘의 연합뉴스 기사입니다')"
   ]
  },
  {
   "cell_type": "markdown",
   "metadata": {},
   "source": [
    "우리가 설정한 2000 개의 vocabulary 가 학습되었습니다."
   ]
  },
  {
   "cell_type": "code",
   "execution_count": 7,
   "metadata": {
    "scrolled": false
   },
   "outputs": [
    {
     "name": "stdout",
     "output_type": "stream",
     "text": [
      "num of vocabs = 2000\n"
     ]
    }
   ],
   "source": [
    "with open('{}.vocab'.format(prefix), encoding='utf-8') as f:\n",
    "    vocabs = [doc.strip() for doc in f]\n",
    "\n",
    "print('num of vocabs = {}'.format(len(vocabs)))"
   ]
  },
  {
   "cell_type": "markdown",
   "metadata": {},
   "source": [
    "Vocabulary 에는 unknown, 문장의 시작, 문장의 끝, 단어의 앞부분 등 네 가지의 special token 이 있으며, 그 외에는 `을`, `이`, `의`, `는` 과 같은 조사들이 뒤따릅니다. `_기자`, `_재배포` 와 같은 도메인에서 자주 이용되는 단어들도 포함되어 있습니다. "
   ]
  },
  {
   "cell_type": "code",
   "execution_count": 8,
   "metadata": {
    "scrolled": false
   },
   "outputs": [
    {
     "name": "stdout",
     "output_type": "stream",
     "text": [
      "<unk>\t0\n",
      "<s>\t0\n",
      "</s>\t0\n",
      "▁\t-2.3141\n",
      "을\t-3.95619\n",
      "이\t-4.13792\n",
      "는\t-4.17755\n",
      "의\t-4.2608\n",
      "에\t-4.27495\n",
      "를\t-4.47744\n",
      "은\t-4.56576\n",
      "가\t-4.56862\n",
      "한\t-4.77574\n",
      "고\t-4.7846\n",
      "도\t-4.86284\n",
      "에서\t-4.93985\n",
      "일\t-4.98635\n",
      "로\t-5.02946\n",
      "기\t-5.11131\n",
      "과\t-5.1414\n",
      "지\t-5.15338\n",
      "인\t-5.24579\n",
      "해\t-5.31501\n",
      "▁연합뉴스\t-5.3214\n",
      "▁20\t-5.33494\n",
      "다\t-5.397\n",
      "사\t-5.41258\n",
      "▁있다\t-5.42713\n",
      "리\t-5.45189\n",
      "으로\t-5.45349\n",
      "▁이\t-5.47303\n",
      "자\t-5.52116\n",
      "장\t-5.52249\n",
      "시\t-5.58215\n",
      "▁등\t-5.59042\n",
      "▁수\t-5.61918\n",
      "원\t-5.62017\n",
      "했다\t-5.6344\n",
      "대\t-5.63529\n",
      "정\t-5.66812\n",
      "하는\t-5.74145\n",
      "하고\t-5.76434\n",
      "와\t-5.78018\n",
      "년\t-5.79992\n",
      "▁서울\t-5.82273\n",
      "▁전\t-5.8357\n",
      "할\t-5.84419\n",
      "수\t-5.85506\n",
      "주\t-5.85524\n",
      "▁고\t-5.89186\n",
      "▁2\t-5.92829\n",
      "나\t-5.95039\n",
      "▁기자\t-5.95057\n",
      "상\t-5.96083\n",
      "전\t-5.96911\n",
      "스\t-5.9739\n",
      "▁3\t-5.97818\n",
      "▁1\t-6.00681\n",
      "만\t-6.01671\n",
      "어\t-6.02466\n",
      "성\t-6.07467\n",
      "부\t-6.08663\n",
      "▁10\t-6.10234\n",
      "제\t-6.1093\n",
      "서\t-6.1269\n",
      "천\t-6.13931\n",
      "구\t-6.14533\n",
      "화\t-6.19967\n",
      "면\t-6.20454\n",
      "들\t-6.21878\n",
      "하\t-6.21914\n",
      "▁김\t-6.22977\n",
      "회\t-6.24134\n",
      "명\t-6.24962\n",
      "게\t-6.25369\n",
      "선\t-6.25562\n",
      "진\t-6.28571\n",
      "월\t-6.29294\n",
      "▁2016\t-6.29878\n",
      "며\t-6.30346\n",
      "적\t-6.3347\n",
      "산\t-6.35707\n",
      "▁것\t-6.36179\n",
      "치\t-6.37269\n",
      "▁부\t-6.37915\n",
      "동\t-6.38136\n",
      "계\t-6.39012\n",
      "소\t-6.39247\n",
      "조\t-6.39716\n",
      "드\t-6.40723\n",
      "▁중\t-6.40864\n",
      "금\t-6.42985\n",
      "▁그\t-6.43179\n",
      "라\t-6.43809\n",
      "국\t-6.4468\n",
      "▁5\t-6.45081\n",
      "세\t-6.46745\n",
      "▁정\t-6.47052\n",
      "아\t-6.47071\n",
      "▁유\t-6.47934\n",
      "▁사\t-6.4848\n",
      "▁4\t-6.49744\n",
      "한다\t-6.50626\n",
      "▁19\t-6.5067\n",
      "▁보\t-6.51178\n",
      "▁지\t-6.53141\n",
      "재\t-6.53246\n",
      "용\t-6.5511\n",
      "2\t-6.55212\n",
      "개\t-6.55386\n",
      "당\t-6.56287\n",
      "트\t-6.5698\n",
      "▁제\t-6.58065\n",
      "간\t-6.58478\n",
      "여\t-6.58544\n",
      "▁주\t-6.58614\n",
      "▁것으로\t-6.58746\n",
      "체\t-6.59651\n",
      "1\t-6.59848\n",
      "된\t-6.60114\n",
      "▁공\t-6.60227\n",
      "무\t-6.60231\n",
      "공\t-6.60357\n",
      "▁가\t-6.61133\n",
      "관\t-6.6366\n",
      "▁시\t-6.63747\n",
      "▁오전\t-6.6421\n",
      "위\t-6.64388\n",
      "▁대\t-6.64444\n",
      "차\t-6.64568\n",
      "력\t-6.65885\n",
      "비\t-6.66041\n",
      "▁한\t-6.66183\n",
      "단\t-6.66217\n",
      "식\t-6.66379\n",
      "▁있는\t-6.66878\n",
      "▁북한\t-6.67354\n",
      "3\t-6.68111\n",
      "▁아\t-6.68633\n",
      "호\t-6.69217\n",
      "보\t-6.70445\n",
      "▁연\t-6.7137\n",
      "행\t-6.71662\n",
      "연\t-6.7277\n",
      "▁제공\t-6.73013\n",
      "경\t-6.73056\n",
      "▁6\t-6.7327\n",
      "유\t-6.73785\n",
      "5\t-6.74523\n",
      "▁위\t-6.75159\n",
      "안\t-6.75767\n",
      "▁미국\t-6.76044\n",
      "영\t-6.77354\n",
      "야\t-6.7757\n",
      "▁말했다\t-6.77587\n",
      "중\t-6.77614\n",
      "히\t-6.78506\n",
      "마\t-6.79134\n",
      "▁신\t-6.79413\n",
      "운\t-6.79472\n",
      "문\t-6.79616\n",
      "업\t-6.79791\n",
      "7\t-6.79937\n",
      "▁인\t-6.80012\n",
      "까지\t-6.8026\n",
      "▁7\t-6.80877\n",
      "법\t-6.81409\n",
      "학\t-6.82336\n",
      "던\t-6.82631\n",
      "▁내\t-6.83477\n",
      "9\t-6.84767\n",
      "▁기\t-6.84838\n",
      "6\t-6.85245\n",
      "모\t-6.85353\n",
      "물\t-6.85804\n",
      "▁밝혔다\t-6.86307\n",
      "8\t-6.86339\n",
      "됐다\t-6.86368\n",
      "이다\t-6.86411\n",
      "권\t-6.8732\n",
      "군\t-6.87947\n",
      "▁8\t-6.88044\n",
      "방\t-6.88218\n",
      "신\t-6.88333\n",
      "▁한국\t-6.90543\n",
      "들이\t-6.9156\n",
      "니\t-6.9275\n",
      "▁비\t-6.93501\n",
      "형\t-6.93609\n",
      "4\t-6.93908\n",
      "려\t-6.94312\n",
      "약\t-6.94735\n",
      "▁나\t-6.95064\n",
      "건\t-6.95914\n",
      "▁9\t-6.96453\n",
      "처\t-6.96469\n",
      "▁박\t-6.96969\n",
      "▁열린\t-6.97111\n",
      "▁특\t-6.98592\n",
      "▁있\t-6.98608\n"
     ]
    }
   ],
   "source": [
    "for vocab in vocabs[:200]:\n",
    "    print(vocab)"
   ]
  },
  {
   "cell_type": "code",
   "execution_count": null,
   "metadata": {
    "collapsed": true
   },
   "outputs": [],
   "source": []
  }
 ],
 "metadata": {
  "kernelspec": {
   "display_name": "Python 3",
   "language": "python",
   "name": "python3"
  },
  "language_info": {
   "codemirror_mode": {
    "name": "ipython",
    "version": 3
   },
   "file_extension": ".py",
   "mimetype": "text/x-python",
   "name": "python",
   "nbconvert_exporter": "python",
   "pygments_lexer": "ipython3",
   "version": "3.7.1"
  }
 },
 "nbformat": 4,
 "nbformat_minor": 2
}
