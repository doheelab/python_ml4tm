{
 "cells": [
  {
   "cell_type": "markdown",
   "metadata": {},
   "source": [
    "## Version check\n",
    "\n",
    "Pytorch 를 연습하기 위하여, y = f(x) 형식의 regression 모델을 학습하는 뉴럴 네트워크를 만들어봅니다.\n",
    "\n",
    "현재 실습의 torch 버전은 1.4.0 입니다."
   ]
  },
  {
   "cell_type": "code",
   "execution_count": 1,
   "metadata": {},
   "outputs": [
    {
     "name": "stdout",
     "output_type": "stream",
     "text": [
      "PyTorch version = 1.4.0+cpu\n"
     ]
    }
   ],
   "source": [
    "import torch\n",
    "print('PyTorch version = {}'.format(torch.__version__))"
   ]
  },
  {
   "cell_type": "markdown",
   "metadata": {},
   "source": [
    "Pytorch 에서 신경써야 할 요소는 네 가지 입니다.\n",
    "  - data\n",
    "  - model\n",
    "  - loss function\n",
    "  - optimizer"
   ]
  },
  {
   "cell_type": "markdown",
   "metadata": {},
   "source": [
    "## Prepare data\n",
    "\n",
    "아래는 거의 default 로 이용하는 요소들입니다."
   ]
  },
  {
   "cell_type": "code",
   "execution_count": 2,
   "metadata": {},
   "outputs": [],
   "source": [
    "# import torch components\n",
    "import torch\n",
    "import torch.nn as nn\n",
    "import torch.optim as optim\n",
    "import torch.nn.init as init"
   ]
  },
  {
   "cell_type": "markdown",
   "metadata": {},
   "source": [
    "우리는 이번 실습에서 인공데이터를 만들어 이용할 것입니다.\n",
    "\n",
    "TensorFlow 가 Tensor Board 를 제공하듯이 PyTorch 도 Visdom 을 제공합니다만, model 을 만드는 것부터 이야기합니다. 이번 실습에서는 scatter plot 만 그릴 것이기 때문에, 이전 시간에 살펴본 Bokeh 를 이용한 scatter plot 함수를 visualize.py 파일에 만들어 뒀습니다."
   ]
  },
  {
   "cell_type": "code",
   "execution_count": 3,
   "metadata": {},
   "outputs": [
    {
     "data": {
      "text/html": [
       "\n",
       "    <div class=\"bk-root\">\n",
       "        <a href=\"https://bokeh.org\" target=\"_blank\" class=\"bk-logo bk-logo-small bk-logo-notebook\"></a>\n",
       "        <span id=\"1001\">Loading BokehJS ...</span>\n",
       "    </div>"
      ]
     },
     "metadata": {},
     "output_type": "display_data"
    },
    {
     "data": {
      "application/javascript": [
       "\n",
       "(function(root) {\n",
       "  function now() {\n",
       "    return new Date();\n",
       "  }\n",
       "\n",
       "  var force = true;\n",
       "\n",
       "  if (typeof root._bokeh_onload_callbacks === \"undefined\" || force === true) {\n",
       "    root._bokeh_onload_callbacks = [];\n",
       "    root._bokeh_is_loading = undefined;\n",
       "  }\n",
       "\n",
       "  var JS_MIME_TYPE = 'application/javascript';\n",
       "  var HTML_MIME_TYPE = 'text/html';\n",
       "  var EXEC_MIME_TYPE = 'application/vnd.bokehjs_exec.v0+json';\n",
       "  var CLASS_NAME = 'output_bokeh rendered_html';\n",
       "\n",
       "  /**\n",
       "   * Render data to the DOM node\n",
       "   */\n",
       "  function render(props, node) {\n",
       "    var script = document.createElement(\"script\");\n",
       "    node.appendChild(script);\n",
       "  }\n",
       "\n",
       "  /**\n",
       "   * Handle when an output is cleared or removed\n",
       "   */\n",
       "  function handleClearOutput(event, handle) {\n",
       "    var cell = handle.cell;\n",
       "\n",
       "    var id = cell.output_area._bokeh_element_id;\n",
       "    var server_id = cell.output_area._bokeh_server_id;\n",
       "    // Clean up Bokeh references\n",
       "    if (id != null && id in Bokeh.index) {\n",
       "      Bokeh.index[id].model.document.clear();\n",
       "      delete Bokeh.index[id];\n",
       "    }\n",
       "\n",
       "    if (server_id !== undefined) {\n",
       "      // Clean up Bokeh references\n",
       "      var cmd = \"from bokeh.io.state import curstate; print(curstate().uuid_to_server['\" + server_id + \"'].get_sessions()[0].document.roots[0]._id)\";\n",
       "      cell.notebook.kernel.execute(cmd, {\n",
       "        iopub: {\n",
       "          output: function(msg) {\n",
       "            var id = msg.content.text.trim();\n",
       "            if (id in Bokeh.index) {\n",
       "              Bokeh.index[id].model.document.clear();\n",
       "              delete Bokeh.index[id];\n",
       "            }\n",
       "          }\n",
       "        }\n",
       "      });\n",
       "      // Destroy server and session\n",
       "      var cmd = \"import bokeh.io.notebook as ion; ion.destroy_server('\" + server_id + \"')\";\n",
       "      cell.notebook.kernel.execute(cmd);\n",
       "    }\n",
       "  }\n",
       "\n",
       "  /**\n",
       "   * Handle when a new output is added\n",
       "   */\n",
       "  function handleAddOutput(event, handle) {\n",
       "    var output_area = handle.output_area;\n",
       "    var output = handle.output;\n",
       "\n",
       "    // limit handleAddOutput to display_data with EXEC_MIME_TYPE content only\n",
       "    if ((output.output_type != \"display_data\") || (!output.data.hasOwnProperty(EXEC_MIME_TYPE))) {\n",
       "      return\n",
       "    }\n",
       "\n",
       "    var toinsert = output_area.element.find(\".\" + CLASS_NAME.split(' ')[0]);\n",
       "\n",
       "    if (output.metadata[EXEC_MIME_TYPE][\"id\"] !== undefined) {\n",
       "      toinsert[toinsert.length - 1].firstChild.textContent = output.data[JS_MIME_TYPE];\n",
       "      // store reference to embed id on output_area\n",
       "      output_area._bokeh_element_id = output.metadata[EXEC_MIME_TYPE][\"id\"];\n",
       "    }\n",
       "    if (output.metadata[EXEC_MIME_TYPE][\"server_id\"] !== undefined) {\n",
       "      var bk_div = document.createElement(\"div\");\n",
       "      bk_div.innerHTML = output.data[HTML_MIME_TYPE];\n",
       "      var script_attrs = bk_div.children[0].attributes;\n",
       "      for (var i = 0; i < script_attrs.length; i++) {\n",
       "        toinsert[toinsert.length - 1].firstChild.setAttribute(script_attrs[i].name, script_attrs[i].value);\n",
       "      }\n",
       "      // store reference to server id on output_area\n",
       "      output_area._bokeh_server_id = output.metadata[EXEC_MIME_TYPE][\"server_id\"];\n",
       "    }\n",
       "  }\n",
       "\n",
       "  function register_renderer(events, OutputArea) {\n",
       "\n",
       "    function append_mime(data, metadata, element) {\n",
       "      // create a DOM node to render to\n",
       "      var toinsert = this.create_output_subarea(\n",
       "        metadata,\n",
       "        CLASS_NAME,\n",
       "        EXEC_MIME_TYPE\n",
       "      );\n",
       "      this.keyboard_manager.register_events(toinsert);\n",
       "      // Render to node\n",
       "      var props = {data: data, metadata: metadata[EXEC_MIME_TYPE]};\n",
       "      render(props, toinsert[toinsert.length - 1]);\n",
       "      element.append(toinsert);\n",
       "      return toinsert\n",
       "    }\n",
       "\n",
       "    /* Handle when an output is cleared or removed */\n",
       "    events.on('clear_output.CodeCell', handleClearOutput);\n",
       "    events.on('delete.Cell', handleClearOutput);\n",
       "\n",
       "    /* Handle when a new output is added */\n",
       "    events.on('output_added.OutputArea', handleAddOutput);\n",
       "\n",
       "    /**\n",
       "     * Register the mime type and append_mime function with output_area\n",
       "     */\n",
       "    OutputArea.prototype.register_mime_type(EXEC_MIME_TYPE, append_mime, {\n",
       "      /* Is output safe? */\n",
       "      safe: true,\n",
       "      /* Index of renderer in `output_area.display_order` */\n",
       "      index: 0\n",
       "    });\n",
       "  }\n",
       "\n",
       "  // register the mime type if in Jupyter Notebook environment and previously unregistered\n",
       "  if (root.Jupyter !== undefined) {\n",
       "    var events = require('base/js/events');\n",
       "    var OutputArea = require('notebook/js/outputarea').OutputArea;\n",
       "\n",
       "    if (OutputArea.prototype.mime_types().indexOf(EXEC_MIME_TYPE) == -1) {\n",
       "      register_renderer(events, OutputArea);\n",
       "    }\n",
       "  }\n",
       "\n",
       "  \n",
       "  if (typeof (root._bokeh_timeout) === \"undefined\" || force === true) {\n",
       "    root._bokeh_timeout = Date.now() + 5000;\n",
       "    root._bokeh_failed_load = false;\n",
       "  }\n",
       "\n",
       "  var NB_LOAD_WARNING = {'data': {'text/html':\n",
       "     \"<div style='background-color: #fdd'>\\n\"+\n",
       "     \"<p>\\n\"+\n",
       "     \"BokehJS does not appear to have successfully loaded. If loading BokehJS from CDN, this \\n\"+\n",
       "     \"may be due to a slow or bad network connection. Possible fixes:\\n\"+\n",
       "     \"</p>\\n\"+\n",
       "     \"<ul>\\n\"+\n",
       "     \"<li>re-rerun `output_notebook()` to attempt to load from CDN again, or</li>\\n\"+\n",
       "     \"<li>use INLINE resources instead, as so:</li>\\n\"+\n",
       "     \"</ul>\\n\"+\n",
       "     \"<code>\\n\"+\n",
       "     \"from bokeh.resources import INLINE\\n\"+\n",
       "     \"output_notebook(resources=INLINE)\\n\"+\n",
       "     \"</code>\\n\"+\n",
       "     \"</div>\"}};\n",
       "\n",
       "  function display_loaded() {\n",
       "    var el = document.getElementById(\"1001\");\n",
       "    if (el != null) {\n",
       "      el.textContent = \"BokehJS is loading...\";\n",
       "    }\n",
       "    if (root.Bokeh !== undefined) {\n",
       "      if (el != null) {\n",
       "        el.textContent = \"BokehJS \" + root.Bokeh.version + \" successfully loaded.\";\n",
       "      }\n",
       "    } else if (Date.now() < root._bokeh_timeout) {\n",
       "      setTimeout(display_loaded, 100)\n",
       "    }\n",
       "  }\n",
       "\n",
       "\n",
       "  function run_callbacks() {\n",
       "    try {\n",
       "      root._bokeh_onload_callbacks.forEach(function(callback) {\n",
       "        if (callback != null)\n",
       "          callback();\n",
       "      });\n",
       "    } finally {\n",
       "      delete root._bokeh_onload_callbacks\n",
       "    }\n",
       "    console.debug(\"Bokeh: all callbacks have finished\");\n",
       "  }\n",
       "\n",
       "  function load_libs(css_urls, js_urls, callback) {\n",
       "    if (css_urls == null) css_urls = [];\n",
       "    if (js_urls == null) js_urls = [];\n",
       "\n",
       "    root._bokeh_onload_callbacks.push(callback);\n",
       "    if (root._bokeh_is_loading > 0) {\n",
       "      console.debug(\"Bokeh: BokehJS is being loaded, scheduling callback at\", now());\n",
       "      return null;\n",
       "    }\n",
       "    if (js_urls == null || js_urls.length === 0) {\n",
       "      run_callbacks();\n",
       "      return null;\n",
       "    }\n",
       "    console.debug(\"Bokeh: BokehJS not loaded, scheduling load and callback at\", now());\n",
       "    root._bokeh_is_loading = css_urls.length + js_urls.length;\n",
       "\n",
       "    function on_load() {\n",
       "      root._bokeh_is_loading--;\n",
       "      if (root._bokeh_is_loading === 0) {\n",
       "        console.debug(\"Bokeh: all BokehJS libraries/stylesheets loaded\");\n",
       "        run_callbacks()\n",
       "      }\n",
       "    }\n",
       "\n",
       "    function on_error() {\n",
       "      console.error(\"failed to load \" + url);\n",
       "    }\n",
       "\n",
       "    for (var i = 0; i < css_urls.length; i++) {\n",
       "      var url = css_urls[i];\n",
       "      const element = document.createElement(\"link\");\n",
       "      element.onload = on_load;\n",
       "      element.onerror = on_error;\n",
       "      element.rel = \"stylesheet\";\n",
       "      element.type = \"text/css\";\n",
       "      element.href = url;\n",
       "      console.debug(\"Bokeh: injecting link tag for BokehJS stylesheet: \", url);\n",
       "      document.body.appendChild(element);\n",
       "    }\n",
       "\n",
       "    for (var i = 0; i < js_urls.length; i++) {\n",
       "      var url = js_urls[i];\n",
       "      var element = document.createElement('script');\n",
       "      element.onload = on_load;\n",
       "      element.onerror = on_error;\n",
       "      element.async = false;\n",
       "      element.src = url;\n",
       "      console.debug(\"Bokeh: injecting script tag for BokehJS library: \", url);\n",
       "      document.head.appendChild(element);\n",
       "    }\n",
       "  };var element = document.getElementById(\"1001\");\n",
       "  if (element == null) {\n",
       "    console.error(\"Bokeh: ERROR: autoload.js configured with elementid '1001' but no matching script tag was found. \")\n",
       "    return false;\n",
       "  }\n",
       "\n",
       "  function inject_raw_css(css) {\n",
       "    const element = document.createElement(\"style\");\n",
       "    element.appendChild(document.createTextNode(css));\n",
       "    document.body.appendChild(element);\n",
       "  }\n",
       "\n",
       "  \n",
       "  var js_urls = [\"https://cdn.pydata.org/bokeh/release/bokeh-1.4.0.min.js\", \"https://cdn.pydata.org/bokeh/release/bokeh-widgets-1.4.0.min.js\", \"https://cdn.pydata.org/bokeh/release/bokeh-tables-1.4.0.min.js\", \"https://cdn.pydata.org/bokeh/release/bokeh-gl-1.4.0.min.js\"];\n",
       "  var css_urls = [];\n",
       "  \n",
       "\n",
       "  var inline_js = [\n",
       "    function(Bokeh) {\n",
       "      Bokeh.set_log_level(\"info\");\n",
       "    },\n",
       "    function(Bokeh) {\n",
       "    \n",
       "    \n",
       "    }\n",
       "  ];\n",
       "\n",
       "  function run_inline_js() {\n",
       "    \n",
       "    if (root.Bokeh !== undefined || force === true) {\n",
       "      \n",
       "    for (var i = 0; i < inline_js.length; i++) {\n",
       "      inline_js[i].call(root, root.Bokeh);\n",
       "    }\n",
       "    if (force === true) {\n",
       "        display_loaded();\n",
       "      }} else if (Date.now() < root._bokeh_timeout) {\n",
       "      setTimeout(run_inline_js, 100);\n",
       "    } else if (!root._bokeh_failed_load) {\n",
       "      console.log(\"Bokeh: BokehJS failed to load within specified timeout.\");\n",
       "      root._bokeh_failed_load = true;\n",
       "    } else if (force !== true) {\n",
       "      var cell = $(document.getElementById(\"1001\")).parents('.cell').data().cell;\n",
       "      cell.output_area.append_execute_result(NB_LOAD_WARNING)\n",
       "    }\n",
       "\n",
       "  }\n",
       "\n",
       "  if (root._bokeh_is_loading === 0) {\n",
       "    console.debug(\"Bokeh: BokehJS loaded, going straight to plotting\");\n",
       "    run_inline_js();\n",
       "  } else {\n",
       "    load_libs(css_urls, js_urls, function() {\n",
       "      console.debug(\"Bokeh: BokehJS plotting callback run at\", now());\n",
       "      run_inline_js();\n",
       "    });\n",
       "  }\n",
       "}(window));"
      ],
      "application/vnd.bokehjs_load.v0+json": "\n(function(root) {\n  function now() {\n    return new Date();\n  }\n\n  var force = true;\n\n  if (typeof root._bokeh_onload_callbacks === \"undefined\" || force === true) {\n    root._bokeh_onload_callbacks = [];\n    root._bokeh_is_loading = undefined;\n  }\n\n  \n\n  \n  if (typeof (root._bokeh_timeout) === \"undefined\" || force === true) {\n    root._bokeh_timeout = Date.now() + 5000;\n    root._bokeh_failed_load = false;\n  }\n\n  var NB_LOAD_WARNING = {'data': {'text/html':\n     \"<div style='background-color: #fdd'>\\n\"+\n     \"<p>\\n\"+\n     \"BokehJS does not appear to have successfully loaded. If loading BokehJS from CDN, this \\n\"+\n     \"may be due to a slow or bad network connection. Possible fixes:\\n\"+\n     \"</p>\\n\"+\n     \"<ul>\\n\"+\n     \"<li>re-rerun `output_notebook()` to attempt to load from CDN again, or</li>\\n\"+\n     \"<li>use INLINE resources instead, as so:</li>\\n\"+\n     \"</ul>\\n\"+\n     \"<code>\\n\"+\n     \"from bokeh.resources import INLINE\\n\"+\n     \"output_notebook(resources=INLINE)\\n\"+\n     \"</code>\\n\"+\n     \"</div>\"}};\n\n  function display_loaded() {\n    var el = document.getElementById(\"1001\");\n    if (el != null) {\n      el.textContent = \"BokehJS is loading...\";\n    }\n    if (root.Bokeh !== undefined) {\n      if (el != null) {\n        el.textContent = \"BokehJS \" + root.Bokeh.version + \" successfully loaded.\";\n      }\n    } else if (Date.now() < root._bokeh_timeout) {\n      setTimeout(display_loaded, 100)\n    }\n  }\n\n\n  function run_callbacks() {\n    try {\n      root._bokeh_onload_callbacks.forEach(function(callback) {\n        if (callback != null)\n          callback();\n      });\n    } finally {\n      delete root._bokeh_onload_callbacks\n    }\n    console.debug(\"Bokeh: all callbacks have finished\");\n  }\n\n  function load_libs(css_urls, js_urls, callback) {\n    if (css_urls == null) css_urls = [];\n    if (js_urls == null) js_urls = [];\n\n    root._bokeh_onload_callbacks.push(callback);\n    if (root._bokeh_is_loading > 0) {\n      console.debug(\"Bokeh: BokehJS is being loaded, scheduling callback at\", now());\n      return null;\n    }\n    if (js_urls == null || js_urls.length === 0) {\n      run_callbacks();\n      return null;\n    }\n    console.debug(\"Bokeh: BokehJS not loaded, scheduling load and callback at\", now());\n    root._bokeh_is_loading = css_urls.length + js_urls.length;\n\n    function on_load() {\n      root._bokeh_is_loading--;\n      if (root._bokeh_is_loading === 0) {\n        console.debug(\"Bokeh: all BokehJS libraries/stylesheets loaded\");\n        run_callbacks()\n      }\n    }\n\n    function on_error() {\n      console.error(\"failed to load \" + url);\n    }\n\n    for (var i = 0; i < css_urls.length; i++) {\n      var url = css_urls[i];\n      const element = document.createElement(\"link\");\n      element.onload = on_load;\n      element.onerror = on_error;\n      element.rel = \"stylesheet\";\n      element.type = \"text/css\";\n      element.href = url;\n      console.debug(\"Bokeh: injecting link tag for BokehJS stylesheet: \", url);\n      document.body.appendChild(element);\n    }\n\n    for (var i = 0; i < js_urls.length; i++) {\n      var url = js_urls[i];\n      var element = document.createElement('script');\n      element.onload = on_load;\n      element.onerror = on_error;\n      element.async = false;\n      element.src = url;\n      console.debug(\"Bokeh: injecting script tag for BokehJS library: \", url);\n      document.head.appendChild(element);\n    }\n  };var element = document.getElementById(\"1001\");\n  if (element == null) {\n    console.error(\"Bokeh: ERROR: autoload.js configured with elementid '1001' but no matching script tag was found. \")\n    return false;\n  }\n\n  function inject_raw_css(css) {\n    const element = document.createElement(\"style\");\n    element.appendChild(document.createTextNode(css));\n    document.body.appendChild(element);\n  }\n\n  \n  var js_urls = [\"https://cdn.pydata.org/bokeh/release/bokeh-1.4.0.min.js\", \"https://cdn.pydata.org/bokeh/release/bokeh-widgets-1.4.0.min.js\", \"https://cdn.pydata.org/bokeh/release/bokeh-tables-1.4.0.min.js\", \"https://cdn.pydata.org/bokeh/release/bokeh-gl-1.4.0.min.js\"];\n  var css_urls = [];\n  \n\n  var inline_js = [\n    function(Bokeh) {\n      Bokeh.set_log_level(\"info\");\n    },\n    function(Bokeh) {\n    \n    \n    }\n  ];\n\n  function run_inline_js() {\n    \n    if (root.Bokeh !== undefined || force === true) {\n      \n    for (var i = 0; i < inline_js.length; i++) {\n      inline_js[i].call(root, root.Bokeh);\n    }\n    if (force === true) {\n        display_loaded();\n      }} else if (Date.now() < root._bokeh_timeout) {\n      setTimeout(run_inline_js, 100);\n    } else if (!root._bokeh_failed_load) {\n      console.log(\"Bokeh: BokehJS failed to load within specified timeout.\");\n      root._bokeh_failed_load = true;\n    } else if (force !== true) {\n      var cell = $(document.getElementById(\"1001\")).parents('.cell').data().cell;\n      cell.output_area.append_execute_result(NB_LOAD_WARNING)\n    }\n\n  }\n\n  if (root._bokeh_is_loading === 0) {\n    console.debug(\"Bokeh: BokehJS loaded, going straight to plotting\");\n    run_inline_js();\n  } else {\n    load_libs(css_urls, js_urls, function() {\n      console.debug(\"Bokeh: BokehJS plotting callback run at\", now());\n      run_inline_js();\n    });\n  }\n}(window));"
     },
     "metadata": {},
     "output_type": "display_data"
    },
    {
     "name": "stdout",
     "output_type": "stream",
     "text": [
      "Available output Bokeh figure in notebook\n"
     ]
    }
   ],
   "source": [
    "# import numpy for data generation\n",
    "import numpy as np\n",
    "\n",
    "# import visualizing functions\n",
    "from bokeh.plotting import show\n",
    "from visualize import scatter, mscatter"
   ]
  },
  {
   "cell_type": "markdown",
   "metadata": {},
   "source": [
    "1000 개의 인공데이터를 만듭니다. x = [-10, 10] 사이에서 y = -x^2 를 따르도록 만들며, random noise 를 추가하였습니다."
   ]
  },
  {
   "cell_type": "code",
   "execution_count": 4,
   "metadata": {},
   "outputs": [],
   "source": [
    "# data generation\n",
    "num_data = 1000 \n",
    "\n",
    "noise = init.normal_(torch.FloatTensor(num_data,1), std=5)\n",
    "x = init.uniform_(torch.Tensor(num_data,1), a=-10, b=10)\n",
    "y = -x** 2\n",
    "y = y + noise"
   ]
  },
  {
   "cell_type": "markdown",
   "metadata": {},
   "source": [
    "x 는 torch.Tensor 입니다. numpy.ndarray.shape 과 같은 함수는 torch.Tensor.size() 입니다.\n",
    "\n",
    "1 차원 데이터 1000 개가 만들어 졌습니다."
   ]
  },
  {
   "cell_type": "code",
   "execution_count": 5,
   "metadata": {},
   "outputs": [
    {
     "name": "stdout",
     "output_type": "stream",
     "text": [
      "<class 'torch.Tensor'>\n",
      "torch.Size([1000, 1])\n"
     ]
    }
   ],
   "source": [
    "print(type(x))\n",
    "print(x.size())"
   ]
  },
  {
   "cell_type": "markdown",
   "metadata": {},
   "source": [
    "Bokeh 를 이용하여 데이터의 scatter plot 을 그리려면 데이터가 numpy.ndarray 형식이어야 합니다.\n",
    "\n",
    "Pytorch 의 Tensor 는 numpy 와 호환이 잘됩니다. .numpy() 함수를 이용하면 numpy.ndarray 가 됩니다.\n",
    "\n",
    "x, y 모두 numpy() 를 이용하여 numpy.ndarray 로 만든 뒤, reshape(-1) 을 하여 column vector 로 만들어 줍니다."
   ]
  },
  {
   "cell_type": "code",
   "execution_count": 6,
   "metadata": {},
   "outputs": [
    {
     "data": {
      "text/html": [
       "\n",
       "\n",
       "\n",
       "\n",
       "\n",
       "\n",
       "  <div class=\"bk-root\" id=\"4eb60f7b-ef96-4544-9ff1-f2c91849fbc1\" data-root-id=\"1002\"></div>\n"
      ]
     },
     "metadata": {},
     "output_type": "display_data"
    },
    {
     "data": {
      "application/javascript": [
       "(function(root) {\n",
       "  function embed_document(root) {\n",
       "    \n",
       "  var docs_json = {\"cc679ed9-51c5-4ac6-86bc-20fb91e8054c\":{\"roots\":{\"references\":[{\"attributes\":{\"below\":[{\"id\":\"1013\",\"type\":\"LinearAxis\"}],\"center\":[{\"id\":\"1017\",\"type\":\"Grid\"},{\"id\":\"1022\",\"type\":\"Grid\"}],\"height\":400,\"left\":[{\"id\":\"1018\",\"type\":\"LinearAxis\"}],\"renderers\":[{\"id\":\"1039\",\"type\":\"GlyphRenderer\"}],\"title\":{\"id\":\"1003\",\"type\":\"Title\"},\"toolbar\":{\"id\":\"1029\",\"type\":\"Toolbar\"},\"width\":400,\"x_range\":{\"id\":\"1005\",\"type\":\"DataRange1d\"},\"x_scale\":{\"id\":\"1009\",\"type\":\"LinearScale\"},\"y_range\":{\"id\":\"1007\",\"type\":\"DataRange1d\"},\"y_scale\":{\"id\":\"1011\",\"type\":\"LinearScale\"}},\"id\":\"1002\",\"subtype\":\"Figure\",\"type\":\"Plot\"},{\"attributes\":{\"ticker\":{\"id\":\"1014\",\"type\":\"BasicTicker\"}},\"id\":\"1017\",\"type\":\"Grid\"},{\"attributes\":{},\"id\":\"1044\",\"type\":\"BasicTickFormatter\"},{\"attributes\":{\"bottom_units\":\"screen\",\"fill_alpha\":{\"value\":0.5},\"fill_color\":{\"value\":\"lightgrey\"},\"left_units\":\"screen\",\"level\":\"overlay\",\"line_alpha\":{\"value\":1.0},\"line_color\":{\"value\":\"black\"},\"line_dash\":[4,4],\"line_width\":{\"value\":2},\"render_mode\":\"css\",\"right_units\":\"screen\",\"top_units\":\"screen\"},\"id\":\"1046\",\"type\":\"BoxAnnotation\"},{\"attributes\":{},\"id\":\"1019\",\"type\":\"BasicTicker\"},{\"attributes\":{},\"id\":\"1048\",\"type\":\"UnionRenderers\"},{\"attributes\":{\"dimension\":1,\"ticker\":{\"id\":\"1019\",\"type\":\"BasicTicker\"}},\"id\":\"1022\",\"type\":\"Grid\"},{\"attributes\":{\"text\":\"\"},\"id\":\"1003\",\"type\":\"Title\"},{\"attributes\":{\"fill_alpha\":{\"value\":0.1},\"fill_color\":{\"value\":\"#1f77b4\"},\"line_alpha\":{\"value\":0.1},\"line_color\":{\"value\":\"#1f77b4\"},\"size\":{\"units\":\"screen\",\"value\":5},\"x\":{\"field\":\"x\"},\"y\":{\"field\":\"y\"}},\"id\":\"1038\",\"type\":\"Scatter\"},{\"attributes\":{\"callback\":null,\"data\":{\"x\":{\"__ndarray__\":\"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\",\"dtype\":\"float32\",\"shape\":[1000]},\"y\":{\"__ndarray__\":\"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\",\"dtype\":\"float32\",\"shape\":[1000]}},\"selected\":{\"id\":\"1047\",\"type\":\"Selection\"},\"selection_policy\":{\"id\":\"1048\",\"type\":\"UnionRenderers\"}},\"id\":\"1036\",\"type\":\"ColumnDataSource\"},{\"attributes\":{},\"id\":\"1023\",\"type\":\"PanTool\"},{\"attributes\":{\"fill_alpha\":{\"value\":0.5},\"fill_color\":{\"value\":\"orange\"},\"line_alpha\":{\"value\":0.5},\"line_color\":{\"value\":\"#1f77b4\"},\"size\":{\"units\":\"screen\",\"value\":5},\"x\":{\"field\":\"x\"},\"y\":{\"field\":\"y\"}},\"id\":\"1037\",\"type\":\"Scatter\"},{\"attributes\":{},\"id\":\"1024\",\"type\":\"WheelZoomTool\"},{\"attributes\":{\"overlay\":{\"id\":\"1046\",\"type\":\"BoxAnnotation\"}},\"id\":\"1025\",\"type\":\"BoxZoomTool\"},{\"attributes\":{},\"id\":\"1026\",\"type\":\"SaveTool\"},{\"attributes\":{},\"id\":\"1027\",\"type\":\"ResetTool\"},{\"attributes\":{},\"id\":\"1011\",\"type\":\"LinearScale\"},{\"attributes\":{},\"id\":\"1028\",\"type\":\"HelpTool\"},{\"attributes\":{},\"id\":\"1047\",\"type\":\"Selection\"},{\"attributes\":{\"callback\":null},\"id\":\"1007\",\"type\":\"DataRange1d\"},{\"attributes\":{\"active_drag\":\"auto\",\"active_inspect\":\"auto\",\"active_multi\":null,\"active_scroll\":\"auto\",\"active_tap\":\"auto\",\"tools\":[{\"id\":\"1023\",\"type\":\"PanTool\"},{\"id\":\"1024\",\"type\":\"WheelZoomTool\"},{\"id\":\"1025\",\"type\":\"BoxZoomTool\"},{\"id\":\"1026\",\"type\":\"SaveTool\"},{\"id\":\"1027\",\"type\":\"ResetTool\"},{\"id\":\"1028\",\"type\":\"HelpTool\"}]},\"id\":\"1029\",\"type\":\"Toolbar\"},{\"attributes\":{},\"id\":\"1009\",\"type\":\"LinearScale\"},{\"attributes\":{\"data_source\":{\"id\":\"1036\",\"type\":\"ColumnDataSource\"},\"glyph\":{\"id\":\"1037\",\"type\":\"Scatter\"},\"hover_glyph\":null,\"muted_glyph\":null,\"nonselection_glyph\":{\"id\":\"1038\",\"type\":\"Scatter\"},\"selection_glyph\":null,\"view\":{\"id\":\"1040\",\"type\":\"CDSView\"}},\"id\":\"1039\",\"type\":\"GlyphRenderer\"},{\"attributes\":{\"callback\":null},\"id\":\"1005\",\"type\":\"DataRange1d\"},{\"attributes\":{\"formatter\":{\"id\":\"1042\",\"type\":\"BasicTickFormatter\"},\"ticker\":{\"id\":\"1014\",\"type\":\"BasicTicker\"}},\"id\":\"1013\",\"type\":\"LinearAxis\"},{\"attributes\":{\"source\":{\"id\":\"1036\",\"type\":\"ColumnDataSource\"}},\"id\":\"1040\",\"type\":\"CDSView\"},{\"attributes\":{},\"id\":\"1014\",\"type\":\"BasicTicker\"},{\"attributes\":{},\"id\":\"1042\",\"type\":\"BasicTickFormatter\"},{\"attributes\":{\"formatter\":{\"id\":\"1044\",\"type\":\"BasicTickFormatter\"},\"ticker\":{\"id\":\"1019\",\"type\":\"BasicTicker\"}},\"id\":\"1018\",\"type\":\"LinearAxis\"}],\"root_ids\":[\"1002\"]},\"title\":\"Bokeh Application\",\"version\":\"1.4.0\"}};\n",
       "  var render_items = [{\"docid\":\"cc679ed9-51c5-4ac6-86bc-20fb91e8054c\",\"roots\":{\"1002\":\"4eb60f7b-ef96-4544-9ff1-f2c91849fbc1\"}}];\n",
       "  root.Bokeh.embed.embed_items_notebook(docs_json, render_items);\n",
       "\n",
       "  }\n",
       "  if (root.Bokeh !== undefined) {\n",
       "    embed_document(root);\n",
       "  } else {\n",
       "    var attempts = 0;\n",
       "    var timer = setInterval(function(root) {\n",
       "      if (root.Bokeh !== undefined) {\n",
       "        clearInterval(timer);\n",
       "        embed_document(root);\n",
       "      } else {\n",
       "        attempts++;\n",
       "        if (attempts > 100) {\n",
       "          clearInterval(timer);\n",
       "          console.log(\"Bokeh: ERROR: Unable to run BokehJS code because BokehJS library is missing\");\n",
       "        }\n",
       "      }\n",
       "    }, 10, root)\n",
       "  }\n",
       "})(window);"
      ],
      "application/vnd.bokehjs_exec.v0+json": ""
     },
     "metadata": {
      "application/vnd.bokehjs_exec.v0+json": {
       "id": "1002"
      }
     },
     "output_type": "display_data"
    }
   ],
   "source": [
    "p = scatter(x.numpy().reshape(-1), y.numpy().reshape(-1))\n",
    "show(p)"
   ]
  },
  {
   "cell_type": "markdown",
   "metadata": {},
   "source": [
    "## Linear regression\n",
    "\n",
    "우리는 앞서 네 가지 요소 중 한가지인 데이터의 타입과 numpy 와의 호환에 대하여 살펴보았습니다. \n",
    "\n",
    "  - (v) data\n",
    "  - ( ) model\n",
    "  - ( ) loss function\n",
    "  - ( ) optimizer\n",
    "\n",
    "이제 나머지 요소들에 대하여 알아봅니다.\n",
    "\n",
    "### model\n",
    "\n",
    "y = a * x 식을 만들어 봅니다. 물론 위 데이터의 형태는 이차함수이기 때문에 일차함수인 y = a * x 가 학습될리 없습니다. 일단 만들어 봅시다.\n",
    "\n",
    "torch.nn 에는 다양한 neural network 의 layer 들이 구현되어 있습니다. 이를 가져와 이용합니다. a 라는 parameter 가 저장되어 있는 linear layer 를 만듭니다. nn.Linear(a, b) 는 a 차원의 데이터가 b 차원으로 변환되는 (a, b) 크기의 행렬이라는 의미입니다.\n",
    "\n",
    "### loss function\n",
    "\n",
    "nn.MSELoss 는 Mean Squared Error loss 입니다. 실제 y 값과 예측된 y' 값의 $\\sqrt{(y - y')}$ 입니다.\n",
    "\n",
    "### optimizer\n",
    "\n",
    "우리는 stochastic gradient descent optimizer 를 이용합니다. optimizer 를 만들 때에는 (1) 학습할 패러매터들과 (2) learning rate 를 설정해줘야 합니다.\n",
    "\n",
    "    (1) model.parameters()\n",
    "    (2) lr = YOUR VALUE"
   ]
  },
  {
   "cell_type": "code",
   "execution_count": 7,
   "metadata": {},
   "outputs": [],
   "source": [
    "# model construction\n",
    "model = nn.Linear(1,1)\n",
    "\n",
    "# loss function & optimizer\n",
    "# Mean Squared Error loss\n",
    "loss_func = nn.MSELoss()\n",
    "\n",
    "# Stochastic Gradient Descent optimizer\n",
    "optimizer = optim.SGD(model.parameters(),lr=0.01)"
   ]
  },
  {
   "cell_type": "markdown",
   "metadata": {},
   "source": [
    "## Train function\n",
    "\n",
    "모든 요소들이 갖춰졌습니다. 한 번에 모든 데이터를 이용하여 모델을 업데이트 할 수도 있고, 부분씩 나눠서 모델을 업데이트 할 수도 있습니다. \n",
    "\n",
    "Mini batch 로 데이터를 나눠 학습하고 싶을 때 이를 직접 나눠서 구현할 수도 있으며, torch.data.DataLoader 를 이용할 수도 있습니다. 우리는 batch 로 학습하는 train 함수를 만듭니다.\n",
    "\n",
    "아래의 과정이 standard 라고 생각하셔도 됩니다."
   ]
  },
  {
   "cell_type": "code",
   "execution_count": 8,
   "metadata": {},
   "outputs": [],
   "source": [
    "# define train function\n",
    "\n",
    "def train(x, y, model, loss_func, optimizer, num_epoch):\n",
    "    # output as Variable\n",
    "    label = y    \n",
    "    # for given epochs\n",
    "    for i in range(1, num_epoch + 1):\n",
    "        # prediction\n",
    "        output = model(x)\n",
    "        # clears the gradients of all optimized\n",
    "        optimizer.zero_grad()\n",
    "        # compute loss\n",
    "        loss = loss_func(output, label)\n",
    "        # back-propagation\n",
    "        loss.backward()\n",
    "        # update model parameter\n",
    "        optimizer.step()\n",
    "\n",
    "        if i % 100 == 0:\n",
    "            print('\\riter = {}, loss = {}'.format(i, loss.data.numpy()), end='')\n",
    "        if i % 1000 == 0:\n",
    "            print()\n",
    "\n",
    "    return model, output"
   ]
  },
  {
   "cell_type": "markdown",
   "metadata": {},
   "source": [
    "학습 함수를 만들었으니, 네 가지 요소를 모두 입력하여 함수를 학습합니다. 우리는 총 1000 번 반복하여 모델의 패러메터, a 를 학습합니다."
   ]
  },
  {
   "cell_type": "code",
   "execution_count": 9,
   "metadata": {},
   "outputs": [
    {
     "name": "stdout",
     "output_type": "stream",
     "text": [
      "iter = 1000, loss = 895.2145385742188\n"
     ]
    }
   ],
   "source": [
    "model, output = train(x, y, model, loss_func, optimizer, num_epoch=1000)"
   ]
  },
  {
   "cell_type": "markdown",
   "metadata": {},
   "source": [
    "return 되는 output 은 모델에 의하여 prediction 이 이뤄진 y 값입니다. output 의 type 은 Tensor 입니다."
   ]
  },
  {
   "cell_type": "code",
   "execution_count": 10,
   "metadata": {},
   "outputs": [
    {
     "data": {
      "text/plain": [
       "torch.Tensor"
      ]
     },
     "execution_count": 10,
     "metadata": {},
     "output_type": "execute_result"
    }
   ],
   "source": [
    "type(output)"
   ]
  },
  {
   "cell_type": "markdown",
   "metadata": {},
   "source": [
    "그 안에는 data 가 있습니다. 그 역시 type 은 Tensor 이며, size() 를 확인해보면, 1 차원의 1000 개의 points 입니다."
   ]
  },
  {
   "cell_type": "code",
   "execution_count": 11,
   "metadata": {},
   "outputs": [
    {
     "name": "stdout",
     "output_type": "stream",
     "text": [
      "<class 'torch.Tensor'>\n",
      "torch.Size([1000, 1])\n"
     ]
    }
   ],
   "source": [
    "print(type(output.data))\n",
    "print(output.data.size())"
   ]
  },
  {
   "cell_type": "markdown",
   "metadata": {},
   "source": [
    "이를 numpy 로 변환하여 다시 한 번 시각화를 합니다."
   ]
  },
  {
   "cell_type": "code",
   "execution_count": 12,
   "metadata": {},
   "outputs": [
    {
     "data": {
      "text/plain": [
       "numpy.ndarray"
      ]
     },
     "execution_count": 12,
     "metadata": {},
     "output_type": "execute_result"
    }
   ],
   "source": [
    "# convert torch.Tensor to numpy.ndarray\n",
    "output_numpy = output.data.numpy()\n",
    "type(output_numpy)"
   ]
  },
  {
   "cell_type": "markdown",
   "metadata": {},
   "source": [
    "output_numpy 는 numpy.ndarray 이기 때문에 shape 을 이용할 수 있습니다."
   ]
  },
  {
   "cell_type": "code",
   "execution_count": 13,
   "metadata": {},
   "outputs": [
    {
     "data": {
      "text/plain": [
       "(1000, 1)"
      ]
     },
     "execution_count": 13,
     "metadata": {},
     "output_type": "execute_result"
    }
   ],
   "source": [
    "output_numpy.shape"
   ]
  },
  {
   "cell_type": "markdown",
   "metadata": {},
   "source": [
    "데이터의 분포에 맞지 않는 모델을 학습하였기 때문에 prediction 값이 엉망입니다."
   ]
  },
  {
   "cell_type": "code",
   "execution_count": 14,
   "metadata": {},
   "outputs": [
    {
     "data": {
      "text/html": [
       "\n",
       "\n",
       "\n",
       "\n",
       "\n",
       "\n",
       "  <div class=\"bk-root\" id=\"83bfb23a-f83d-49bc-9f5a-014aab8d3986\" data-root-id=\"1097\"></div>\n"
      ]
     },
     "metadata": {},
     "output_type": "display_data"
    },
    {
     "data": {
      "application/javascript": [
       "(function(root) {\n",
       "  function embed_document(root) {\n",
       "    \n",
       "  var docs_json = {\"466af2a0-c1f6-4697-8c97-e19da5be6389\":{\"roots\":{\"references\":[{\"attributes\":{\"below\":[{\"id\":\"1108\",\"type\":\"LinearAxis\"}],\"center\":[{\"id\":\"1112\",\"type\":\"Grid\"},{\"id\":\"1117\",\"type\":\"Grid\"}],\"height\":400,\"left\":[{\"id\":\"1113\",\"type\":\"LinearAxis\"}],\"renderers\":[{\"id\":\"1134\",\"type\":\"GlyphRenderer\"},{\"id\":\"1139\",\"type\":\"GlyphRenderer\"}],\"title\":{\"id\":\"1098\",\"type\":\"Title\"},\"toolbar\":{\"id\":\"1124\",\"type\":\"Toolbar\"},\"width\":400,\"x_range\":{\"id\":\"1100\",\"type\":\"DataRange1d\"},\"x_scale\":{\"id\":\"1104\",\"type\":\"LinearScale\"},\"y_range\":{\"id\":\"1102\",\"type\":\"DataRange1d\"},\"y_scale\":{\"id\":\"1106\",\"type\":\"LinearScale\"}},\"id\":\"1097\",\"subtype\":\"Figure\",\"type\":\"Plot\"},{\"attributes\":{\"active_drag\":\"auto\",\"active_inspect\":\"auto\",\"active_multi\":null,\"active_scroll\":\"auto\",\"active_tap\":\"auto\",\"tools\":[{\"id\":\"1118\",\"type\":\"PanTool\"},{\"id\":\"1119\",\"type\":\"WheelZoomTool\"},{\"id\":\"1120\",\"type\":\"BoxZoomTool\"},{\"id\":\"1121\",\"type\":\"SaveTool\"},{\"id\":\"1122\",\"type\":\"ResetTool\"},{\"id\":\"1123\",\"type\":\"HelpTool\"}]},\"id\":\"1124\",\"type\":\"Toolbar\"},{\"attributes\":{},\"id\":\"1150\",\"type\":\"BasicTickFormatter\"},{\"attributes\":{\"data_source\":{\"id\":\"1136\",\"type\":\"ColumnDataSource\"},\"glyph\":{\"id\":\"1137\",\"type\":\"Scatter\"},\"hover_glyph\":null,\"muted_glyph\":null,\"nonselection_glyph\":{\"id\":\"1138\",\"type\":\"Scatter\"},\"selection_glyph\":null,\"view\":{\"id\":\"1140\",\"type\":\"CDSView\"}},\"id\":\"1139\",\"type\":\"GlyphRenderer\"},{\"attributes\":{\"formatter\":{\"id\":\"1150\",\"type\":\"BasicTickFormatter\"},\"ticker\":{\"id\":\"1109\",\"type\":\"BasicTicker\"}},\"id\":\"1108\",\"type\":\"LinearAxis\"},{\"attributes\":{\"data_source\":{\"id\":\"1131\",\"type\":\"ColumnDataSource\"},\"glyph\":{\"id\":\"1132\",\"type\":\"Scatter\"},\"hover_glyph\":null,\"muted_glyph\":null,\"nonselection_glyph\":{\"id\":\"1133\",\"type\":\"Scatter\"},\"selection_glyph\":null,\"view\":{\"id\":\"1135\",\"type\":\"CDSView\"}},\"id\":\"1134\",\"type\":\"GlyphRenderer\"},{\"attributes\":{\"callback\":null,\"data\":{\"x\":{\"__ndarray__\":\"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\",\"dtype\":\"float32\",\"shape\":[1000]},\"y\":{\"__ndarray__\":\"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\",\"dtype\":\"float32\",\"shape\":[1000]}},\"selected\":{\"id\":\"1155\",\"type\":\"Selection\"},\"selection_policy\":{\"id\":\"1156\",\"type\":\"UnionRenderers\"}},\"id\":\"1131\",\"type\":\"ColumnDataSource\"},{\"attributes\":{},\"id\":\"1109\",\"type\":\"BasicTicker\"},{\"attributes\":{\"fill_alpha\":{\"value\":0.5},\"fill_color\":{\"value\":\"red\"},\"line_alpha\":{\"value\":0.5},\"line_color\":{\"value\":\"#1f77b4\"},\"size\":{\"units\":\"screen\",\"value\":5},\"x\":{\"field\":\"x\"},\"y\":{\"field\":\"y\"}},\"id\":\"1137\",\"type\":\"Scatter\"},{\"attributes\":{\"text\":\"\"},\"id\":\"1098\",\"type\":\"Title\"},{\"attributes\":{},\"id\":\"1114\",\"type\":\"BasicTicker\"},{\"attributes\":{\"fill_alpha\":{\"value\":0.1},\"fill_color\":{\"value\":\"#1f77b4\"},\"line_alpha\":{\"value\":0.1},\"line_color\":{\"value\":\"#1f77b4\"},\"size\":{\"units\":\"screen\",\"value\":5},\"x\":{\"field\":\"x\"},\"y\":{\"field\":\"y\"}},\"id\":\"1138\",\"type\":\"Scatter\"},{\"attributes\":{\"fill_alpha\":{\"value\":0.5},\"fill_color\":{\"value\":\"orange\"},\"line_alpha\":{\"value\":0.5},\"line_color\":{\"value\":\"#1f77b4\"},\"size\":{\"units\":\"screen\",\"value\":5},\"x\":{\"field\":\"x\"},\"y\":{\"field\":\"y\"}},\"id\":\"1132\",\"type\":\"Scatter\"},{\"attributes\":{\"source\":{\"id\":\"1136\",\"type\":\"ColumnDataSource\"}},\"id\":\"1140\",\"type\":\"CDSView\"},{\"attributes\":{\"fill_alpha\":{\"value\":0.1},\"fill_color\":{\"value\":\"#1f77b4\"},\"line_alpha\":{\"value\":0.1},\"line_color\":{\"value\":\"#1f77b4\"},\"size\":{\"units\":\"screen\",\"value\":5},\"x\":{\"field\":\"x\"},\"y\":{\"field\":\"y\"}},\"id\":\"1133\",\"type\":\"Scatter\"},{\"attributes\":{},\"id\":\"1104\",\"type\":\"LinearScale\"},{\"attributes\":{\"bottom_units\":\"screen\",\"fill_alpha\":{\"value\":0.5},\"fill_color\":{\"value\":\"lightgrey\"},\"left_units\":\"screen\",\"level\":\"overlay\",\"line_alpha\":{\"value\":1.0},\"line_color\":{\"value\":\"black\"},\"line_dash\":[4,4],\"line_width\":{\"value\":2},\"render_mode\":\"css\",\"right_units\":\"screen\",\"top_units\":\"screen\"},\"id\":\"1154\",\"type\":\"BoxAnnotation\"},{\"attributes\":{\"callback\":null,\"data\":{\"x\":{\"__ndarray__\":\"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\",\"dtype\":\"float32\",\"shape\":[1000]},\"y\":{\"__ndarray__\":\"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\",\"dtype\":\"float32\",\"shape\":[1000]}},\"selected\":{\"id\":\"1157\",\"type\":\"Selection\"},\"selection_policy\":{\"id\":\"1158\",\"type\":\"UnionRenderers\"}},\"id\":\"1136\",\"type\":\"ColumnDataSource\"},{\"attributes\":{\"formatter\":{\"id\":\"1152\",\"type\":\"BasicTickFormatter\"},\"ticker\":{\"id\":\"1114\",\"type\":\"BasicTicker\"}},\"id\":\"1113\",\"type\":\"LinearAxis\"},{\"attributes\":{\"callback\":null},\"id\":\"1102\",\"type\":\"DataRange1d\"},{\"attributes\":{},\"id\":\"1152\",\"type\":\"BasicTickFormatter\"},{\"attributes\":{\"dimension\":1,\"ticker\":{\"id\":\"1114\",\"type\":\"BasicTicker\"}},\"id\":\"1117\",\"type\":\"Grid\"},{\"attributes\":{\"callback\":null},\"id\":\"1100\",\"type\":\"DataRange1d\"},{\"attributes\":{},\"id\":\"1156\",\"type\":\"UnionRenderers\"},{\"attributes\":{},\"id\":\"1106\",\"type\":\"LinearScale\"},{\"attributes\":{\"source\":{\"id\":\"1131\",\"type\":\"ColumnDataSource\"}},\"id\":\"1135\",\"type\":\"CDSView\"},{\"attributes\":{},\"id\":\"1157\",\"type\":\"Selection\"},{\"attributes\":{\"ticker\":{\"id\":\"1109\",\"type\":\"BasicTicker\"}},\"id\":\"1112\",\"type\":\"Grid\"},{\"attributes\":{},\"id\":\"1122\",\"type\":\"ResetTool\"},{\"attributes\":{},\"id\":\"1158\",\"type\":\"UnionRenderers\"},{\"attributes\":{},\"id\":\"1118\",\"type\":\"PanTool\"},{\"attributes\":{},\"id\":\"1119\",\"type\":\"WheelZoomTool\"},{\"attributes\":{\"overlay\":{\"id\":\"1154\",\"type\":\"BoxAnnotation\"}},\"id\":\"1120\",\"type\":\"BoxZoomTool\"},{\"attributes\":{},\"id\":\"1121\",\"type\":\"SaveTool\"},{\"attributes\":{},\"id\":\"1155\",\"type\":\"Selection\"},{\"attributes\":{},\"id\":\"1123\",\"type\":\"HelpTool\"}],\"root_ids\":[\"1097\"]},\"title\":\"Bokeh Application\",\"version\":\"1.4.0\"}};\n",
       "  var render_items = [{\"docid\":\"466af2a0-c1f6-4697-8c97-e19da5be6389\",\"roots\":{\"1097\":\"83bfb23a-f83d-49bc-9f5a-014aab8d3986\"}}];\n",
       "  root.Bokeh.embed.embed_items_notebook(docs_json, render_items);\n",
       "\n",
       "  }\n",
       "  if (root.Bokeh !== undefined) {\n",
       "    embed_document(root);\n",
       "  } else {\n",
       "    var attempts = 0;\n",
       "    var timer = setInterval(function(root) {\n",
       "      if (root.Bokeh !== undefined) {\n",
       "        clearInterval(timer);\n",
       "        embed_document(root);\n",
       "      } else {\n",
       "        attempts++;\n",
       "        if (attempts > 100) {\n",
       "          clearInterval(timer);\n",
       "          console.log(\"Bokeh: ERROR: Unable to run BokehJS code because BokehJS library is missing\");\n",
       "        }\n",
       "      }\n",
       "    }, 10, root)\n",
       "  }\n",
       "})(window);"
      ],
      "application/vnd.bokehjs_exec.v0+json": ""
     },
     "metadata": {
      "application/vnd.bokehjs_exec.v0+json": {
       "id": "1097"
      }
     },
     "output_type": "display_data"
    }
   ],
   "source": [
    "y_pred = output.data\n",
    "\n",
    "p = scatter(\n",
    "    x.numpy().reshape(-1),\n",
    "    y_pred.numpy().reshape(-1)\n",
    ")\n",
    "\n",
    "mscatter(\n",
    "    p,\n",
    "    x.numpy().reshape(-1),\n",
    "    y.numpy().reshape(-1),\n",
    "    fill_color='red'\n",
    ")\n",
    "\n",
    "show(p)"
   ]
  },
  {
   "cell_type": "markdown",
   "metadata": {},
   "source": [
    "## Non-linear regression. Feed-forward neural network\n",
    "\n",
    "이번에는 두 개의 hidden layer 를 쌓아서 이차함수의 분포를 학습해 봅니다.\n",
    "\n",
    "여러 개의 layer 를 쌓을 때에는 nn.Sequential 을 이용하면 좋습니다. 순차적으로 모든 layer 가 적용된다는 의미입니다.\n",
    "\n",
    "처음에 1 차원의 데이터를 20 차원으로 보내고, 20 차원의 데이터를 다시 5 차원으로 보낸 뒤, 이를 이용하여 y 를 prediction 하는 1 - 20 - 5 - 1 구조의 feed forward neural network 를 만듭니다. Activation function 으로 ReLU 를 이용합니다."
   ]
  },
  {
   "cell_type": "code",
   "execution_count": 15,
   "metadata": {},
   "outputs": [],
   "source": [
    "# model construction\n",
    "model = nn.Sequential(    \n",
    "    # 1st hidden layer\n",
    "    nn.Linear(1,20),    \n",
    "    # 1st activation function\n",
    "    nn.ReLU(),    \n",
    "    # 2nd hidden layer\n",
    "    nn.Linear(20,5),    \n",
    "    # 2st activation function\n",
    "    nn.ReLU(),    \n",
    "    # last hidden layer\n",
    "    # output is 1-dim for prediction\n",
    "    nn.Linear(5,1),\n",
    ")"
   ]
  },
  {
   "cell_type": "markdown",
   "metadata": {},
   "source": [
    "optimizer 는 반드시 다시 만들어줘야 합니다. 각 optimizer 를 만들 때 우리는 학습할 패러매터 model.parameters() 를 argument 로 받았습니다. 새롭게 모델을 만들면, 그 모델의 parameters() 를 optimizer 에 연결해야 합니다."
   ]
  },
  {
   "cell_type": "code",
   "execution_count": 16,
   "metadata": {},
   "outputs": [],
   "source": [
    "# loss function & optimizer\n",
    "# L1 loss\n",
    "loss_func = nn.L1Loss()\n",
    "\n",
    "# Adam optimizer\n",
    "optimizer = optim.Adam(model.parameters(),lr=0.001)"
   ]
  },
  {
   "cell_type": "markdown",
   "metadata": {},
   "source": [
    "이번에는 10K 번 학습을 합니다. 1000 번의 epoch 단위로 loss 값을 출력하도록 하였습니다. 조금씩 정확히 y 를 맞춰갑니다."
   ]
  },
  {
   "cell_type": "code",
   "execution_count": 17,
   "metadata": {},
   "outputs": [
    {
     "name": "stdout",
     "output_type": "stream",
     "text": [
      "iter = 1000, loss = 8.576041221618652\n",
      "iter = 2000, loss = 5.0791878700256355\n",
      "iter = 3000, loss = 4.0621819496154785\n",
      "iter = 4000, loss = 4.0103254318237305\n",
      "iter = 5000, loss = 4.0016064643859865\n",
      "iter = 6000, loss = 3.9972131252288827\n",
      "iter = 7000, loss = 3.9964287281036377\n",
      "iter = 8000, loss = 3.9960515499114994\n",
      "iter = 9000, loss = 3.9958090782165527\n",
      "iter = 10000, loss = 3.995683431625366\n"
     ]
    }
   ],
   "source": [
    "model, output = train(x, y, model, loss_func, optimizer, num_epoch=10000)"
   ]
  },
  {
   "cell_type": "markdown",
   "metadata": {},
   "source": [
    "앞선 코드를 그대로 다시 이용하여 prediction 결과를 살펴봅니다. 이번에는 2 차 함수의 곡선을 거의 맞춰냈습니다."
   ]
  },
  {
   "cell_type": "code",
   "execution_count": 18,
   "metadata": {},
   "outputs": [
    {
     "data": {
      "text/html": [
       "\n",
       "\n",
       "\n",
       "\n",
       "\n",
       "\n",
       "  <div class=\"bk-root\" id=\"39627bf5-16ef-4f7f-98e7-01a94c8b6daf\" data-root-id=\"1219\"></div>\n"
      ]
     },
     "metadata": {},
     "output_type": "display_data"
    },
    {
     "data": {
      "application/javascript": [
       "(function(root) {\n",
       "  function embed_document(root) {\n",
       "    \n",
       "  var docs_json = {\"1a1c2bb4-dded-4d04-a6d8-0eef14b51192\":{\"roots\":{\"references\":[{\"attributes\":{\"below\":[{\"id\":\"1230\",\"type\":\"LinearAxis\"}],\"center\":[{\"id\":\"1234\",\"type\":\"Grid\"},{\"id\":\"1239\",\"type\":\"Grid\"}],\"height\":400,\"left\":[{\"id\":\"1235\",\"type\":\"LinearAxis\"}],\"renderers\":[{\"id\":\"1256\",\"type\":\"GlyphRenderer\"},{\"id\":\"1261\",\"type\":\"GlyphRenderer\"}],\"title\":{\"id\":\"1220\",\"type\":\"Title\"},\"toolbar\":{\"id\":\"1246\",\"type\":\"Toolbar\"},\"width\":400,\"x_range\":{\"id\":\"1222\",\"type\":\"DataRange1d\"},\"x_scale\":{\"id\":\"1226\",\"type\":\"LinearScale\"},\"y_range\":{\"id\":\"1224\",\"type\":\"DataRange1d\"},\"y_scale\":{\"id\":\"1228\",\"type\":\"LinearScale\"}},\"id\":\"1219\",\"subtype\":\"Figure\",\"type\":\"Plot\"},{\"attributes\":{\"dimension\":1,\"ticker\":{\"id\":\"1236\",\"type\":\"BasicTicker\"}},\"id\":\"1239\",\"type\":\"Grid\"},{\"attributes\":{\"source\":{\"id\":\"1258\",\"type\":\"ColumnDataSource\"}},\"id\":\"1262\",\"type\":\"CDSView\"},{\"attributes\":{},\"id\":\"1287\",\"type\":\"Selection\"},{\"attributes\":{\"callback\":null,\"data\":{\"x\":{\"__ndarray__\":\"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\",\"dtype\":\"float32\",\"shape\":[1000]},\"y\":{\"__ndarray__\":\"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\",\"dtype\":\"float32\",\"shape\":[1000]}},\"selected\":{\"id\":\"1287\",\"type\":\"Selection\"},\"selection_policy\":{\"id\":\"1288\",\"type\":\"UnionRenderers\"}},\"id\":\"1253\",\"type\":\"ColumnDataSource\"},{\"attributes\":{},\"id\":\"1284\",\"type\":\"BasicTickFormatter\"},{\"attributes\":{},\"id\":\"1240\",\"type\":\"PanTool\"},{\"attributes\":{\"bottom_units\":\"screen\",\"fill_alpha\":{\"value\":0.5},\"fill_color\":{\"value\":\"lightgrey\"},\"left_units\":\"screen\",\"level\":\"overlay\",\"line_alpha\":{\"value\":1.0},\"line_color\":{\"value\":\"black\"},\"line_dash\":[4,4],\"line_width\":{\"value\":2},\"render_mode\":\"css\",\"right_units\":\"screen\",\"top_units\":\"screen\"},\"id\":\"1286\",\"type\":\"BoxAnnotation\"},{\"attributes\":{},\"id\":\"1241\",\"type\":\"WheelZoomTool\"},{\"attributes\":{\"overlay\":{\"id\":\"1286\",\"type\":\"BoxAnnotation\"}},\"id\":\"1242\",\"type\":\"BoxZoomTool\"},{\"attributes\":{},\"id\":\"1288\",\"type\":\"UnionRenderers\"},{\"attributes\":{},\"id\":\"1243\",\"type\":\"SaveTool\"},{\"attributes\":{\"callback\":null,\"data\":{\"x\":{\"__ndarray__\":\"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\",\"dtype\":\"float32\",\"shape\":[1000]},\"y\":{\"__ndarray__\":\"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\",\"dtype\":\"float32\",\"shape\":[1000]}},\"selected\":{\"id\":\"1289\",\"type\":\"Selection\"},\"selection_policy\":{\"id\":\"1290\",\"type\":\"UnionRenderers\"}},\"id\":\"1258\",\"type\":\"ColumnDataSource\"},{\"attributes\":{},\"id\":\"1289\",\"type\":\"Selection\"},{\"attributes\":{},\"id\":\"1245\",\"type\":\"HelpTool\"},{\"attributes\":{\"text\":\"\"},\"id\":\"1220\",\"type\":\"Title\"},{\"attributes\":{},\"id\":\"1290\",\"type\":\"UnionRenderers\"},{\"attributes\":{\"active_drag\":\"auto\",\"active_inspect\":\"auto\",\"active_multi\":null,\"active_scroll\":\"auto\",\"active_tap\":\"auto\",\"tools\":[{\"id\":\"1240\",\"type\":\"PanTool\"},{\"id\":\"1241\",\"type\":\"WheelZoomTool\"},{\"id\":\"1242\",\"type\":\"BoxZoomTool\"},{\"id\":\"1243\",\"type\":\"SaveTool\"},{\"id\":\"1244\",\"type\":\"ResetTool\"},{\"id\":\"1245\",\"type\":\"HelpTool\"}]},\"id\":\"1246\",\"type\":\"Toolbar\"},{\"attributes\":{},\"id\":\"1282\",\"type\":\"BasicTickFormatter\"},{\"attributes\":{\"callback\":null},\"id\":\"1222\",\"type\":\"DataRange1d\"},{\"attributes\":{\"callback\":null},\"id\":\"1224\",\"type\":\"DataRange1d\"},{\"attributes\":{\"fill_alpha\":{\"value\":0.5},\"fill_color\":{\"value\":\"orange\"},\"line_alpha\":{\"value\":0.5},\"line_color\":{\"value\":\"#1f77b4\"},\"size\":{\"units\":\"screen\",\"value\":5},\"x\":{\"field\":\"x\"},\"y\":{\"field\":\"y\"}},\"id\":\"1254\",\"type\":\"Scatter\"},{\"attributes\":{\"fill_alpha\":{\"value\":0.1},\"fill_color\":{\"value\":\"#1f77b4\"},\"line_alpha\":{\"value\":0.1},\"line_color\":{\"value\":\"#1f77b4\"},\"size\":{\"units\":\"screen\",\"value\":5},\"x\":{\"field\":\"x\"},\"y\":{\"field\":\"y\"}},\"id\":\"1255\",\"type\":\"Scatter\"},{\"attributes\":{},\"id\":\"1226\",\"type\":\"LinearScale\"},{\"attributes\":{},\"id\":\"1244\",\"type\":\"ResetTool\"},{\"attributes\":{\"data_source\":{\"id\":\"1253\",\"type\":\"ColumnDataSource\"},\"glyph\":{\"id\":\"1254\",\"type\":\"Scatter\"},\"hover_glyph\":null,\"muted_glyph\":null,\"nonselection_glyph\":{\"id\":\"1255\",\"type\":\"Scatter\"},\"selection_glyph\":null,\"view\":{\"id\":\"1257\",\"type\":\"CDSView\"}},\"id\":\"1256\",\"type\":\"GlyphRenderer\"},{\"attributes\":{},\"id\":\"1228\",\"type\":\"LinearScale\"},{\"attributes\":{\"source\":{\"id\":\"1253\",\"type\":\"ColumnDataSource\"}},\"id\":\"1257\",\"type\":\"CDSView\"},{\"attributes\":{\"formatter\":{\"id\":\"1282\",\"type\":\"BasicTickFormatter\"},\"ticker\":{\"id\":\"1231\",\"type\":\"BasicTicker\"}},\"id\":\"1230\",\"type\":\"LinearAxis\"},{\"attributes\":{},\"id\":\"1231\",\"type\":\"BasicTicker\"},{\"attributes\":{\"fill_alpha\":{\"value\":0.5},\"fill_color\":{\"value\":\"red\"},\"line_alpha\":{\"value\":0.5},\"line_color\":{\"value\":\"#1f77b4\"},\"size\":{\"units\":\"screen\",\"value\":5},\"x\":{\"field\":\"x\"},\"y\":{\"field\":\"y\"}},\"id\":\"1259\",\"type\":\"Scatter\"},{\"attributes\":{\"ticker\":{\"id\":\"1231\",\"type\":\"BasicTicker\"}},\"id\":\"1234\",\"type\":\"Grid\"},{\"attributes\":{\"fill_alpha\":{\"value\":0.1},\"fill_color\":{\"value\":\"#1f77b4\"},\"line_alpha\":{\"value\":0.1},\"line_color\":{\"value\":\"#1f77b4\"},\"size\":{\"units\":\"screen\",\"value\":5},\"x\":{\"field\":\"x\"},\"y\":{\"field\":\"y\"}},\"id\":\"1260\",\"type\":\"Scatter\"},{\"attributes\":{\"formatter\":{\"id\":\"1284\",\"type\":\"BasicTickFormatter\"},\"ticker\":{\"id\":\"1236\",\"type\":\"BasicTicker\"}},\"id\":\"1235\",\"type\":\"LinearAxis\"},{\"attributes\":{\"data_source\":{\"id\":\"1258\",\"type\":\"ColumnDataSource\"},\"glyph\":{\"id\":\"1259\",\"type\":\"Scatter\"},\"hover_glyph\":null,\"muted_glyph\":null,\"nonselection_glyph\":{\"id\":\"1260\",\"type\":\"Scatter\"},\"selection_glyph\":null,\"view\":{\"id\":\"1262\",\"type\":\"CDSView\"}},\"id\":\"1261\",\"type\":\"GlyphRenderer\"},{\"attributes\":{},\"id\":\"1236\",\"type\":\"BasicTicker\"}],\"root_ids\":[\"1219\"]},\"title\":\"Bokeh Application\",\"version\":\"1.4.0\"}};\n",
       "  var render_items = [{\"docid\":\"1a1c2bb4-dded-4d04-a6d8-0eef14b51192\",\"roots\":{\"1219\":\"39627bf5-16ef-4f7f-98e7-01a94c8b6daf\"}}];\n",
       "  root.Bokeh.embed.embed_items_notebook(docs_json, render_items);\n",
       "\n",
       "  }\n",
       "  if (root.Bokeh !== undefined) {\n",
       "    embed_document(root);\n",
       "  } else {\n",
       "    var attempts = 0;\n",
       "    var timer = setInterval(function(root) {\n",
       "      if (root.Bokeh !== undefined) {\n",
       "        clearInterval(timer);\n",
       "        embed_document(root);\n",
       "      } else {\n",
       "        attempts++;\n",
       "        if (attempts > 100) {\n",
       "          clearInterval(timer);\n",
       "          console.log(\"Bokeh: ERROR: Unable to run BokehJS code because BokehJS library is missing\");\n",
       "        }\n",
       "      }\n",
       "    }, 10, root)\n",
       "  }\n",
       "})(window);"
      ],
      "application/vnd.bokehjs_exec.v0+json": ""
     },
     "metadata": {
      "application/vnd.bokehjs_exec.v0+json": {
       "id": "1219"
      }
     },
     "output_type": "display_data"
    }
   ],
   "source": [
    "y_pred = output.data\n",
    "\n",
    "p = scatter(\n",
    "    x.numpy().reshape(-1),\n",
    "    y_pred.numpy().reshape(-1)\n",
    ")\n",
    "\n",
    "mscatter(\n",
    "    p,\n",
    "    x.numpy().reshape(-1),\n",
    "    y.numpy().reshape(-1),\n",
    "    fill_color='red'\n",
    ")\n",
    "\n",
    "show(p)"
   ]
  },
  {
   "cell_type": "markdown",
   "metadata": {},
   "source": [
    "## Using GPU\n",
    "\n",
    "Pytorch 에서 GPU 를 이용하려면 데이터와 모델에 cuda() 함수를 걸어주면 됩니다.\n",
    "\n",
    "그 전에 해당 머신이 GPU 를 이용할 수 있는지 확인해야 합니다. 안전장치로 아래처럼 torch.cuda.is_available() 함수를 이용하여, GPU 를 사용할 것이고, 사용할 수 있을 때에만 조건적으로 cuda() 함수가 작동하도록 몇 줄만 추가하면 앞서 만든 train 함수를 GPU 용으로 만들 수 있습니다."
   ]
  },
  {
   "cell_type": "code",
   "execution_count": 19,
   "metadata": {},
   "outputs": [
    {
     "name": "stdout",
     "output_type": "stream",
     "text": [
      "iter = 1000, loss = 3.995637893676758\n",
      "iter = 2000, loss = 3.9955940246582036\n",
      "iter = 3000, loss = 3.9955008029937744\n",
      "iter = 4000, loss = 3.9956543445587163\n",
      "iter = 5000, loss = 3.9954702854156494\n",
      "iter = 6000, loss = 3.9953215122222965\n",
      "iter = 7000, loss = 3.9952619075775146\n",
      "iter = 8000, loss = 3.9953348636627197\n",
      "iter = 9000, loss = 3.9951493740081787\n",
      "iter = 10000, loss = 3.995222330093384\n"
     ]
    }
   ],
   "source": [
    "def train_w_gpu(x, y, model, loss_func, optimizer, num_epoch, use_gpu=True):\n",
    "\n",
    "    if use_gpu and torch.cuda.is_available():\n",
    "        model = model.cuda()\n",
    "    \n",
    "    # output as Variable\n",
    "    if use_gpu and torch.cuda.is_available():\n",
    "        label = y.cuda()\n",
    "    else:\n",
    "        label = y\n",
    "    \n",
    "    # for given epochs\n",
    "    for i in range(1, num_epoch + 1):\n",
    "        # prediction\n",
    "        if use_gpu and torch.cuda.is_available():\n",
    "            output = model(x.cuda())\n",
    "        else:\n",
    "            output = model(x)\n",
    "        # clears the gradients of all optimized\n",
    "        optimizer.zero_grad()\n",
    "        # compute loss\n",
    "        loss = loss_func(output,label)\n",
    "        # back-propagation\n",
    "        loss.backward()\n",
    "        # update model parameter\n",
    "        optimizer.step()\n",
    "\n",
    "        if i % 100 == 0:\n",
    "            if use_gpu and torch.cuda.is_available():\n",
    "                loss_value = loss.data.cpu().numpy()\n",
    "            else:\n",
    "                loss_value = loss.data.numpy()\n",
    "            print('\\riter = {}, loss = {}'.format(i, loss_value), end='', flush=True)\n",
    "        if i % 1000 == 0:\n",
    "            print()\n",
    "\n",
    "    if use_gpu and torch.cuda.is_available():\n",
    "        output = output.cpu()\n",
    "\n",
    "    return model, output\n",
    "\n",
    "model, output = train_w_gpu(x, y, model, loss_func, optimizer, num_epoch=10000)"
   ]
  },
  {
   "cell_type": "markdown",
   "metadata": {},
   "source": [
    "## Model 을 class 로 만들기\n",
    "\n",
    "이전에는 model 을 nn.Sequential 의 형태로 만들었습니다. 같은 구조의 모델을 재활용하기 위해서는 해당 모델을 class 형태로 만들면 좋습니다.\n",
    "\n",
    "Pytorch 에서 neural network 를 class 로 만들 때에는 두 가지 형식으로 만들 수 있습니다. 둘 모두 공통적으로 nn.Module 을 상속해야 합니다. 그리고 forward() 함수를 오버라이딩해야 합니다. nn.Module 을 상속하면, 이후 class instance 를 model 로 이용할 수 있습니다."
   ]
  },
  {
   "cell_type": "markdown",
   "metadata": {},
   "source": [
    "### type 1\n",
    "\n",
    "일단 Python 의 class 상속이기 때문에 super().__init__() 을 반드시 구현해야 합니다.\n",
    "\n",
    "첫번째 타입으로는, 앞서 만든 nn.Sequential() 을 class attribute 로 이용하는 것입니다. self.layers 에 앞서 만든 nn.Sequential 을 그대로 구현합니다.\n",
    "\n",
    "forward 함수의 input argument 는 데이터 X 입니다. 이를 받아 self.layers 에 입력하여 forward 결과 값을 얻습니다. 이를 output 으로 return 합니다."
   ]
  },
  {
   "cell_type": "code",
   "execution_count": 20,
   "metadata": {},
   "outputs": [],
   "source": [
    "class FFN1_type1(nn.Module):\n",
    "    # torch.nn 의 layers 로 이뤄진 모델로 만들기 위해서 \n",
    "    # nn.Module 을 상속받아야 합니다.\n",
    "\n",
    "    def __init__(self):        \n",
    "        # 상속받은 class 를 생성하기 위해서는 아래처럼 super().__init__() 을 실행합니다.\n",
    "        super(FFN1_type1, self).__init__()\n",
    "\n",
    "        # model construction\n",
    "        self.layers =  nn.Sequential(\n",
    "            # 1st hidden layer\n",
    "            nn.Linear(1,20),\n",
    "            # 1st activation function\n",
    "            nn.ReLU(),\n",
    "            # 2nd hidden layer\n",
    "            nn.Linear(20,5),\n",
    "            # 2st activation function\n",
    "            nn.ReLU(),\n",
    "            # last hidden layer\n",
    "            # output is 1-dim for prediction\n",
    "            nn.Linear(5,1)\n",
    "        )\n",
    "\n",
    "    # feed-forward 를 위해서 forward() 함수를 overriding 합니다.\n",
    "    def forward(self, x):\n",
    "        output = self.layers(x)\n",
    "        return output"
   ]
  },
  {
   "cell_type": "markdown",
   "metadata": {},
   "source": [
    "앞서 만든 타입의 class 의 instance 를 만듭니다. 이것만으로 모델을 만드는 것이 모두 끝납니다. 그 뒤는 앞과 동일하게 train 함수를 이용합니다."
   ]
  },
  {
   "cell_type": "code",
   "execution_count": 21,
   "metadata": {},
   "outputs": [
    {
     "name": "stdout",
     "output_type": "stream",
     "text": [
      "iter = 1000, loss = 7.005250453948975\n",
      "iter = 2000, loss = 4.5201191902160645\n",
      "iter = 3000, loss = 3.9854247570037848\n",
      "iter = 4000, loss = 3.9555904865264893\n",
      "iter = 5000, loss = 3.9482431411743164\n",
      "iter = 6000, loss = 3.9457502365112305\n",
      "iter = 7000, loss = 3.9443721771240234\n",
      "iter = 8000, loss = 3.9434301853179936\n",
      "iter = 9000, loss = 3.9429600238800053\n",
      "iter = 10000, loss = 3.942429780960083\n"
     ]
    }
   ],
   "source": [
    "# model construction\n",
    "model = FFN1_type1()\n",
    "\n",
    "# loss function & optimizer\n",
    "# L1 loss\n",
    "loss_func = nn.L1Loss()\n",
    "# Adam optimizer\n",
    "optimizer = optim.Adam(model.parameters(),lr=0.001)\n",
    "\n",
    "# train model\n",
    "model, output = train(x, y, model, loss_func, optimizer, num_epoch=10000)"
   ]
  },
  {
   "cell_type": "markdown",
   "metadata": {},
   "source": [
    "학습 결과도 제대로 되었음을 확인할 수 있습니다."
   ]
  },
  {
   "cell_type": "code",
   "execution_count": 22,
   "metadata": {},
   "outputs": [
    {
     "data": {
      "text/html": [
       "\n",
       "\n",
       "\n",
       "\n",
       "\n",
       "\n",
       "  <div class=\"bk-root\" id=\"a4190fbc-db1f-49f9-8209-e5f14a6d587e\" data-root-id=\"1351\"></div>\n"
      ]
     },
     "metadata": {},
     "output_type": "display_data"
    },
    {
     "data": {
      "application/javascript": [
       "(function(root) {\n",
       "  function embed_document(root) {\n",
       "    \n",
       "  var docs_json = {\"7d364bc1-0045-4b63-bc30-ab2d90b44276\":{\"roots\":{\"references\":[{\"attributes\":{\"below\":[{\"id\":\"1362\",\"type\":\"LinearAxis\"}],\"center\":[{\"id\":\"1366\",\"type\":\"Grid\"},{\"id\":\"1371\",\"type\":\"Grid\"}],\"height\":400,\"left\":[{\"id\":\"1367\",\"type\":\"LinearAxis\"}],\"renderers\":[{\"id\":\"1388\",\"type\":\"GlyphRenderer\"},{\"id\":\"1393\",\"type\":\"GlyphRenderer\"}],\"title\":{\"id\":\"1352\",\"type\":\"Title\"},\"toolbar\":{\"id\":\"1378\",\"type\":\"Toolbar\"},\"width\":400,\"x_range\":{\"id\":\"1354\",\"type\":\"DataRange1d\"},\"x_scale\":{\"id\":\"1358\",\"type\":\"LinearScale\"},\"y_range\":{\"id\":\"1356\",\"type\":\"DataRange1d\"},\"y_scale\":{\"id\":\"1360\",\"type\":\"LinearScale\"}},\"id\":\"1351\",\"subtype\":\"Figure\",\"type\":\"Plot\"},{\"attributes\":{},\"id\":\"1360\",\"type\":\"LinearScale\"},{\"attributes\":{\"source\":{\"id\":\"1385\",\"type\":\"ColumnDataSource\"}},\"id\":\"1389\",\"type\":\"CDSView\"},{\"attributes\":{},\"id\":\"1358\",\"type\":\"LinearScale\"},{\"attributes\":{},\"id\":\"1368\",\"type\":\"BasicTicker\"},{\"attributes\":{\"fill_alpha\":{\"value\":0.1},\"fill_color\":{\"value\":\"#1f77b4\"},\"line_alpha\":{\"value\":0.1},\"line_color\":{\"value\":\"#1f77b4\"},\"size\":{\"units\":\"screen\",\"value\":5},\"x\":{\"field\":\"x\"},\"y\":{\"field\":\"y\"}},\"id\":\"1387\",\"type\":\"Scatter\"},{\"attributes\":{\"dimension\":1,\"ticker\":{\"id\":\"1368\",\"type\":\"BasicTicker\"}},\"id\":\"1371\",\"type\":\"Grid\"},{\"attributes\":{},\"id\":\"1375\",\"type\":\"SaveTool\"},{\"attributes\":{\"fill_alpha\":{\"value\":0.5},\"fill_color\":{\"value\":\"red\"},\"line_alpha\":{\"value\":0.5},\"line_color\":{\"value\":\"#1f77b4\"},\"size\":{\"units\":\"screen\",\"value\":5},\"x\":{\"field\":\"x\"},\"y\":{\"field\":\"y\"}},\"id\":\"1391\",\"type\":\"Scatter\"},{\"attributes\":{},\"id\":\"1376\",\"type\":\"ResetTool\"},{\"attributes\":{\"fill_alpha\":{\"value\":0.1},\"fill_color\":{\"value\":\"#1f77b4\"},\"line_alpha\":{\"value\":0.1},\"line_color\":{\"value\":\"#1f77b4\"},\"size\":{\"units\":\"screen\",\"value\":5},\"x\":{\"field\":\"x\"},\"y\":{\"field\":\"y\"}},\"id\":\"1392\",\"type\":\"Scatter\"},{\"attributes\":{\"data_source\":{\"id\":\"1390\",\"type\":\"ColumnDataSource\"},\"glyph\":{\"id\":\"1391\",\"type\":\"Scatter\"},\"hover_glyph\":null,\"muted_glyph\":null,\"nonselection_glyph\":{\"id\":\"1392\",\"type\":\"Scatter\"},\"selection_glyph\":null,\"view\":{\"id\":\"1394\",\"type\":\"CDSView\"}},\"id\":\"1393\",\"type\":\"GlyphRenderer\"},{\"attributes\":{\"formatter\":{\"id\":\"1424\",\"type\":\"BasicTickFormatter\"},\"ticker\":{\"id\":\"1363\",\"type\":\"BasicTicker\"}},\"id\":\"1362\",\"type\":\"LinearAxis\"},{\"attributes\":{},\"id\":\"1377\",\"type\":\"HelpTool\"},{\"attributes\":{\"fill_alpha\":{\"value\":0.5},\"fill_color\":{\"value\":\"orange\"},\"line_alpha\":{\"value\":0.5},\"line_color\":{\"value\":\"#1f77b4\"},\"size\":{\"units\":\"screen\",\"value\":5},\"x\":{\"field\":\"x\"},\"y\":{\"field\":\"y\"}},\"id\":\"1386\",\"type\":\"Scatter\"},{\"attributes\":{\"source\":{\"id\":\"1390\",\"type\":\"ColumnDataSource\"}},\"id\":\"1394\",\"type\":\"CDSView\"},{\"attributes\":{},\"id\":\"1372\",\"type\":\"PanTool\"},{\"attributes\":{\"ticker\":{\"id\":\"1363\",\"type\":\"BasicTicker\"}},\"id\":\"1366\",\"type\":\"Grid\"},{\"attributes\":{},\"id\":\"1373\",\"type\":\"WheelZoomTool\"},{\"attributes\":{},\"id\":\"1426\",\"type\":\"BasicTickFormatter\"},{\"attributes\":{\"bottom_units\":\"screen\",\"fill_alpha\":{\"value\":0.5},\"fill_color\":{\"value\":\"lightgrey\"},\"left_units\":\"screen\",\"level\":\"overlay\",\"line_alpha\":{\"value\":1.0},\"line_color\":{\"value\":\"black\"},\"line_dash\":[4,4],\"line_width\":{\"value\":2},\"render_mode\":\"css\",\"right_units\":\"screen\",\"top_units\":\"screen\"},\"id\":\"1428\",\"type\":\"BoxAnnotation\"},{\"attributes\":{},\"id\":\"1424\",\"type\":\"BasicTickFormatter\"},{\"attributes\":{},\"id\":\"1363\",\"type\":\"BasicTicker\"},{\"attributes\":{\"active_drag\":\"auto\",\"active_inspect\":\"auto\",\"active_multi\":null,\"active_scroll\":\"auto\",\"active_tap\":\"auto\",\"tools\":[{\"id\":\"1372\",\"type\":\"PanTool\"},{\"id\":\"1373\",\"type\":\"WheelZoomTool\"},{\"id\":\"1374\",\"type\":\"BoxZoomTool\"},{\"id\":\"1375\",\"type\":\"SaveTool\"},{\"id\":\"1376\",\"type\":\"ResetTool\"},{\"id\":\"1377\",\"type\":\"HelpTool\"}]},\"id\":\"1378\",\"type\":\"Toolbar\"},{\"attributes\":{},\"id\":\"1429\",\"type\":\"Selection\"},{\"attributes\":{\"callback\":null,\"data\":{\"x\":{\"__ndarray__\":\"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\",\"dtype\":\"float32\",\"shape\":[1000]},\"y\":{\"__ndarray__\":\"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\",\"dtype\":\"float32\",\"shape\":[1000]}},\"selected\":{\"id\":\"1429\",\"type\":\"Selection\"},\"selection_policy\":{\"id\":\"1430\",\"type\":\"UnionRenderers\"}},\"id\":\"1385\",\"type\":\"ColumnDataSource\"},{\"attributes\":{\"overlay\":{\"id\":\"1428\",\"type\":\"BoxAnnotation\"}},\"id\":\"1374\",\"type\":\"BoxZoomTool\"},{\"attributes\":{\"text\":\"\"},\"id\":\"1352\",\"type\":\"Title\"},{\"attributes\":{},\"id\":\"1430\",\"type\":\"UnionRenderers\"},{\"attributes\":{\"data_source\":{\"id\":\"1385\",\"type\":\"ColumnDataSource\"},\"glyph\":{\"id\":\"1386\",\"type\":\"Scatter\"},\"hover_glyph\":null,\"muted_glyph\":null,\"nonselection_glyph\":{\"id\":\"1387\",\"type\":\"Scatter\"},\"selection_glyph\":null,\"view\":{\"id\":\"1389\",\"type\":\"CDSView\"}},\"id\":\"1388\",\"type\":\"GlyphRenderer\"},{\"attributes\":{},\"id\":\"1431\",\"type\":\"Selection\"},{\"attributes\":{},\"id\":\"1432\",\"type\":\"UnionRenderers\"},{\"attributes\":{\"formatter\":{\"id\":\"1426\",\"type\":\"BasicTickFormatter\"},\"ticker\":{\"id\":\"1368\",\"type\":\"BasicTicker\"}},\"id\":\"1367\",\"type\":\"LinearAxis\"},{\"attributes\":{\"callback\":null},\"id\":\"1356\",\"type\":\"DataRange1d\"},{\"attributes\":{\"callback\":null},\"id\":\"1354\",\"type\":\"DataRange1d\"},{\"attributes\":{\"callback\":null,\"data\":{\"x\":{\"__ndarray__\":\"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\",\"dtype\":\"float32\",\"shape\":[1000]},\"y\":{\"__ndarray__\":\"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\",\"dtype\":\"float32\",\"shape\":[1000]}},\"selected\":{\"id\":\"1431\",\"type\":\"Selection\"},\"selection_policy\":{\"id\":\"1432\",\"type\":\"UnionRenderers\"}},\"id\":\"1390\",\"type\":\"ColumnDataSource\"}],\"root_ids\":[\"1351\"]},\"title\":\"Bokeh Application\",\"version\":\"1.4.0\"}};\n",
       "  var render_items = [{\"docid\":\"7d364bc1-0045-4b63-bc30-ab2d90b44276\",\"roots\":{\"1351\":\"a4190fbc-db1f-49f9-8209-e5f14a6d587e\"}}];\n",
       "  root.Bokeh.embed.embed_items_notebook(docs_json, render_items);\n",
       "\n",
       "  }\n",
       "  if (root.Bokeh !== undefined) {\n",
       "    embed_document(root);\n",
       "  } else {\n",
       "    var attempts = 0;\n",
       "    var timer = setInterval(function(root) {\n",
       "      if (root.Bokeh !== undefined) {\n",
       "        clearInterval(timer);\n",
       "        embed_document(root);\n",
       "      } else {\n",
       "        attempts++;\n",
       "        if (attempts > 100) {\n",
       "          clearInterval(timer);\n",
       "          console.log(\"Bokeh: ERROR: Unable to run BokehJS code because BokehJS library is missing\");\n",
       "        }\n",
       "      }\n",
       "    }, 10, root)\n",
       "  }\n",
       "})(window);"
      ],
      "application/vnd.bokehjs_exec.v0+json": ""
     },
     "metadata": {
      "application/vnd.bokehjs_exec.v0+json": {
       "id": "1351"
      }
     },
     "output_type": "display_data"
    }
   ],
   "source": [
    "y_pred = output.data\n",
    "\n",
    "p = scatter(\n",
    "    x.numpy().reshape(-1),\n",
    "    y_pred.numpy().reshape(-1)\n",
    ")\n",
    "\n",
    "mscatter(\n",
    "    p,\n",
    "    x.numpy().reshape(-1),\n",
    "    y.numpy().reshape(-1),\n",
    "    fill_color='red'\n",
    ")\n",
    "\n",
    "show(p)"
   ]
  },
  {
   "cell_type": "markdown",
   "metadata": {},
   "source": [
    "### type 2\n",
    "\n",
    "두번째 타입은 nn.Sequential 에 들어가던 각 요소를 따로따로 구현하는 것입니다. 이 때에는 forward 함수가 조금 복잡해집니다. 정확히는 nn.Sequential 에 들어가던 요소들을 풀어서 적용하는 것입니다. \n",
    "\n",
    "이번에는 activation function 이 layer 가 아니라 함수 형태로 이용됩니다. 그렇기 때문에 torch.nn.functional 을 import 합니다."
   ]
  },
  {
   "cell_type": "code",
   "execution_count": 24,
   "metadata": {},
   "outputs": [],
   "source": [
    "import torch.nn.functional as F\n",
    "\n",
    "class FFN1_type2(nn.Module):\n",
    "    # torch.nn 의 layers 로 이뤄진 모델로 만들기 위해서 \n",
    "    # nn.Module 을 상속받아야 합니다.\n",
    "    \n",
    "    def __init__(self):        \n",
    "        # 상속받은 class 를 생성하기 위해서는 아래처럼 super().__init__() 을 실행합니다.\n",
    "        super(FFN1_type2, self).__init__()        \n",
    "        # 1st hidden layer\n",
    "        self.fc1 = nn.Linear(1,20)        \n",
    "        # 2nd hidden layer\n",
    "        self.fc2 = nn.Linear(20,5)\n",
    "        # last hidden layer\n",
    "        # output is 1-dim for prediction\n",
    "        self.fc_out = nn.Linear(5,1)\n",
    "    \n",
    "    # feed-forward 를 위해서 forward() 함수를 overriding 합니다.\n",
    "    # activation function 은 torch.nn 이 아닌\n",
    "    # torch.nn.functional 을 이용합니다.\n",
    "    def forward(self, x):\n",
    "        # 1st hidden layer\n",
    "        out = self.fc1(x)\n",
    "        # 1st activation function\n",
    "        out = F.relu(out)\n",
    "        # 2nd hidden layer and activation\n",
    "        out = F.relu(self.fc2(out))\n",
    "        # to ouput layer\n",
    "        out = self.fc_out(out)\n",
    "        return out"
   ]
  },
  {
   "cell_type": "markdown",
   "metadata": {},
   "source": [
    "두번째 타입의 class instance 를 만들어 학습을 합니다."
   ]
  },
  {
   "cell_type": "code",
   "execution_count": 25,
   "metadata": {},
   "outputs": [
    {
     "name": "stdout",
     "output_type": "stream",
     "text": [
      "iter = 1000, loss = 7.219183444976807\n",
      "iter = 2000, loss = 4.4702572822570895\n",
      "iter = 3000, loss = 3.9830946922302246\n",
      "iter = 4000, loss = 3.9593951702117922\n",
      "iter = 5000, loss = 3.9479167461395264\n",
      "iter = 6000, loss = 3.9424319267272958\n",
      "iter = 7000, loss = 3.9383301734924316\n",
      "iter = 8000, loss = 3.9371984004974365\n",
      "iter = 9000, loss = 3.9361946582794194\n",
      "iter = 10000, loss = 3.9353911876678467\n"
     ]
    }
   ],
   "source": [
    "# model construction\n",
    "model2 = FFN1_type2()\n",
    "\n",
    "# loss function & optimizer\n",
    "# L1 loss\n",
    "loss_func = nn.L1Loss()\n",
    "# Adam optimizer\n",
    "optimizer = optim.Adam(model2.parameters(),lr=0.001)\n",
    "\n",
    "# train model\n",
    "model2, output = train(x, y, model2, loss_func, optimizer, num_epoch=10000)"
   ]
  },
  {
   "cell_type": "markdown",
   "metadata": {},
   "source": [
    "그리고 결과도 확인합니다. 둘 모두 학습이 잘 되었습니다."
   ]
  },
  {
   "cell_type": "code",
   "execution_count": 26,
   "metadata": {},
   "outputs": [
    {
     "data": {
      "text/html": [
       "\n",
       "\n",
       "\n",
       "\n",
       "\n",
       "\n",
       "  <div class=\"bk-root\" id=\"182ca2a2-9e9f-4208-8b51-19b8aae20193\" data-root-id=\"1493\"></div>\n"
      ]
     },
     "metadata": {},
     "output_type": "display_data"
    },
    {
     "data": {
      "application/javascript": [
       "(function(root) {\n",
       "  function embed_document(root) {\n",
       "    \n",
       "  var docs_json = {\"3c4b9cc1-0636-419b-b56d-9289f066481f\":{\"roots\":{\"references\":[{\"attributes\":{\"below\":[{\"id\":\"1504\",\"type\":\"LinearAxis\"}],\"center\":[{\"id\":\"1508\",\"type\":\"Grid\"},{\"id\":\"1513\",\"type\":\"Grid\"}],\"height\":400,\"left\":[{\"id\":\"1509\",\"type\":\"LinearAxis\"}],\"renderers\":[{\"id\":\"1530\",\"type\":\"GlyphRenderer\"},{\"id\":\"1535\",\"type\":\"GlyphRenderer\"}],\"title\":{\"id\":\"1494\",\"type\":\"Title\"},\"toolbar\":{\"id\":\"1520\",\"type\":\"Toolbar\"},\"width\":400,\"x_range\":{\"id\":\"1496\",\"type\":\"DataRange1d\"},\"x_scale\":{\"id\":\"1500\",\"type\":\"LinearScale\"},\"y_range\":{\"id\":\"1498\",\"type\":\"DataRange1d\"},\"y_scale\":{\"id\":\"1502\",\"type\":\"LinearScale\"}},\"id\":\"1493\",\"subtype\":\"Figure\",\"type\":\"Plot\"},{\"attributes\":{\"text\":\"\"},\"id\":\"1494\",\"type\":\"Title\"},{\"attributes\":{\"source\":{\"id\":\"1532\",\"type\":\"ColumnDataSource\"}},\"id\":\"1536\",\"type\":\"CDSView\"},{\"attributes\":{\"fill_alpha\":{\"value\":0.1},\"fill_color\":{\"value\":\"#1f77b4\"},\"line_alpha\":{\"value\":0.1},\"line_color\":{\"value\":\"#1f77b4\"},\"size\":{\"units\":\"screen\",\"value\":5},\"x\":{\"field\":\"x\"},\"y\":{\"field\":\"y\"}},\"id\":\"1529\",\"type\":\"Scatter\"},{\"attributes\":{},\"id\":\"1578\",\"type\":\"BasicTickFormatter\"},{\"attributes\":{\"fill_alpha\":{\"value\":0.5},\"fill_color\":{\"value\":\"orange\"},\"line_alpha\":{\"value\":0.5},\"line_color\":{\"value\":\"#1f77b4\"},\"size\":{\"units\":\"screen\",\"value\":5},\"x\":{\"field\":\"x\"},\"y\":{\"field\":\"y\"}},\"id\":\"1528\",\"type\":\"Scatter\"},{\"attributes\":{\"ticker\":{\"id\":\"1505\",\"type\":\"BasicTicker\"}},\"id\":\"1508\",\"type\":\"Grid\"},{\"attributes\":{\"bottom_units\":\"screen\",\"fill_alpha\":{\"value\":0.5},\"fill_color\":{\"value\":\"lightgrey\"},\"left_units\":\"screen\",\"level\":\"overlay\",\"line_alpha\":{\"value\":1.0},\"line_color\":{\"value\":\"black\"},\"line_dash\":[4,4],\"line_width\":{\"value\":2},\"render_mode\":\"css\",\"right_units\":\"screen\",\"top_units\":\"screen\"},\"id\":\"1580\",\"type\":\"BoxAnnotation\"},{\"attributes\":{},\"id\":\"1514\",\"type\":\"PanTool\"},{\"attributes\":{},\"id\":\"1581\",\"type\":\"Selection\"},{\"attributes\":{},\"id\":\"1515\",\"type\":\"WheelZoomTool\"},{\"attributes\":{},\"id\":\"1582\",\"type\":\"UnionRenderers\"},{\"attributes\":{\"overlay\":{\"id\":\"1580\",\"type\":\"BoxAnnotation\"}},\"id\":\"1516\",\"type\":\"BoxZoomTool\"},{\"attributes\":{},\"id\":\"1517\",\"type\":\"SaveTool\"},{\"attributes\":{},\"id\":\"1518\",\"type\":\"ResetTool\"},{\"attributes\":{},\"id\":\"1519\",\"type\":\"HelpTool\"},{\"attributes\":{\"active_drag\":\"auto\",\"active_inspect\":\"auto\",\"active_multi\":null,\"active_scroll\":\"auto\",\"active_tap\":\"auto\",\"tools\":[{\"id\":\"1514\",\"type\":\"PanTool\"},{\"id\":\"1515\",\"type\":\"WheelZoomTool\"},{\"id\":\"1516\",\"type\":\"BoxZoomTool\"},{\"id\":\"1517\",\"type\":\"SaveTool\"},{\"id\":\"1518\",\"type\":\"ResetTool\"},{\"id\":\"1519\",\"type\":\"HelpTool\"}]},\"id\":\"1520\",\"type\":\"Toolbar\"},{\"attributes\":{},\"id\":\"1502\",\"type\":\"LinearScale\"},{\"attributes\":{},\"id\":\"1500\",\"type\":\"LinearScale\"},{\"attributes\":{},\"id\":\"1576\",\"type\":\"BasicTickFormatter\"},{\"attributes\":{},\"id\":\"1505\",\"type\":\"BasicTicker\"},{\"attributes\":{\"data_source\":{\"id\":\"1527\",\"type\":\"ColumnDataSource\"},\"glyph\":{\"id\":\"1528\",\"type\":\"Scatter\"},\"hover_glyph\":null,\"muted_glyph\":null,\"nonselection_glyph\":{\"id\":\"1529\",\"type\":\"Scatter\"},\"selection_glyph\":null,\"view\":{\"id\":\"1531\",\"type\":\"CDSView\"}},\"id\":\"1530\",\"type\":\"GlyphRenderer\"},{\"attributes\":{\"callback\":null},\"id\":\"1496\",\"type\":\"DataRange1d\"},{\"attributes\":{\"source\":{\"id\":\"1527\",\"type\":\"ColumnDataSource\"}},\"id\":\"1531\",\"type\":\"CDSView\"},{\"attributes\":{},\"id\":\"1584\",\"type\":\"UnionRenderers\"},{\"attributes\":{\"callback\":null,\"data\":{\"x\":{\"__ndarray__\":\"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\",\"dtype\":\"float32\",\"shape\":[1000]},\"y\":{\"__ndarray__\":\"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\",\"dtype\":\"float32\",\"shape\":[1000]}},\"selected\":{\"id\":\"1583\",\"type\":\"Selection\"},\"selection_policy\":{\"id\":\"1584\",\"type\":\"UnionRenderers\"}},\"id\":\"1532\",\"type\":\"ColumnDataSource\"},{\"attributes\":{\"dimension\":1,\"ticker\":{\"id\":\"1510\",\"type\":\"BasicTicker\"}},\"id\":\"1513\",\"type\":\"Grid\"},{\"attributes\":{\"callback\":null,\"data\":{\"x\":{\"__ndarray__\":\"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\",\"dtype\":\"float32\",\"shape\":[1000]},\"y\":{\"__ndarray__\":\"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\",\"dtype\":\"float32\",\"shape\":[1000]}},\"selected\":{\"id\":\"1581\",\"type\":\"Selection\"},\"selection_policy\":{\"id\":\"1582\",\"type\":\"UnionRenderers\"}},\"id\":\"1527\",\"type\":\"ColumnDataSource\"},{\"attributes\":{\"fill_alpha\":{\"value\":0.5},\"fill_color\":{\"value\":\"red\"},\"line_alpha\":{\"value\":0.5},\"line_color\":{\"value\":\"#1f77b4\"},\"size\":{\"units\":\"screen\",\"value\":5},\"x\":{\"field\":\"x\"},\"y\":{\"field\":\"y\"}},\"id\":\"1533\",\"type\":\"Scatter\"},{\"attributes\":{\"formatter\":{\"id\":\"1578\",\"type\":\"BasicTickFormatter\"},\"ticker\":{\"id\":\"1510\",\"type\":\"BasicTicker\"}},\"id\":\"1509\",\"type\":\"LinearAxis\"},{\"attributes\":{\"fill_alpha\":{\"value\":0.1},\"fill_color\":{\"value\":\"#1f77b4\"},\"line_alpha\":{\"value\":0.1},\"line_color\":{\"value\":\"#1f77b4\"},\"size\":{\"units\":\"screen\",\"value\":5},\"x\":{\"field\":\"x\"},\"y\":{\"field\":\"y\"}},\"id\":\"1534\",\"type\":\"Scatter\"},{\"attributes\":{},\"id\":\"1583\",\"type\":\"Selection\"},{\"attributes\":{},\"id\":\"1510\",\"type\":\"BasicTicker\"},{\"attributes\":{\"data_source\":{\"id\":\"1532\",\"type\":\"ColumnDataSource\"},\"glyph\":{\"id\":\"1533\",\"type\":\"Scatter\"},\"hover_glyph\":null,\"muted_glyph\":null,\"nonselection_glyph\":{\"id\":\"1534\",\"type\":\"Scatter\"},\"selection_glyph\":null,\"view\":{\"id\":\"1536\",\"type\":\"CDSView\"}},\"id\":\"1535\",\"type\":\"GlyphRenderer\"},{\"attributes\":{\"callback\":null},\"id\":\"1498\",\"type\":\"DataRange1d\"},{\"attributes\":{\"formatter\":{\"id\":\"1576\",\"type\":\"BasicTickFormatter\"},\"ticker\":{\"id\":\"1505\",\"type\":\"BasicTicker\"}},\"id\":\"1504\",\"type\":\"LinearAxis\"}],\"root_ids\":[\"1493\"]},\"title\":\"Bokeh Application\",\"version\":\"1.4.0\"}};\n",
       "  var render_items = [{\"docid\":\"3c4b9cc1-0636-419b-b56d-9289f066481f\",\"roots\":{\"1493\":\"182ca2a2-9e9f-4208-8b51-19b8aae20193\"}}];\n",
       "  root.Bokeh.embed.embed_items_notebook(docs_json, render_items);\n",
       "\n",
       "  }\n",
       "  if (root.Bokeh !== undefined) {\n",
       "    embed_document(root);\n",
       "  } else {\n",
       "    var attempts = 0;\n",
       "    var timer = setInterval(function(root) {\n",
       "      if (root.Bokeh !== undefined) {\n",
       "        clearInterval(timer);\n",
       "        embed_document(root);\n",
       "      } else {\n",
       "        attempts++;\n",
       "        if (attempts > 100) {\n",
       "          clearInterval(timer);\n",
       "          console.log(\"Bokeh: ERROR: Unable to run BokehJS code because BokehJS library is missing\");\n",
       "        }\n",
       "      }\n",
       "    }, 10, root)\n",
       "  }\n",
       "})(window);"
      ],
      "application/vnd.bokehjs_exec.v0+json": ""
     },
     "metadata": {
      "application/vnd.bokehjs_exec.v0+json": {
       "id": "1493"
      }
     },
     "output_type": "display_data"
    }
   ],
   "source": [
    "y_pred = output.data\n",
    "\n",
    "p = scatter(\n",
    "    x.numpy().reshape(-1),\n",
    "    y_pred.numpy().reshape(-1)\n",
    ")\n",
    "\n",
    "mscatter(\n",
    "    p,\n",
    "    x.numpy().reshape(-1),\n",
    "    y.numpy().reshape(-1),\n",
    "    fill_color='red'\n",
    ")\n",
    "\n",
    "show(p)"
   ]
  },
  {
   "cell_type": "markdown",
   "metadata": {},
   "source": [
    "## model print\n",
    "\n",
    "두 종류로 모델을 구현하였을 때 성능에는 차이가 없습니다. 단, 첫번째 타입에서는 activation function 도 neural network layer 취급이 됩니다.\n",
    "\n",
    "nn.Module 을 print 하면 class 내부의 torch.nn 들이 출력됩니다."
   ]
  },
  {
   "cell_type": "code",
   "execution_count": 27,
   "metadata": {},
   "outputs": [
    {
     "name": "stdout",
     "output_type": "stream",
     "text": [
      "FFN1_type1(\n",
      "  (layers): Sequential(\n",
      "    (0): Linear(in_features=1, out_features=20, bias=True)\n",
      "    (1): ReLU()\n",
      "    (2): Linear(in_features=20, out_features=5, bias=True)\n",
      "    (3): ReLU()\n",
      "    (4): Linear(in_features=5, out_features=1, bias=True)\n",
      "  )\n",
      ")\n"
     ]
    }
   ],
   "source": [
    "print(model)"
   ]
  },
  {
   "cell_type": "code",
   "execution_count": 28,
   "metadata": {},
   "outputs": [
    {
     "name": "stdout",
     "output_type": "stream",
     "text": [
      "FFN1_type2(\n",
      "  (fc1): Linear(in_features=1, out_features=20, bias=True)\n",
      "  (fc2): Linear(in_features=20, out_features=5, bias=True)\n",
      "  (fc_out): Linear(in_features=5, out_features=1, bias=True)\n",
      ")\n"
     ]
    }
   ],
   "source": [
    "print(model2)"
   ]
  },
  {
   "cell_type": "markdown",
   "metadata": {},
   "source": [
    "## Get parameters\n",
    "\n",
    "optimizer 에 입력하던 model.parameters() 는 실제 layer 에 저장된 값입니다. 우리가 학습된 모델을 다른 곳에 이식한다면, 이 값이 필요합니다.\n",
    "\n",
    "그런데 이 때에는 첫번째, 두번째 type 모두 activation function 도 parameters 로 출력됩니다. 쌍으로 (layer, activation) 입니다."
   ]
  },
  {
   "cell_type": "code",
   "execution_count": 29,
   "metadata": {},
   "outputs": [],
   "source": [
    "parameters = list(model2.parameters())"
   ]
  },
  {
   "cell_type": "markdown",
   "metadata": {},
   "source": [
    "2 개의 hidden layer, 1 개의 output layer 가 있었기 때문에 총 6 개의 layers 가 parameters 로 만들어집니다."
   ]
  },
  {
   "cell_type": "code",
   "execution_count": 30,
   "metadata": {},
   "outputs": [
    {
     "data": {
      "text/plain": [
       "6"
      ]
     },
     "execution_count": 30,
     "metadata": {},
     "output_type": "execute_result"
    }
   ],
   "source": [
    "len(parameters)"
   ]
  },
  {
   "cell_type": "markdown",
   "metadata": {},
   "source": [
    "각각의 layer 의 size 를 확인할 수 있습니다."
   ]
  },
  {
   "cell_type": "code",
   "execution_count": 31,
   "metadata": {},
   "outputs": [
    {
     "name": "stdout",
     "output_type": "stream",
     "text": [
      "\n",
      "0 th layer\n",
      "<class 'torch.nn.parameter.Parameter'>\n",
      "torch.Size([20, 1])\n",
      "\n",
      "1 th layer\n",
      "<class 'torch.nn.parameter.Parameter'>\n",
      "torch.Size([20])\n",
      "\n",
      "2 th layer\n",
      "<class 'torch.nn.parameter.Parameter'>\n",
      "torch.Size([5, 20])\n",
      "\n",
      "3 th layer\n",
      "<class 'torch.nn.parameter.Parameter'>\n",
      "torch.Size([5])\n",
      "\n",
      "4 th layer\n",
      "<class 'torch.nn.parameter.Parameter'>\n",
      "torch.Size([1, 5])\n",
      "\n",
      "5 th layer\n",
      "<class 'torch.nn.parameter.Parameter'>\n",
      "torch.Size([1])\n"
     ]
    }
   ],
   "source": [
    "for i, parameter in enumerate(parameters):\n",
    "    print('\\n{} th layer'.format(i))\n",
    "    print(type(parameter))\n",
    "    print(parameter.size())"
   ]
  },
  {
   "cell_type": "markdown",
   "metadata": {},
   "source": [
    "첫 번째 hidden layer 의 학습된 parameter 값입니다."
   ]
  },
  {
   "cell_type": "code",
   "execution_count": 32,
   "metadata": {},
   "outputs": [
    {
     "data": {
      "text/plain": [
       "array([[ 0.04466903],\n",
       "       [-0.833331  ],\n",
       "       [-0.6980499 ],\n",
       "       [-0.6543121 ],\n",
       "       [ 0.43361568],\n",
       "       [ 1.5349884 ],\n",
       "       [ 0.5975104 ],\n",
       "       [ 1.8778567 ],\n",
       "       [-0.49513155],\n",
       "       [-0.9158808 ],\n",
       "       [ 1.7744111 ],\n",
       "       [-0.34643033],\n",
       "       [-0.32358193],\n",
       "       [ 0.53473973],\n",
       "       [-1.1563025 ],\n",
       "       [-1.3051013 ],\n",
       "       [ 1.5670671 ],\n",
       "       [-1.1956843 ],\n",
       "       [ 1.1845317 ],\n",
       "       [ 1.4363602 ]], dtype=float32)"
      ]
     },
     "execution_count": 32,
     "metadata": {},
     "output_type": "execute_result"
    }
   ],
   "source": [
    "parameters[0].data.numpy()"
   ]
  },
  {
   "cell_type": "markdown",
   "metadata": {},
   "source": [
    "두 번째 hidden layer 의 학습된 parameter 값입니다. "
   ]
  },
  {
   "cell_type": "code",
   "execution_count": 33,
   "metadata": {},
   "outputs": [
    {
     "data": {
      "text/plain": [
       "(5, 20)"
      ]
     },
     "execution_count": 33,
     "metadata": {},
     "output_type": "execute_result"
    }
   ],
   "source": [
    "parameters[2].data.numpy().shape"
   ]
  },
  {
   "cell_type": "code",
   "execution_count": null,
   "metadata": {},
   "outputs": [],
   "source": []
  }
 ],
 "metadata": {
  "kernelspec": {
   "display_name": "Python 3",
   "language": "python",
   "name": "python3"
  },
  "language_info": {
   "codemirror_mode": {
    "name": "ipython",
    "version": 3
   },
   "file_extension": ".py",
   "mimetype": "text/x-python",
   "name": "python",
   "nbconvert_exporter": "python",
   "pygments_lexer": "ipython3",
   "version": "3.7.1"
  }
 },
 "nbformat": 4,
 "nbformat_minor": 2
}
