{
 "cells": [
  {
   "cell_type": "markdown",
   "metadata": {},
   "source": [
    "## Version check\n",
    "\n",
    "Pytorch 를 연습하기 위하여, y = f(x) 형식의 regression 모델을 학습하는 뉴럴 네트워크를 만들어봅니다.\n",
    "\n",
    "현재 실습의 torch 버전은 1.0.1 입니다."
   ]
  },
  {
   "cell_type": "code",
   "execution_count": 1,
   "metadata": {},
   "outputs": [
    {
     "name": "stdout",
     "output_type": "stream",
     "text": [
      "PyTorch version = 1.2.0+cpu\n"
     ]
    }
   ],
   "source": [
    "import torch\n",
    "print('PyTorch version = {}'.format(torch.__version__))"
   ]
  },
  {
   "cell_type": "markdown",
   "metadata": {},
   "source": [
    "Pytorch 에서 신경써야 할 요소는 네 가지 입니다.\n",
    "  - data\n",
    "  - model\n",
    "  - loss function\n",
    "  - optimizer"
   ]
  },
  {
   "cell_type": "markdown",
   "metadata": {},
   "source": [
    "## Prepare data\n",
    "\n",
    "아래는 거의 default 로 이용하는 요소들입니다."
   ]
  },
  {
   "cell_type": "code",
   "execution_count": 2,
   "metadata": {},
   "outputs": [],
   "source": [
    "# import torch components\n",
    "import torch\n",
    "import torch.nn as nn\n",
    "import torch.optim as optim\n",
    "import torch.nn.init as init"
   ]
  },
  {
   "cell_type": "markdown",
   "metadata": {},
   "source": [
    "우리는 이번 실습에서 인공데이터를 만들어 이용할 것입니다.\n",
    "\n",
    "TensorFlow 가 Tensor Board 를 제공하듯이 PyTorch 도 Visdom 을 제공합니다만, model 을 만드는 것부터 이야기합니다. 이번 실습에서는 scatter plot 만 그릴 것이기 때문에, 이전 시간에 살펴본 Bokeh 를 이용한 scatter plot 함수를 visualize.py 파일에 만들어 뒀습니다."
   ]
  },
  {
   "cell_type": "code",
   "execution_count": 3,
   "metadata": {},
   "outputs": [
    {
     "data": {
      "text/html": [
       "\n",
       "    <div class=\"bk-root\">\n",
       "        <a href=\"https://bokeh.pydata.org\" target=\"_blank\" class=\"bk-logo bk-logo-small bk-logo-notebook\"></a>\n",
       "        <span id=\"1001\">Loading BokehJS ...</span>\n",
       "    </div>"
      ]
     },
     "metadata": {},
     "output_type": "display_data"
    },
    {
     "data": {
      "application/javascript": [
       "\n",
       "(function(root) {\n",
       "  function now() {\n",
       "    return new Date();\n",
       "  }\n",
       "\n",
       "  var force = true;\n",
       "\n",
       "  if (typeof root._bokeh_onload_callbacks === \"undefined\" || force === true) {\n",
       "    root._bokeh_onload_callbacks = [];\n",
       "    root._bokeh_is_loading = undefined;\n",
       "  }\n",
       "\n",
       "  var JS_MIME_TYPE = 'application/javascript';\n",
       "  var HTML_MIME_TYPE = 'text/html';\n",
       "  var EXEC_MIME_TYPE = 'application/vnd.bokehjs_exec.v0+json';\n",
       "  var CLASS_NAME = 'output_bokeh rendered_html';\n",
       "\n",
       "  /**\n",
       "   * Render data to the DOM node\n",
       "   */\n",
       "  function render(props, node) {\n",
       "    var script = document.createElement(\"script\");\n",
       "    node.appendChild(script);\n",
       "  }\n",
       "\n",
       "  /**\n",
       "   * Handle when an output is cleared or removed\n",
       "   */\n",
       "  function handleClearOutput(event, handle) {\n",
       "    var cell = handle.cell;\n",
       "\n",
       "    var id = cell.output_area._bokeh_element_id;\n",
       "    var server_id = cell.output_area._bokeh_server_id;\n",
       "    // Clean up Bokeh references\n",
       "    if (id != null && id in Bokeh.index) {\n",
       "      Bokeh.index[id].model.document.clear();\n",
       "      delete Bokeh.index[id];\n",
       "    }\n",
       "\n",
       "    if (server_id !== undefined) {\n",
       "      // Clean up Bokeh references\n",
       "      var cmd = \"from bokeh.io.state import curstate; print(curstate().uuid_to_server['\" + server_id + \"'].get_sessions()[0].document.roots[0]._id)\";\n",
       "      cell.notebook.kernel.execute(cmd, {\n",
       "        iopub: {\n",
       "          output: function(msg) {\n",
       "            var id = msg.content.text.trim();\n",
       "            if (id in Bokeh.index) {\n",
       "              Bokeh.index[id].model.document.clear();\n",
       "              delete Bokeh.index[id];\n",
       "            }\n",
       "          }\n",
       "        }\n",
       "      });\n",
       "      // Destroy server and session\n",
       "      var cmd = \"import bokeh.io.notebook as ion; ion.destroy_server('\" + server_id + \"')\";\n",
       "      cell.notebook.kernel.execute(cmd);\n",
       "    }\n",
       "  }\n",
       "\n",
       "  /**\n",
       "   * Handle when a new output is added\n",
       "   */\n",
       "  function handleAddOutput(event, handle) {\n",
       "    var output_area = handle.output_area;\n",
       "    var output = handle.output;\n",
       "\n",
       "    // limit handleAddOutput to display_data with EXEC_MIME_TYPE content only\n",
       "    if ((output.output_type != \"display_data\") || (!output.data.hasOwnProperty(EXEC_MIME_TYPE))) {\n",
       "      return\n",
       "    }\n",
       "\n",
       "    var toinsert = output_area.element.find(\".\" + CLASS_NAME.split(' ')[0]);\n",
       "\n",
       "    if (output.metadata[EXEC_MIME_TYPE][\"id\"] !== undefined) {\n",
       "      toinsert[toinsert.length - 1].firstChild.textContent = output.data[JS_MIME_TYPE];\n",
       "      // store reference to embed id on output_area\n",
       "      output_area._bokeh_element_id = output.metadata[EXEC_MIME_TYPE][\"id\"];\n",
       "    }\n",
       "    if (output.metadata[EXEC_MIME_TYPE][\"server_id\"] !== undefined) {\n",
       "      var bk_div = document.createElement(\"div\");\n",
       "      bk_div.innerHTML = output.data[HTML_MIME_TYPE];\n",
       "      var script_attrs = bk_div.children[0].attributes;\n",
       "      for (var i = 0; i < script_attrs.length; i++) {\n",
       "        toinsert[toinsert.length - 1].firstChild.setAttribute(script_attrs[i].name, script_attrs[i].value);\n",
       "      }\n",
       "      // store reference to server id on output_area\n",
       "      output_area._bokeh_server_id = output.metadata[EXEC_MIME_TYPE][\"server_id\"];\n",
       "    }\n",
       "  }\n",
       "\n",
       "  function register_renderer(events, OutputArea) {\n",
       "\n",
       "    function append_mime(data, metadata, element) {\n",
       "      // create a DOM node to render to\n",
       "      var toinsert = this.create_output_subarea(\n",
       "        metadata,\n",
       "        CLASS_NAME,\n",
       "        EXEC_MIME_TYPE\n",
       "      );\n",
       "      this.keyboard_manager.register_events(toinsert);\n",
       "      // Render to node\n",
       "      var props = {data: data, metadata: metadata[EXEC_MIME_TYPE]};\n",
       "      render(props, toinsert[toinsert.length - 1]);\n",
       "      element.append(toinsert);\n",
       "      return toinsert\n",
       "    }\n",
       "\n",
       "    /* Handle when an output is cleared or removed */\n",
       "    events.on('clear_output.CodeCell', handleClearOutput);\n",
       "    events.on('delete.Cell', handleClearOutput);\n",
       "\n",
       "    /* Handle when a new output is added */\n",
       "    events.on('output_added.OutputArea', handleAddOutput);\n",
       "\n",
       "    /**\n",
       "     * Register the mime type and append_mime function with output_area\n",
       "     */\n",
       "    OutputArea.prototype.register_mime_type(EXEC_MIME_TYPE, append_mime, {\n",
       "      /* Is output safe? */\n",
       "      safe: true,\n",
       "      /* Index of renderer in `output_area.display_order` */\n",
       "      index: 0\n",
       "    });\n",
       "  }\n",
       "\n",
       "  // register the mime type if in Jupyter Notebook environment and previously unregistered\n",
       "  if (root.Jupyter !== undefined) {\n",
       "    var events = require('base/js/events');\n",
       "    var OutputArea = require('notebook/js/outputarea').OutputArea;\n",
       "\n",
       "    if (OutputArea.prototype.mime_types().indexOf(EXEC_MIME_TYPE) == -1) {\n",
       "      register_renderer(events, OutputArea);\n",
       "    }\n",
       "  }\n",
       "\n",
       "  \n",
       "  if (typeof (root._bokeh_timeout) === \"undefined\" || force === true) {\n",
       "    root._bokeh_timeout = Date.now() + 5000;\n",
       "    root._bokeh_failed_load = false;\n",
       "  }\n",
       "\n",
       "  var NB_LOAD_WARNING = {'data': {'text/html':\n",
       "     \"<div style='background-color: #fdd'>\\n\"+\n",
       "     \"<p>\\n\"+\n",
       "     \"BokehJS does not appear to have successfully loaded. If loading BokehJS from CDN, this \\n\"+\n",
       "     \"may be due to a slow or bad network connection. Possible fixes:\\n\"+\n",
       "     \"</p>\\n\"+\n",
       "     \"<ul>\\n\"+\n",
       "     \"<li>re-rerun `output_notebook()` to attempt to load from CDN again, or</li>\\n\"+\n",
       "     \"<li>use INLINE resources instead, as so:</li>\\n\"+\n",
       "     \"</ul>\\n\"+\n",
       "     \"<code>\\n\"+\n",
       "     \"from bokeh.resources import INLINE\\n\"+\n",
       "     \"output_notebook(resources=INLINE)\\n\"+\n",
       "     \"</code>\\n\"+\n",
       "     \"</div>\"}};\n",
       "\n",
       "  function display_loaded() {\n",
       "    var el = document.getElementById(\"1001\");\n",
       "    if (el != null) {\n",
       "      el.textContent = \"BokehJS is loading...\";\n",
       "    }\n",
       "    if (root.Bokeh !== undefined) {\n",
       "      if (el != null) {\n",
       "        el.textContent = \"BokehJS \" + root.Bokeh.version + \" successfully loaded.\";\n",
       "      }\n",
       "    } else if (Date.now() < root._bokeh_timeout) {\n",
       "      setTimeout(display_loaded, 100)\n",
       "    }\n",
       "  }\n",
       "\n",
       "\n",
       "  function run_callbacks() {\n",
       "    try {\n",
       "      root._bokeh_onload_callbacks.forEach(function(callback) {\n",
       "        if (callback != null)\n",
       "          callback();\n",
       "      });\n",
       "    } finally {\n",
       "      delete root._bokeh_onload_callbacks\n",
       "    }\n",
       "    console.debug(\"Bokeh: all callbacks have finished\");\n",
       "  }\n",
       "\n",
       "  function load_libs(css_urls, js_urls, callback) {\n",
       "    if (css_urls == null) css_urls = [];\n",
       "    if (js_urls == null) js_urls = [];\n",
       "\n",
       "    root._bokeh_onload_callbacks.push(callback);\n",
       "    if (root._bokeh_is_loading > 0) {\n",
       "      console.debug(\"Bokeh: BokehJS is being loaded, scheduling callback at\", now());\n",
       "      return null;\n",
       "    }\n",
       "    if (js_urls == null || js_urls.length === 0) {\n",
       "      run_callbacks();\n",
       "      return null;\n",
       "    }\n",
       "    console.debug(\"Bokeh: BokehJS not loaded, scheduling load and callback at\", now());\n",
       "    root._bokeh_is_loading = css_urls.length + js_urls.length;\n",
       "\n",
       "    function on_load() {\n",
       "      root._bokeh_is_loading--;\n",
       "      if (root._bokeh_is_loading === 0) {\n",
       "        console.debug(\"Bokeh: all BokehJS libraries/stylesheets loaded\");\n",
       "        run_callbacks()\n",
       "      }\n",
       "    }\n",
       "\n",
       "    function on_error() {\n",
       "      console.error(\"failed to load \" + url);\n",
       "    }\n",
       "\n",
       "    for (var i = 0; i < css_urls.length; i++) {\n",
       "      var url = css_urls[i];\n",
       "      const element = document.createElement(\"link\");\n",
       "      element.onload = on_load;\n",
       "      element.onerror = on_error;\n",
       "      element.rel = \"stylesheet\";\n",
       "      element.type = \"text/css\";\n",
       "      element.href = url;\n",
       "      console.debug(\"Bokeh: injecting link tag for BokehJS stylesheet: \", url);\n",
       "      document.body.appendChild(element);\n",
       "    }\n",
       "\n",
       "    for (var i = 0; i < js_urls.length; i++) {\n",
       "      var url = js_urls[i];\n",
       "      var element = document.createElement('script');\n",
       "      element.onload = on_load;\n",
       "      element.onerror = on_error;\n",
       "      element.async = false;\n",
       "      element.src = url;\n",
       "      console.debug(\"Bokeh: injecting script tag for BokehJS library: \", url);\n",
       "      document.head.appendChild(element);\n",
       "    }\n",
       "  };var element = document.getElementById(\"1001\");\n",
       "  if (element == null) {\n",
       "    console.error(\"Bokeh: ERROR: autoload.js configured with elementid '1001' but no matching script tag was found. \")\n",
       "    return false;\n",
       "  }\n",
       "\n",
       "  function inject_raw_css(css) {\n",
       "    const element = document.createElement(\"style\");\n",
       "    element.appendChild(document.createTextNode(css));\n",
       "    document.body.appendChild(element);\n",
       "  }\n",
       "\n",
       "  var js_urls = [\"https://cdn.pydata.org/bokeh/release/bokeh-1.3.4.min.js\", \"https://cdn.pydata.org/bokeh/release/bokeh-widgets-1.3.4.min.js\", \"https://cdn.pydata.org/bokeh/release/bokeh-tables-1.3.4.min.js\", \"https://cdn.pydata.org/bokeh/release/bokeh-gl-1.3.4.min.js\"];\n",
       "  var css_urls = [];\n",
       "\n",
       "  var inline_js = [\n",
       "    function(Bokeh) {\n",
       "      Bokeh.set_log_level(\"info\");\n",
       "    },\n",
       "    \n",
       "    function(Bokeh) {\n",
       "      \n",
       "    },\n",
       "    function(Bokeh) {} // ensure no trailing comma for IE\n",
       "  ];\n",
       "\n",
       "  function run_inline_js() {\n",
       "    \n",
       "    if ((root.Bokeh !== undefined) || (force === true)) {\n",
       "      for (var i = 0; i < inline_js.length; i++) {\n",
       "        inline_js[i].call(root, root.Bokeh);\n",
       "      }if (force === true) {\n",
       "        display_loaded();\n",
       "      }} else if (Date.now() < root._bokeh_timeout) {\n",
       "      setTimeout(run_inline_js, 100);\n",
       "    } else if (!root._bokeh_failed_load) {\n",
       "      console.log(\"Bokeh: BokehJS failed to load within specified timeout.\");\n",
       "      root._bokeh_failed_load = true;\n",
       "    } else if (force !== true) {\n",
       "      var cell = $(document.getElementById(\"1001\")).parents('.cell').data().cell;\n",
       "      cell.output_area.append_execute_result(NB_LOAD_WARNING)\n",
       "    }\n",
       "\n",
       "  }\n",
       "\n",
       "  if (root._bokeh_is_loading === 0) {\n",
       "    console.debug(\"Bokeh: BokehJS loaded, going straight to plotting\");\n",
       "    run_inline_js();\n",
       "  } else {\n",
       "    load_libs(css_urls, js_urls, function() {\n",
       "      console.debug(\"Bokeh: BokehJS plotting callback run at\", now());\n",
       "      run_inline_js();\n",
       "    });\n",
       "  }\n",
       "}(window));"
      ],
      "application/vnd.bokehjs_load.v0+json": "\n(function(root) {\n  function now() {\n    return new Date();\n  }\n\n  var force = true;\n\n  if (typeof root._bokeh_onload_callbacks === \"undefined\" || force === true) {\n    root._bokeh_onload_callbacks = [];\n    root._bokeh_is_loading = undefined;\n  }\n\n  \n\n  \n  if (typeof (root._bokeh_timeout) === \"undefined\" || force === true) {\n    root._bokeh_timeout = Date.now() + 5000;\n    root._bokeh_failed_load = false;\n  }\n\n  var NB_LOAD_WARNING = {'data': {'text/html':\n     \"<div style='background-color: #fdd'>\\n\"+\n     \"<p>\\n\"+\n     \"BokehJS does not appear to have successfully loaded. If loading BokehJS from CDN, this \\n\"+\n     \"may be due to a slow or bad network connection. Possible fixes:\\n\"+\n     \"</p>\\n\"+\n     \"<ul>\\n\"+\n     \"<li>re-rerun `output_notebook()` to attempt to load from CDN again, or</li>\\n\"+\n     \"<li>use INLINE resources instead, as so:</li>\\n\"+\n     \"</ul>\\n\"+\n     \"<code>\\n\"+\n     \"from bokeh.resources import INLINE\\n\"+\n     \"output_notebook(resources=INLINE)\\n\"+\n     \"</code>\\n\"+\n     \"</div>\"}};\n\n  function display_loaded() {\n    var el = document.getElementById(\"1001\");\n    if (el != null) {\n      el.textContent = \"BokehJS is loading...\";\n    }\n    if (root.Bokeh !== undefined) {\n      if (el != null) {\n        el.textContent = \"BokehJS \" + root.Bokeh.version + \" successfully loaded.\";\n      }\n    } else if (Date.now() < root._bokeh_timeout) {\n      setTimeout(display_loaded, 100)\n    }\n  }\n\n\n  function run_callbacks() {\n    try {\n      root._bokeh_onload_callbacks.forEach(function(callback) {\n        if (callback != null)\n          callback();\n      });\n    } finally {\n      delete root._bokeh_onload_callbacks\n    }\n    console.debug(\"Bokeh: all callbacks have finished\");\n  }\n\n  function load_libs(css_urls, js_urls, callback) {\n    if (css_urls == null) css_urls = [];\n    if (js_urls == null) js_urls = [];\n\n    root._bokeh_onload_callbacks.push(callback);\n    if (root._bokeh_is_loading > 0) {\n      console.debug(\"Bokeh: BokehJS is being loaded, scheduling callback at\", now());\n      return null;\n    }\n    if (js_urls == null || js_urls.length === 0) {\n      run_callbacks();\n      return null;\n    }\n    console.debug(\"Bokeh: BokehJS not loaded, scheduling load and callback at\", now());\n    root._bokeh_is_loading = css_urls.length + js_urls.length;\n\n    function on_load() {\n      root._bokeh_is_loading--;\n      if (root._bokeh_is_loading === 0) {\n        console.debug(\"Bokeh: all BokehJS libraries/stylesheets loaded\");\n        run_callbacks()\n      }\n    }\n\n    function on_error() {\n      console.error(\"failed to load \" + url);\n    }\n\n    for (var i = 0; i < css_urls.length; i++) {\n      var url = css_urls[i];\n      const element = document.createElement(\"link\");\n      element.onload = on_load;\n      element.onerror = on_error;\n      element.rel = \"stylesheet\";\n      element.type = \"text/css\";\n      element.href = url;\n      console.debug(\"Bokeh: injecting link tag for BokehJS stylesheet: \", url);\n      document.body.appendChild(element);\n    }\n\n    for (var i = 0; i < js_urls.length; i++) {\n      var url = js_urls[i];\n      var element = document.createElement('script');\n      element.onload = on_load;\n      element.onerror = on_error;\n      element.async = false;\n      element.src = url;\n      console.debug(\"Bokeh: injecting script tag for BokehJS library: \", url);\n      document.head.appendChild(element);\n    }\n  };var element = document.getElementById(\"1001\");\n  if (element == null) {\n    console.error(\"Bokeh: ERROR: autoload.js configured with elementid '1001' but no matching script tag was found. \")\n    return false;\n  }\n\n  function inject_raw_css(css) {\n    const element = document.createElement(\"style\");\n    element.appendChild(document.createTextNode(css));\n    document.body.appendChild(element);\n  }\n\n  var js_urls = [\"https://cdn.pydata.org/bokeh/release/bokeh-1.3.4.min.js\", \"https://cdn.pydata.org/bokeh/release/bokeh-widgets-1.3.4.min.js\", \"https://cdn.pydata.org/bokeh/release/bokeh-tables-1.3.4.min.js\", \"https://cdn.pydata.org/bokeh/release/bokeh-gl-1.3.4.min.js\"];\n  var css_urls = [];\n\n  var inline_js = [\n    function(Bokeh) {\n      Bokeh.set_log_level(\"info\");\n    },\n    \n    function(Bokeh) {\n      \n    },\n    function(Bokeh) {} // ensure no trailing comma for IE\n  ];\n\n  function run_inline_js() {\n    \n    if ((root.Bokeh !== undefined) || (force === true)) {\n      for (var i = 0; i < inline_js.length; i++) {\n        inline_js[i].call(root, root.Bokeh);\n      }if (force === true) {\n        display_loaded();\n      }} else if (Date.now() < root._bokeh_timeout) {\n      setTimeout(run_inline_js, 100);\n    } else if (!root._bokeh_failed_load) {\n      console.log(\"Bokeh: BokehJS failed to load within specified timeout.\");\n      root._bokeh_failed_load = true;\n    } else if (force !== true) {\n      var cell = $(document.getElementById(\"1001\")).parents('.cell').data().cell;\n      cell.output_area.append_execute_result(NB_LOAD_WARNING)\n    }\n\n  }\n\n  if (root._bokeh_is_loading === 0) {\n    console.debug(\"Bokeh: BokehJS loaded, going straight to plotting\");\n    run_inline_js();\n  } else {\n    load_libs(css_urls, js_urls, function() {\n      console.debug(\"Bokeh: BokehJS plotting callback run at\", now());\n      run_inline_js();\n    });\n  }\n}(window));"
     },
     "metadata": {},
     "output_type": "display_data"
    },
    {
     "name": "stdout",
     "output_type": "stream",
     "text": [
      "Available output Bokeh figure in notebook\n"
     ]
    }
   ],
   "source": [
    "# import numpy for data generation\n",
    "import numpy as np\n",
    "\n",
    "# import visualizing functions\n",
    "from bokeh.plotting import show\n",
    "from visualize import scatter, mscatter"
   ]
  },
  {
   "cell_type": "markdown",
   "metadata": {},
   "source": [
    "1000 개의 인공데이터를 만듭니다. x = [-10, 10] 사이에서 y = -x^2 를 따르도록 만들며, random noise 를 추가하였습니다."
   ]
  },
  {
   "cell_type": "code",
   "execution_count": 4,
   "metadata": {},
   "outputs": [],
   "source": [
    "# data generation\n",
    "num_data = 1000 \n",
    "\n",
    "noise = init.normal_(torch.FloatTensor(num_data,1), std=5)\n",
    "x = init.uniform_(torch.Tensor(num_data,1), a=-10, b=10)\n",
    "y = -x** 2\n",
    "y = y + noise"
   ]
  },
  {
   "cell_type": "markdown",
   "metadata": {},
   "source": [
    "x 는 torch.Tensor 입니다. numpy.ndarray.shape 과 같은 함수는 torch.Tensor.size() 입니다.\n",
    "\n",
    "1 차원 데이터 1000 개가 만들어 졌습니다."
   ]
  },
  {
   "cell_type": "code",
   "execution_count": 5,
   "metadata": {},
   "outputs": [
    {
     "name": "stdout",
     "output_type": "stream",
     "text": [
      "<class 'torch.Tensor'>\n",
      "torch.Size([1000, 1])\n"
     ]
    }
   ],
   "source": [
    "print(type(x))\n",
    "print(x.size())"
   ]
  },
  {
   "cell_type": "markdown",
   "metadata": {},
   "source": [
    "Bokeh 를 이용하여 데이터의 scatter plot 을 그리려면 데이터가 numpy.ndarray 형식이어야 합니다.\n",
    "\n",
    "Pytorch 의 Tensor 는 numpy 와 호환이 잘됩니다. .numpy() 함수를 이용하면 numpy.ndarray 가 됩니다.\n",
    "\n",
    "x, y 모두 numpy() 를 이용하여 numpy.ndarray 로 만든 뒤, reshape(-1) 을 하여 column vector 로 만들어 줍니다."
   ]
  },
  {
   "cell_type": "code",
   "execution_count": 6,
   "metadata": {},
   "outputs": [
    {
     "data": {
      "text/html": [
       "\n",
       "\n",
       "\n",
       "\n",
       "\n",
       "\n",
       "  <div class=\"bk-root\" id=\"9cbe2b1b-3159-4f99-b15c-f311887776fa\" data-root-id=\"1002\"></div>\n"
      ]
     },
     "metadata": {},
     "output_type": "display_data"
    },
    {
     "data": {
      "application/javascript": [
       "(function(root) {\n",
       "  function embed_document(root) {\n",
       "    \n",
       "  var docs_json = {\"e37ed02f-46c3-4799-b501-715955e1d890\":{\"roots\":{\"references\":[{\"attributes\":{\"below\":[{\"id\":\"1013\",\"type\":\"LinearAxis\"}],\"center\":[{\"id\":\"1017\",\"type\":\"Grid\"},{\"id\":\"1022\",\"type\":\"Grid\"}],\"height\":600,\"left\":[{\"id\":\"1018\",\"type\":\"LinearAxis\"}],\"renderers\":[{\"id\":\"1039\",\"type\":\"GlyphRenderer\"}],\"title\":{\"id\":\"1003\",\"type\":\"Title\"},\"toolbar\":{\"id\":\"1029\",\"type\":\"Toolbar\"},\"width\":600,\"x_range\":{\"id\":\"1005\",\"type\":\"DataRange1d\"},\"x_scale\":{\"id\":\"1009\",\"type\":\"LinearScale\"},\"y_range\":{\"id\":\"1007\",\"type\":\"DataRange1d\"},\"y_scale\":{\"id\":\"1011\",\"type\":\"LinearScale\"}},\"id\":\"1002\",\"subtype\":\"Figure\",\"type\":\"Plot\"},{\"attributes\":{\"bottom_units\":\"screen\",\"fill_alpha\":{\"value\":0.5},\"fill_color\":{\"value\":\"lightgrey\"},\"left_units\":\"screen\",\"level\":\"overlay\",\"line_alpha\":{\"value\":1.0},\"line_color\":{\"value\":\"black\"},\"line_dash\":[4,4],\"line_width\":{\"value\":2},\"render_mode\":\"css\",\"right_units\":\"screen\",\"top_units\":\"screen\"},\"id\":\"1048\",\"type\":\"BoxAnnotation\"},{\"attributes\":{\"formatter\":{\"id\":\"1042\",\"type\":\"BasicTickFormatter\"},\"ticker\":{\"id\":\"1019\",\"type\":\"BasicTicker\"}},\"id\":\"1018\",\"type\":\"LinearAxis\"},{\"attributes\":{},\"id\":\"1019\",\"type\":\"BasicTicker\"},{\"attributes\":{\"dimension\":1,\"ticker\":{\"id\":\"1019\",\"type\":\"BasicTicker\"}},\"id\":\"1022\",\"type\":\"Grid\"},{\"attributes\":{\"text\":\"\"},\"id\":\"1003\",\"type\":\"Title\"},{\"attributes\":{\"callback\":null,\"data\":{\"x\":{\"__ndarray__\":\"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\",\"dtype\":\"float32\",\"shape\":[1000]},\"y\":{\"__ndarray__\":\"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\",\"dtype\":\"float32\",\"shape\":[1000]}},\"selected\":{\"id\":\"1046\",\"type\":\"Selection\"},\"selection_policy\":{\"id\":\"1047\",\"type\":\"UnionRenderers\"}},\"id\":\"1036\",\"type\":\"ColumnDataSource\"},{\"attributes\":{\"fill_alpha\":{\"value\":0.5},\"fill_color\":{\"value\":\"orange\"},\"line_alpha\":{\"value\":0.5},\"line_color\":{\"value\":\"#1f77b4\"},\"size\":{\"units\":\"screen\",\"value\":5},\"x\":{\"field\":\"x\"},\"y\":{\"field\":\"y\"}},\"id\":\"1037\",\"type\":\"Scatter\"},{\"attributes\":{},\"id\":\"1023\",\"type\":\"PanTool\"},{\"attributes\":{},\"id\":\"1024\",\"type\":\"WheelZoomTool\"},{\"attributes\":{\"overlay\":{\"id\":\"1048\",\"type\":\"BoxAnnotation\"}},\"id\":\"1025\",\"type\":\"BoxZoomTool\"},{\"attributes\":{\"source\":{\"id\":\"1036\",\"type\":\"ColumnDataSource\"}},\"id\":\"1040\",\"type\":\"CDSView\"},{\"attributes\":{},\"id\":\"1026\",\"type\":\"SaveTool\"},{\"attributes\":{},\"id\":\"1027\",\"type\":\"ResetTool\"},{\"attributes\":{},\"id\":\"1009\",\"type\":\"LinearScale\"},{\"attributes\":{\"callback\":null},\"id\":\"1005\",\"type\":\"DataRange1d\"},{\"attributes\":{},\"id\":\"1028\",\"type\":\"HelpTool\"},{\"attributes\":{\"active_drag\":\"auto\",\"active_inspect\":\"auto\",\"active_multi\":null,\"active_scroll\":\"auto\",\"active_tap\":\"auto\",\"tools\":[{\"id\":\"1023\",\"type\":\"PanTool\"},{\"id\":\"1024\",\"type\":\"WheelZoomTool\"},{\"id\":\"1025\",\"type\":\"BoxZoomTool\"},{\"id\":\"1026\",\"type\":\"SaveTool\"},{\"id\":\"1027\",\"type\":\"ResetTool\"},{\"id\":\"1028\",\"type\":\"HelpTool\"}]},\"id\":\"1029\",\"type\":\"Toolbar\"},{\"attributes\":{\"callback\":null},\"id\":\"1007\",\"type\":\"DataRange1d\"},{\"attributes\":{},\"id\":\"1042\",\"type\":\"BasicTickFormatter\"},{\"attributes\":{\"fill_alpha\":{\"value\":0.1},\"fill_color\":{\"value\":\"#1f77b4\"},\"line_alpha\":{\"value\":0.1},\"line_color\":{\"value\":\"#1f77b4\"},\"size\":{\"units\":\"screen\",\"value\":5},\"x\":{\"field\":\"x\"},\"y\":{\"field\":\"y\"}},\"id\":\"1038\",\"type\":\"Scatter\"},{\"attributes\":{},\"id\":\"1011\",\"type\":\"LinearScale\"},{\"attributes\":{\"data_source\":{\"id\":\"1036\",\"type\":\"ColumnDataSource\"},\"glyph\":{\"id\":\"1037\",\"type\":\"Scatter\"},\"hover_glyph\":null,\"muted_glyph\":null,\"nonselection_glyph\":{\"id\":\"1038\",\"type\":\"Scatter\"},\"selection_glyph\":null,\"view\":{\"id\":\"1040\",\"type\":\"CDSView\"}},\"id\":\"1039\",\"type\":\"GlyphRenderer\"},{\"attributes\":{\"formatter\":{\"id\":\"1044\",\"type\":\"BasicTickFormatter\"},\"ticker\":{\"id\":\"1014\",\"type\":\"BasicTicker\"}},\"id\":\"1013\",\"type\":\"LinearAxis\"},{\"attributes\":{},\"id\":\"1044\",\"type\":\"BasicTickFormatter\"},{\"attributes\":{},\"id\":\"1014\",\"type\":\"BasicTicker\"},{\"attributes\":{},\"id\":\"1046\",\"type\":\"Selection\"},{\"attributes\":{},\"id\":\"1047\",\"type\":\"UnionRenderers\"},{\"attributes\":{\"ticker\":{\"id\":\"1014\",\"type\":\"BasicTicker\"}},\"id\":\"1017\",\"type\":\"Grid\"}],\"root_ids\":[\"1002\"]},\"title\":\"Bokeh Application\",\"version\":\"1.3.4\"}};\n",
       "  var render_items = [{\"docid\":\"e37ed02f-46c3-4799-b501-715955e1d890\",\"roots\":{\"1002\":\"9cbe2b1b-3159-4f99-b15c-f311887776fa\"}}];\n",
       "  root.Bokeh.embed.embed_items_notebook(docs_json, render_items);\n",
       "\n",
       "  }\n",
       "  if (root.Bokeh !== undefined) {\n",
       "    embed_document(root);\n",
       "  } else {\n",
       "    var attempts = 0;\n",
       "    var timer = setInterval(function(root) {\n",
       "      if (root.Bokeh !== undefined) {\n",
       "        embed_document(root);\n",
       "        clearInterval(timer);\n",
       "      }\n",
       "      attempts++;\n",
       "      if (attempts > 100) {\n",
       "        console.log(\"Bokeh: ERROR: Unable to run BokehJS code because BokehJS library is missing\");\n",
       "        clearInterval(timer);\n",
       "      }\n",
       "    }, 10, root)\n",
       "  }\n",
       "})(window);"
      ],
      "application/vnd.bokehjs_exec.v0+json": ""
     },
     "metadata": {
      "application/vnd.bokehjs_exec.v0+json": {
       "id": "1002"
      }
     },
     "output_type": "display_data"
    }
   ],
   "source": [
    "p = scatter(x.numpy().reshape(-1), y.numpy().reshape(-1))\n",
    "show(p)"
   ]
  },
  {
   "cell_type": "markdown",
   "metadata": {},
   "source": [
    "## Linear regression\n",
    "\n",
    "우리는 앞서 네 가지 요소 중 한가지인 데이터의 타입과 numpy 와의 호환에 대하여 살펴보았습니다. \n",
    "\n",
    "  - (v) data\n",
    "  - ( ) model\n",
    "  - ( ) loss function\n",
    "  - ( ) optimizer\n",
    "\n",
    "이제 나머지 요소들에 대하여 알아봅니다.\n",
    "\n",
    "### model\n",
    "\n",
    "y = a * x 식을 만들어 봅니다. 물론 위 데이터의 형태는 이차함수이기 때문에 일차함수인 y = a * x 가 학습될리 없습니다. 일단 만들어 봅시다.\n",
    "\n",
    "torch.nn 에는 다양한 neural network 의 layer 들이 구현되어 있습니다. 이를 가져와 이용합니다. a 라는 parameter 가 저장되어 있는 linear layer 를 만듭니다. nn.Linear(a, b) 는 a 차원의 데이터가 b 차원으로 변환되는 (a, b) 크기의 행렬이라는 의미입니다.\n",
    "\n",
    "### loss function\n",
    "\n",
    "nn.MSELoss 는 Mean Squared Error loss 입니다. 실제 y 값과 예측된 y' 값의 $\\sqrt{(y - y')}$ 입니다.\n",
    "\n",
    "### optimizer\n",
    "\n",
    "우리는 stochastic gradient descent optimizer 를 이용합니다. optimizer 를 만들 때에는 (1) 학습할 패러매터들과 (2) learning rate 를 설정해줘야 합니다.\n",
    "\n",
    "    (1) model.parameters()\n",
    "    (2) lr = YOUR VALUE"
   ]
  },
  {
   "cell_type": "code",
   "execution_count": 7,
   "metadata": {},
   "outputs": [],
   "source": [
    "# model construction\n",
    "model = nn.Linear(1,1)\n",
    "\n",
    "# loss function & optimizer\n",
    "# Mean Squared Error loss\n",
    "loss_func = nn.MSELoss()\n",
    "\n",
    "# Stochastic Gradient Descent optimizer\n",
    "optimizer = optim.SGD(model.parameters(),lr=0.01)"
   ]
  },
  {
   "cell_type": "markdown",
   "metadata": {},
   "source": [
    "## Train function\n",
    "\n",
    "모든 요소들이 갖춰졌습니다. 한 번에 모든 데이터를 이용하여 모델을 업데이트 할 수도 있고, 부분씩 나눠서 모델을 업데이트 할 수도 있습니다. \n",
    "\n",
    "Mini batch 로 데이터를 나눠 학습하고 싶을 때 이를 직접 나눠서 구현할 수도 있으며, torch.data.DataLoader 를 이용할 수도 있습니다. 우리는 batch 로 학습하는 train 함수를 만듭니다.\n",
    "\n",
    "아래의 과정이 standard 라고 생각하셔도 됩니다."
   ]
  },
  {
   "cell_type": "code",
   "execution_count": 8,
   "metadata": {},
   "outputs": [],
   "source": [
    "# define train function\n",
    "\n",
    "def train(x, y, model, loss_func, optimizer, num_epoch):\n",
    "\n",
    "    # output as Variable\n",
    "    label = y\n",
    "    \n",
    "    # for given epochs\n",
    "    for i in range(1, num_epoch + 1):\n",
    "\n",
    "        # prediction\n",
    "        output = model(x)\n",
    "\n",
    "        # clears the gradients of all optimized\n",
    "        optimizer.zero_grad()\n",
    "\n",
    "        # compute loss\n",
    "        loss = loss_func(output, label)\n",
    "\n",
    "        # back-propagation\n",
    "        loss.backward()\n",
    "\n",
    "        # update model parameter\n",
    "        optimizer.step()\n",
    "\n",
    "        if i % 100 == 0:\n",
    "            print('\\riter = {}, loss = {}'.format(i, loss.data.numpy()), end='')\n",
    "        if i % 1000 == 0:\n",
    "            print()\n",
    "\n",
    "    return model, output"
   ]
  },
  {
   "cell_type": "markdown",
   "metadata": {},
   "source": [
    "학습 함수를 만들었으니, 네 가지 요소를 모두 입력하여 함수를 학습합니다. 우리는 총 1000 번 반복하여 모델의 패러메터, a 를 학습합니다."
   ]
  },
  {
   "cell_type": "code",
   "execution_count": 9,
   "metadata": {},
   "outputs": [
    {
     "name": "stdout",
     "output_type": "stream",
     "text": [
      "iter = 1000, loss = 902.562988281255\n"
     ]
    }
   ],
   "source": [
    "model, output = train(x, y, model, loss_func, optimizer, num_epoch=1000)"
   ]
  },
  {
   "cell_type": "markdown",
   "metadata": {},
   "source": [
    "return 되는 output 은 모델에 의하여 prediction 이 이뤄진 y 값입니다. output 의 type 은 Tensor 입니다."
   ]
  },
  {
   "cell_type": "code",
   "execution_count": 10,
   "metadata": {},
   "outputs": [
    {
     "data": {
      "text/plain": [
       "torch.Tensor"
      ]
     },
     "execution_count": 10,
     "metadata": {},
     "output_type": "execute_result"
    }
   ],
   "source": [
    "type(output)"
   ]
  },
  {
   "cell_type": "markdown",
   "metadata": {},
   "source": [
    "그 안에는 data 가 있습니다. 그 역시 type 은 Tensor 이며, size() 를 확인해보면, 1 차원의 1000 개의 points 입니다."
   ]
  },
  {
   "cell_type": "code",
   "execution_count": 11,
   "metadata": {},
   "outputs": [
    {
     "name": "stdout",
     "output_type": "stream",
     "text": [
      "<class 'torch.Tensor'>\n",
      "torch.Size([1000, 1])\n"
     ]
    }
   ],
   "source": [
    "print(type(output.data))\n",
    "print(output.data.size())"
   ]
  },
  {
   "cell_type": "markdown",
   "metadata": {},
   "source": [
    "이를 numpy 로 변환하여 다시 한 번 시각화를 합니다."
   ]
  },
  {
   "cell_type": "code",
   "execution_count": 12,
   "metadata": {},
   "outputs": [
    {
     "data": {
      "text/plain": [
       "numpy.ndarray"
      ]
     },
     "execution_count": 12,
     "metadata": {},
     "output_type": "execute_result"
    }
   ],
   "source": [
    "# convert torch.Tensor to numpy.ndarray\n",
    "output_numpy = output.data.numpy()\n",
    "type(output_numpy)"
   ]
  },
  {
   "cell_type": "markdown",
   "metadata": {},
   "source": [
    "output_numpy 는 numpy.ndarray 이기 때문에 shape 을 이용할 수 있습니다."
   ]
  },
  {
   "cell_type": "code",
   "execution_count": 13,
   "metadata": {},
   "outputs": [
    {
     "data": {
      "text/plain": [
       "(1000, 1)"
      ]
     },
     "execution_count": 13,
     "metadata": {},
     "output_type": "execute_result"
    }
   ],
   "source": [
    "output_numpy.shape"
   ]
  },
  {
   "cell_type": "markdown",
   "metadata": {},
   "source": [
    "데이터의 분포에 맞지 않는 모델을 학습하였기 때문에 prediction 값이 엉망입니다."
   ]
  },
  {
   "cell_type": "code",
   "execution_count": 14,
   "metadata": {},
   "outputs": [
    {
     "data": {
      "text/html": [
       "\n",
       "\n",
       "\n",
       "\n",
       "\n",
       "\n",
       "  <div class=\"bk-root\" id=\"74848a1c-faab-4e8b-905a-ecfabed2babe\" data-root-id=\"1097\"></div>\n"
      ]
     },
     "metadata": {},
     "output_type": "display_data"
    },
    {
     "data": {
      "application/javascript": [
       "(function(root) {\n",
       "  function embed_document(root) {\n",
       "    \n",
       "  var docs_json = {\"273e08a8-be4e-46a5-a3a7-7e6a027854e0\":{\"roots\":{\"references\":[{\"attributes\":{\"below\":[{\"id\":\"1108\",\"type\":\"LinearAxis\"}],\"center\":[{\"id\":\"1112\",\"type\":\"Grid\"},{\"id\":\"1117\",\"type\":\"Grid\"}],\"height\":600,\"left\":[{\"id\":\"1113\",\"type\":\"LinearAxis\"}],\"renderers\":[{\"id\":\"1134\",\"type\":\"GlyphRenderer\"},{\"id\":\"1139\",\"type\":\"GlyphRenderer\"}],\"title\":{\"id\":\"1098\",\"type\":\"Title\"},\"toolbar\":{\"id\":\"1124\",\"type\":\"Toolbar\"},\"width\":600,\"x_range\":{\"id\":\"1100\",\"type\":\"DataRange1d\"},\"x_scale\":{\"id\":\"1104\",\"type\":\"LinearScale\"},\"y_range\":{\"id\":\"1102\",\"type\":\"DataRange1d\"},\"y_scale\":{\"id\":\"1106\",\"type\":\"LinearScale\"}},\"id\":\"1097\",\"subtype\":\"Figure\",\"type\":\"Plot\"},{\"attributes\":{},\"id\":\"1109\",\"type\":\"BasicTicker\"},{\"attributes\":{\"callback\":null,\"data\":{\"x\":{\"__ndarray__\":\"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\",\"dtype\":\"float32\",\"shape\":[1000]},\"y\":{\"__ndarray__\":\"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\",\"dtype\":\"float32\",\"shape\":[1000]}},\"selected\":{\"id\":\"1156\",\"type\":\"Selection\"},\"selection_policy\":{\"id\":\"1157\",\"type\":\"UnionRenderers\"}},\"id\":\"1136\",\"type\":\"ColumnDataSource\"},{\"attributes\":{\"formatter\":{\"id\":\"1152\",\"type\":\"BasicTickFormatter\"},\"ticker\":{\"id\":\"1109\",\"type\":\"BasicTicker\"}},\"id\":\"1108\",\"type\":\"LinearAxis\"},{\"attributes\":{\"source\":{\"id\":\"1136\",\"type\":\"ColumnDataSource\"}},\"id\":\"1140\",\"type\":\"CDSView\"},{\"attributes\":{\"dimension\":1,\"ticker\":{\"id\":\"1114\",\"type\":\"BasicTicker\"}},\"id\":\"1117\",\"type\":\"Grid\"},{\"attributes\":{},\"id\":\"1152\",\"type\":\"BasicTickFormatter\"},{\"attributes\":{\"formatter\":{\"id\":\"1150\",\"type\":\"BasicTickFormatter\"},\"ticker\":{\"id\":\"1114\",\"type\":\"BasicTicker\"}},\"id\":\"1113\",\"type\":\"LinearAxis\"},{\"attributes\":{\"fill_alpha\":{\"value\":0.1},\"fill_color\":{\"value\":\"#1f77b4\"},\"line_alpha\":{\"value\":0.1},\"line_color\":{\"value\":\"#1f77b4\"},\"size\":{\"units\":\"screen\",\"value\":5},\"x\":{\"field\":\"x\"},\"y\":{\"field\":\"y\"}},\"id\":\"1138\",\"type\":\"Scatter\"},{\"attributes\":{},\"id\":\"1104\",\"type\":\"LinearScale\"},{\"attributes\":{},\"id\":\"1154\",\"type\":\"Selection\"},{\"attributes\":{},\"id\":\"1155\",\"type\":\"UnionRenderers\"},{\"attributes\":{\"ticker\":{\"id\":\"1109\",\"type\":\"BasicTicker\"}},\"id\":\"1112\",\"type\":\"Grid\"},{\"attributes\":{},\"id\":\"1156\",\"type\":\"Selection\"},{\"attributes\":{},\"id\":\"1106\",\"type\":\"LinearScale\"},{\"attributes\":{},\"id\":\"1157\",\"type\":\"UnionRenderers\"},{\"attributes\":{\"fill_alpha\":{\"value\":0.1},\"fill_color\":{\"value\":\"#1f77b4\"},\"line_alpha\":{\"value\":0.1},\"line_color\":{\"value\":\"#1f77b4\"},\"size\":{\"units\":\"screen\",\"value\":5},\"x\":{\"field\":\"x\"},\"y\":{\"field\":\"y\"}},\"id\":\"1133\",\"type\":\"Scatter\"},{\"attributes\":{\"callback\":null},\"id\":\"1100\",\"type\":\"DataRange1d\"},{\"attributes\":{\"bottom_units\":\"screen\",\"fill_alpha\":{\"value\":0.5},\"fill_color\":{\"value\":\"lightgrey\"},\"left_units\":\"screen\",\"level\":\"overlay\",\"line_alpha\":{\"value\":1.0},\"line_color\":{\"value\":\"black\"},\"line_dash\":[4,4],\"line_width\":{\"value\":2},\"render_mode\":\"css\",\"right_units\":\"screen\",\"top_units\":\"screen\"},\"id\":\"1158\",\"type\":\"BoxAnnotation\"},{\"attributes\":{\"overlay\":{\"id\":\"1158\",\"type\":\"BoxAnnotation\"}},\"id\":\"1120\",\"type\":\"BoxZoomTool\"},{\"attributes\":{\"data_source\":{\"id\":\"1131\",\"type\":\"ColumnDataSource\"},\"glyph\":{\"id\":\"1132\",\"type\":\"Scatter\"},\"hover_glyph\":null,\"muted_glyph\":null,\"nonselection_glyph\":{\"id\":\"1133\",\"type\":\"Scatter\"},\"selection_glyph\":null,\"view\":{\"id\":\"1135\",\"type\":\"CDSView\"}},\"id\":\"1134\",\"type\":\"GlyphRenderer\"},{\"attributes\":{\"text\":\"\"},\"id\":\"1098\",\"type\":\"Title\"},{\"attributes\":{\"callback\":null,\"data\":{\"x\":{\"__ndarray__\":\"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\",\"dtype\":\"float32\",\"shape\":[1000]},\"y\":{\"__ndarray__\":\"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\",\"dtype\":\"float32\",\"shape\":[1000]}},\"selected\":{\"id\":\"1154\",\"type\":\"Selection\"},\"selection_policy\":{\"id\":\"1155\",\"type\":\"UnionRenderers\"}},\"id\":\"1131\",\"type\":\"ColumnDataSource\"},{\"attributes\":{\"data_source\":{\"id\":\"1136\",\"type\":\"ColumnDataSource\"},\"glyph\":{\"id\":\"1137\",\"type\":\"Scatter\"},\"hover_glyph\":null,\"muted_glyph\":null,\"nonselection_glyph\":{\"id\":\"1138\",\"type\":\"Scatter\"},\"selection_glyph\":null,\"view\":{\"id\":\"1140\",\"type\":\"CDSView\"}},\"id\":\"1139\",\"type\":\"GlyphRenderer\"},{\"attributes\":{\"fill_alpha\":{\"value\":0.5},\"fill_color\":{\"value\":\"orange\"},\"line_alpha\":{\"value\":0.5},\"line_color\":{\"value\":\"#1f77b4\"},\"size\":{\"units\":\"screen\",\"value\":5},\"x\":{\"field\":\"x\"},\"y\":{\"field\":\"y\"}},\"id\":\"1132\",\"type\":\"Scatter\"},{\"attributes\":{\"source\":{\"id\":\"1131\",\"type\":\"ColumnDataSource\"}},\"id\":\"1135\",\"type\":\"CDSView\"},{\"attributes\":{\"callback\":null},\"id\":\"1102\",\"type\":\"DataRange1d\"},{\"attributes\":{},\"id\":\"1118\",\"type\":\"PanTool\"},{\"attributes\":{},\"id\":\"1119\",\"type\":\"WheelZoomTool\"},{\"attributes\":{},\"id\":\"1121\",\"type\":\"SaveTool\"},{\"attributes\":{},\"id\":\"1150\",\"type\":\"BasicTickFormatter\"},{\"attributes\":{},\"id\":\"1122\",\"type\":\"ResetTool\"},{\"attributes\":{\"fill_alpha\":{\"value\":0.5},\"fill_color\":{\"value\":\"red\"},\"line_alpha\":{\"value\":0.5},\"line_color\":{\"value\":\"#1f77b4\"},\"size\":{\"units\":\"screen\",\"value\":5},\"x\":{\"field\":\"x\"},\"y\":{\"field\":\"y\"}},\"id\":\"1137\",\"type\":\"Scatter\"},{\"attributes\":{},\"id\":\"1114\",\"type\":\"BasicTicker\"},{\"attributes\":{},\"id\":\"1123\",\"type\":\"HelpTool\"},{\"attributes\":{\"active_drag\":\"auto\",\"active_inspect\":\"auto\",\"active_multi\":null,\"active_scroll\":\"auto\",\"active_tap\":\"auto\",\"tools\":[{\"id\":\"1118\",\"type\":\"PanTool\"},{\"id\":\"1119\",\"type\":\"WheelZoomTool\"},{\"id\":\"1120\",\"type\":\"BoxZoomTool\"},{\"id\":\"1121\",\"type\":\"SaveTool\"},{\"id\":\"1122\",\"type\":\"ResetTool\"},{\"id\":\"1123\",\"type\":\"HelpTool\"}]},\"id\":\"1124\",\"type\":\"Toolbar\"}],\"root_ids\":[\"1097\"]},\"title\":\"Bokeh Application\",\"version\":\"1.3.4\"}};\n",
       "  var render_items = [{\"docid\":\"273e08a8-be4e-46a5-a3a7-7e6a027854e0\",\"roots\":{\"1097\":\"74848a1c-faab-4e8b-905a-ecfabed2babe\"}}];\n",
       "  root.Bokeh.embed.embed_items_notebook(docs_json, render_items);\n",
       "\n",
       "  }\n",
       "  if (root.Bokeh !== undefined) {\n",
       "    embed_document(root);\n",
       "  } else {\n",
       "    var attempts = 0;\n",
       "    var timer = setInterval(function(root) {\n",
       "      if (root.Bokeh !== undefined) {\n",
       "        embed_document(root);\n",
       "        clearInterval(timer);\n",
       "      }\n",
       "      attempts++;\n",
       "      if (attempts > 100) {\n",
       "        console.log(\"Bokeh: ERROR: Unable to run BokehJS code because BokehJS library is missing\");\n",
       "        clearInterval(timer);\n",
       "      }\n",
       "    }, 10, root)\n",
       "  }\n",
       "})(window);"
      ],
      "application/vnd.bokehjs_exec.v0+json": ""
     },
     "metadata": {
      "application/vnd.bokehjs_exec.v0+json": {
       "id": "1097"
      }
     },
     "output_type": "display_data"
    }
   ],
   "source": [
    "y_pred = output.data\n",
    "\n",
    "p = scatter(\n",
    "    x.numpy().reshape(-1),\n",
    "    y_pred.numpy().reshape(-1)\n",
    ")\n",
    "\n",
    "mscatter(\n",
    "    p,\n",
    "    x.numpy().reshape(-1),\n",
    "    y.numpy().reshape(-1),\n",
    "    fill_color='red'\n",
    ")\n",
    "\n",
    "show(p)"
   ]
  },
  {
   "cell_type": "markdown",
   "metadata": {},
   "source": [
    "## Non-linear regression. Feed-forward neural network\n",
    "\n",
    "이번에는 두 개의 hidden layer 를 쌓아서 이차함수의 분포를 학습해 봅니다.\n",
    "\n",
    "여러 개의 layer 를 쌓을 때에는 nn.Sequential 을 이용하면 좋습니다. 순차적으로 모든 layer 가 적용된다는 의미입니다.\n",
    "\n",
    "처음에 1 차원의 데이터를 20 차원으로 보내고, 20 차원의 데이터를 다시 5 차원으로 보낸 뒤, 이를 이용하여 y 를 prediction 하는 1 - 20 - 5 - 1 구조의 feed forward neural network 를 만듭니다. Activation function 으로 ReLU 를 이용합니다."
   ]
  },
  {
   "cell_type": "code",
   "execution_count": 15,
   "metadata": {},
   "outputs": [],
   "source": [
    "# model construction\n",
    "model = nn.Sequential(\n",
    "    \n",
    "    # 1st hidden layer\n",
    "    nn.Linear(1,20),\n",
    "    \n",
    "    # 1st activation function\n",
    "    nn.ReLU(),\n",
    "    \n",
    "    # 2nd hidden layer\n",
    "    nn.Linear(20,5),\n",
    "    \n",
    "    # 2st activation function\n",
    "    nn.ReLU(),\n",
    "    \n",
    "    # last hidden layer\n",
    "    # output is 1-dim for prediction\n",
    "    nn.Linear(5,1),\n",
    "\n",
    ")"
   ]
  },
  {
   "cell_type": "markdown",
   "metadata": {},
   "source": [
    "optimizer 는 반드시 다시 만들어줘야 합니다. 각 optimizer 를 만들 때 우리는 학습할 패러매터 model.parameters() 를 argument 로 받았습니다. 새롭게 모델을 만들면, 그 모델의 parameters() 를 optimizer 에 연결해야 합니다."
   ]
  },
  {
   "cell_type": "code",
   "execution_count": 16,
   "metadata": {},
   "outputs": [],
   "source": [
    "# loss function & optimizer\n",
    "# L1 loss\n",
    "loss_func = nn.L1Loss()\n",
    "\n",
    "# Adam optimizer\n",
    "optimizer = optim.Adam(model.parameters(),lr=0.001)"
   ]
  },
  {
   "cell_type": "markdown",
   "metadata": {},
   "source": [
    "이번에는 10K 번 학습을 합니다. 1000 번의 epoch 단위로 loss 값을 출력하도록 하였습니다. 조금씩 정확히 y 를 맞춰갑니다."
   ]
  },
  {
   "cell_type": "code",
   "execution_count": 17,
   "metadata": {},
   "outputs": [
    {
     "name": "stdout",
     "output_type": "stream",
     "text": [
      "iter = 1000, loss = 7.798529624938965\n",
      "iter = 2000, loss = 4.5618500709533695\n",
      "iter = 3000, loss = 4.210731506347656\n",
      "iter = 4000, loss = 4.1115837097167975\n",
      "iter = 5000, loss = 4.0806641578674325\n",
      "iter = 6000, loss = 4.0615072250366215\n",
      "iter = 7000, loss = 4.055196762084961\n",
      "iter = 8000, loss = 4.0544610023498535\n",
      "iter = 9000, loss = 4.054163455963135\n",
      "iter = 10000, loss = 4.055531024932861\n"
     ]
    }
   ],
   "source": [
    "model, output = train(x, y, model, loss_func, optimizer, num_epoch=10000)"
   ]
  },
  {
   "cell_type": "markdown",
   "metadata": {},
   "source": [
    "앞선 코드를 그대로 다시 이용하여 prediction 결과를 살펴봅니다. 이번에는 2 차 함수의 곡선을 거의 맞춰냈습니다."
   ]
  },
  {
   "cell_type": "code",
   "execution_count": 18,
   "metadata": {},
   "outputs": [
    {
     "data": {
      "text/html": [
       "\n",
       "\n",
       "\n",
       "\n",
       "\n",
       "\n",
       "  <div class=\"bk-root\" id=\"da3b9c27-b134-4387-8e85-fbeef9c9e924\" data-root-id=\"1219\"></div>\n"
      ]
     },
     "metadata": {},
     "output_type": "display_data"
    },
    {
     "data": {
      "application/javascript": [
       "(function(root) {\n",
       "  function embed_document(root) {\n",
       "    \n",
       "  var docs_json = {\"4c7b269e-0c42-42c3-add8-6fb0667f2141\":{\"roots\":{\"references\":[{\"attributes\":{\"below\":[{\"id\":\"1230\",\"type\":\"LinearAxis\"}],\"center\":[{\"id\":\"1234\",\"type\":\"Grid\"},{\"id\":\"1239\",\"type\":\"Grid\"}],\"height\":600,\"left\":[{\"id\":\"1235\",\"type\":\"LinearAxis\"}],\"renderers\":[{\"id\":\"1256\",\"type\":\"GlyphRenderer\"},{\"id\":\"1261\",\"type\":\"GlyphRenderer\"}],\"title\":{\"id\":\"1220\",\"type\":\"Title\"},\"toolbar\":{\"id\":\"1246\",\"type\":\"Toolbar\"},\"width\":600,\"x_range\":{\"id\":\"1222\",\"type\":\"DataRange1d\"},\"x_scale\":{\"id\":\"1226\",\"type\":\"LinearScale\"},\"y_range\":{\"id\":\"1224\",\"type\":\"DataRange1d\"},\"y_scale\":{\"id\":\"1228\",\"type\":\"LinearScale\"}},\"id\":\"1219\",\"subtype\":\"Figure\",\"type\":\"Plot\"},{\"attributes\":{\"fill_alpha\":{\"value\":0.1},\"fill_color\":{\"value\":\"#1f77b4\"},\"line_alpha\":{\"value\":0.1},\"line_color\":{\"value\":\"#1f77b4\"},\"size\":{\"units\":\"screen\",\"value\":5},\"x\":{\"field\":\"x\"},\"y\":{\"field\":\"y\"}},\"id\":\"1255\",\"type\":\"Scatter\"},{\"attributes\":{},\"id\":\"1288\",\"type\":\"Selection\"},{\"attributes\":{},\"id\":\"1240\",\"type\":\"PanTool\"},{\"attributes\":{\"formatter\":{\"id\":\"1282\",\"type\":\"BasicTickFormatter\"},\"ticker\":{\"id\":\"1236\",\"type\":\"BasicTicker\"}},\"id\":\"1235\",\"type\":\"LinearAxis\"},{\"attributes\":{},\"id\":\"1289\",\"type\":\"UnionRenderers\"},{\"attributes\":{},\"id\":\"1241\",\"type\":\"WheelZoomTool\"},{\"attributes\":{\"callback\":null},\"id\":\"1222\",\"type\":\"DataRange1d\"},{\"attributes\":{\"bottom_units\":\"screen\",\"fill_alpha\":{\"value\":0.5},\"fill_color\":{\"value\":\"lightgrey\"},\"left_units\":\"screen\",\"level\":\"overlay\",\"line_alpha\":{\"value\":1.0},\"line_color\":{\"value\":\"black\"},\"line_dash\":[4,4],\"line_width\":{\"value\":2},\"render_mode\":\"css\",\"right_units\":\"screen\",\"top_units\":\"screen\"},\"id\":\"1290\",\"type\":\"BoxAnnotation\"},{\"attributes\":{\"overlay\":{\"id\":\"1290\",\"type\":\"BoxAnnotation\"}},\"id\":\"1242\",\"type\":\"BoxZoomTool\"},{\"attributes\":{},\"id\":\"1243\",\"type\":\"SaveTool\"},{\"attributes\":{},\"id\":\"1244\",\"type\":\"ResetTool\"},{\"attributes\":{\"active_drag\":\"auto\",\"active_inspect\":\"auto\",\"active_multi\":null,\"active_scroll\":\"auto\",\"active_tap\":\"auto\",\"tools\":[{\"id\":\"1240\",\"type\":\"PanTool\"},{\"id\":\"1241\",\"type\":\"WheelZoomTool\"},{\"id\":\"1242\",\"type\":\"BoxZoomTool\"},{\"id\":\"1243\",\"type\":\"SaveTool\"},{\"id\":\"1244\",\"type\":\"ResetTool\"},{\"id\":\"1245\",\"type\":\"HelpTool\"}]},\"id\":\"1246\",\"type\":\"Toolbar\"},{\"attributes\":{},\"id\":\"1286\",\"type\":\"Selection\"},{\"attributes\":{\"data_source\":{\"id\":\"1253\",\"type\":\"ColumnDataSource\"},\"glyph\":{\"id\":\"1254\",\"type\":\"Scatter\"},\"hover_glyph\":null,\"muted_glyph\":null,\"nonselection_glyph\":{\"id\":\"1255\",\"type\":\"Scatter\"},\"selection_glyph\":null,\"view\":{\"id\":\"1257\",\"type\":\"CDSView\"}},\"id\":\"1256\",\"type\":\"GlyphRenderer\"},{\"attributes\":{\"source\":{\"id\":\"1253\",\"type\":\"ColumnDataSource\"}},\"id\":\"1257\",\"type\":\"CDSView\"},{\"attributes\":{\"ticker\":{\"id\":\"1231\",\"type\":\"BasicTicker\"}},\"id\":\"1234\",\"type\":\"Grid\"},{\"attributes\":{\"formatter\":{\"id\":\"1284\",\"type\":\"BasicTickFormatter\"},\"ticker\":{\"id\":\"1231\",\"type\":\"BasicTicker\"}},\"id\":\"1230\",\"type\":\"LinearAxis\"},{\"attributes\":{},\"id\":\"1245\",\"type\":\"HelpTool\"},{\"attributes\":{\"fill_alpha\":{\"value\":0.5},\"fill_color\":{\"value\":\"red\"},\"line_alpha\":{\"value\":0.5},\"line_color\":{\"value\":\"#1f77b4\"},\"size\":{\"units\":\"screen\",\"value\":5},\"x\":{\"field\":\"x\"},\"y\":{\"field\":\"y\"}},\"id\":\"1259\",\"type\":\"Scatter\"},{\"attributes\":{\"fill_alpha\":{\"value\":0.5},\"fill_color\":{\"value\":\"orange\"},\"line_alpha\":{\"value\":0.5},\"line_color\":{\"value\":\"#1f77b4\"},\"size\":{\"units\":\"screen\",\"value\":5},\"x\":{\"field\":\"x\"},\"y\":{\"field\":\"y\"}},\"id\":\"1254\",\"type\":\"Scatter\"},{\"attributes\":{\"fill_alpha\":{\"value\":0.1},\"fill_color\":{\"value\":\"#1f77b4\"},\"line_alpha\":{\"value\":0.1},\"line_color\":{\"value\":\"#1f77b4\"},\"size\":{\"units\":\"screen\",\"value\":5},\"x\":{\"field\":\"x\"},\"y\":{\"field\":\"y\"}},\"id\":\"1260\",\"type\":\"Scatter\"},{\"attributes\":{},\"id\":\"1226\",\"type\":\"LinearScale\"},{\"attributes\":{\"text\":\"\"},\"id\":\"1220\",\"type\":\"Title\"},{\"attributes\":{\"data_source\":{\"id\":\"1258\",\"type\":\"ColumnDataSource\"},\"glyph\":{\"id\":\"1259\",\"type\":\"Scatter\"},\"hover_glyph\":null,\"muted_glyph\":null,\"nonselection_glyph\":{\"id\":\"1260\",\"type\":\"Scatter\"},\"selection_glyph\":null,\"view\":{\"id\":\"1262\",\"type\":\"CDSView\"}},\"id\":\"1261\",\"type\":\"GlyphRenderer\"},{\"attributes\":{},\"id\":\"1228\",\"type\":\"LinearScale\"},{\"attributes\":{},\"id\":\"1231\",\"type\":\"BasicTicker\"},{\"attributes\":{\"source\":{\"id\":\"1258\",\"type\":\"ColumnDataSource\"}},\"id\":\"1262\",\"type\":\"CDSView\"},{\"attributes\":{\"callback\":null,\"data\":{\"x\":{\"__ndarray__\":\"RJKcQLbFFsFcR0TASCPxQNBv/sAwaQ0/IBZ6P6jZC0H8PB1BDMctwO7Z9cBo6RdBaFQkQDqVCEHIwS3A+KguQDDovz96EsvANL1IQGA6h0CAxRxBILGav9hF7b/AT8NAoK9yv4DNGkHImP+/kC8AQcDtPz4A8Iw/9LUIQWhAqUAbfBTBujUXwHDn40DQubQ/hGu1wFQKJcAY5/U/UI08wKaOjsCwoIJAkE9LPwBRyT5C/2DADCU+QJHp6MAU3hFB+qi+wHCT2kA0xR3AtBAFwEBAncAEedzA8DfWQKJFu0D4mHrAQNsfwVA0aEBg74y+II1dP5wAqkAUeyLAaIDhv6zuJMBP473ASDMTwLQpFEBE08BAgJoFQPdrEcG4Jr6/mC8HwEzi08DwWfVABpq7QBJDesBiNIDAfJtwwMA8usBwNklArPGNQELTHMGoa+jA6nwdwEKjBUHghyzAoOAcQfRNuEC0NwPASB2uwNyYdEBQzZ2/tLiPwGDbeL8Yv4zAjCjLQNio8b8xk/7ANKT0wGDXFL9S6prAhGUCwXwRgkAgbwxB8FVdv5ejG8FIrae/gCTXQOKZg0AU8jbAqJbfQLAMW0A8w/tAjrvGwOguwkCIME1AhJ/7QKhY/j+gfhBACG9jQBAmjcD42oM/JoqcQP5hi0AweMI/gHBoPlbbB0FgF95AkJV9wHQJwMCEvMlAANzyPwAB+73AJ28/TOt4wMBnsz4LxZjA2FD7P7ye/UC6mQxBm0MawaD62j5WSjTAlhoewXA/EsH2nRTBwFbjPnapGEH0jaPAaB58wODalL9gG40/aE6yQCBZokB3jcjAOE4JwGTk1UAMSBVBdNblQDjOeEDAx3Q+TF1rQBya/UB+aHXASNcYQcBQ38Bckd5AgBSOPaAK6cDcmqJASBIVQFALJD9ez4tAwOPgwBzqg8DqadrAZkrqwIDw9D7ObgHAgHQ1QFZ2lEB6CC/AhKpMwFAaCr9mbJHABIgWQYie5cAi0AhBvPwvwESTykBOSYPAXNkmQFRPxEBWjg5BXuuUQJ68okCSXRlBUOStPywgukDkogHAxFD5QLZNqEAA7RPB4tC3QBzMHEFMoQBBluy7QPyTNMDABT0/WNCwv0JfsEDgdwe/2/eawBYFMsCtKefAN6SmwKUAH8G0i/xADCAXQDCNAEDwOp6/ShELwFzplUBGVAPBa2AdwYQ4DkA3HhDBoF7cvwRXH0AIhqPAtBh6QHTy7EAiCl3APG3hQNYG8MD+uxNBU2fWwLirHEEWrL3A+JHeP2FNG8HieKnACDkCwJiXEUGkndhAqmOFQEQwF0EGoVrAiZEAwXgdGEEELTRAwEeiPng7g8BEgDfANBsbwDjOEcH/9a/A5OuswMAnwb9IO1rAwML/v1hriUAgSGzAhMmuwHgYAEE0r5xADD7vwIivt0DQVV7ADH68QCAhpT+qMlzAIBUev0BN+8DsWpfAnPIZwMCSH78K7ofABgS5QIxR0kAQaafAFJYNQXzhgMDoJzlATc7twH5pv0DUZ/hA1B5ywGgrfsAQFSm/L4kdwfqE08AcdsRAMCJ0v+zFaMDghHnAWk4EQZR7VUDfqYXAwKggvwyDp8B8FRLBypLowHDHskCgJONAAGBSO04IR8CE25PAAIA7PJAa4kA4wkJAQM9SPtgr2r8ZPdvAgBytQGZ1hcDwwdhACKAqQCJ5GEG+KIxAdHOOwGwRCEGOnXHAA/jWwMAdZz+mC8TAkGSIP7S0iEC0E65AxP9uwLBUHMG44YhAnJtqQM7JE0G42KZAcFjtQJI5B0H8N9RAlPQ4wARvF0BI/zBAoNiiv7QwwUDQQqjAcIepQAwXLsBmXDrAZj4mwNexGMEouhNBQPm+wLCiqUCIPnhAAMGDvzD2JsCoo1xAALQZQEIHhkCwQw5BZKOyQMYtlUAUTaxAtM9kQB6Xx8B8kOFAXOrWwAB0OLwKlzPAKnkHwRg3gD+etBjAgFGXP1DYxMBA7Qe+sCcPQVCkDkHGTKNA6MOHv5g1PcCgama/iFLNQJDiw7/sZ0RA6DnbvySYHEEQmsdAiPnwPwAFAj1r9onA1NffQJDOJ0B2BopAhFrBQMCrnD6gY+c/slAVQY4nEMD4D3ZAKKWtQDTzyMBoM11AGKvOQKoIGcGy+B3B0KfpQLze38BgOGBAYVUBwWmUCME4K7e/gNGHPlwuxEBA/ga/ECzwv2AoZL+GklfATPs2QPZ2o0AoUipA0nAVwVh+0EDqCBnAAcUXwfDJLkBQlT7AyBtgQDTK7UBa0YNAIDrKP0ArVcAe+CfAbJsZwUA8bUAwtihAKPYKQXJ2oMDMbzVAZnjmwMOOhcB6Da3AZIgDQS7pDcDmq7jA3DODwMzY50AwCo2/eN+uwOQiIsAGV/LA+GYXwTAV5EDUaJrA90IDwZjxEsEwcRpB3GzmQPiKl7/CqINACmwNwRANoL9wcsnAHKUMQVhoHECelZtAWKe5wAAExzynpYrATMYEQXAzJkCQVau/qFkUwAiYJEAADmQ/7ZsFwbIMesCPxxDBVDZFQDAWZb+U+8nAuGmpPxwIn0DYGro/KL6RwJTtdMBQpglBIOduQDsxE8EwSMJAgB7nPmZ6BMGgjxBBtGQIQGM/38BcJq1AvmucwIz4yEC0LKvAJlqbwHDkET92H4/AiCD+QCy++kBYNN9AwpQZQQCAN74YJtU/6AOMwDDCVUCB1eTASEQPweAup0BaRtfATFicQMi470AuzRNBLAxqwM3l8cDW1sLAvtr5wAwNC8FM6ILAiIKJwKA4q0AbuQnBHo6mwCApJEDjZKjAwIC2PmIZFUEkcwrBbjAOQWAZJj+8tJJAh8jSwILe3cAckAtBaE/NP3BGJz+g3m8/OFvEwBB4nT8goBjAEeoawZ3qFsHkTXlABNzOwNo4F0EMvZFALMoqQI6vg0Ds0/RAaJdnwLi+D0HgkglB4BVWv+4DGsDAQP9AEOwYQQSByUBQWAxAJk6LwFj9dUDn2g3B2Jd7QDPst8AwKE1A+AgNQcHDD8GA1x7AgBbfvii6BEEqLRFBLIuWQNyLEEEQueU/IiAdwWgqx0BvFB7BgQ6nwGL6hsDIEEfA5niAwBiSA8DG1LzAIPz3P1oIsUDF767AIL7EwK79QcDIV9I/5zuMwDCa0r+yiuDAEysFwdKiBMFQ3os/zjEQwZ7VCsHYv8lAkJBfv85dskD19w/BBLwIQZBtvsBaFhTAOJoKQC63msC4wc4/sK1Iv8A388A+es7AAKfRQKDNlL6UAplAR36FwHwtesCyugRBWskdQYDz6b7kNAtBiH3HQNCqakA8ZNBAZlICQR5q+8BMLAhBUmG6QABlEECAIWI+RE+XQMB55L4Knr1A+N0NQRBPQr9IURvB2BjQQEi3LUBWMqRAbJEiwNKPEcHEDLHA+rAIQcCSbr/c1MNA+LyXP+jl20AwRQ5B2GQTQY6iU8BJ2c3A0oYPQbAZy0CKt7/AoLcbP+6lpEBE81zAQPnbv2afHsGoxFtAZDBaQDD7gUDUmM5A1CQYQFB+UUCILdnAAGS4PV5knsCtDgXBfoAbwaBm0MCgpORAAIEJP8xSFMBwfwxBEAy/v+0tC8EA00w92YeowKPSFMFYBxZBMssEwdH4BsHweUhATOWCwPz6DsDglR1BJqmlQKxKbsBwB0DAMufswFDXScDsyaPA8KoEQZj0EUAQGlRAMAK+QPYiCcEYAzbAZNYewYRIHMDpywHB/HsRwHCIGUGknDTAgImxPtDq2EBA8yjAPpsZwGB327+0CRbAZnt6wJRGE8AGmVPAmBApQCVjkMAYUtVAnKzpQPw0zUBIQgrBOKfrP7Dso78gfa4/Qrq+wADy9TxoERpAgNNlPwohGUHwkyhA4uKgQEDIG8FgKgZA2fjmwKgdmEDI4/o/iCtJwFLMHsGcfKJACErmv6DP6z4k1AtBulwXQeAcxUCI5BfBNl3dwIzQqUB83J5A7AIZwJ6cCkGcowxBGo0MQSSKlcAon/i/wILCQNmMBcEEoR/AEcz0wImC/cCmdgFBAPFxP6DPHL8QqVa/XBWSQAWug8Bg7rK/6kmMQESB58C4HU9AQIIOPqCgqL7Ak72/OEYZQd53sEBQ4wa/gNQHwIy/yECorVrA+H7YwPCNWsAEotRA4vYNQQCOAUEsHJFA4KB/P0ChPT+YxLS/KASfQAAJwj/ElihAB4ILwUkJy8CYi+i/FSvTwDhmYkAE5QPA2Ii+wIKsh0DsZB1BUqgDwUDti774NMU/1GK5wAkjg8AsNbNAjlh/wAyVXEAAoLU8CfIQwTYxuUAwnJXAhP4KQZA84UBwMZW/b7kawXCEuT9EvEvAH9yzwDSHtUBAov1AzP/jQOgqr0Aw7pxAmUi5wEAWHsCY1uW/fn0cQfjUfUA029dARPkyQCAvukAv6ATBIq7cwICgZ78a1EDAQfP8wFLIycCAExU/vEYJwaadi8B4dtFAqB/Gv4BAfkCIPa9ALMGNQICpQj8aasnAjvoWwXjezkCK+jvA/BBpQKTBBECg52vA1DJ9QI9M08Ca1efANDgAwYD+LcCoW2tAT8qzwN78AEFU2PBAtIQUQXBeQUAlGwzBL2AZwWL96sDgWCC/UmjvwKBPm7/WNwHBNLPuQCDMVD8y9Q1BYLsPvx/so8Drb73AiOScP+o73MBo38HAqM/Xv8A4XT4Ii6G/oqQ9wASOf0AALkY/hJ7SQFYiHMEUFWVAcD7UP8yZS0AgJx7BEOAbQce8CcHU1wRBZhcCwYChmb4UNS1ATra+wN3V3cAU3unACK8JQWEfu8DCvAxBmDeywMiYvUAoZJbAJf0HwUCb50DcoeRA9wEZwY2CpMCMZ9lAgOAcQAQiRkBomylAM2IMwaivBkGEeCPA8uY3wOR69kDkKTrAU2vSwOCR5j9wZ7+/yGjVQJCwyb/4GRlAoBhZwEo2pECoEa/AVOITQRiM0ECIgJXAuv2eQFhCUUAwHf1AZFIjQLxV8UDcxXzA2On3QGwKHsCsdHNAfIa5QGjSq7+8XAdBaHS7QEazxsAsZQhAeg4CwaCWuz5b5hbBesWDQIyQd0A0V+hAADocPRCrtEDwXeVAqHZVQFpkikA4yh7BuEYhwLy91kC4RkVAlDQMQdx0t0DQpIPAtJUWwAhB00D+jwtBaGLIQPCGrsC2fphA1ILsQNBf6j8qjQhBeLiLQN/SmMAA2Bw88G0bPxSABUDE4P3AbsxYwNM7yMC12hLBOJAoQLDH3r/4Uq/AoFvrQGi+LEAgfKW/ADg2P7iSrkCS3w9B9HSkQIA0876xux3BAN9nP2hsD8E8HBZBmOXgPw==\",\"dtype\":\"float32\",\"shape\":[1000]},\"y\":{\"__ndarray__\":\"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\",\"dtype\":\"float32\",\"shape\":[1000]}},\"selected\":{\"id\":\"1288\",\"type\":\"Selection\"},\"selection_policy\":{\"id\":\"1289\",\"type\":\"UnionRenderers\"}},\"id\":\"1258\",\"type\":\"ColumnDataSource\"},{\"attributes\":{\"dimension\":1,\"ticker\":{\"id\":\"1236\",\"type\":\"BasicTicker\"}},\"id\":\"1239\",\"type\":\"Grid\"},{\"attributes\":{},\"id\":\"1282\",\"type\":\"BasicTickFormatter\"},{\"attributes\":{\"callback\":null},\"id\":\"1224\",\"type\":\"DataRange1d\"},{\"attributes\":{},\"id\":\"1236\",\"type\":\"BasicTicker\"},{\"attributes\":{},\"id\":\"1284\",\"type\":\"BasicTickFormatter\"},{\"attributes\":{},\"id\":\"1287\",\"type\":\"UnionRenderers\"},{\"attributes\":{\"callback\":null,\"data\":{\"x\":{\"__ndarray__\":\"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\",\"dtype\":\"float32\",\"shape\":[1000]},\"y\":{\"__ndarray__\":\"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\",\"dtype\":\"float32\",\"shape\":[1000]}},\"selected\":{\"id\":\"1286\",\"type\":\"Selection\"},\"selection_policy\":{\"id\":\"1287\",\"type\":\"UnionRenderers\"}},\"id\":\"1253\",\"type\":\"ColumnDataSource\"}],\"root_ids\":[\"1219\"]},\"title\":\"Bokeh Application\",\"version\":\"1.3.4\"}};\n",
       "  var render_items = [{\"docid\":\"4c7b269e-0c42-42c3-add8-6fb0667f2141\",\"roots\":{\"1219\":\"da3b9c27-b134-4387-8e85-fbeef9c9e924\"}}];\n",
       "  root.Bokeh.embed.embed_items_notebook(docs_json, render_items);\n",
       "\n",
       "  }\n",
       "  if (root.Bokeh !== undefined) {\n",
       "    embed_document(root);\n",
       "  } else {\n",
       "    var attempts = 0;\n",
       "    var timer = setInterval(function(root) {\n",
       "      if (root.Bokeh !== undefined) {\n",
       "        embed_document(root);\n",
       "        clearInterval(timer);\n",
       "      }\n",
       "      attempts++;\n",
       "      if (attempts > 100) {\n",
       "        console.log(\"Bokeh: ERROR: Unable to run BokehJS code because BokehJS library is missing\");\n",
       "        clearInterval(timer);\n",
       "      }\n",
       "    }, 10, root)\n",
       "  }\n",
       "})(window);"
      ],
      "application/vnd.bokehjs_exec.v0+json": ""
     },
     "metadata": {
      "application/vnd.bokehjs_exec.v0+json": {
       "id": "1219"
      }
     },
     "output_type": "display_data"
    }
   ],
   "source": [
    "y_pred = output.data\n",
    "\n",
    "p = scatter(\n",
    "    x.numpy().reshape(-1),\n",
    "    y_pred.numpy().reshape(-1)\n",
    ")\n",
    "\n",
    "mscatter(\n",
    "    p,\n",
    "    x.numpy().reshape(-1),\n",
    "    y.numpy().reshape(-1),\n",
    "    fill_color='red'\n",
    ")\n",
    "\n",
    "show(p)"
   ]
  },
  {
   "cell_type": "markdown",
   "metadata": {},
   "source": [
    "## Using GPU\n",
    "\n",
    "Pytorch 에서 GPU 를 이용하려면 데이터와 모델에 cuda() 함수를 걸어주면 됩니다.\n",
    "\n",
    "그 전에 해당 머신이 GPU 를 이용할 수 있는지 확인해야 합니다. 안전장치로 아래처럼 torch.cuda.is_available() 함수를 이용하여, GPU 를 사용할 것이고, 사용할 수 있을 때에만 조건적으로 cuda() 함수가 작동하도록 몇 줄만 추가하면 앞서 만든 train 함수를 GPU 용으로 만들 수 있습니다."
   ]
  },
  {
   "cell_type": "code",
   "execution_count": 19,
   "metadata": {},
   "outputs": [
    {
     "name": "stdout",
     "output_type": "stream",
     "text": [
      "iter = 1000, loss = 4.05379056930542\n",
      "iter = 2000, loss = 4.0540919303894045\n",
      "iter = 3000, loss = 4.0538854598999025\n",
      "iter = 4000, loss = 4.0537281036376955\n",
      "iter = 5000, loss = 4.0538773536682135\n",
      "iter = 6000, loss = 4.0540075302124025\n",
      "iter = 7000, loss = 4.0536460876464845\n",
      "iter = 8000, loss = 4.0538463592529315\n",
      "iter = 9000, loss = 4.0535926818847665\n",
      "iter = 10000, loss = 4.053734779357915\n"
     ]
    }
   ],
   "source": [
    "def train_w_gpu(x, y, model, loss_func, optimizer, num_epoch, use_gpu=True):\n",
    "\n",
    "    if use_gpu and torch.cuda.is_available():\n",
    "        model = model.cuda()\n",
    "    \n",
    "    # output as Variable\n",
    "    if use_gpu and torch.cuda.is_available():\n",
    "        label = y.cuda()\n",
    "    else:\n",
    "        label = y\n",
    "    \n",
    "    # for given epochs\n",
    "    for i in range(1, num_epoch + 1):\n",
    "\n",
    "        # prediction\n",
    "        if use_gpu and torch.cuda.is_available():\n",
    "            output = model(x.cuda())\n",
    "        else:\n",
    "            output = model(x)\n",
    "\n",
    "        # clears the gradients of all optimized\n",
    "        optimizer.zero_grad()\n",
    "\n",
    "        # compute loss\n",
    "        loss = loss_func(output,label)\n",
    "\n",
    "        # back-propagation\n",
    "        loss.backward()\n",
    "\n",
    "        # update model parameter\n",
    "        optimizer.step()\n",
    "\n",
    "        if i % 100 == 0:\n",
    "            if use_gpu and torch.cuda.is_available():\n",
    "                loss_value = loss.data.cpu().numpy()\n",
    "            else:\n",
    "                loss_value = loss.data.numpy()\n",
    "            print('\\riter = {}, loss = {}'.format(i, loss_value), end='', flush=True)\n",
    "        if i % 1000 == 0:\n",
    "            print()\n",
    "\n",
    "    if use_gpu and torch.cuda.is_available():\n",
    "        output = output.cpu()\n",
    "\n",
    "    return model, output\n",
    "\n",
    "model, output = train_w_gpu(x, y, model, loss_func, optimizer, num_epoch=10000)"
   ]
  },
  {
   "cell_type": "markdown",
   "metadata": {},
   "source": [
    "## Model 을 class 로 만들기\n",
    "\n",
    "이전에는 model 을 nn.Sequential 의 형태로 만들었습니다. 같은 구조의 모델을 재활용하기 위해서는 해당 모델을 class 형태로 만들면 좋습니다.\n",
    "\n",
    "Pytorch 에서 neural network 를 class 로 만들 때에는 두 가지 형식으로 만들 수 있습니다. 둘 모두 공통적으로 nn.Module 을 상속해야 합니다. 그리고 forward() 함수를 오버라이딩해야 합니다. nn.Module 을 상속하면, 이후 class instance 를 model 로 이용할 수 있습니다."
   ]
  },
  {
   "cell_type": "markdown",
   "metadata": {},
   "source": [
    "### type 1\n",
    "\n",
    "일단 Python 의 class 상속이기 때문에 super().__init__() 을 반드시 구현해야 합니다.\n",
    "\n",
    "첫번째 타입으로는, 앞서 만든 nn.Sequential() 을 class attribute 로 이용하는 것입니다. self.layers 에 앞서 만든 nn.Sequential 을 그대로 구현합니다.\n",
    "\n",
    "forward 함수의 input argument 는 데이터 X 입니다. 이를 받아 self.layers 에 입력하여 forward 결과 값을 얻습니다. 이를 output 으로 return 합니다."
   ]
  },
  {
   "cell_type": "code",
   "execution_count": 20,
   "metadata": {},
   "outputs": [],
   "source": [
    "class FFN1_type1(nn.Module):\n",
    "    # torch.nn 의 layers 로 이뤄진 모델로 만들기 위해서 \n",
    "    # nn.Module 을 상속받아야 합니다.\n",
    "\n",
    "    def __init__(self):        \n",
    "        # 상속받은 class 를 생성하기 위해서는 아래처럼 super().__init__() 을 실행합니다.\n",
    "        super(FFN1_type1, self).__init__()\n",
    "\n",
    "        # model construction\n",
    "        self.layers =  nn.Sequential(\n",
    "            # 1st hidden layer\n",
    "            nn.Linear(1,20),\n",
    "            # 1st activation function\n",
    "            nn.ReLU(),\n",
    "            # 2nd hidden layer\n",
    "            nn.Linear(20,5),\n",
    "            # 2st activation function\n",
    "            nn.ReLU(),\n",
    "            # last hidden layer\n",
    "            # output is 1-dim for prediction\n",
    "            nn.Linear(5,1)\n",
    "        )\n",
    "\n",
    "    # feed-forward 를 위해서 forward() 함수를 overriding 합니다.\n",
    "    def forward(self, x):\n",
    "        output = self.layers(x)\n",
    "        return output"
   ]
  },
  {
   "cell_type": "markdown",
   "metadata": {},
   "source": [
    "앞서 만든 타입의 class 의 instance 를 만듭니다. 이것만으로 모델을 만드는 것이 모두 끝납니다. 그 뒤는 앞과 동일하게 train 함수를 이용합니다."
   ]
  },
  {
   "cell_type": "code",
   "execution_count": 21,
   "metadata": {},
   "outputs": [
    {
     "name": "stdout",
     "output_type": "stream",
     "text": [
      "iter = 1000, loss = 8.353765487670898\n",
      "iter = 2000, loss = 6.2013835906982425\n",
      "iter = 3000, loss = 4.6591753959655765\n",
      "iter = 4000, loss = 4.2893118858337475\n",
      "iter = 5000, loss = 4.1837525367736825\n",
      "iter = 6000, loss = 4.113969326019287\n",
      "iter = 7000, loss = 4.0869302749633795\n",
      "iter = 8000, loss = 4.0766539573669435\n",
      "iter = 9000, loss = 4.069092273712158\n",
      "iter = 10000, loss = 4.067949295043945\n"
     ]
    }
   ],
   "source": [
    "# model construction\n",
    "model = FFN1_type1()\n",
    "\n",
    "# loss function & optimizer\n",
    "# L1 loss\n",
    "loss_func = nn.L1Loss()\n",
    "# Adam optimizer\n",
    "optimizer = optim.Adam(model.parameters(),lr=0.001)\n",
    "\n",
    "# train model\n",
    "model, output = train(x, y, model, loss_func, optimizer, num_epoch=10000)"
   ]
  },
  {
   "cell_type": "markdown",
   "metadata": {},
   "source": [
    "학습 결과도 제대로 되었음을 확인할 수 있습니다."
   ]
  },
  {
   "cell_type": "code",
   "execution_count": 22,
   "metadata": {},
   "outputs": [
    {
     "data": {
      "text/html": [
       "\n",
       "\n",
       "\n",
       "\n",
       "\n",
       "\n",
       "  <div class=\"bk-root\" id=\"9a2efd9e-2783-4bfb-81b9-7724cacf508a\" data-root-id=\"1351\"></div>\n"
      ]
     },
     "metadata": {},
     "output_type": "display_data"
    },
    {
     "data": {
      "application/javascript": [
       "(function(root) {\n",
       "  function embed_document(root) {\n",
       "    \n",
       "  var docs_json = {\"9c866cc5-993c-41dc-b47b-1f02c1b6b99d\":{\"roots\":{\"references\":[{\"attributes\":{\"below\":[{\"id\":\"1362\",\"type\":\"LinearAxis\"}],\"center\":[{\"id\":\"1366\",\"type\":\"Grid\"},{\"id\":\"1371\",\"type\":\"Grid\"}],\"height\":600,\"left\":[{\"id\":\"1367\",\"type\":\"LinearAxis\"}],\"renderers\":[{\"id\":\"1388\",\"type\":\"GlyphRenderer\"},{\"id\":\"1393\",\"type\":\"GlyphRenderer\"}],\"title\":{\"id\":\"1352\",\"type\":\"Title\"},\"toolbar\":{\"id\":\"1378\",\"type\":\"Toolbar\"},\"width\":600,\"x_range\":{\"id\":\"1354\",\"type\":\"DataRange1d\"},\"x_scale\":{\"id\":\"1358\",\"type\":\"LinearScale\"},\"y_range\":{\"id\":\"1356\",\"type\":\"DataRange1d\"},\"y_scale\":{\"id\":\"1360\",\"type\":\"LinearScale\"}},\"id\":\"1351\",\"subtype\":\"Figure\",\"type\":\"Plot\"},{\"attributes\":{\"text\":\"\"},\"id\":\"1352\",\"type\":\"Title\"},{\"attributes\":{},\"id\":\"1358\",\"type\":\"LinearScale\"},{\"attributes\":{},\"id\":\"1360\",\"type\":\"LinearScale\"},{\"attributes\":{\"data_source\":{\"id\":\"1385\",\"type\":\"ColumnDataSource\"},\"glyph\":{\"id\":\"1386\",\"type\":\"Scatter\"},\"hover_glyph\":null,\"muted_glyph\":null,\"nonselection_glyph\":{\"id\":\"1387\",\"type\":\"Scatter\"},\"selection_glyph\":null,\"view\":{\"id\":\"1389\",\"type\":\"CDSView\"}},\"id\":\"1388\",\"type\":\"GlyphRenderer\"},{\"attributes\":{\"callback\":null,\"data\":{\"x\":{\"__ndarray__\":\"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\",\"dtype\":\"float32\",\"shape\":[1000]},\"y\":{\"__ndarray__\":\"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\",\"dtype\":\"float32\",\"shape\":[1000]}},\"selected\":{\"id\":\"1428\",\"type\":\"Selection\"},\"selection_policy\":{\"id\":\"1429\",\"type\":\"UnionRenderers\"}},\"id\":\"1385\",\"type\":\"ColumnDataSource\"},{\"attributes\":{\"formatter\":{\"id\":\"1426\",\"type\":\"BasicTickFormatter\"},\"ticker\":{\"id\":\"1363\",\"type\":\"BasicTicker\"}},\"id\":\"1362\",\"type\":\"LinearAxis\"},{\"attributes\":{\"source\":{\"id\":\"1385\",\"type\":\"ColumnDataSource\"}},\"id\":\"1389\",\"type\":\"CDSView\"},{\"attributes\":{\"callback\":null},\"id\":\"1356\",\"type\":\"DataRange1d\"},{\"attributes\":{},\"id\":\"1363\",\"type\":\"BasicTicker\"},{\"attributes\":{\"callback\":null,\"data\":{\"x\":{\"__ndarray__\":\"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\",\"dtype\":\"float32\",\"shape\":[1000]},\"y\":{\"__ndarray__\":\"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\",\"dtype\":\"float32\",\"shape\":[1000]}},\"selected\":{\"id\":\"1430\",\"type\":\"Selection\"},\"selection_policy\":{\"id\":\"1431\",\"type\":\"UnionRenderers\"}},\"id\":\"1390\",\"type\":\"ColumnDataSource\"},{\"attributes\":{\"ticker\":{\"id\":\"1363\",\"type\":\"BasicTicker\"}},\"id\":\"1366\",\"type\":\"Grid\"},{\"attributes\":{\"fill_alpha\":{\"value\":0.5},\"fill_color\":{\"value\":\"red\"},\"line_alpha\":{\"value\":0.5},\"line_color\":{\"value\":\"#1f77b4\"},\"size\":{\"units\":\"screen\",\"value\":5},\"x\":{\"field\":\"x\"},\"y\":{\"field\":\"y\"}},\"id\":\"1391\",\"type\":\"Scatter\"},{\"attributes\":{\"formatter\":{\"id\":\"1424\",\"type\":\"BasicTickFormatter\"},\"ticker\":{\"id\":\"1368\",\"type\":\"BasicTicker\"}},\"id\":\"1367\",\"type\":\"LinearAxis\"},{\"attributes\":{},\"id\":\"1424\",\"type\":\"BasicTickFormatter\"},{\"attributes\":{},\"id\":\"1368\",\"type\":\"BasicTicker\"},{\"attributes\":{\"fill_alpha\":{\"value\":0.1},\"fill_color\":{\"value\":\"#1f77b4\"},\"line_alpha\":{\"value\":0.1},\"line_color\":{\"value\":\"#1f77b4\"},\"size\":{\"units\":\"screen\",\"value\":5},\"x\":{\"field\":\"x\"},\"y\":{\"field\":\"y\"}},\"id\":\"1392\",\"type\":\"Scatter\"},{\"attributes\":{\"dimension\":1,\"ticker\":{\"id\":\"1368\",\"type\":\"BasicTicker\"}},\"id\":\"1371\",\"type\":\"Grid\"},{\"attributes\":{\"data_source\":{\"id\":\"1390\",\"type\":\"ColumnDataSource\"},\"glyph\":{\"id\":\"1391\",\"type\":\"Scatter\"},\"hover_glyph\":null,\"muted_glyph\":null,\"nonselection_glyph\":{\"id\":\"1392\",\"type\":\"Scatter\"},\"selection_glyph\":null,\"view\":{\"id\":\"1394\",\"type\":\"CDSView\"}},\"id\":\"1393\",\"type\":\"GlyphRenderer\"},{\"attributes\":{\"callback\":null},\"id\":\"1354\",\"type\":\"DataRange1d\"},{\"attributes\":{\"source\":{\"id\":\"1390\",\"type\":\"ColumnDataSource\"}},\"id\":\"1394\",\"type\":\"CDSView\"},{\"attributes\":{\"fill_alpha\":{\"value\":0.5},\"fill_color\":{\"value\":\"orange\"},\"line_alpha\":{\"value\":0.5},\"line_color\":{\"value\":\"#1f77b4\"},\"size\":{\"units\":\"screen\",\"value\":5},\"x\":{\"field\":\"x\"},\"y\":{\"field\":\"y\"}},\"id\":\"1386\",\"type\":\"Scatter\"},{\"attributes\":{},\"id\":\"1372\",\"type\":\"PanTool\"},{\"attributes\":{},\"id\":\"1426\",\"type\":\"BasicTickFormatter\"},{\"attributes\":{},\"id\":\"1373\",\"type\":\"WheelZoomTool\"},{\"attributes\":{},\"id\":\"1428\",\"type\":\"Selection\"},{\"attributes\":{\"overlay\":{\"id\":\"1432\",\"type\":\"BoxAnnotation\"}},\"id\":\"1374\",\"type\":\"BoxZoomTool\"},{\"attributes\":{},\"id\":\"1429\",\"type\":\"UnionRenderers\"},{\"attributes\":{},\"id\":\"1375\",\"type\":\"SaveTool\"},{\"attributes\":{},\"id\":\"1430\",\"type\":\"Selection\"},{\"attributes\":{},\"id\":\"1376\",\"type\":\"ResetTool\"},{\"attributes\":{},\"id\":\"1431\",\"type\":\"UnionRenderers\"},{\"attributes\":{},\"id\":\"1377\",\"type\":\"HelpTool\"},{\"attributes\":{\"bottom_units\":\"screen\",\"fill_alpha\":{\"value\":0.5},\"fill_color\":{\"value\":\"lightgrey\"},\"left_units\":\"screen\",\"level\":\"overlay\",\"line_alpha\":{\"value\":1.0},\"line_color\":{\"value\":\"black\"},\"line_dash\":[4,4],\"line_width\":{\"value\":2},\"render_mode\":\"css\",\"right_units\":\"screen\",\"top_units\":\"screen\"},\"id\":\"1432\",\"type\":\"BoxAnnotation\"},{\"attributes\":{\"active_drag\":\"auto\",\"active_inspect\":\"auto\",\"active_multi\":null,\"active_scroll\":\"auto\",\"active_tap\":\"auto\",\"tools\":[{\"id\":\"1372\",\"type\":\"PanTool\"},{\"id\":\"1373\",\"type\":\"WheelZoomTool\"},{\"id\":\"1374\",\"type\":\"BoxZoomTool\"},{\"id\":\"1375\",\"type\":\"SaveTool\"},{\"id\":\"1376\",\"type\":\"ResetTool\"},{\"id\":\"1377\",\"type\":\"HelpTool\"}]},\"id\":\"1378\",\"type\":\"Toolbar\"},{\"attributes\":{\"fill_alpha\":{\"value\":0.1},\"fill_color\":{\"value\":\"#1f77b4\"},\"line_alpha\":{\"value\":0.1},\"line_color\":{\"value\":\"#1f77b4\"},\"size\":{\"units\":\"screen\",\"value\":5},\"x\":{\"field\":\"x\"},\"y\":{\"field\":\"y\"}},\"id\":\"1387\",\"type\":\"Scatter\"}],\"root_ids\":[\"1351\"]},\"title\":\"Bokeh Application\",\"version\":\"1.3.4\"}};\n",
       "  var render_items = [{\"docid\":\"9c866cc5-993c-41dc-b47b-1f02c1b6b99d\",\"roots\":{\"1351\":\"9a2efd9e-2783-4bfb-81b9-7724cacf508a\"}}];\n",
       "  root.Bokeh.embed.embed_items_notebook(docs_json, render_items);\n",
       "\n",
       "  }\n",
       "  if (root.Bokeh !== undefined) {\n",
       "    embed_document(root);\n",
       "  } else {\n",
       "    var attempts = 0;\n",
       "    var timer = setInterval(function(root) {\n",
       "      if (root.Bokeh !== undefined) {\n",
       "        embed_document(root);\n",
       "        clearInterval(timer);\n",
       "      }\n",
       "      attempts++;\n",
       "      if (attempts > 100) {\n",
       "        console.log(\"Bokeh: ERROR: Unable to run BokehJS code because BokehJS library is missing\");\n",
       "        clearInterval(timer);\n",
       "      }\n",
       "    }, 10, root)\n",
       "  }\n",
       "})(window);"
      ],
      "application/vnd.bokehjs_exec.v0+json": ""
     },
     "metadata": {
      "application/vnd.bokehjs_exec.v0+json": {
       "id": "1351"
      }
     },
     "output_type": "display_data"
    }
   ],
   "source": [
    "y_pred = output.data\n",
    "\n",
    "p = scatter(\n",
    "    x.numpy().reshape(-1),\n",
    "    y_pred.numpy().reshape(-1)\n",
    ")\n",
    "\n",
    "mscatter(\n",
    "    p,\n",
    "    x.numpy().reshape(-1),\n",
    "    y.numpy().reshape(-1),\n",
    "    fill_color='red'\n",
    ")\n",
    "\n",
    "show(p)"
   ]
  },
  {
   "cell_type": "markdown",
   "metadata": {},
   "source": [
    "### type 2\n",
    "\n",
    "두번째 타입은 nn.Sequential 에 들어가던 각 요소를 따로따로 구현하는 것입니다. 이 때에는 forward 함수가 조금 복잡해집니다. 정확히는 nn.Sequential 에 들어가던 요소들을 풀어서 적용하는 것입니다. \n",
    "\n",
    "이번에는 activation function 이 layer 가 아니라 함수 형태로 이용됩니다. 그렇기 때문에 torch.nn.functional 을 import 합니다."
   ]
  },
  {
   "cell_type": "code",
   "execution_count": 23,
   "metadata": {},
   "outputs": [],
   "source": [
    "import torch.nn.functional as F\n",
    "\n",
    "class FFN1_type2(nn.Module):\n",
    "    # torch.nn 의 layers 로 이뤄진 모델로 만들기 위해서 \n",
    "    # nn.Module 을 상속받아야 합니다.\n",
    "    \n",
    "    def __init__(self):        \n",
    "        # 상속받은 class 를 생성하기 위해서는 아래처럼 super().__init__() 을 실행합니다.\n",
    "        super(FFN1_type2, self).__init__()\n",
    "        \n",
    "        # 1st hidden layer\n",
    "        self.fc1 = nn.Linear(1,20)\n",
    "        \n",
    "        # 2nd hidden layer\n",
    "        self.fc2 = nn.Linear(20,5)\n",
    "\n",
    "        # last hidden layer\n",
    "        # output is 1-dim for prediction\n",
    "        self.fc_out = nn.Linear(5,1)\n",
    "    \n",
    "    # feed-forward 를 위해서 forward() 함수를 overriding 합니다.\n",
    "    # activation function 은 torch.nn 이 아닌\n",
    "    # torch.nn.functional 을 이용합니다.\n",
    "    def forward(self, x):\n",
    "\n",
    "        # 1st hidden layer\n",
    "        out = self.fc1(x)\n",
    "\n",
    "        # 1st activation function\n",
    "        out = F.relu(out)\n",
    "\n",
    "        # 2nd hidden layer and activation\n",
    "        out = F.relu(self.fc2(out))\n",
    "\n",
    "        # to ouput layer\n",
    "        out = self.fc_out(out)\n",
    "\n",
    "        return out"
   ]
  },
  {
   "cell_type": "markdown",
   "metadata": {},
   "source": [
    "두번째 타입의 class instance 를 만들어 학습을 합니다."
   ]
  },
  {
   "cell_type": "code",
   "execution_count": 24,
   "metadata": {},
   "outputs": [
    {
     "name": "stdout",
     "output_type": "stream",
     "text": [
      "iter = 1000, loss = 9.122326850891113\n",
      "iter = 2000, loss = 4.5352778434753425\n",
      "iter = 3000, loss = 4.221447467803955\n",
      "iter = 4000, loss = 4.1925063133239755\n",
      "iter = 5000, loss = 4.1714816093444825\n",
      "iter = 6000, loss = 4.1547899246215825\n",
      "iter = 7000, loss = 4.1527795791625985\n",
      "iter = 8000, loss = 4.1503667831420965\n",
      "iter = 9000, loss = 4.149745941162109\n",
      "iter = 10000, loss = 4.149230003356934\n"
     ]
    }
   ],
   "source": [
    "# model construction\n",
    "model2 = FFN1_type2()\n",
    "\n",
    "# loss function & optimizer\n",
    "# L1 loss\n",
    "loss_func = nn.L1Loss()\n",
    "# Adam optimizer\n",
    "optimizer = optim.Adam(model2.parameters(),lr=0.001)\n",
    "\n",
    "# train model\n",
    "model2, output = train(x, y, model2, loss_func, optimizer, num_epoch=10000)"
   ]
  },
  {
   "cell_type": "markdown",
   "metadata": {},
   "source": [
    "그리고 결과도 확인합니다. 둘 모두 학습이 잘 되었습니다."
   ]
  },
  {
   "cell_type": "code",
   "execution_count": 25,
   "metadata": {},
   "outputs": [
    {
     "data": {
      "text/html": [
       "\n",
       "\n",
       "\n",
       "\n",
       "\n",
       "\n",
       "  <div class=\"bk-root\" id=\"e09a95df-df0c-4ee2-a9a5-611db61db81f\" data-root-id=\"1493\"></div>\n"
      ]
     },
     "metadata": {},
     "output_type": "display_data"
    },
    {
     "data": {
      "application/javascript": [
       "(function(root) {\n",
       "  function embed_document(root) {\n",
       "    \n",
       "  var docs_json = {\"180adb0a-4362-4a5e-8e37-3d4a333d8a75\":{\"roots\":{\"references\":[{\"attributes\":{\"below\":[{\"id\":\"1504\",\"type\":\"LinearAxis\"}],\"center\":[{\"id\":\"1508\",\"type\":\"Grid\"},{\"id\":\"1513\",\"type\":\"Grid\"}],\"height\":600,\"left\":[{\"id\":\"1509\",\"type\":\"LinearAxis\"}],\"renderers\":[{\"id\":\"1530\",\"type\":\"GlyphRenderer\"},{\"id\":\"1535\",\"type\":\"GlyphRenderer\"}],\"title\":{\"id\":\"1494\",\"type\":\"Title\"},\"toolbar\":{\"id\":\"1520\",\"type\":\"Toolbar\"},\"width\":600,\"x_range\":{\"id\":\"1496\",\"type\":\"DataRange1d\"},\"x_scale\":{\"id\":\"1500\",\"type\":\"LinearScale\"},\"y_range\":{\"id\":\"1498\",\"type\":\"DataRange1d\"},\"y_scale\":{\"id\":\"1502\",\"type\":\"LinearScale\"}},\"id\":\"1493\",\"subtype\":\"Figure\",\"type\":\"Plot\"},{\"attributes\":{\"dimension\":1,\"ticker\":{\"id\":\"1510\",\"type\":\"BasicTicker\"}},\"id\":\"1513\",\"type\":\"Grid\"},{\"attributes\":{},\"id\":\"1510\",\"type\":\"BasicTicker\"},{\"attributes\":{},\"id\":\"1576\",\"type\":\"BasicTickFormatter\"},{\"attributes\":{},\"id\":\"1514\",\"type\":\"PanTool\"},{\"attributes\":{},\"id\":\"1505\",\"type\":\"BasicTicker\"},{\"attributes\":{},\"id\":\"1578\",\"type\":\"BasicTickFormatter\"},{\"attributes\":{\"callback\":null,\"data\":{\"x\":{\"__ndarray__\":\"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\",\"dtype\":\"float32\",\"shape\":[1000]},\"y\":{\"__ndarray__\":\"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\",\"dtype\":\"float32\",\"shape\":[1000]}},\"selected\":{\"id\":\"1580\",\"type\":\"Selection\"},\"selection_policy\":{\"id\":\"1581\",\"type\":\"UnionRenderers\"}},\"id\":\"1527\",\"type\":\"ColumnDataSource\"},{\"attributes\":{},\"id\":\"1515\",\"type\":\"WheelZoomTool\"},{\"attributes\":{},\"id\":\"1580\",\"type\":\"Selection\"},{\"attributes\":{},\"id\":\"1502\",\"type\":\"LinearScale\"},{\"attributes\":{\"overlay\":{\"id\":\"1584\",\"type\":\"BoxAnnotation\"}},\"id\":\"1516\",\"type\":\"BoxZoomTool\"},{\"attributes\":{},\"id\":\"1581\",\"type\":\"UnionRenderers\"},{\"attributes\":{\"formatter\":{\"id\":\"1576\",\"type\":\"BasicTickFormatter\"},\"ticker\":{\"id\":\"1510\",\"type\":\"BasicTicker\"}},\"id\":\"1509\",\"type\":\"LinearAxis\"},{\"attributes\":{},\"id\":\"1517\",\"type\":\"SaveTool\"},{\"attributes\":{},\"id\":\"1582\",\"type\":\"Selection\"},{\"attributes\":{},\"id\":\"1518\",\"type\":\"ResetTool\"},{\"attributes\":{},\"id\":\"1583\",\"type\":\"UnionRenderers\"},{\"attributes\":{},\"id\":\"1519\",\"type\":\"HelpTool\"},{\"attributes\":{\"bottom_units\":\"screen\",\"fill_alpha\":{\"value\":0.5},\"fill_color\":{\"value\":\"lightgrey\"},\"left_units\":\"screen\",\"level\":\"overlay\",\"line_alpha\":{\"value\":1.0},\"line_color\":{\"value\":\"black\"},\"line_dash\":[4,4],\"line_width\":{\"value\":2},\"render_mode\":\"css\",\"right_units\":\"screen\",\"top_units\":\"screen\"},\"id\":\"1584\",\"type\":\"BoxAnnotation\"},{\"attributes\":{\"active_drag\":\"auto\",\"active_inspect\":\"auto\",\"active_multi\":null,\"active_scroll\":\"auto\",\"active_tap\":\"auto\",\"tools\":[{\"id\":\"1514\",\"type\":\"PanTool\"},{\"id\":\"1515\",\"type\":\"WheelZoomTool\"},{\"id\":\"1516\",\"type\":\"BoxZoomTool\"},{\"id\":\"1517\",\"type\":\"SaveTool\"},{\"id\":\"1518\",\"type\":\"ResetTool\"},{\"id\":\"1519\",\"type\":\"HelpTool\"}]},\"id\":\"1520\",\"type\":\"Toolbar\"},{\"attributes\":{\"fill_alpha\":{\"value\":0.5},\"fill_color\":{\"value\":\"orange\"},\"line_alpha\":{\"value\":0.5},\"line_color\":{\"value\":\"#1f77b4\"},\"size\":{\"units\":\"screen\",\"value\":5},\"x\":{\"field\":\"x\"},\"y\":{\"field\":\"y\"}},\"id\":\"1528\",\"type\":\"Scatter\"},{\"attributes\":{\"callback\":null,\"data\":{\"x\":{\"__ndarray__\":\"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\",\"dtype\":\"float32\",\"shape\":[1000]},\"y\":{\"__ndarray__\":\"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\",\"dtype\":\"float32\",\"shape\":[1000]}},\"selected\":{\"id\":\"1582\",\"type\":\"Selection\"},\"selection_policy\":{\"id\":\"1583\",\"type\":\"UnionRenderers\"}},\"id\":\"1532\",\"type\":\"ColumnDataSource\"},{\"attributes\":{\"fill_alpha\":{\"value\":0.1},\"fill_color\":{\"value\":\"#1f77b4\"},\"line_alpha\":{\"value\":0.1},\"line_color\":{\"value\":\"#1f77b4\"},\"size\":{\"units\":\"screen\",\"value\":5},\"x\":{\"field\":\"x\"},\"y\":{\"field\":\"y\"}},\"id\":\"1529\",\"type\":\"Scatter\"},{\"attributes\":{\"ticker\":{\"id\":\"1505\",\"type\":\"BasicTicker\"}},\"id\":\"1508\",\"type\":\"Grid\"},{\"attributes\":{\"data_source\":{\"id\":\"1527\",\"type\":\"ColumnDataSource\"},\"glyph\":{\"id\":\"1528\",\"type\":\"Scatter\"},\"hover_glyph\":null,\"muted_glyph\":null,\"nonselection_glyph\":{\"id\":\"1529\",\"type\":\"Scatter\"},\"selection_glyph\":null,\"view\":{\"id\":\"1531\",\"type\":\"CDSView\"}},\"id\":\"1530\",\"type\":\"GlyphRenderer\"},{\"attributes\":{\"source\":{\"id\":\"1527\",\"type\":\"ColumnDataSource\"}},\"id\":\"1531\",\"type\":\"CDSView\"},{\"attributes\":{\"callback\":null},\"id\":\"1496\",\"type\":\"DataRange1d\"},{\"attributes\":{\"fill_alpha\":{\"value\":0.5},\"fill_color\":{\"value\":\"red\"},\"line_alpha\":{\"value\":0.5},\"line_color\":{\"value\":\"#1f77b4\"},\"size\":{\"units\":\"screen\",\"value\":5},\"x\":{\"field\":\"x\"},\"y\":{\"field\":\"y\"}},\"id\":\"1533\",\"type\":\"Scatter\"},{\"attributes\":{\"formatter\":{\"id\":\"1578\",\"type\":\"BasicTickFormatter\"},\"ticker\":{\"id\":\"1505\",\"type\":\"BasicTicker\"}},\"id\":\"1504\",\"type\":\"LinearAxis\"},{\"attributes\":{},\"id\":\"1500\",\"type\":\"LinearScale\"},{\"attributes\":{\"fill_alpha\":{\"value\":0.1},\"fill_color\":{\"value\":\"#1f77b4\"},\"line_alpha\":{\"value\":0.1},\"line_color\":{\"value\":\"#1f77b4\"},\"size\":{\"units\":\"screen\",\"value\":5},\"x\":{\"field\":\"x\"},\"y\":{\"field\":\"y\"}},\"id\":\"1534\",\"type\":\"Scatter\"},{\"attributes\":{\"data_source\":{\"id\":\"1532\",\"type\":\"ColumnDataSource\"},\"glyph\":{\"id\":\"1533\",\"type\":\"Scatter\"},\"hover_glyph\":null,\"muted_glyph\":null,\"nonselection_glyph\":{\"id\":\"1534\",\"type\":\"Scatter\"},\"selection_glyph\":null,\"view\":{\"id\":\"1536\",\"type\":\"CDSView\"}},\"id\":\"1535\",\"type\":\"GlyphRenderer\"},{\"attributes\":{\"callback\":null},\"id\":\"1498\",\"type\":\"DataRange1d\"},{\"attributes\":{\"text\":\"\"},\"id\":\"1494\",\"type\":\"Title\"},{\"attributes\":{\"source\":{\"id\":\"1532\",\"type\":\"ColumnDataSource\"}},\"id\":\"1536\",\"type\":\"CDSView\"}],\"root_ids\":[\"1493\"]},\"title\":\"Bokeh Application\",\"version\":\"1.3.4\"}};\n",
       "  var render_items = [{\"docid\":\"180adb0a-4362-4a5e-8e37-3d4a333d8a75\",\"roots\":{\"1493\":\"e09a95df-df0c-4ee2-a9a5-611db61db81f\"}}];\n",
       "  root.Bokeh.embed.embed_items_notebook(docs_json, render_items);\n",
       "\n",
       "  }\n",
       "  if (root.Bokeh !== undefined) {\n",
       "    embed_document(root);\n",
       "  } else {\n",
       "    var attempts = 0;\n",
       "    var timer = setInterval(function(root) {\n",
       "      if (root.Bokeh !== undefined) {\n",
       "        embed_document(root);\n",
       "        clearInterval(timer);\n",
       "      }\n",
       "      attempts++;\n",
       "      if (attempts > 100) {\n",
       "        console.log(\"Bokeh: ERROR: Unable to run BokehJS code because BokehJS library is missing\");\n",
       "        clearInterval(timer);\n",
       "      }\n",
       "    }, 10, root)\n",
       "  }\n",
       "})(window);"
      ],
      "application/vnd.bokehjs_exec.v0+json": ""
     },
     "metadata": {
      "application/vnd.bokehjs_exec.v0+json": {
       "id": "1493"
      }
     },
     "output_type": "display_data"
    }
   ],
   "source": [
    "y_pred = output.data\n",
    "\n",
    "p = scatter(\n",
    "    x.numpy().reshape(-1),\n",
    "    y_pred.numpy().reshape(-1)\n",
    ")\n",
    "\n",
    "mscatter(\n",
    "    p,\n",
    "    x.numpy().reshape(-1),\n",
    "    y.numpy().reshape(-1),\n",
    "    fill_color='red'\n",
    ")\n",
    "\n",
    "show(p)"
   ]
  },
  {
   "cell_type": "markdown",
   "metadata": {},
   "source": [
    "## model print\n",
    "\n",
    "두 종류로 모델을 구현하였을 때 성능에는 차이가 없습니다. 단, 첫번째 타입에서는 activation function 도 neural network layer 취급이 됩니다.\n",
    "\n",
    "nn.Module 을 print 하면 class 내부의 torch.nn 들이 출력됩니다."
   ]
  },
  {
   "cell_type": "code",
   "execution_count": 26,
   "metadata": {},
   "outputs": [
    {
     "name": "stdout",
     "output_type": "stream",
     "text": [
      "FFN1_type1(\n",
      "  (layers): Sequential(\n",
      "    (0): Linear(in_features=1, out_features=20, bias=True)\n",
      "    (1): ReLU()\n",
      "    (2): Linear(in_features=20, out_features=5, bias=True)\n",
      "    (3): ReLU()\n",
      "    (4): Linear(in_features=5, out_features=1, bias=True)\n",
      "  )\n",
      ")\n"
     ]
    }
   ],
   "source": [
    "print(model)"
   ]
  },
  {
   "cell_type": "code",
   "execution_count": 27,
   "metadata": {},
   "outputs": [
    {
     "name": "stdout",
     "output_type": "stream",
     "text": [
      "FFN1_type2(\n",
      "  (fc1): Linear(in_features=1, out_features=20, bias=True)\n",
      "  (fc2): Linear(in_features=20, out_features=5, bias=True)\n",
      "  (fc_out): Linear(in_features=5, out_features=1, bias=True)\n",
      ")\n"
     ]
    }
   ],
   "source": [
    "print(model2)"
   ]
  },
  {
   "cell_type": "markdown",
   "metadata": {},
   "source": [
    "## Get parameters\n",
    "\n",
    "optimizer 에 입력하던 model.parameters() 는 실제 layer 에 저장된 값입니다. 우리가 학습된 모델을 다른 곳에 이식한다면, 이 값이 필요합니다.\n",
    "\n",
    "그런데 이 때에는 첫번째, 두번째 type 모두 activation function 도 parameters 로 출력됩니다. 쌍으로 (layer, activation) 입니다."
   ]
  },
  {
   "cell_type": "code",
   "execution_count": 28,
   "metadata": {},
   "outputs": [],
   "source": [
    "parameters = list(model2.parameters())"
   ]
  },
  {
   "cell_type": "markdown",
   "metadata": {},
   "source": [
    "2 개의 hidden layer, 1 개의 output layer 가 있었기 때문에 총 6 개의 layers 가 parameters 로 만들어집니다."
   ]
  },
  {
   "cell_type": "code",
   "execution_count": 29,
   "metadata": {},
   "outputs": [
    {
     "data": {
      "text/plain": [
       "6"
      ]
     },
     "execution_count": 29,
     "metadata": {},
     "output_type": "execute_result"
    }
   ],
   "source": [
    "len(parameters)"
   ]
  },
  {
   "cell_type": "markdown",
   "metadata": {},
   "source": [
    "각각의 layer 의 size 를 확인할 수 있습니다."
   ]
  },
  {
   "cell_type": "code",
   "execution_count": 30,
   "metadata": {},
   "outputs": [
    {
     "name": "stdout",
     "output_type": "stream",
     "text": [
      "\n",
      "0 th layer\n",
      "<class 'torch.nn.parameter.Parameter'>\n",
      "torch.Size([20, 1])\n",
      "\n",
      "1 th layer\n",
      "<class 'torch.nn.parameter.Parameter'>\n",
      "torch.Size([20])\n",
      "\n",
      "2 th layer\n",
      "<class 'torch.nn.parameter.Parameter'>\n",
      "torch.Size([5, 20])\n",
      "\n",
      "3 th layer\n",
      "<class 'torch.nn.parameter.Parameter'>\n",
      "torch.Size([5])\n",
      "\n",
      "4 th layer\n",
      "<class 'torch.nn.parameter.Parameter'>\n",
      "torch.Size([1, 5])\n",
      "\n",
      "5 th layer\n",
      "<class 'torch.nn.parameter.Parameter'>\n",
      "torch.Size([1])\n"
     ]
    }
   ],
   "source": [
    "for i, parameter in enumerate(parameters):\n",
    "    print('\\n{} th layer'.format(i))\n",
    "    print(type(parameter))\n",
    "    print(parameter.size())"
   ]
  },
  {
   "cell_type": "markdown",
   "metadata": {},
   "source": [
    "첫 번째 hidden layer 의 학습된 parameter 값입니다."
   ]
  },
  {
   "cell_type": "code",
   "execution_count": 31,
   "metadata": {},
   "outputs": [
    {
     "data": {
      "text/plain": [
       "array([[ 1.5800422 ],\n",
       "       [ 0.3627625 ],\n",
       "       [ 0.3984807 ],\n",
       "       [-1.2004648 ],\n",
       "       [-0.76558447],\n",
       "       [-1.359189  ],\n",
       "       [-0.6600282 ],\n",
       "       [ 1.464438  ],\n",
       "       [ 1.0074188 ],\n",
       "       [ 0.586639  ],\n",
       "       [-0.52945423],\n",
       "       [ 0.7563803 ],\n",
       "       [ 0.5630602 ],\n",
       "       [-0.3959928 ],\n",
       "       [ 0.60360324],\n",
       "       [-1.3296884 ],\n",
       "       [-1.3443882 ],\n",
       "       [-1.7512616 ],\n",
       "       [-0.42734292],\n",
       "       [ 0.56771314]], dtype=float32)"
      ]
     },
     "execution_count": 31,
     "metadata": {},
     "output_type": "execute_result"
    }
   ],
   "source": [
    "parameters[0].data.numpy()"
   ]
  },
  {
   "cell_type": "markdown",
   "metadata": {},
   "source": [
    "두 번째 hidden layer 의 학습된 parameter 값입니다. "
   ]
  },
  {
   "cell_type": "code",
   "execution_count": 32,
   "metadata": {},
   "outputs": [
    {
     "data": {
      "text/plain": [
       "array([[ 2.53906012e-01, -2.49130702e+00,  1.19927667e-01,\n",
       "        -1.20197222e-01,  1.16430875e-02, -1.23223886e-01,\n",
       "         1.84961006e-01,  7.09533840e-02, -4.55612153e-01,\n",
       "         3.22059803e-02, -2.54512727e-01, -2.65528057e-02,\n",
       "         2.49153763e-01, -1.37735382e-01,  2.75964230e-01,\n",
       "         6.15149504e-04,  1.60395294e-01, -5.41770831e-02,\n",
       "         9.61925685e-02,  1.53406486e-01],\n",
       "       [ 6.96675539e-01,  1.53105402e+00,  9.33070123e-01,\n",
       "        -7.66792238e-01, -7.97012925e-01, -7.53086746e-01,\n",
       "         1.58109546e-01,  8.80519450e-01,  9.20702338e-01,\n",
       "         8.63139927e-01, -2.44514197e-01,  7.11203098e-01,\n",
       "         2.71343946e-01, -5.60011089e-01,  5.84171534e-01,\n",
       "        -8.60555530e-01, -8.06580245e-01, -7.72200644e-01,\n",
       "        -5.93774796e-01,  1.09474289e+00],\n",
       "       [ 5.54100454e-01,  1.55504191e+00,  6.84933484e-01,\n",
       "         5.35733938e-01,  8.89635324e-01,  1.13937688e+00,\n",
       "         1.20655358e+00,  5.94375074e-01,  8.24342668e-01,\n",
       "         4.03187484e-01,  8.05797756e-01,  5.68214834e-01,\n",
       "         3.05608839e-01,  1.20808697e+00,  3.53307486e-01,\n",
       "         5.81412613e-01,  7.81799853e-01,  6.98124945e-01,\n",
       "         1.22993565e+00,  8.57330322e-01],\n",
       "       [ 1.59762099e-01, -3.96294904e+00, -1.75352681e+00,\n",
       "         7.32690156e-01, -3.52234274e-01, -3.50411564e-01,\n",
       "        -1.77551258e+00, -6.31215945e-02, -7.58216560e-01,\n",
       "         5.10367095e-01, -3.32476139e-01,  8.15902054e-01,\n",
       "         8.89811635e-01, -1.84830666e+00,  9.20366645e-01,\n",
       "         5.56337237e-01,  6.32770360e-01,  6.50215596e-02,\n",
       "        -2.14536071e+00, -1.81288195e+00],\n",
       "       [-1.32453457e-01,  1.25374049e-01,  8.60780478e-03,\n",
       "        -1.89764857e-01,  3.75427008e-02,  7.40197599e-02,\n",
       "         9.44863558e-02, -2.04721659e-01,  1.79642946e-01,\n",
       "        -2.24412680e-01, -1.17192708e-01, -2.08355919e-01,\n",
       "         1.02407172e-01, -1.14080779e-01, -5.44558801e-02,\n",
       "        -5.94626702e-02, -7.49123842e-02, -3.34850848e-02,\n",
       "         8.26741755e-03, -5.22429496e-02]], dtype=float32)"
      ]
     },
     "execution_count": 32,
     "metadata": {},
     "output_type": "execute_result"
    }
   ],
   "source": [
    "parameters[2].data.numpy()"
   ]
  },
  {
   "cell_type": "code",
   "execution_count": null,
   "metadata": {},
   "outputs": [],
   "source": []
  },
  {
   "cell_type": "code",
   "execution_count": null,
   "metadata": {},
   "outputs": [],
   "source": []
  }
 ],
 "metadata": {
  "kernelspec": {
   "display_name": "Python 3",
   "language": "python",
   "name": "python3"
  },
  "language_info": {
   "codemirror_mode": {
    "name": "ipython",
    "version": 3
   },
   "file_extension": ".py",
   "mimetype": "text/x-python",
   "name": "python",
   "nbconvert_exporter": "python",
   "pygments_lexer": "ipython3",
   "version": "3.7.1"
  }
 },
 "nbformat": 4,
 "nbformat_minor": 2
}
