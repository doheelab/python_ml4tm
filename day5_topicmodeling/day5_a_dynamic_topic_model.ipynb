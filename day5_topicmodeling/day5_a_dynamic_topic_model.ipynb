{
 "cells": [
  {
   "cell_type": "code",
   "execution_count": 2,
   "metadata": {},
   "outputs": [
    {
     "data": {
      "text/plain": [
       "['/mnt/lovit/textmining_dataset/lovit_textmining_dataset/navernews_10days/data/news/2016-10-20.txt',\n",
       " '/mnt/lovit/textmining_dataset/lovit_textmining_dataset/navernews_10days/data/news/2016-10-21.txt',\n",
       " '/mnt/lovit/textmining_dataset/lovit_textmining_dataset/navernews_10days/data/news/2016-10-22.txt']"
      ]
     },
     "execution_count": 2,
     "metadata": {},
     "output_type": "execute_result"
    }
   ],
   "source": [
    "import config\n",
    "from navernews_10days import get_news_paths\n",
    "\n",
    "paths = get_news_paths()[:3] # 2016-10-20 ~ 2016-10-22"
   ]
  },
  {
   "cell_type": "code",
   "execution_count": 3,
   "metadata": {},
   "outputs": [],
   "source": [
    "from collections import defaultdict\n",
    "from soynlp.utils import DoublespaceLineCorpus\n",
    "from soynlp.noun import LRNounExtractor_v2\n",
    "\n",
    "# train noun dictionary\n",
    "noun_dictionary = defaultdict(lambda: 0)\n",
    "for path in paths:\n",
    "    corpus = DoublespaceLineCorpus(path, iter_sent=True)\n",
    "    noun_extractor = LRNounExtractor_v2(verbose=False)\n",
    "    noun_scores = noun_extractor.train_extract(corpus)\n",
    "    for noun, score in noun_scores.items():\n",
    "        noun_dictionary[noun] = max(noun_dictionary[noun], score.score)    "
   ]
  },
  {
   "cell_type": "code",
   "execution_count": 4,
   "metadata": {},
   "outputs": [],
   "source": [
    "# Documents collection\n",
    "class Corpora:\n",
    "    def __init__(self, paths, iter_sent=False):\n",
    "        self.iter_sent = iter_sent\n",
    "        self.paths = paths\n",
    "        self.lengths = [\n",
    "            len(DoublespaceLineCorpus(path, iter_sent=iter_sent))\n",
    "            for path in paths\n",
    "        ]\n",
    "\n",
    "    def __iter__(self):\n",
    "        for path in self.paths:\n",
    "            corpus = DoublespaceLineCorpus(path, iter_sent=self.iter_sent)\n",
    "            for item in corpus:\n",
    "                yield item"
   ]
  },
  {
   "cell_type": "code",
   "execution_count": 8,
   "metadata": {},
   "outputs": [
    {
     "data": {
      "text/plain": [
       "(63506, 105287)"
      ]
     },
     "execution_count": 8,
     "metadata": {},
     "output_type": "execute_result"
    }
   ],
   "source": [
    "from soynlp.tokenizer import LTokenizer\n",
    "from sklearn.feature_extraction.text import CountVectorizer\n",
    "\n",
    "# tokenize\n",
    "ltokenizer = LTokenizer(scores = noun_dictionary)\n",
    "corpora = Corpora(paths)\n",
    "vectorizer = CountVectorizer(min_df=0.0001, max_df=0.5)\n",
    "x = vectorizer.fit_transform(corpora)\n",
    "id2word = {idx:word for word,idx in vectorizer.vocabulary_.items()}\n",
    "x.shape"
   ]
  },
  {
   "cell_type": "code",
   "execution_count": 9,
   "metadata": {},
   "outputs": [
    {
     "data": {
      "text/plain": [
       "[30091, 24109, 9306]"
      ]
     },
     "execution_count": 9,
     "metadata": {},
     "output_type": "execute_result"
    }
   ],
   "source": [
    "corpora.lengths"
   ]
  },
  {
   "cell_type": "code",
   "execution_count": 26,
   "metadata": {},
   "outputs": [
    {
     "data": {
      "text/plain": [
       "63506"
      ]
     },
     "execution_count": 26,
     "metadata": {},
     "output_type": "execute_result"
    }
   ],
   "source": [
    "time_slides = [i + 1 for i, length in enumerate(corpora.lengths) for _ in range(length)]\n",
    "len(time_slides) # [0, 0, .... 1, 1, ..., 2, 2, ... 2]"
   ]
  },
  {
   "cell_type": "code",
   "execution_count": 14,
   "metadata": {},
   "outputs": [],
   "source": [
    "import gensim\n",
    "\n",
    "dtm_corpus = gensim.matutils.Sparse2Corpus(x, documents_columns=False)"
   ]
  },
  {
   "cell_type": "code",
   "execution_count": null,
   "metadata": {},
   "outputs": [],
   "source": []
  }
 ],
 "metadata": {
  "kernelspec": {
   "display_name": "Python 3",
   "language": "python",
   "name": "python3"
  },
  "language_info": {
   "codemirror_mode": {
    "name": "ipython",
    "version": 3
   },
   "file_extension": ".py",
   "mimetype": "text/x-python",
   "name": "python",
   "nbconvert_exporter": "python",
   "pygments_lexer": "ipython3",
   "version": "3.7.1"
  }
 },
 "nbformat": 4,
 "nbformat_minor": 2
}
