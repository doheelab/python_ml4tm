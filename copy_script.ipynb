{
 "cells": [
  {
   "cell_type": "code",
   "execution_count": 1,
   "metadata": {},
   "outputs": [],
   "source": [
    "# create directories\n",
    "import os\n",
    "\n",
    "# n_users = 20\n",
    "# for i in range(n_users):\n",
    "#     os.makedirs('./%d' % i)"
   ]
  },
  {
   "cell_type": "code",
   "execution_count": 2,
   "metadata": {},
   "outputs": [],
   "source": [
    "# # copy directories\n",
    "# from glob import glob\n",
    "# import shutil\n",
    "\n",
    "# user_names = [name.split('/')[-1] for name in glob('./*') if os.path.isdir(name)]\n",
    "# user_names = [name for name in user_names if name != 'lovit']\n",
    "\n",
    "# directory = ''\n",
    "# for user_name in user_names:\n",
    "#     command = 'cp -r ./lovit/{0} ./{1}/'.format(directory, user_name)\n",
    "#     os.system(command)\n",
    "#     print('copied %s' % (user_name))"
   ]
  },
  {
   "cell_type": "code",
   "execution_count": 3,
   "metadata": {},
   "outputs": [],
   "source": [
    "# # copy directories\n",
    "# from glob import glob\n",
    "# import shutil\n",
    "\n",
    "# user_names = [name.split('/')[-1] for name in glob('./*') if os.path.isdir(name)]\n",
    "# user_names = [name for name in user_names if name != 'lovit']\n",
    "\n",
    "# file = ''\n",
    "# for user_name in user_names:\n",
    "#     command = 'cp ./lovit/{0} ./{1}/{2}'.format(file, user_name, file)\n",
    "#     os.system(command)\n",
    "#     print('copied %s' % (user_name))"
   ]
  },
  {
   "cell_type": "code",
   "execution_count": null,
   "metadata": {},
   "outputs": [],
   "source": []
  }
 ],
 "metadata": {
  "kernelspec": {
   "display_name": "Python 3",
   "language": "python",
   "name": "python3"
  },
  "language_info": {
   "codemirror_mode": {
    "name": "ipython",
    "version": 3
   },
   "file_extension": ".py",
   "mimetype": "text/x-python",
   "name": "python",
   "nbconvert_exporter": "python",
   "pygments_lexer": "ipython3",
   "version": "3.7.1"
  }
 },
 "nbformat": 4,
 "nbformat_minor": 2
}
