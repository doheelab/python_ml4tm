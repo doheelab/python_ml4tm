{
 "cells": [
  {
   "cell_type": "markdown",
   "metadata": {},
   "source": [
    "PyTorch 의 공식 튜토리얼에는 LSTM-CRF 를 구현하는 예시가 있습니다. 아래의 튜토리얼에 뉴스 데이터를 이용하여 character-level NER tagger 를 만들어 봅니다.\n",
    "\n",
    "https://pytorch.org/tutorials/beginner/nlp/advanced_tutorial.html"
   ]
  },
  {
   "cell_type": "code",
   "execution_count": 1,
   "metadata": {},
   "outputs": [
    {
     "data": {
      "text/plain": [
       "<torch._C.Generator at 0x7f174c166870>"
      ]
     },
     "execution_count": 1,
     "metadata": {},
     "output_type": "execute_result"
    }
   ],
   "source": [
    "import numpy as np\n",
    "import pickle\n",
    "import torch\n",
    "import torch.autograd as autograd\n",
    "import torch.nn as nn\n",
    "import torch.optim as optim\n",
    "from torch.utils.data import Dataset\n",
    "from torch.utils.data import DataLoader\n",
    "\n",
    "torch.manual_seed(1)"
   ]
  },
  {
   "cell_type": "markdown",
   "metadata": {},
   "source": [
    "튜토리얼의 `prepare_sequence` 에는 `unknown_idx` 가 없습니다. 우리가 알지 못하는 글자가 입력될 수 있으니 이 기능을 추가합니다."
   ]
  },
  {
   "cell_type": "code",
   "execution_count": 2,
   "metadata": {},
   "outputs": [],
   "source": [
    "def argmax(vec):\n",
    "    # return the argmax as a python int\n",
    "    _, idx = torch.max(vec, 1)\n",
    "    return idx.item()\n",
    "\n",
    "def prepare_sequence(seq, to_ix, unknown_idx):    \n",
    "    idxs = [to_ix.get(w, unknown_idx) for w in seq]\n",
    "    return torch.tensor(idxs, dtype=torch.long)\n",
    "\n",
    "# Compute log sum exp in a numerically stable way for the forward algorithm\n",
    "def log_sum_exp(vec):\n",
    "    max_score = vec[0, argmax(vec)]\n",
    "    max_score_broadcast = max_score.view(1, -1).expand(1, vec.size()[1])\n",
    "    return max_score + \\\n",
    "        torch.log(torch.sum(torch.exp(vec - max_score_broadcast)))"
   ]
  },
  {
   "cell_type": "markdown",
   "metadata": {},
   "source": [
    "뉴스를 list 형식으로 모두 불러옵니다."
   ]
  },
  {
   "cell_type": "code",
   "execution_count": 3,
   "metadata": {},
   "outputs": [
    {
     "name": "stdout",
     "output_type": "stream",
     "text": [
      "soynlp=0.0.492\n",
      "added lovit_textmining_dataset\n"
     ]
    }
   ],
   "source": [
    "import config\n",
    "from navernews_10days import get_news_paths\n",
    "from soynlp.noun import LRNounExtractor_v2\n",
    "from soynlp.tokenizer import LTokenizer\n",
    "from soynlp.utils import DoublespaceLineCorpus\n",
    "\n",
    "path = get_news_paths(date='2016-10-20')\n",
    "sents = list(DoublespaceLineCorpus(path, iter_sent=True))"
   ]
  },
  {
   "cell_type": "markdown",
   "metadata": {},
   "source": [
    "RNN 은 batch 방식으로 구현하지 않으면 학습이 느린 편입니다. 하지만 이 부분은 일단 RNN 모델이 익숙해진 다음에 연습해도 됩니다.\n",
    "\n",
    "일단은 아래의 세 단어가 어절에서 명사로 입력된 문장 752 개만 toydata 로 선택합니다."
   ]
  },
  {
   "cell_type": "code",
   "execution_count": 4,
   "metadata": {},
   "outputs": [
    {
     "data": {
      "text/plain": [
       "752"
      ]
     },
     "execution_count": 4,
     "metadata": {},
     "output_type": "execute_result"
    }
   ],
   "source": [
    "seed_words = set(\n",
    "    '''몬스타엑스 아이오아이 트와이스'''.split())\n",
    "\n",
    "def contain_seed(sent):\n",
    "    for seed in seed_words:\n",
    "        if seed in sent:\n",
    "            return True\n",
    "    return False\n",
    "\n",
    "tokenizer = LTokenizer(scores={seed:1 for seed in seed_words})\n",
    "train_sents = [tokenizer.tokenize(sent) for sent in sents if contain_seed(sent)]\n",
    "len(train_sents)"
   ]
  },
  {
   "cell_type": "markdown",
   "metadata": {},
   "source": [
    "이 문장에 등장한 글자를 index 로 변환하는 함수를 만듭니다. 등장 빈도가 2 이하인 글자는 모두 unk 처리합니다."
   ]
  },
  {
   "cell_type": "code",
   "execution_count": 5,
   "metadata": {},
   "outputs": [
    {
     "data": {
      "text/plain": [
       "633"
      ]
     },
     "execution_count": 5,
     "metadata": {},
     "output_type": "execute_result"
    }
   ],
   "source": [
    "from collections import Counter\n",
    "\n",
    "def scan_character(sents, min_count=3):\n",
    "    char_counter = Counter(c for sent in sents for word in sent for c in word)\n",
    "    char_counter = {c:count for c, count in char_counter.items() if count >= min_count}\n",
    "    idx_to_char = [c for c in sorted(char_counter, key=lambda x:-char_counter[x])]\n",
    "    char_to_idx = {char:idx for idx, char in enumerate(idx_to_char)}\n",
    "    return idx_to_char, char_to_idx\n",
    "\n",
    "idx_to_char, char_to_idx = scan_character(train_sents)\n",
    "idx_to_char.append('#Unk')\n",
    "unknown_idx = len(char_to_idx)\n",
    "unknown_idx"
   ]
  },
  {
   "cell_type": "raw",
   "metadata": {},
   "source": [
    "글자 뿐 아니라 NER BIO tag 도 index 로 변환해야 합니다. 문장의 시작과 끝 부분의 tag 는 special token 으로 입력합니다. 편의를 위하여 O 를 0 으로 B 와 I 를 각각 1, 2 로 설정하였습니다."
   ]
  },
  {
   "cell_type": "code",
   "execution_count": 6,
   "metadata": {},
   "outputs": [],
   "source": [
    "START_TAG = \"<START>\"\n",
    "STOP_TAG = \"<STOP>\"\n",
    "tag_to_ix = {\"O\": 0, \"B\": 1, \"I\": 2, START_TAG: 3, STOP_TAG: 4}"
   ]
  },
  {
   "cell_type": "code",
   "execution_count": 7,
   "metadata": {},
   "outputs": [],
   "source": [
    "class CharNERDataset(Dataset):\n",
    "    def __init__(self, X, Y):\n",
    "        self.X = X\n",
    "        self.Y = Y\n",
    "\n",
    "    def __len__(self):\n",
    "        return len(self.X)\n",
    "\n",
    "    def __getitem__(self, idx):\n",
    "        return self.X[idx], self.Y[idx]"
   ]
  },
  {
   "cell_type": "markdown",
   "metadata": {},
   "source": [
    "앞선 예시처럼 데이터 생성 함수를 만듭니다. seed words 의 시작 부분을 1 로, 나머지 부분을 2로 만들면 됩니다."
   ]
  },
  {
   "cell_type": "code",
   "execution_count": 8,
   "metadata": {},
   "outputs": [],
   "source": [
    "def create_dataset(char_to_idx, sents, seed_words, unknown_idx, test_data=False):\n",
    "\n",
    "    X = []\n",
    "    Y = []\n",
    "    for words in sents:\n",
    "        chars = ''.join(words)\n",
    "        n_chars = len(chars)\n",
    "        y = np.zeros(n_chars, dtype=np.int)\n",
    "\n",
    "        b = 0\n",
    "        for word in words:\n",
    "            e = b + len(word)\n",
    "            if word in seed_words:\n",
    "                y[b:e] = 2\n",
    "                y[b] = 1\n",
    "            b = e\n",
    "\n",
    "        if (not test_data) and (y.sum() == 0):\n",
    "            continue\n",
    "\n",
    "        x = prepare_sequence(chars, char_to_idx, unknown_idx)\n",
    "        X.append(torch.LongTensor(x))\n",
    "        Y.append(torch.LongTensor(y))\n",
    "\n",
    "    dataset = CharNERDataset(X, Y)\n",
    "    return dataset\n",
    "\n",
    "dataset = create_dataset(char_to_idx, train_sents, seed_words, unknown_idx)"
   ]
  },
  {
   "cell_type": "code",
   "execution_count": 9,
   "metadata": {},
   "outputs": [
    {
     "data": {
      "text/plain": [
       "752"
      ]
     },
     "execution_count": 9,
     "metadata": {},
     "output_type": "execute_result"
    }
   ],
   "source": [
    "len(dataset)"
   ]
  },
  {
   "cell_type": "markdown",
   "metadata": {},
   "source": [
    "데이터와 글자열의 예시입니다."
   ]
  },
  {
   "cell_type": "code",
   "execution_count": 10,
   "metadata": {},
   "outputs": [
    {
     "name": "stdout",
     "output_type": "stream",
     "text": [
      "(tensor([428,  53, 206,  39,   0, 174,  42,  81,  12,  46, 174,  29,  42,  22,\n",
      "        351, 244, 298, 101, 211,   3,   9,   0,   2, 110,  27,  12,  11, 559,\n",
      "          2,  25, 322, 158]), tensor([0, 0, 0, 0, 0, 0, 0, 0, 0, 0, 0, 0, 0, 0, 0, 0, 0, 0, 0, 1, 2, 2, 2, 0,\n",
      "        0, 0, 0, 0, 0, 0, 0, 0]))\n",
      "머니투데이박진영기자박해진지창욱황치열트와이스등인기한류스타참여\n"
     ]
    }
   ],
   "source": [
    "print(dataset[1])\n",
    "print(''.join(idx_to_char[idx] for idx in dataset[1][0]))"
   ]
  },
  {
   "cell_type": "code",
   "execution_count": 11,
   "metadata": {},
   "outputs": [
    {
     "name": "stdout",
     "output_type": "stream",
     "text": [
      "(tensor([200, 168,  92,   8,   0,  13,   8,   0,   4,  99, 352, 182, 151,  14,\n",
      "        300,   2,   5,  15,   5,   7, 126,  56,  35, 283,   0, 191,   6, 633,\n",
      "         19,  49,  41,  45, 467,  11,  38,  12, 116,  98,   0,   0, 510,  48,\n",
      "          0,   1,   0,   7,  30,  29, 145,  97, 228,  23,  23,  13, 269,   8,\n",
      "        440,   7,  77,  91,  62,  95,  47, 254,  21,  77,  56,   0,   9,  56,\n",
      "        441,   6,  35,   1,  13, 269, 121, 137,  60,   3,   1,  60,   7,  33,\n",
      "         44,  80, 111,  62,   0,  40,  52,  22, 353,  23,   8,   0,  13,   8,\n",
      "          0, 105, 208, 468,  26,   0, 194,  34,  53,  27,  37,  20,  21, 219,\n",
      "         16, 255,   1,  19, 149,  35,   1]), tensor([0, 0, 0, 1, 2, 2, 2, 2, 0, 0, 0, 0, 0, 0, 0, 0, 0, 0, 0, 0, 0, 0, 0, 0,\n",
      "        0, 0, 0, 0, 0, 0, 0, 0, 0, 0, 0, 0, 0, 0, 0, 0, 0, 0, 0, 0, 0, 0, 0, 0,\n",
      "        0, 0, 0, 0, 0, 0, 0, 0, 0, 0, 0, 0, 0, 0, 0, 0, 0, 0, 0, 0, 0, 0, 0, 0,\n",
      "        0, 0, 0, 0, 0, 0, 0, 0, 0, 0, 0, 0, 0, 0, 0, 0, 0, 0, 0, 0, 0, 0, 1, 2,\n",
      "        2, 2, 2, 0, 0, 0, 0, 0, 0, 0, 0, 0, 0, 0, 0, 0, 0, 0, 0, 0, 0, 0, 0]))\n",
      "불독과아이오아이는나란히프로듀스101에출연했던이력을#Unk고있어비슷한시기활동이이색적이다이에대해멤버형은은오늘아침에도유정소미청하도연이와연락을했다오늘엠카운트다운에서만날예정이라며지금은아이오아이선배님들이됐으니인사를하러가겠다고말했다\n"
     ]
    }
   ],
   "source": [
    "print(dataset[10])\n",
    "print(''.join(idx_to_char[idx] for idx in dataset[10][0]))"
   ]
  },
  {
   "cell_type": "markdown",
   "metadata": {},
   "source": [
    "아래의 코드는 공식 튜토리얼에서 그대로 가져왔습니다. LSTM 의 prediction 뿐 아니라 beam search, loss 부분이 모두 구현되어 있습니다. 아래처럼 예측된 태그의 점수와 실제 학습데이터의 점수의 차를 log likelihood 로 정의합니다.\n",
    "\n",
    "```python\n",
    "    def neg_log_likelihood(self, sentence, tags):\n",
    "        feats = self._get_lstm_features(sentence)\n",
    "        forward_score = self._forward_alg(feats)\n",
    "        gold_score = self._score_sentence(feats, tags)\n",
    "        return forward_score - gold_score\n",
    "```"
   ]
  },
  {
   "cell_type": "code",
   "execution_count": 12,
   "metadata": {},
   "outputs": [],
   "source": [
    "class BiLSTM_CRF(nn.Module):\n",
    "\n",
    "    def __init__(self, vocab_size, tag_to_ix, embedding_dim, hidden_dim):\n",
    "        super(BiLSTM_CRF, self).__init__()\n",
    "        self.embedding_dim = embedding_dim\n",
    "        self.hidden_dim = hidden_dim\n",
    "        self.vocab_size = vocab_size\n",
    "        self.tag_to_ix = tag_to_ix\n",
    "        self.tagset_size = len(tag_to_ix)\n",
    "\n",
    "        self.word_embeds = nn.Embedding(vocab_size, embedding_dim)\n",
    "        self.lstm = nn.LSTM(embedding_dim, hidden_dim // 2,\n",
    "                            num_layers=1, bidirectional=True)\n",
    "\n",
    "        # Maps the output of the LSTM into tag space.\n",
    "        self.hidden2tag = nn.Linear(hidden_dim, self.tagset_size)\n",
    "\n",
    "        # Matrix of transition parameters.  Entry i,j is the score of\n",
    "        # transitioning *to* i *from* j.\n",
    "        self.transitions = nn.Parameter(\n",
    "            torch.randn(self.tagset_size, self.tagset_size))\n",
    "\n",
    "        # These two statements enforce the constraint that we never transfer\n",
    "        # to the start tag and we never transfer from the stop tag\n",
    "        self.transitions.data[tag_to_ix[START_TAG], :] = -10000\n",
    "        self.transitions.data[:, tag_to_ix[STOP_TAG]] = -10000\n",
    "\n",
    "        self.hidden = self.init_hidden()\n",
    "\n",
    "    def init_hidden(self):\n",
    "        return (torch.randn(2, 1, self.hidden_dim // 2),\n",
    "                torch.randn(2, 1, self.hidden_dim // 2))\n",
    "\n",
    "    def _forward_alg(self, feats):\n",
    "        # Do the forward algorithm to compute the partition function\n",
    "        init_alphas = torch.full((1, self.tagset_size), -10000.)\n",
    "        # START_TAG has all of the score.\n",
    "        init_alphas[0][self.tag_to_ix[START_TAG]] = 0.\n",
    "\n",
    "        # Wrap in a variable so that we will get automatic backprop\n",
    "        forward_var = init_alphas\n",
    "\n",
    "        # Iterate through the sentence\n",
    "        for feat in feats:\n",
    "            alphas_t = []  # The forward tensors at this timestep\n",
    "            for next_tag in range(self.tagset_size):\n",
    "                # broadcast the emission score: it is the same regardless of\n",
    "                # the previous tag\n",
    "                emit_score = feat[next_tag].view(\n",
    "                    1, -1).expand(1, self.tagset_size)\n",
    "                # the ith entry of trans_score is the score of transitioning to\n",
    "                # next_tag from i\n",
    "                trans_score = self.transitions[next_tag].view(1, -1)\n",
    "                # The ith entry of next_tag_var is the value for the\n",
    "                # edge (i -> next_tag) before we do log-sum-exp\n",
    "                next_tag_var = forward_var + trans_score + emit_score\n",
    "                # The forward variable for this tag is log-sum-exp of all the\n",
    "                # scores.\n",
    "                alphas_t.append(log_sum_exp(next_tag_var).view(1))\n",
    "            forward_var = torch.cat(alphas_t).view(1, -1)\n",
    "        terminal_var = forward_var + self.transitions[self.tag_to_ix[STOP_TAG]]\n",
    "        alpha = log_sum_exp(terminal_var)\n",
    "        return alpha\n",
    "\n",
    "    def _get_lstm_features(self, sentence):\n",
    "        self.hidden = self.init_hidden()\n",
    "        embeds = self.word_embeds(sentence).view(len(sentence), 1, -1)\n",
    "        lstm_out, self.hidden = self.lstm(embeds, self.hidden)\n",
    "        lstm_out = lstm_out.view(len(sentence), self.hidden_dim)\n",
    "        lstm_feats = self.hidden2tag(lstm_out)\n",
    "        return lstm_feats\n",
    "\n",
    "    def _score_sentence(self, feats, tags):\n",
    "        # Gives the score of a provided tag sequence\n",
    "        score = torch.zeros(1)\n",
    "        tags = torch.cat([torch.tensor([self.tag_to_ix[START_TAG]], dtype=torch.long), tags])\n",
    "        for i, feat in enumerate(feats):\n",
    "            score = score + \\\n",
    "                self.transitions[tags[i + 1], tags[i]] + feat[tags[i + 1]]\n",
    "        score = score + self.transitions[self.tag_to_ix[STOP_TAG], tags[-1]]\n",
    "        return score\n",
    "\n",
    "    def _viterbi_decode(self, feats):\n",
    "        backpointers = []\n",
    "\n",
    "        # Initialize the viterbi variables in log space\n",
    "        init_vvars = torch.full((1, self.tagset_size), -10000.)\n",
    "        init_vvars[0][self.tag_to_ix[START_TAG]] = 0\n",
    "\n",
    "        # forward_var at step i holds the viterbi variables for step i-1\n",
    "        forward_var = init_vvars\n",
    "        for feat in feats:\n",
    "            bptrs_t = []  # holds the backpointers for this step\n",
    "            viterbivars_t = []  # holds the viterbi variables for this step\n",
    "\n",
    "            for next_tag in range(self.tagset_size):\n",
    "                # next_tag_var[i] holds the viterbi variable for tag i at the\n",
    "                # previous step, plus the score of transitioning\n",
    "                # from tag i to next_tag.\n",
    "                # We don't include the emission scores here because the max\n",
    "                # does not depend on them (we add them in below)\n",
    "                next_tag_var = forward_var + self.transitions[next_tag]\n",
    "                best_tag_id = argmax(next_tag_var)\n",
    "                bptrs_t.append(best_tag_id)\n",
    "                viterbivars_t.append(next_tag_var[0][best_tag_id].view(1))\n",
    "            # Now add in the emission scores, and assign forward_var to the set\n",
    "            # of viterbi variables we just computed\n",
    "            forward_var = (torch.cat(viterbivars_t) + feat).view(1, -1)\n",
    "            backpointers.append(bptrs_t)\n",
    "\n",
    "        # Transition to STOP_TAG\n",
    "        terminal_var = forward_var + self.transitions[self.tag_to_ix[STOP_TAG]]\n",
    "        best_tag_id = argmax(terminal_var)\n",
    "        path_score = terminal_var[0][best_tag_id]\n",
    "\n",
    "        # Follow the back pointers to decode the best path.\n",
    "        best_path = [best_tag_id]\n",
    "        for bptrs_t in reversed(backpointers):\n",
    "            best_tag_id = bptrs_t[best_tag_id]\n",
    "            best_path.append(best_tag_id)\n",
    "        # Pop off the start tag (we dont want to return that to the caller)\n",
    "        start = best_path.pop()\n",
    "        assert start == self.tag_to_ix[START_TAG]  # Sanity check\n",
    "        best_path.reverse()\n",
    "        return path_score, best_path\n",
    "\n",
    "    def neg_log_likelihood(self, sentence, tags):\n",
    "        feats = self._get_lstm_features(sentence)\n",
    "        forward_score = self._forward_alg(feats)\n",
    "        gold_score = self._score_sentence(feats, tags)\n",
    "        return forward_score - gold_score\n",
    "\n",
    "    def forward(self, sentence):  # dont confuse this with _forward_alg above.\n",
    "        # Get the emission scores from the BiLSTM\n",
    "        lstm_feats = self._get_lstm_features(sentence)\n",
    "\n",
    "        # Find the best path, given the features.\n",
    "        score, tag_seq = self._viterbi_decode(lstm_feats)\n",
    "        return score, tag_seq"
   ]
  },
  {
   "cell_type": "markdown",
   "metadata": {},
   "source": [
    "앞서 만들어둔 모델이 있어서 이를 로딩합니다."
   ]
  },
  {
   "cell_type": "code",
   "execution_count": 13,
   "metadata": {},
   "outputs": [],
   "source": [
    "model_path = 'lstmcrf_ner_sample.pt'\n",
    "model = torch.load(model_path)"
   ]
  },
  {
   "cell_type": "code",
   "execution_count": 69,
   "metadata": {},
   "outputs": [
    {
     "name": "stdout",
     "output_type": "stream",
     "text": [
      "epoch = 1 / 10, loss = 2.85021                    \n",
      "epoch = 2 / 10, loss = 0.301758                    \n",
      "epoch = 3 / 10, loss = 0.190214                    \n",
      "epoch = 4 / 10, loss = 0.13218                    \n",
      "epoch = 5 / 10, loss = 0.100868                    \n",
      "epoch = 6 / 10, loss = 0.091456                    \n",
      "epoch = 7 / 10, loss = 0.0816277                    \n",
      "epoch = 8 / 10, loss = 0.0648198                    \n",
      "epoch = 9 / 10, loss = 0.0628505                    \n",
      "epoch = 10 / 10, loss = 0.0562666                    \n"
     ]
    }
   ],
   "source": [
    "EMBEDDING_DIM = 16\n",
    "HIDDEN_DIM = 64\n",
    "epochs = 10\n",
    "\n",
    "\n",
    "model = BiLSTM_CRF(len(char_to_idx)+1, tag_to_ix, EMBEDDING_DIM, HIDDEN_DIM)\n",
    "optimizer = optim.SGD(model.parameters(), lr=0.01, weight_decay=1e-4)\n",
    "\n",
    "n_data = len(dataset)\n",
    "\n",
    "# Make sure prepare_sequence from earlier in the LSTM section is loaded\n",
    "for epoch in range(epochs):\n",
    "    loss_sum = 0\n",
    "    for i, (x, y) in enumerate(dataset):\n",
    "        model.zero_grad()\n",
    "        loss = model.neg_log_likelihood(x, y)\n",
    "        loss.backward()        \n",
    "        optimizer.step()\n",
    "        loss_sum += loss.data.numpy()\n",
    "        if i % 100 == 0:\n",
    "            print('\\repoch = {} / {}, sent = {} / {}'.format(epoch+1, epochs, i, n_data), end='')\n",
    "    loss_avg = float(loss_sum / len(dataset))\n",
    "    print('\\repoch = {} / {}, loss = {:.6}{}'.format(epoch+1, epochs, loss_avg, ' '*20))"
   ]
  },
  {
   "cell_type": "markdown",
   "metadata": {},
   "source": [
    "문장에서 단어열과 띄어쓰기 태그열을 분해하는 함수입니다."
   ]
  },
  {
   "cell_type": "code",
   "execution_count": 14,
   "metadata": {},
   "outputs": [
    {
     "data": {
      "text/plain": [
       "('예문입니다', [0, 1, 0, 0, 1])"
      ]
     },
     "execution_count": 14,
     "metadata": {},
     "output_type": "execute_result"
    }
   ],
   "source": [
    "def sent_to_chartags(sent, nonspace=0, space=1):\n",
    "    chars = sent.replace(' ','')\n",
    "    if not chars:\n",
    "        return '', []\n",
    "\n",
    "    tags = [nonspace]*(len(chars) - 1) + [space]\n",
    "    idx = 0\n",
    "    for c in sent:\n",
    "        if c == ' ':\n",
    "            tags[idx-1] = space\n",
    "        else:\n",
    "            idx += 1\n",
    "    return chars, tags\n",
    "\n",
    "sent_to_chartags('예문 입니다')"
   ]
  },
  {
   "cell_type": "markdown",
   "metadata": {},
   "source": [
    "문장이 입력되면 글자열을 먼저 분해한 뒤, 이를 모델에 입력할 수 있도록 글자 index 로 변환합니다. tagging 을 한 뒤 BIO tag 를 이용하여 객체명 주변에 대괄호를 칩니다."
   ]
  },
  {
   "cell_type": "code",
   "execution_count": 15,
   "metadata": {},
   "outputs": [
    {
     "data": {
      "text/plain": [
       "'음악방송에 [트와이스]가 출연하였습니다 '"
      ]
     },
     "execution_count": 15,
     "metadata": {},
     "output_type": "execute_result"
    }
   ],
   "source": [
    "def tag(sent, char_to_idx, unknown_idx, model):\n",
    "    chars, spaces = sent_to_chartags(sent)\n",
    "    x = prepare_sequence(chars, char_to_idx, unknown_idx)\n",
    "    score, tags = model(x)\n",
    "\n",
    "    sent_ = []\n",
    "    n = len(chars)\n",
    "    for i, (char, space, tag) in enumerate(zip(chars, spaces, tags)):\n",
    "        if tag == 1:\n",
    "            sent_.append('[')\n",
    "        sent_.append(char)\n",
    "        if (tag == 2) and (i == n-1 or tags[i+1] == 0):\n",
    "            sent_.append(']')\n",
    "        if space == 1:\n",
    "            sent_.append(' ')\n",
    "    return ''.join(sent_)\n",
    "\n",
    "sent = '음악방송에 트와이스가 출연하였습니다'\n",
    "tag(sent, char_to_idx, unknown_idx, model)"
   ]
  },
  {
   "cell_type": "code",
   "execution_count": 16,
   "metadata": {},
   "outputs": [
    {
     "data": {
      "text/plain": [
       "'예능프로그램에 [트와이스]의 맴버가 출연했습니다 '"
      ]
     },
     "execution_count": 16,
     "metadata": {},
     "output_type": "execute_result"
    }
   ],
   "source": [
    "sent = '예능프로그램에 트와이스의 맴버가 출연했습니다'\n",
    "tag(sent, char_to_idx, unknown_idx, model)"
   ]
  },
  {
   "cell_type": "code",
   "execution_count": 17,
   "metadata": {},
   "outputs": [
    {
     "data": {
      "text/plain": [
       "'24일 컴백을 앞둔 [트아이스]는 두번째 뮤직비디오 티저 영상 앨범 하이라이트 등을 공개하며 컴백 프로모션을 이어갈 계획이다 '"
      ]
     },
     "execution_count": 17,
     "metadata": {},
     "output_type": "execute_result"
    }
   ],
   "source": [
    "sent = '24일 컴백을 앞둔 트아이스는 두번째 뮤직비디오 티저 영상 앨범 하이라이트 등을 공개하며 컴백 프로모션을 이어갈 계획이다'\n",
    "tag(sent, char_to_idx, unknown_idx, model)"
   ]
  },
  {
   "cell_type": "code",
   "execution_count": 18,
   "metadata": {},
   "outputs": [
    {
     "data": {
      "text/plain": [
       "'24일 컴백을 앞둔 트[하이스]는 두번째 뮤직비디오 티저 영상 앨범 하이라이트 등을 공개하며 컴백 프로모션을 이어갈 계획이다 '"
      ]
     },
     "execution_count": 18,
     "metadata": {},
     "output_type": "execute_result"
    }
   ],
   "source": [
    "sent = '24일 컴백을 앞둔 트하이스는 두번째 뮤직비디오 티저 영상 앨범 하이라이트 등을 공개하며 컴백 프로모션을 이어갈 계획이다'\n",
    "tag(sent, char_to_idx, unknown_idx, model)"
   ]
  },
  {
   "cell_type": "code",
   "execution_count": 19,
   "metadata": {},
   "outputs": [
    {
     "data": {
      "text/plain": [
       "'24일 컴백을 앞둔 [트아히스]는 두번째 뮤직비디오 티저 영상 앨범 하이라이트 등을 공개하며 컴백 프로모션을 이어갈 계획이다 '"
      ]
     },
     "execution_count": 19,
     "metadata": {},
     "output_type": "execute_result"
    }
   ],
   "source": [
    "sent = '24일 컴백을 앞둔 트아히스는 두번째 뮤직비디오 티저 영상 앨범 하이라이트 등을 공개하며 컴백 프로모션을 이어갈 계획이다'\n",
    "tag(sent, char_to_idx, unknown_idx, model)"
   ]
  },
  {
   "cell_type": "code",
   "execution_count": 20,
   "metadata": {},
   "outputs": [
    {
     "data": {
      "text/plain": [
       "'24일 컴백을 앞둔 씨스타는 두번째 뮤직비디오 티저 영상 앨범 하이라이트 등을 공개하며 컴백 프로모션을 이어갈 계획이다 '"
      ]
     },
     "execution_count": 20,
     "metadata": {},
     "output_type": "execute_result"
    }
   ],
   "source": [
    "sent = '24일 컴백을 앞둔 씨스타는 두번째 뮤직비디오 티저 영상 앨범 하이라이트 등을 공개하며 컴백 프로모션을 이어갈 계획이다'\n",
    "tag(sent, char_to_idx, unknown_idx, model)"
   ]
  },
  {
   "cell_type": "code",
   "execution_count": 21,
   "metadata": {},
   "outputs": [
    {
     "data": {
      "text/plain": [
       "'24일 컴백을 앞둔 [몬스타엑스]는 두번째 뮤직비디오 티저 영상 앨범 하이라이트 등을 공개하며 컴백 프로모션을 이어갈 계획이다 '"
      ]
     },
     "execution_count": 21,
     "metadata": {},
     "output_type": "execute_result"
    }
   ],
   "source": [
    "sent = '24일 컴백을 앞둔 몬스타엑스는 두번째 뮤직비디오 티저 영상 앨범 하이라이트 등을 공개하며 컴백 프로모션을 이어갈 계획이다'\n",
    "tag(sent, char_to_idx, unknown_idx, model)"
   ]
  },
  {
   "cell_type": "code",
   "execution_count": 25,
   "metadata": {},
   "outputs": [],
   "source": [
    "# model_path = 'lstmcrf_ner_sample.pt'\n",
    "# torch.save(model, model_path)"
   ]
  },
  {
   "cell_type": "code",
   "execution_count": null,
   "metadata": {},
   "outputs": [],
   "source": []
  }
 ],
 "metadata": {
  "kernelspec": {
   "display_name": "Python 3",
   "language": "python",
   "name": "python3"
  },
  "language_info": {
   "codemirror_mode": {
    "name": "ipython",
    "version": 3
   },
   "file_extension": ".py",
   "mimetype": "text/x-python",
   "name": "python",
   "nbconvert_exporter": "python",
   "pygments_lexer": "ipython3",
   "version": "3.7.1"
  }
 },
 "nbformat": 4,
 "nbformat_minor": 2
}
