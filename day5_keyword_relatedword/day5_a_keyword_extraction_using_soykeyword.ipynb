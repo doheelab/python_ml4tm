{
 "cells": [
  {
   "cell_type": "markdown",
   "metadata": {},
   "source": [
    "아래의 2016-10-20의 뉴스로부터 명사를 추출하여 미리 토크나이즈를 해둔 tokenized_corpus_fname으로부터 term frequency matrix인 x와 index2word를 만들어 뒀습니다. "
   ]
  },
  {
   "cell_type": "code",
   "execution_count": 1,
   "metadata": {},
   "outputs": [
    {
     "name": "stdout",
     "output_type": "stream",
     "text": [
      "soynlp=0.0.492\n",
      "added lovit_textmining_dataset\n"
     ]
    }
   ],
   "source": [
    "import config\n",
    "from navernews_10days import get_bow\n",
    "\n",
    "x, _idx_to_vocab, _vocab_to_idx = get_bow(tokenize='noun', date='2016-10-20')"
   ]
  },
  {
   "cell_type": "code",
   "execution_count": 2,
   "metadata": {},
   "outputs": [
    {
     "name": "stdout",
     "output_type": "stream",
     "text": [
      "0.0.14\n"
     ]
    }
   ],
   "source": [
    "import soykeyword\n",
    "print(soykeyword.__version__)"
   ]
  },
  {
   "cell_type": "markdown",
   "metadata": {},
   "source": [
    "## Lasso regression for keyword extraction"
   ]
  },
  {
   "cell_type": "markdown",
   "metadata": {},
   "source": [
    "Lasso regression 을 이용하여 키워드를 찾는 과정을 패키징하여 soykeyword 에 올려두었습니다. 설치는 pip install 이 가능합니다. \n",
    "\n",
    "    pip install soykeyword\n",
    "\n",
    "LassoKeywordExtractor는 Lasso Logistic regression을 이용하여 positive documents와 negative (or refeerence) documents를 잘 구분하는 단어들을 선택합니다. 이를 위해 scikit-learn의 Logistic Regression을 이용하였습니다.\n",
    "\n",
    "sparse matrix 형식의 x를 LassoKeywordExtractor의 train()의 argument로 입력받으며, minimum term frequency와 minimum document frequency로 키워드 후보를 제한하기 쉽도록 LassoKeywordExtractor 생성자의 arguments를 넣어뒀습니다. Logistic regression이 이용하는 regularization cost coefficient C는 costs라는 list of number로 입력됩니다. \n",
    "\n",
    "LassoKeywordExtractor는 텍스트 형식의 데이터는 지원하지 않습니다. Sparse matrix 형식에만 지원하며, train 단계에서 index2word를 입력하지 않으면 <키워드 아이디, 빈도수, Logistic regression coefficient> 형식의 namedtuple인 KeywordScore로 출력됩니다. \n",
    "\n",
    "min_num_of_keywords L1 regularization cost를 조금씩 낮춰가면서 선택되는 최소한의 키워드의 개수가 min_num_of_keywords 이상이 되도록 하는 최초의 keywords를 return하도록 하는 parameter입니다. "
   ]
  },
  {
   "cell_type": "code",
   "execution_count": 3,
   "metadata": {},
   "outputs": [
    {
     "name": "stderr",
     "output_type": "stream",
     "text": [
      "/home/lovit/anaconda3/envs/pytorch/lib/python3.7/site-packages/sklearn/linear_model/logistic.py:433: FutureWarning: Default solver will be changed to 'lbfgs' in 0.22. Specify a solver to silence this warning.\n",
      "  FutureWarning)\n"
     ]
    },
    {
     "name": "stdout",
     "output_type": "stream",
     "text": [
      "28 keywords extracted from 0.100 cost\n",
      "63 keywords extracted from 1.000 cost\n"
     ]
    },
    {
     "data": {
      "text/plain": [
       "[KeywordScore(word=2308, frequency=86, coefficient=3.8160088460462993),\n",
       " KeywordScore(word=4701, frequency=40, coefficient=3.25778936801015),\n",
       " KeywordScore(word=4441, frequency=90, coefficient=2.444449775302257),\n",
       " KeywordScore(word=5880, frequency=221, coefficient=1.7612558845790212),\n",
       " KeywordScore(word=8215, frequency=105, coefficient=1.4857148956888908),\n",
       " KeywordScore(word=4343, frequency=46, coefficient=1.414853810512473),\n",
       " KeywordScore(word=2913, frequency=119, coefficient=1.3364152179720257),\n",
       " KeywordScore(word=3527, frequency=195, coefficient=1.1779128980432874),\n",
       " KeywordScore(word=3261, frequency=216, coefficient=1.1626862220365641),\n",
       " KeywordScore(word=6208, frequency=77, coefficient=1.117745487267983)]"
      ]
     },
     "execution_count": 3,
     "metadata": {},
     "output_type": "execute_result"
    }
   ],
   "source": [
    "from soykeyword.lasso import LassoKeywordExtractor\n",
    "\n",
    "lassobased_extractor = LassoKeywordExtractor(\n",
    "    costs=[500, 200, 100, 50, 10, 5, 1, 0.1],\n",
    "    min_tf=20, \n",
    "    min_df=10\n",
    ")\n",
    "\n",
    "lassobased_extractor.train(x)\n",
    "keywords = lassobased_extractor.extract_from_word(\n",
    "    5537, min_num_of_keywords=30)\n",
    "keywords[:10]"
   ]
  },
  {
   "cell_type": "markdown",
   "metadata": {},
   "source": [
    "index2word를 x와 함께 train()에 넣는다면 키워드 추출 결과는 모두 word index가 str로 바뀌어서 입력됩니다. 만약 word index가 index2word의 boundary를 넘어가는 경우라면 Unk101과 같이 Unk%d의 형식으로 출력됩니다. "
   ]
  },
  {
   "cell_type": "code",
   "execution_count": 4,
   "metadata": {},
   "outputs": [],
   "source": [
    "from soykeyword.lasso import LassoKeywordExtractor\n",
    "\n",
    "lassobased_extractor = LassoKeywordExtractor(\n",
    "    costs=[500, 200, 100, 50, 10, 5, 1, 0.1],\n",
    "    min_tf=20, \n",
    "    min_df=10\n",
    ")\n",
    "\n",
    "lassobased_extractor.train(x, _idx_to_vocab)"
   ]
  },
  {
   "cell_type": "markdown",
   "metadata": {},
   "source": [
    "index2word가 train에 입력되면 '아이오아이'가 포함된 문서의 index를 가져올 수도 있습니다. "
   ]
  },
  {
   "cell_type": "code",
   "execution_count": 5,
   "metadata": {},
   "outputs": [],
   "source": [
    "documents = lassobased_extractor.get_document_index('아이오아이')"
   ]
  },
  {
   "cell_type": "markdown",
   "metadata": {},
   "source": [
    "extract_from_docs(documents)는 documents를 positive set으로, documents가 아닌 모든 문서를 negative set으로 선택한 뒤, 이 둘을 구분하는 L1 Logistic regression을 학습합니다. 이 때에는 '아이오아이'라는 단어가 포함된 문서와 포함되지 않는 문서를 구분하는 classifier를 학습하였기 때문에 '아이오아이'가 최상위 키워드로 선택됩니다. 하지만 이는 정답을 알고 문제를 푸는 격입니다. extract_from_docs는 이 경우보다는 본인이 positive set으로 선택하고 싶은 문서 집합이 명확히 있을 때 이용하는 방법입니다.  "
   ]
  },
  {
   "cell_type": "code",
   "execution_count": 6,
   "metadata": {},
   "outputs": [
    {
     "name": "stdout",
     "output_type": "stream",
     "text": [
      "4 keywords extracted from 0.100 cost\n",
      "4 keywords extracted from 1.000 cost\n",
      "4 keywords extracted from 5.000 cost\n",
      "5 keywords extracted from 10.000 cost\n",
      "13 keywords extracted from 50.000 cost\n",
      "20 keywords extracted from 100.000 cost\n",
      "26 keywords extracted from 200.000 cost\n",
      "51 keywords extracted from 500.000 cost\n"
     ]
    },
    {
     "data": {
      "text/plain": [
       "[KeywordScore(word='아이오아이', frequency=270, coefficient=16.882347051884235),\n",
       " KeywordScore(word='산들', frequency=90, coefficient=1.3354261278067767),\n",
       " KeywordScore(word='선의', frequency=40, coefficient=1.2600250932912496),\n",
       " KeywordScore(word='엠카운트다운', frequency=221, coefficient=1.2288369418069456),\n",
       " KeywordScore(word='드림', frequency=119, coefficient=1.0716780419523757),\n",
       " KeywordScore(word='키미', frequency=297, coefficient=0.9496554139306275),\n",
       " KeywordScore(word='파워풀', frequency=152, coefficient=0.7491257724832632),\n",
       " KeywordScore(word='챔피언', frequency=105, coefficient=0.7378773519351083),\n",
       " KeywordScore(word='고양시', frequency=264, coefficient=0.6027859304587604),\n",
       " KeywordScore(word='뮤직', frequency=195, coefficient=0.5988402912862572),\n",
       " KeywordScore(word='컴백', frequency=536, coefficient=0.5381035198692512),\n",
       " KeywordScore(word='뉴스1스타', frequency=357, coefficient=0.4477513167871695),\n",
       " KeywordScore(word='신용재', frequency=82, coefficient=0.4049837277600391),\n",
       " KeywordScore(word='세련', frequency=192, coefficient=0.39935437628085046),\n",
       " KeywordScore(word='카메라', frequency=439, coefficient=0.3984651908965226),\n",
       " KeywordScore(word='보컬', frequency=155, coefficient=0.39331577796472944),\n",
       " KeywordScore(word='화려', frequency=518, coefficient=0.3818685014046194),\n",
       " KeywordScore(word='방영', frequency=208, coefficient=0.3791991073853639),\n",
       " KeywordScore(word='1위', frequency=1357, coefficient=0.2979705506709927),\n",
       " KeywordScore(word='선보', frequency=2623, coefficient=0.27398739511131065),\n",
       " KeywordScore(word='337', frequency=112, coefficient=0.25881021001033955),\n",
       " KeywordScore(word='수출', frequency=735, coefficient=0.240284513793056),\n",
       " KeywordScore(word='걸그룹', frequency=1060, coefficient=0.23209565342127444),\n",
       " KeywordScore(word='강렬', frequency=352, coefficient=0.2170418099859243),\n",
       " KeywordScore(word='일산', frequency=194, coefficient=0.20809049100707855),\n",
       " KeywordScore(word='비타민', frequency=115, coefficient=0.1937646126741253),\n",
       " KeywordScore(word='그런데', frequency=1016, coefficient=0.18020747939127849),\n",
       " KeywordScore(word='인사', frequency=1213, coefficient=0.1735085572338563),\n",
       " KeywordScore(word='먹고', frequency=216, coefficient=0.16374826320649064),\n",
       " KeywordScore(word='걸크러쉬', frequency=111, coefficient=0.15680444475827512),\n",
       " KeywordScore(word='다비치', frequency=84, coefficient=0.15358282617988697),\n",
       " KeywordScore(word='버전', frequency=100, coefficient=0.12933589457927075),\n",
       " KeywordScore(word='수준', frequency=2240, coefficient=0.12710909160223544),\n",
       " KeywordScore(word='매수', frequency=865, coefficient=0.10429602884167707),\n",
       " KeywordScore(word='구르미', frequency=549, coefficient=0.09726117417983095),\n",
       " KeywordScore(word='입고', frequency=556, coefficient=0.0932067826917653),\n",
       " KeywordScore(word='맡았다', frequency=334, coefficient=0.09223245927188004),\n",
       " KeywordScore(word='프로듀스101', frequency=96, coefficient=0.09087802493226785),\n",
       " KeywordScore(word='세븐', frequency=76, coefficient=0.07054601641683361),\n",
       " KeywordScore(word='국내', frequency=3850, coefficient=0.05969992008209185),\n",
       " KeywordScore(word='지금', frequency=2972, coefficient=0.053367722481894045),\n",
       " KeywordScore(word='순위', frequency=259, coefficient=0.039170682169627005),\n",
       " KeywordScore(word='섹시', frequency=170, coefficient=0.03345560742016476),\n",
       " KeywordScore(word='일산동구', frequency=36, coefficient=0.03145124908798351),\n",
       " KeywordScore(word='대출', frequency=1028, coefficient=0.029599070881573684),\n",
       " KeywordScore(word='음반', frequency=204, coefficient=0.024231547147623527),\n",
       " KeywordScore(word='언어', frequency=322, coefficient=0.017265615490895253),\n",
       " KeywordScore(word='불독', frequency=1212, coefficient=0.01655288922852029),\n",
       " KeywordScore(word='창업', frequency=538, coefficient=0.012926592595589466),\n",
       " KeywordScore(word='사회자', frequency=179, coefficient=0.005602677284501162),\n",
       " KeywordScore(word='주가', frequency=941, coefficient=0.004671569166475925)]"
      ]
     },
     "execution_count": 6,
     "metadata": {},
     "output_type": "execute_result"
    }
   ],
   "source": [
    "keywords = lassobased_extractor.extract_from_docs(documents, min_num_of_keywords=30)\n",
    "keywords"
   ]
  },
  {
   "cell_type": "markdown",
   "metadata": {},
   "source": [
    "extract_from_word(aspect_word)는 aspect_word가 들어간 문서 집합을 positive set으로, 그렇지 않은 문서 집합을 negative set으로 선택하여 이를 구분하는 classifier를 학습하는 것입니다. 이 때, positive set에서 aspect_word를 제외합니다. 이렇게 할 경우, aspect_word 때문에 잘못된 hyperplane이 선택되는 문제를 해결할 수 있습니다. \n",
    "\n",
    "2016-10-20에는 '아이오아이'가 마지막 곡인 '너무너무너무'곡으로 활동하던 시절입니다. 그렇기 때문에 '너무너무너무'와 '엠카운트다운'과 같은 단어가 키워드로 선택되었음을 볼 수 있습니다. "
   ]
  },
  {
   "cell_type": "code",
   "execution_count": 7,
   "metadata": {},
   "outputs": [
    {
     "name": "stdout",
     "output_type": "stream",
     "text": [
      "28 keywords extracted from 0.100 cost\n",
      "63 keywords extracted from 1.000 cost\n"
     ]
    },
    {
     "data": {
      "text/plain": [
       "[KeywordScore(word='너무너무너무', frequency=86, coefficient=3.8117099150802307),\n",
       " KeywordScore(word='선의', frequency=40, coefficient=3.2619544803567555),\n",
       " KeywordScore(word='산들', frequency=90, coefficient=2.446948735843341),\n",
       " KeywordScore(word='엠카운트다운', frequency=221, coefficient=1.7610348257902289),\n",
       " KeywordScore(word='챔피언', frequency=105, coefficient=1.498461786927164),\n",
       " KeywordScore(word='사나', frequency=46, coefficient=1.4203424184189373),\n",
       " KeywordScore(word='드림', frequency=119, coefficient=1.348433253864504),\n",
       " KeywordScore(word='뮤직', frequency=195, coefficient=1.1897826640627807),\n",
       " KeywordScore(word='먹고', frequency=216, coefficient=1.1682337894307808),\n",
       " KeywordScore(word='완전체', frequency=77, coefficient=1.1134199864576417),\n",
       " KeywordScore(word='일산', frequency=194, coefficient=0.969133662540626),\n",
       " KeywordScore(word='세련', frequency=192, coefficient=0.9463765698475632),\n",
       " KeywordScore(word='같이', frequency=918, coefficient=0.8434273084655862),\n",
       " KeywordScore(word='뉴스1스타', frequency=357, coefficient=0.8023416493944249),\n",
       " KeywordScore(word='컴백', frequency=536, coefficient=0.7689092102437408),\n",
       " KeywordScore(word='소속사', frequency=460, coefficient=0.744202432806511),\n",
       " KeywordScore(word='곡으로', frequency=126, coefficient=0.7387539701881292),\n",
       " KeywordScore(word='보컬', frequency=155, coefficient=0.7201509299386064),\n",
       " KeywordScore(word='열창', frequency=40, coefficient=0.7136043432188282),\n",
       " KeywordScore(word='만나게', frequency=127, coefficient=0.7016670249956539),\n",
       " KeywordScore(word='인사', frequency=1213, coefficient=0.6830796558649254),\n",
       " KeywordScore(word='마무리', frequency=606, coefficient=0.629176481384416),\n",
       " KeywordScore(word='박진영', frequency=81, coefficient=0.6026273086420897),\n",
       " KeywordScore(word='선보', frequency=2623, coefficient=0.599890883374337),\n",
       " KeywordScore(word='무대', frequency=1332, coefficient=0.5933417626501836),\n",
       " KeywordScore(word='수출', frequency=735, coefficient=0.5709984860302262),\n",
       " KeywordScore(word='서울신문', frequency=776, coefficient=0.5488161079136776),\n",
       " KeywordScore(word='활동', frequency=2473, coefficient=0.4867278077705166),\n",
       " KeywordScore(word='다이아', frequency=182, coefficient=0.48525845626829006),\n",
       " KeywordScore(word='유정', frequency=161, coefficient=0.4824196175562056),\n",
       " KeywordScore(word='인기', frequency=1494, coefficient=0.46396326162661655),\n",
       " KeywordScore(word='매력', frequency=1371, coefficient=0.4482883118820093),\n",
       " KeywordScore(word='등장', frequency=1038, coefficient=0.43879302769552736),\n",
       " KeywordScore(word='카메라', frequency=439, coefficient=0.4272850043302409),\n",
       " KeywordScore(word='개인', frequency=1246, coefficient=0.3947836059927461),\n",
       " KeywordScore(word='고양시', frequency=264, coefficient=0.3794713177750182),\n",
       " KeywordScore(word='비타민', frequency=115, coefficient=0.3602998295568535),\n",
       " KeywordScore(word='수준', frequency=2240, coefficient=0.35271652505212786),\n",
       " KeywordScore(word='멤버들', frequency=504, coefficient=0.34060936207787645),\n",
       " KeywordScore(word='걸그룹', frequency=1060, coefficient=0.33678871846627245),\n",
       " KeywordScore(word='한편', frequency=3393, coefficient=0.3340941293891505),\n",
       " KeywordScore(word='1위', frequency=1357, coefficient=0.2921508824126181),\n",
       " KeywordScore(word='예능', frequency=634, coefficient=0.2883893577399112),\n",
       " KeywordScore(word='세븐', frequency=76, coefficient=0.274922767608018),\n",
       " KeywordScore(word='순위', frequency=259, coefficient=0.27391681941401114),\n",
       " KeywordScore(word='발매', frequency=664, coefficient=0.272000897243674),\n",
       " KeywordScore(word='야구', frequency=148, coefficient=0.24147352871603453),\n",
       " KeywordScore(word='불독', frequency=1212, coefficient=0.19451274194118698),\n",
       " KeywordScore(word='다비치', frequency=84, coefficient=0.1823999189428547),\n",
       " KeywordScore(word='파워풀', frequency=152, coefficient=0.18115546405671154),\n",
       " KeywordScore(word='이날', frequency=6340, coefficient=0.17484756179424985),\n",
       " KeywordScore(word='걸크러쉬', frequency=111, coefficient=0.1618672320528449),\n",
       " KeywordScore(word='화려', frequency=518, coefficient=0.15644355821006176),\n",
       " KeywordScore(word='신용재', frequency=82, coefficient=0.15626159943886742),\n",
       " KeywordScore(word='프로듀스101', frequency=96, coefficient=0.06723568773800412),\n",
       " KeywordScore(word='반전', frequency=202, coefficient=0.062361647872324365),\n",
       " KeywordScore(word='프로그램', frequency=2648, coefficient=0.05719600004629888),\n",
       " KeywordScore(word='일간스포츠', frequency=1235, coefficient=0.0555229997388584),\n",
       " KeywordScore(word='스마트폰', frequency=996, coefficient=0.05531772804127733),\n",
       " KeywordScore(word='트와이스', frequency=655, coefficient=0.028002633808148963),\n",
       " KeywordScore(word='키미', frequency=297, coefficient=0.01963853728089781),\n",
       " KeywordScore(word='프로듀스', frequency=185, coefficient=0.015756691216613983),\n",
       " KeywordScore(word='일산동구', frequency=36, coefficient=0.005513899311798078)]"
      ]
     },
     "execution_count": 7,
     "metadata": {},
     "output_type": "execute_result"
    }
   ],
   "source": [
    "keywords = lassobased_extractor.extract_from_word('아이오아이', min_num_of_keywords=30)\n",
    "keywords"
   ]
  },
  {
   "cell_type": "markdown",
   "metadata": {},
   "source": [
    "'최순실'의 경우에도 '박근혜-최순실 게이트'사건이 시작되는 단계이기 때문에 해당 뉴스들이 나오고 있었습니다. '최순실'이라는 단어가 들어간 문서를 선택하는 기준은 [게이트, 정유라, 고영태, 이화여대, 미르재단]과 같은 단어가 선택되어 해당 날짜의 뉴스를 잘 요약하고 있음을 볼 수 있습니다. "
   ]
  },
  {
   "cell_type": "code",
   "execution_count": 8,
   "metadata": {},
   "outputs": [
    {
     "name": "stdout",
     "output_type": "stream",
     "text": [
      "78 keywords extracted from 0.100 cost\n"
     ]
    },
    {
     "data": {
      "text/plain": [
       "[KeywordScore(word='게이트', frequency=303, coefficient=4.203402809567516),\n",
       " KeywordScore(word='정유라', frequency=329, coefficient=2.037140460890112),\n",
       " KeywordScore(word='고영태', frequency=65, coefficient=1.721663656344356),\n",
       " KeywordScore(word='편파기소', frequency=54, coefficient=1.2857257231065549),\n",
       " KeywordScore(word='최서원', frequency=94, coefficient=1.2762140387693015),\n",
       " KeywordScore(word='비선', frequency=288, coefficient=1.0134780099708183),\n",
       " KeywordScore(word='씨와', frequency=372, coefficient=0.7832048635945356),\n",
       " KeywordScore(word='이화여대', frequency=651, coefficient=0.7236313130906012),\n",
       " KeywordScore(word='송민순', frequency=821, coefficient=0.6901110483802853),\n",
       " KeywordScore(word='뉴스', frequency=4682, coefficient=0.5788237881384294),\n",
       " KeywordScore(word='연설문', frequency=204, coefficient=0.49729393663321186),\n",
       " KeywordScore(word='침묵', frequency=223, coefficient=0.4263484031947302),\n",
       " KeywordScore(word='박근혜', frequency=1445, coefficient=0.40730356621805713),\n",
       " KeywordScore(word='실세', frequency=309, coefficient=0.38098579834081286),\n",
       " KeywordScore(word='거의', frequency=522, coefficient=0.3630571769357692),\n",
       " KeywordScore(word='미르재단', frequency=247, coefficient=0.34172325821206184),\n",
       " KeywordScore(word='자료', frequency=1029, coefficient=0.33003746172917864),\n",
       " KeywordScore(word='청와대', frequency=2112, coefficient=0.32724336586541575),\n",
       " KeywordScore(word='사퇴', frequency=463, coefficient=0.32350922413212874),\n",
       " KeywordScore(word='비선실세', frequency=219, coefficient=0.30877262742661965),\n",
       " KeywordScore(word='의혹', frequency=3602, coefficient=0.2883458425607733),\n",
       " KeywordScore(word='기자들', frequency=463, coefficient=0.27656581923005136),\n",
       " KeywordScore(word='더블루케이', frequency=194, coefficient=0.2712149508965062),\n",
       " KeywordScore(word='더블', frequency=225, coefficient=0.2563740702532895),\n",
       " KeywordScore(word='민생', frequency=164, coefficient=0.22858460192711016),\n",
       " KeywordScore(word='우병우', frequency=721, coefficient=0.22487495902444274),\n",
       " KeywordScore(word='독일', frequency=959, coefficient=0.22355587128192694),\n",
       " KeywordScore(word='설립', frequency=1522, coefficient=0.22344635571929733),\n",
       " KeywordScore(word='검색어', frequency=62, coefficient=0.21755505336484576),\n",
       " KeywordScore(word='나라', frequency=1090, coefficient=0.21608784152305482),\n",
       " KeywordScore(word='개명', frequency=124, coefficient=0.2099718955119238),\n",
       " KeywordScore(word='오늘', frequency=2318, coefficient=0.20307549072906508),\n",
       " KeywordScore(word='총격', frequency=750, coefficient=0.18656227684783533),\n",
       " KeywordScore(word='위원장', frequency=720, coefficient=0.1837821079403205),\n",
       " KeywordScore(word='이대', frequency=419, coefficient=0.17589447407472925),\n",
       " KeywordScore(word='교수', frequency=2075, coefficient=0.16694499099096158),\n",
       " KeywordScore(word='호텔', frequency=826, coefficient=0.16444072811477561),\n",
       " KeywordScore(word='문체부', frequency=268, coefficient=0.16436640539205388),\n",
       " KeywordScore(word='스포츠재단', frequency=676, coefficient=0.15416162558556565),\n",
       " KeywordScore(word='창단', frequency=108, coefficient=0.14862630918819036),\n",
       " KeywordScore(word='00', frequency=462, coefficient=0.14450152149445925),\n",
       " KeywordScore(word='재단', frequency=1690, coefficient=0.1430381155235652),\n",
       " KeywordScore(word='미르', frequency=604, coefficient=0.13347533509765105),\n",
       " KeywordScore(word='핵심', frequency=948, coefficient=0.1293921791172709),\n",
       " KeywordScore(word='간사', frequency=473, coefficient=0.12923912590147943),\n",
       " KeywordScore(word='학생들', frequency=1270, coefficient=0.12695271477003128),\n",
       " KeywordScore(word='새누리당', frequency=2151, coefficient=0.12057903693132435),\n",
       " KeywordScore(word='정국', frequency=137, coefficient=0.11421924539713768),\n",
       " KeywordScore(word='복지부', frequency=191, coefficient=0.11329927500202086),\n",
       " KeywordScore(word='수사', frequency=2215, coefficient=0.10937514723625268),\n",
       " KeywordScore(word='더불어민주당', frequency=1980, coefficient=0.10585744541951622),\n",
       " KeywordScore(word='개입', frequency=473, coefficient=0.10410447343879249),\n",
       " KeywordScore(word='대통령', frequency=5682, coefficient=0.10410168899104053),\n",
       " KeywordScore(word='특혜', frequency=532, coefficient=0.0933873946290527),\n",
       " KeywordScore(word='있습니다', frequency=3068, coefficient=0.08926027665130835),\n",
       " KeywordScore(word='문제', frequency=4224, coefficient=0.0878162531865027),\n",
       " KeywordScore(word='금지', frequency=19890, coefficient=0.08751838609998648),\n",
       " KeywordScore(word='부총리', frequency=426, coefficient=0.08737849314437068),\n",
       " KeywordScore(word='보도', frequency=1737, coefficient=0.08483109455372682),\n",
       " KeywordScore(word='오패산', frequency=412, coefficient=0.08382686493131836),\n",
       " KeywordScore(word='검토', frequency=871, coefficient=0.08033340526039484),\n",
       " KeywordScore(word='국정원', frequency=797, coefficient=0.07341743840240862),\n",
       " KeywordScore(word='여당', frequency=471, coefficient=0.07095853494732197),\n",
       " KeywordScore(word='확인', frequency=3545, coefficient=0.0667251567550559),\n",
       " KeywordScore(word='사람', frequency=4919, coefficient=0.06508160648829732),\n",
       " KeywordScore(word='언급', frequency=1094, coefficient=0.06447351933516184),\n",
       " KeywordScore(word='인권', frequency=512, coefficient=0.06302609118347043),\n",
       " KeywordScore(word='경제', frequency=3594, coefficient=0.05083818760217199),\n",
       " KeywordScore(word='대표', frequency=7727, coefficient=0.039886965804610756),\n",
       " KeywordScore(word='여야', frequency=477, coefficient=0.033145489535383814),\n",
       " KeywordScore(word='의원', frequency=2925, coefficient=0.03145360935918656),\n",
       " KeywordScore(word='이런', frequency=2693, coefficient=0.03005401692430467),\n",
       " KeywordScore(word='사람들', frequency=2455, coefficient=0.02917376408356052),\n",
       " KeywordScore(word='기존', frequency=2055, coefficient=0.02894088795699667),\n",
       " KeywordScore(word='전화', frequency=1002, coefficient=0.023949886302925803),\n",
       " KeywordScore(word='고발', frequency=435, coefficient=0.013396469174952748),\n",
       " KeywordScore(word='인터뷰', frequency=1376, coefficient=0.0036454811076898764),\n",
       " KeywordScore(word='일이다', frequency=194, coefficient=0.00028252302103739835)]"
      ]
     },
     "execution_count": 8,
     "metadata": {},
     "output_type": "execute_result"
    }
   ],
   "source": [
    "keywords = lassobased_extractor.extract_from_word('최순실', min_num_of_keywords=30)\n",
    "keywords"
   ]
  },
  {
   "cell_type": "markdown",
   "metadata": {},
   "source": [
    "## Proportion ratio for keyword extraction\n",
    "\n",
    "proportion ratio 를 이용하는 방법도 soykeyword 에 올려두었습니다. Interface 는 Lasso 와 동일합니다. \n",
    "\n",
    "extract_from_word 와 extract_from_docs 를 제공합니다. "
   ]
  },
  {
   "cell_type": "code",
   "execution_count": 9,
   "metadata": {},
   "outputs": [
    {
     "name": "stdout",
     "output_type": "stream",
     "text": [
      "MatrixbasedKeywordExtractor trained\n"
     ]
    }
   ],
   "source": [
    "from soykeyword.proportion import MatrixbasedKeywordExtractor\n",
    "\n",
    "proportion_based_extractor = MatrixbasedKeywordExtractor(\n",
    "    min_tf=20, \n",
    "    min_df=2,\n",
    "    verbose=True)\n",
    "\n",
    "proportion_based_extractor.train(x, _idx_to_vocab)"
   ]
  },
  {
   "cell_type": "code",
   "execution_count": 10,
   "metadata": {},
   "outputs": [
    {
     "data": {
      "text/plain": [
       "[KeywordScore(word='아이오아이', frequency=270, score=1.0),\n",
       " KeywordScore(word='엠카운트다운', frequency=221, score=0.9978307775631691),\n",
       " KeywordScore(word='펜타곤', frequency=104, score=0.9934422266805437),\n",
       " KeywordScore(word='잠깐', frequency=162, score=0.9929667382454291),\n",
       " KeywordScore(word='엠넷', frequency=125, score=0.9907514986652862),\n",
       " KeywordScore(word='걸크러쉬', frequency=111, score=0.99017203825805),\n",
       " KeywordScore(word='타이틀곡', frequency=311, score=0.9869906112674688),\n",
       " KeywordScore(word='코드', frequency=105, score=0.9867835556082788),\n",
       " KeywordScore(word='본명', frequency=105, score=0.98596911773225),\n",
       " KeywordScore(word='엑스', frequency=101, score=0.9847950780631249)]"
      ]
     },
     "execution_count": 10,
     "metadata": {},
     "output_type": "execute_result"
    }
   ],
   "source": [
    "keywords = proportion_based_extractor.extract_from_word(\n",
    "    '아이오아이', min_score=0.8, min_frequency=100)\n",
    "keywords[:10]"
   ]
  },
  {
   "cell_type": "code",
   "execution_count": null,
   "metadata": {
    "collapsed": true
   },
   "outputs": [],
   "source": []
  }
 ],
 "metadata": {
  "kernelspec": {
   "display_name": "Python 3",
   "language": "python",
   "name": "python3"
  },
  "language_info": {
   "codemirror_mode": {
    "name": "ipython",
    "version": 3
   },
   "file_extension": ".py",
   "mimetype": "text/x-python",
   "name": "python",
   "nbconvert_exporter": "python",
   "pygments_lexer": "ipython3",
   "version": "3.7.1"
  }
 },
 "nbformat": 4,
 "nbformat_minor": 1
}
