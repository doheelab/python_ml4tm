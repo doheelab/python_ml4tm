{
 "cells": [
  {
   "cell_type": "markdown",
   "metadata": {},
   "source": [
    "2016-10-20 일 뉴스에서 하나의 뉴스와 비슷한 뉴스를 찾아봅니다."
   ]
  },
  {
   "cell_type": "code",
   "execution_count": 1,
   "metadata": {},
   "outputs": [
    {
     "name": "stdout",
     "output_type": "stream",
     "text": [
      "soynlp=0.0.492\n",
      "added lovit_textmining_dataset\n",
      "0.20.3\n",
      "(30091, 9774)\n",
      "30091\n"
     ]
    }
   ],
   "source": [
    "import config\n",
    "import sklearn\n",
    "from navernews_10days import get_bow, get_news_paths\n",
    "from soynlp.utils import DoublespaceLineCorpus\n",
    "\n",
    "x, idx_to_vocab, vocab_to_idx = get_bow(date='2016-10-20', tokenize='noun')\n",
    "path = get_news_paths(date='2016-10-20')\n",
    "docs = [doc for doc in DoublespaceLineCorpus(path, iter_sent=False)]\n",
    "\n",
    "print(sklearn.__version__)\n",
    "print(x.shape)\n",
    "print(len(docs))"
   ]
  },
  {
   "cell_type": "markdown",
   "metadata": {},
   "source": [
    "임의의 문서 하나를 선택하였습니다. 도널드 트럼프 vs 힐러리 클린턴의 미국 대선에 대한 뉴스입니다.\n",
    "\n",
    "이 뉴스의 term frequency vector 는 x[4,:] 으로 선택할 수 있습니다. "
   ]
  },
  {
   "cell_type": "code",
   "execution_count": 2,
   "metadata": {},
   "outputs": [
    {
     "data": {
      "text/plain": [
       "'클린턴 득표율 50 목표 가능성 아주 크다  워싱턴 연합뉴스 강영두 특파원 미국 민주당 대선후보 힐러리 클린턴이 다음달 8일 대선에서 400명 이상의 선거인단을 확보하면서 대승을 거둘 수 있다는 분석이 나왔다  미국 민주당 대선후보 힐러리 클린턴이 지난 10일 현지시간 오하이오 주 콜럼버스에서 유세하는 모습 연합뉴스  미 공화당 전략가인 스티브 슈미트는 19일 현지시간 방송의 모닝조 프로그램 인터뷰에서 이 같이 전망했다  슈미트는 2008년 존 매케인의 대선캠프에 관여했다  간접선거인 미 대선에서 승리에 필요한 선거인단 매직 넘버 는 전체 538명 의 과반인 270명이다  슈미트는 현 상황은 클린턴이 선거인단 400명을 넘기는 추세 라고 분석했다  그는 대선과 함께 치러지는 연방 상 하원의원 선거에 대해서도 상원은 민주당이 장악할 것으로 보이며 하원도 민주당이 장악할 수 있는 쪽으로 근접해 가고 있다 고 관측했다  현재는 공화당이 상원과 하원을 모두 장악하고 있다  슈미트는 만약 선거가 오늘 열린다고 가정하면 공화당은 하원에서 25석을 잃게 될 것으로 보인다 면서 공화당 입장에서는 선거판의 흐름을 보여주는 추세선이 잘못된 방향으로 가고 있다 내부에서 패닉이 시작됐다 고 말했다  미 일간 워싱턴포스트 가 서베이몽키와 15개 경합주에 대한 공동 여론조사 10월8 16일 1만7천379명 를 실시해 전날 발표한 결과를 보면 클린턴은 9개 주에서 공화당의 도널드 트럼프를 앞섰고 선거인단 304명을 확보한 것으로 나타났다  공화당 주변에서조차 트럼프의 완패 가능성이 거론되는 가운데 클린턴 진영은 득표율 50 고지 점령을 새로운 목표로 내걸었다  클린턴 측은 트럼프가 음담패설 비디오 파문과 성추문 논란에 휩싸이면 사실상 지지율을 견인할 추동력을 잃은 것으로 판단하고 있다 다만 자유당 게리 존슨 등 제3 후보 의 지지율이 10 안팎으로 상대적으로 높다는 점이 변수다  클린턴 캠프의 중량감 있는 한 인사는 의회전문매체 더힐 과의 인터뷰에서 득표율 50 전망에 대해 가능성이 아주 크다 며 이를 위해 현재 자금과 인력을 총동원해 쏟아붓고 있다 고 말했다  실제로 클린턴은 지난 17일 발표된 몬마우스 대학이 적극 투표층을 상대로 한 대선 여론조사에서 50 의 지지율을 기록한 바 있다 이 조사에서 트럼프는 38 를 얻었고 게리 존슨과 질 스타인 녹색당 이 각각 5 와 2 를 차지했다  0279'"
      ]
     },
     "execution_count": 2,
     "metadata": {},
     "output_type": "execute_result"
    }
   ],
   "source": [
    "query_idx = 15\n",
    "docs[query_idx]"
   ]
  },
  {
   "cell_type": "markdown",
   "metadata": {},
   "source": [
    "앞서 연습하였던 LSHForest 를 이용하여 Cosine distance 기준으로 유사한 문서를 찾겠습니다. training 은 lsh.fit(x) 로 끝납니다. 패러메터는 기본값을 이용하였습니다.\n",
    "\n",
    "LSHForest 는 32 차원의 고정된 크기의 hash code 를 이용한다고 합니다. 우리는 그 외의 값들만 조절할 수 있습니다."
   ]
  },
  {
   "cell_type": "code",
   "execution_count": 3,
   "metadata": {},
   "outputs": [
    {
     "name": "stderr",
     "output_type": "stream",
     "text": [
      "/home/lovit/anaconda3/envs/pytorch/lib/python3.7/site-packages/sklearn/neighbors/approximate.py:258: DeprecationWarning: LSHForest has poor performance and has been deprecated in 0.19. It will be removed in version 0.21.\n",
      "  DeprecationWarning)\n"
     ]
    },
    {
     "name": "stdout",
     "output_type": "stream",
     "text": [
      "CPU times: user 768 ms, sys: 24 ms, total: 792 ms\n",
      "Wall time: 788 ms\n"
     ]
    }
   ],
   "source": [
    "%%time\n",
    "\n",
    "from sklearn.neighbors import LSHForest\n",
    "\n",
    "lsh = LSHForest()\n",
    "lsh.fit(x)"
   ]
  },
  {
   "cell_type": "markdown",
   "metadata": {},
   "source": [
    "15 번 문서와 유사한 10개의 문서를 선택하였습니다. 가장 비슷한 문서는 15 번 이어야 합니다. "
   ]
  },
  {
   "cell_type": "code",
   "execution_count": 4,
   "metadata": {},
   "outputs": [],
   "source": [
    "from sklearn.metrics import pairwise_distances\n",
    "\n",
    "query_vec = x[query_idx,:].reshape(1,-1)"
   ]
  },
  {
   "cell_type": "code",
   "execution_count": 5,
   "metadata": {},
   "outputs": [
    {
     "name": "stdout",
     "output_type": "stream",
     "text": [
      "[[   15 15006 18139 24457 29966  6906 12549 16940 27167  3289]]\n",
      "CPU times: user 40 ms, sys: 0 ns, total: 40 ms\n",
      "Wall time: 36.8 ms\n"
     ]
    }
   ],
   "source": [
    "%%time\n",
    "\n",
    "dist, idxs = lsh.kneighbors(query_vec, n_neighbors=10)\n",
    "print(idxs)"
   ]
  },
  {
   "cell_type": "markdown",
   "metadata": {},
   "source": [
    "15 번을 포함한 10 개의 문서에 대하여 각 문서 별 200 글자까지만 snippest를 출력하여 그 내용을 확인하겠습니다. 이와 같이 비슷한 문서를 찾는 문제에서는 LSHForest를 쓰면 편리합니다. \n",
    "\n",
    "또한, 문서는 어느 정도 길이가 긴 문서인 것이 좋습니다. 짧은 문서는 too much sparse하여 인덱싱이 잘 되지 않을 수 있습니다. "
   ]
  },
  {
   "cell_type": "code",
   "execution_count": 7,
   "metadata": {},
   "outputs": [
    {
     "name": "stdout",
     "output_type": "stream",
     "text": [
      "[idx = 15, cos = 1.0] 클린턴 득표율 50 목표 가능성 아주 크다  워싱턴 연합뉴스 강영두 특파원 미국 민주당 대선후보 힐러리 클린턴이 다음달 8일 대선에서 400명 이상의 선거인단을 확보하면서 대승을 거둘 수 있다는 분석이 나왔다  미국 민주당 대선후보 힐러리 클린턴이 지난 10일 현지시간 오하이오 주 콜럼버스에서 유세하는 모습 연합뉴스  미 공화당 전략가인 스티브 슈미트는 1 ...\n",
      "\n",
      "[idx = 15006, cos = 0.846] 미국 민주당 대선후보 힐러리 클린턴이 다음달 8일 대선에서 400명 이상의 선거인단을 확보하면서 대승을 거둘 수 있다는 분석이 나왔다  미 공화당 전략가인 스티브 슈미트는 현지시간 19일 방송의 모닝조 프로그램 인터뷰에서 이 같이 전망했다 슈미트는 2008년 존 매케인의 대선캠프에 관여했다 간접선거인 미 대선에서 승리에 필요한 선거인단 매직 넘버 는 전체  ...\n",
      "\n",
      "[idx = 18139, cos = 0.505] 19일 현지 시간 미국 라스베이거스 네바다대학에서 열린 대선후보 3차 토론을 마친 후 민주당 대선후보 힐러리 클린턴이 공화당 대선후보 도널드 트럼프를 지나 청중에게 다가가고 있다 연합뉴스  미국 공화당 대선후보인 도널드 트럼프가 선거 결과에 불복할 수 있음을 강하게 내비치면서 대선판이 최악의 진흙탕 싸움으로 빠져들고 있다 선거 불복 논란이 그동안의 모든 선 ...\n",
      "\n",
      "[idx = 24457, cos = 0.476] 3차 토론회에서 힐러리 클린턴 민주당 대선후보가 청중들에게 손을 흔들어 보이고 있다 연합뉴스 아시아경제 이지은 기자 이번 토론회의 승자도 힐러리 클린턴이었다  방송은 여론조사 기관 와 공동으로 19일 현지시간 네바다주 라스베이거스에서 열린 제 3차 토론회의 승자에 대해 여론조사를 실시한 결과 52 가 클린턴을 승자로 꼽았다고 보도했다 공화당 대선후보 도널드 ...\n",
      "\n",
      "[idx = 29966, cos = 0.458] 미 대선 3차 토론회 여론조사 결과 52 대 39 클린턴 또 승리  미국 대선 레이스의 최종 분수령으로 꼽혀온 19일 현지시간 3차 토론에서 도널드 트럼프 공화당 후보는 일본 독일 등과 함께 한국을 언급하면서 미국은 다른 나라들에 의해 착취당하고 있다 이들은 모두 부자국가들인데 왜 방위비를 더 내면 안되느냐 라며 당선시 동맹국들에 대한 방위비 삭감 의지를  ...\n",
      "\n",
      "[idx = 6906, cos = 0.446] 19일 현지시간 미국 네바다 주 라스베이거스 네바다대학에서 끝난 미국 대통령 선거 3차 토론의 승자는 민주당의 후보 힐러리 클린턴 전 국무장관으로 나타났다  미국 방송이 토론 직후 와 공동으로 벌인 여론조사에서 응답자의 52 가 클린턴을 승자로 꼽았다 공화당 대선 후보인 도널드 트럼프를 승자로 택한 응답자는 39 에 그쳤다  트럼프를 겨냥한 클린턴 후보의  ...\n",
      "\n",
      "[idx = 12549, cos = 0.438] 한겨레 지지층 결집 겨냥 애태우게 할 것 발언도  대통령선거 이후 정치적 영향력 확보 노려  도널드 트럼프 미국 공화당 대선 후보가 19일 현지시각 열린 대통령 후보간 마지막 텔레비전 토론에서 선거 결과에 불복할 수도 있음을 시사했다 트럼프는 이날 선거가 조작되고 있다 는 자신의 주장과 관련해 대선 결과 승복을 묻는 사회자의 질문에 그때 가서 말하겠다 며  ...\n",
      "\n",
      "[idx = 16940, cos = 0.358] 라스베이거스 연합뉴스 19일 현지시간 미국 라스베이거스 네바다대학에서 열린 대선후보 3차 토론에서 민주당 대선후보 힐러리 클린턴이 공화당 대선후보 도널드 트럼프를 이긴 것으로 나타났다 방송은 토론 직후 시청자를 대상으로 여론조사를 실시한 결과 52 가 힐러리를 승자로 꼽은 반면 트럼프를 승자로 택한 응답자는 39 에 그쳤다고 밝혔다 사진은 이날 토론이 끝난 ...\n",
      "\n",
      "[idx = 27167, cos = 0.338] 19일 3차 토론에 참여한 힐러리 클린턴 민주당 대통령후보 뉴스1  서울 뉴스1 윤지원 기자 힐러리 클린턴 미국 민주당 대통령후보는 19일 현지시간 3차 토론에서 여성의 낙태권에 강력한 지지를 확인했다  라스베이거스 네바다주립대학교에서 진행된 3차 토론에서 사회자 크리스 월러스가 낙태가 헌법상의 권리를 가진다고 판결한 로 대 웨이드 재판의 결과를 되돌리겠냐 ...\n",
      "\n",
      "[idx = 3289, cos = 0.246] 서울 뉴시스 이지예 기자 미국 공화당 대선 후보 도널드 트럼프는 19일 현지시간 한국 일본 독일 사우디 아라비아 등 돈 많은 강대국들이 충분한 방위비를 부담하지 않고 있다고 말했다  트럼프는 이날 네바다주 라스베이거스의 네바다 대학에서 열린 3차 토론에서 부유한 동맹국들이 더 많은 방위비를 지불하지 않으면 미국은 국방 지원을 할 수 없다고 주장했다  클린턴 ...\n",
      "\n"
     ]
    }
   ],
   "source": [
    "for d, idx in zip(dist[0], idxs[0]):\n",
    "    print('[idx = {}, cos = {:.3}] {} ...\\n'.format(idx, 1 - d, docs[idx][:200]))"
   ]
  },
  {
   "cell_type": "markdown",
   "metadata": {},
   "source": [
    "모든 데이터와의 거리를 직접 계산해 봅니다. 속도가 크게 차이가 나지 않아보입니다. 이는 탐색에 이용한 문서의 개수가 3 만 여개이기 때문입니다."
   ]
  },
  {
   "cell_type": "code",
   "execution_count": 8,
   "metadata": {},
   "outputs": [
    {
     "name": "stdout",
     "output_type": "stream",
     "text": [
      "[[   15 15006 18139 24457 29966  6906 12549 16940 27167  3289]]\n",
      "[   15 15006  7421 11309 13752 14182 10422 12536  3687  9194]\n",
      "CPU times: user 660 ms, sys: 28 ms, total: 688 ms\n",
      "Wall time: 229 ms\n"
     ]
    }
   ],
   "source": [
    "%%time\n",
    "\n",
    "def full_search(query_vec, x, n_neighbors):\n",
    "    dist = pairwise_distances(query_vec, x, metric='cosine')[0]\n",
    "    sim_idxs = dist.argsort()[:n_neighbors]\n",
    "    sim_dist = dist[sim_idxs]\n",
    "    return sim_dist, sim_idxs\n",
    "\n",
    "print(idxs)\n",
    "dist, idxs = full_search(query_vec, x, n_neighbors=10)\n",
    "print(idxs)"
   ]
  },
  {
   "cell_type": "markdown",
   "metadata": {},
   "source": [
    "LSHForest 는 pickling 을 통하여 저장할 수도 있습니다. 결과는 학습했던 lsh 와 동일함을 확인할 수 있습니다. 하지만 데이터가 통째로 모델에 저장되어 있기 때문에 크기가 큽니다."
   ]
  },
  {
   "cell_type": "code",
   "execution_count": 9,
   "metadata": {},
   "outputs": [
    {
     "data": {
      "text/plain": [
       "array([[   15, 15006, 18139, 24457, 29966,  6906, 12549, 16940, 27167,\n",
       "         3289]])"
      ]
     },
     "execution_count": 9,
     "metadata": {},
     "output_type": "execute_result"
    }
   ],
   "source": [
    "import pickle\n",
    "\n",
    "with open('test_lsh.pkl', 'wb') as f:\n",
    "    pickle.dump(lsh, f)\n",
    "    \n",
    "with open('test_lsh.pkl', 'rb') as f:\n",
    "    loaded_lsh = pickle.load(f)\n",
    "    \n",
    "_, idxs = loaded_lsh.kneighbors(query_vec, n_neighbors=10)\n",
    "idxs"
   ]
  },
  {
   "cell_type": "markdown",
   "metadata": {},
   "source": [
    "LSHForest 는 scikit-learn 의 0.21 부터 제공되지 않는다고 합니다. 그 외에는 Ball Tree 나 KD Tree 가 이용되지만, Ball Tree 와 KD Tree 는 sparse matrix 를 지원하지 않습니다 (scikit=0.20.3 기준). 또한 Ball Tree 와 KD-Tree 는 cosine 거리를 제공하지 않습니다. 두 인덱서가 제공하는 거리 척도는 아래처럼 확인할 수 있습니다.\n",
    "\n",
    "```python\n",
    "from sklearn.neighbors import BallTree, KDTree\n",
    "\n",
    "print(BallTree.valid_metrics)\n",
    "print(KDTree.valid_metrics)\n",
    "```\n",
    "\n",
    "모든 벡터의 L2 norm 이 1 일 경우 (unit vector), 벡터 간 Euclidean distance 거리는 Cosine distance 의 2 배 입니다. 이 경우에는 벡터를 정규화 한 뒤, Euclidean distance 를 이용할 수 있습니다."
   ]
  },
  {
   "cell_type": "code",
   "execution_count": 10,
   "metadata": {},
   "outputs": [],
   "source": [
    "import time\n",
    "import numpy as np\n",
    "from sklearn.neighbors import BallTree\n",
    "from sklearn.neighbors import LSHForest\n",
    "\n",
    "def comparision(x):\n",
    "\n",
    "    # training time comparison\n",
    "    lsh_train_time = time.time()\n",
    "    lsh = LSHForest()\n",
    "    lsh.fit(x)\n",
    "    lsh_train_time = time.time() - lsh_train_time\n",
    "\n",
    "    bt_train_time = time.time()\n",
    "    ball_tree = BallTree(x, leaf_size=10, metric='euclidean')\n",
    "    bt_train_time = time.time() - bt_train_time\n",
    "\n",
    "    # query time & quality comparison\n",
    "    query_vec = x[:10] # sample queries\n",
    "\n",
    "    lsh_query_time = time.time()\n",
    "    lsh_dist, idxs = lsh.kneighbors(query_vec, n_neighbors=10)\n",
    "    lsh_query_time = time.time() - lsh_query_time\n",
    "\n",
    "    bt_query_time = time.time()\n",
    "    bt_dist, idxs = ball_tree.query(query_vec, k=10)\n",
    "    bt_query_time = time.time() - bt_query_time\n",
    "\n",
    "    # when all vectors are unit vector, 2 * cosine distance is equal euclidean distance\n",
    "    # cosine dist = 1 - product # prodict = cosine sim\n",
    "    # euclidean dist = 2 - 2 * product\n",
    "    print('training time (LSH Forest) = {:.3} sec'.format(lsh_train_time))\n",
    "    print('training time (Ball Tree) = {:.3} sec'.format(bt_train_time))\n",
    "    print('query time (LSH Forest) = {:.3} sec, mean dist = {:.6}'.format(lsh_query_time, 2 * lsh_dist.mean()))\n",
    "    print('query time (Ball Tree) = {:.3} sec, mean dist = {:.6}'.format(bt_query_time, bt_dist.mean()))"
   ]
  },
  {
   "cell_type": "code",
   "execution_count": 11,
   "metadata": {},
   "outputs": [
    {
     "name": "stderr",
     "output_type": "stream",
     "text": [
      "/home/lovit/anaconda3/envs/pytorch/lib/python3.7/site-packages/sklearn/neighbors/approximate.py:258: DeprecationWarning: LSHForest has poor performance and has been deprecated in 0.19. It will be removed in version 0.21.\n",
      "  DeprecationWarning)\n"
     ]
    },
    {
     "name": "stdout",
     "output_type": "stream",
     "text": [
      "training time (LSH Forest) = 0.588 sec\n",
      "training time (Ball Tree) = 0.572 sec\n",
      "query time (LSH Forest) = 0.0387 sec, mean dist = 0.313637\n",
      "query time (Ball Tree) = 0.275 sec, mean dist = 0.486448\n"
     ]
    }
   ],
   "source": [
    "from sklearn.preprocessing import normalize\n",
    "\n",
    "x = np.random.random_sample((100000, 100))\n",
    "x = normalize(x, norm='l2')\n",
    "comparision(x)"
   ]
  },
  {
   "cell_type": "code",
   "execution_count": 12,
   "metadata": {},
   "outputs": [
    {
     "name": "stderr",
     "output_type": "stream",
     "text": [
      "/home/lovit/anaconda3/envs/pytorch/lib/python3.7/site-packages/sklearn/neighbors/approximate.py:258: DeprecationWarning: LSHForest has poor performance and has been deprecated in 0.19. It will be removed in version 0.21.\n",
      "  DeprecationWarning)\n"
     ]
    },
    {
     "name": "stdout",
     "output_type": "stream",
     "text": [
      "training time (LSH Forest) = 0.402 sec\n",
      "training time (Ball Tree) = 0.21 sec\n",
      "query time (LSH Forest) = 0.0259 sec, mean dist = 0.170063\n",
      "query time (Ball Tree) = 0.118 sec, mean dist = 0.358388\n"
     ]
    }
   ],
   "source": [
    "x = np.random.random_sample((100000, 32))\n",
    "x = normalize(x, norm='l2')\n",
    "comparision(x)"
   ]
  },
  {
   "cell_type": "code",
   "execution_count": null,
   "metadata": {},
   "outputs": [],
   "source": []
  }
 ],
 "metadata": {
  "kernelspec": {
   "display_name": "Python 3",
   "language": "python",
   "name": "python3"
  },
  "language_info": {
   "codemirror_mode": {
    "name": "ipython",
    "version": 3
   },
   "file_extension": ".py",
   "mimetype": "text/x-python",
   "name": "python",
   "nbconvert_exporter": "python",
   "pygments_lexer": "ipython3",
   "version": "3.7.1"
  }
 },
 "nbformat": 4,
 "nbformat_minor": 1
}
