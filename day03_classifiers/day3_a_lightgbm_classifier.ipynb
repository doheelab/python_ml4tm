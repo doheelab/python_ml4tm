{
 "cells": [
  {
   "cell_type": "markdown",
   "metadata": {},
   "source": [
    "LightGBM 의 Python 패키지는 pip install 로 설치가 가능합니다. 10k 데이터는 classifier comparison 튜토리얼에서 이용할 것이기 때문에 이번에는 24 만여 문장으로 이뤄진 데이터를 이용합니다.\n",
    "\n",
    "```\n",
    "pip install lightgbm\n",
    "```\n",
    "\n",
    "더 자세한 설치 방법은 공식 문서 [https://lightgbm.readthedocs.io/](https://lightgbm.readthedocs.io/) 를 참고하세요."
   ]
  },
  {
   "cell_type": "code",
   "execution_count": 1,
   "metadata": {},
   "outputs": [
    {
     "name": "stdout",
     "output_type": "stream",
     "text": [
      "2.3.1\n",
      "(239708, 10178)\n",
      "[-1  1]\n"
     ]
    }
   ],
   "source": [
    "import numpy as np\n",
    "import lightgbm as lgb\n",
    "from lovit_textmining_dataset.navermovie_comments import load_sentiment_dataset\n",
    "\n",
    "print(lgb.__version__)\n",
    "\n",
    "texts, x, y, idx_to_vocab = load_sentiment_dataset(data_name='small', tokenize='komoran')\n",
    "print(x.shape)\n",
    "print(np.unique(y))"
   ]
  },
  {
   "cell_type": "markdown",
   "metadata": {},
   "source": [
    "`x` 는 단어 빈도 벡터이므로 dtype 이 numpy.int64 입니다. 하지만 LightGBM 의 학습데이터의 dtype 은 float32 를 가정합니다."
   ]
  },
  {
   "cell_type": "code",
   "execution_count": 2,
   "metadata": {},
   "outputs": [
    {
     "data": {
      "text/plain": [
       "dtype('int64')"
      ]
     },
     "execution_count": 2,
     "metadata": {},
     "output_type": "execute_result"
    }
   ],
   "source": [
    "x.dtype"
   ]
  },
  {
   "cell_type": "markdown",
   "metadata": {},
   "source": [
    "그렇기 때문에 dtype 을 변환해 줍니다."
   ]
  },
  {
   "cell_type": "code",
   "execution_count": 3,
   "metadata": {},
   "outputs": [
    {
     "data": {
      "text/plain": [
       "dtype('float32')"
      ]
     },
     "execution_count": 3,
     "metadata": {},
     "output_type": "execute_result"
    }
   ],
   "source": [
    "import scipy\n",
    "x = scipy.sparse.csr_matrix(x, dtype=np.float32)\n",
    "x.dtype"
   ]
  },
  {
   "cell_type": "markdown",
   "metadata": {},
   "source": [
    "이 데이터의 label 은 negative 를 -1 로, positive 를 1 로 지정하였습니다만, LightGBM 는 [0, 1] 의 class label 만 입력가능합니다. -1 인 부분을 찾아 모두 0 으로 바꿔줍니다."
   ]
  },
  {
   "cell_type": "code",
   "execution_count": 4,
   "metadata": {},
   "outputs": [
    {
     "data": {
      "text/plain": [
       "array([0, 1])"
      ]
     },
     "execution_count": 4,
     "metadata": {},
     "output_type": "execute_result"
    }
   ],
   "source": [
    "# label used in xgboost must be [0, 1]\n",
    "y[np.where(y == -1)[0]] = 0\n",
    "np.unique(y)"
   ]
  },
  {
   "cell_type": "markdown",
   "metadata": {},
   "source": [
    "학습 정확도와 테스트 정확도를 확인하기 위하여 24 만여 문장을 9:1 로 학습용과 테스트용으로 나눕니다."
   ]
  },
  {
   "cell_type": "code",
   "execution_count": 5,
   "metadata": {},
   "outputs": [],
   "source": [
    "from sklearn.model_selection import train_test_split\n",
    "\n",
    "x_train, x_test, y_train, y_test = train_test_split(x, y, test_size=0.1, random_state=42)"
   ]
  },
  {
   "cell_type": "markdown",
   "metadata": {},
   "source": [
    "LightGBM 의 입력데이터는 Dataset 형식이며, data 에는 scipy.sparse.csr_matrix 와 같은 sparse matrix 및 numpy.ndarray 와 같은 dense matrix 도 입력할 수 있습니다. 학습용 데이터 `dtrain` 를 Dataset 으로 만듭니다. 하지만 predict 함수에 "
   ]
  },
  {
   "cell_type": "code",
   "execution_count": 6,
   "metadata": {},
   "outputs": [],
   "source": [
    "dtrain = lgb.Dataset(data=x_train, label=y_train)"
   ]
  },
  {
   "cell_type": "markdown",
   "metadata": {},
   "source": [
    "모델 학습에 이용할 패러매터를 설정합니다. binary classification 이기 때문에 이 값도 지정합니다. LightGBM 은 설정할 수 있는 패러매터가 많은데, 이들에 대해서는 official document 를 살펴보시기 바랍니다.\n",
    "\n",
    "- https://lightgbm.readthedocs.io/en/latest/Parameters.html"
   ]
  },
  {
   "cell_type": "code",
   "execution_count": 7,
   "metadata": {},
   "outputs": [],
   "source": [
    "param = {\n",
    "    'num_leaves':31,\n",
    "    # 'max_depth':8,\n",
    "    'min_data_in_leaf': 10,\n",
    "    'objective': 'binary',\n",
    "    'metric': 'binary_logloss',\n",
    "    'verbosity': 2\n",
    "}"
   ]
  },
  {
   "cell_type": "markdown",
   "metadata": {},
   "source": [
    "`num_round` 는 앙상블 모델을 구성하는 개별 모델의 개수입니다. 모델의 학습이 끝나면 학습된 모델 객체가 return 됩니다."
   ]
  },
  {
   "cell_type": "code",
   "execution_count": 8,
   "metadata": {},
   "outputs": [],
   "source": [
    "num_round = 10\n",
    "bst = lgb.train(param, dtrain, num_round)"
   ]
  },
  {
   "cell_type": "markdown",
   "metadata": {},
   "source": [
    "학습된 모델은 저장할 수 있으며,"
   ]
  },
  {
   "cell_type": "code",
   "execution_count": 9,
   "metadata": {},
   "outputs": [
    {
     "data": {
      "text/plain": [
       "<lightgbm.basic.Booster at 0x7fc6c8300470>"
      ]
     },
     "execution_count": 9,
     "metadata": {},
     "output_type": "execute_result"
    }
   ],
   "source": [
    "bst.save_model('lgb.model')"
   ]
  },
  {
   "cell_type": "markdown",
   "metadata": {},
   "source": [
    "load_model 을 이용하여 불러들일 수도 있습니다."
   ]
  },
  {
   "cell_type": "code",
   "execution_count": 10,
   "metadata": {},
   "outputs": [],
   "source": [
    "loaded_bst = lgb.Booster(model_file='lgb.model')"
   ]
  },
  {
   "cell_type": "markdown",
   "metadata": {},
   "source": [
    "정확도를 측정하는 함수는 여러 번 이용할 것이기 때문에 accuracy 라는 함수로 만듭니다. predict 함수는 positive class 에 속할 확률을 return 합니다. 이 값이 0.5 이상인 값들을 모두 1 로, 그렇지 않은 값을 0 으로 만들어 label 을 얻습니다.\n",
    "\n",
    "학습 데이터의 정확도와 테스트 데이터의 정확도를 각각 구합니다."
   ]
  },
  {
   "cell_type": "code",
   "execution_count": 11,
   "metadata": {},
   "outputs": [
    {
     "name": "stdout",
     "output_type": "stream",
     "text": [
      "train accuracy : 0.778763030912639\n",
      "test  accuracy : 0.7778982937716408\n"
     ]
    }
   ],
   "source": [
    "def accuracy(bst, x, y):\n",
    "    pred_score = bst.predict(x)\n",
    "    y_pred = np.zeros(pred_score.shape[0])\n",
    "    y_pred[np.where(pred_score > 0.5)[0]] = 1\n",
    "    n_correct = np.where(y_pred == y)[0].shape[0]\n",
    "    accuracy = n_correct / y.shape[0]\n",
    "    return accuracy\n",
    "\n",
    "print('train accuracy : {}'.format(accuracy(loaded_bst, x_train, y_train)))\n",
    "print('test  accuracy : {}'.format(accuracy(loaded_bst, x_test, y_test)))"
   ]
  },
  {
   "cell_type": "markdown",
   "metadata": {},
   "source": [
    "이번에는 10 개가 아닌, 1000 개의 모델을 이용하여 앙상블 모델을 구축합니다. 정확도가 많이 올라갔습니다."
   ]
  },
  {
   "cell_type": "code",
   "execution_count": 12,
   "metadata": {},
   "outputs": [
    {
     "name": "stdout",
     "output_type": "stream",
     "text": [
      "train accuracy : 0.9155360462044063\n",
      "test  accuracy : 0.8932877226648868\n"
     ]
    }
   ],
   "source": [
    "num_round = 1000\n",
    "bst = lgb.train(param, dtrain, num_round)\n",
    "bst.save_model('lgb1000.model')\n",
    "\n",
    "print('train accuracy : {}'.format(accuracy(bst, x_train, y_train)))\n",
    "print('test  accuracy : {}'.format(accuracy(bst, x_test, y_test)))"
   ]
  },
  {
   "cell_type": "markdown",
   "metadata": {},
   "source": [
    "그런데 Booster 는predict_proba 함수가 없어서 새로 classifier 를 학습합니다."
   ]
  },
  {
   "cell_type": "code",
   "execution_count": 13,
   "metadata": {},
   "outputs": [
    {
     "name": "stdout",
     "output_type": "stream",
     "text": [
      "LGBMClassifier(boosting_type='gbdt', class_weight=None, colsample_bytree=1.0,\n",
      "               importance_type='split', learning_rate=0.1, max_depth=-1,\n",
      "               min_child_samples=10, min_child_weight=0.001, min_split_gain=0.0,\n",
      "               n_estimators=1000, n_jobs=4, num_leaves=31, objective='binary',\n",
      "               random_state=None, reg_alpha=0, reg_lambda=0, silent=False,\n",
      "               subsample=1.0, subsample_for_bin=200000, subsample_freq=0)\n"
     ]
    }
   ],
   "source": [
    "num_round = 1000\n",
    "classifier = lgb.LGBMClassifier(\n",
    "    boosting_type = 'gbdt',\n",
    "    n_estimators = num_round,\n",
    "    objective = 'binary',\n",
    "    num_leaves = 31,\n",
    "    min_child_samples = 10,\n",
    "    n_jobs = 4,\n",
    "    silent = False,\n",
    "    reg_alpha = 0, # L1 regularization\n",
    "    reg_lambda = 0, # L2 regularization\n",
    ")\n",
    "\n",
    "classifier = classifier.fit(x_train, y_train)\n",
    "print(classifier)"
   ]
  },
  {
   "cell_type": "markdown",
   "metadata": {},
   "source": [
    "Prediction probability 의 평균을 확인하면 학습, 테스트 모두 0.87 의 수준을 보입니다. 이는 LightGBM 은 Random Forest 와 달리 분류를 명확히 하는 모델임을 의미합니다."
   ]
  },
  {
   "cell_type": "code",
   "execution_count": 14,
   "metadata": {},
   "outputs": [
    {
     "name": "stdout",
     "output_type": "stream",
     "text": [
      "average prection probability with train data = 0.8724915968403639\n",
      "average prection probability with test data = 0.8714802039472108\n"
     ]
    }
   ],
   "source": [
    "def check_average_prediction_probability(classifier, x):\n",
    "    proba = classifier.predict_proba(x)\n",
    "    mean_proba = proba.max(axis=1).mean()\n",
    "    return mean_proba\n",
    "\n",
    "print('average prection probability with train data = {}'.format(\n",
    "    check_average_prediction_probability(classifier, x_train)))\n",
    "print('average prection probability with test data = {}'.format(\n",
    "    check_average_prediction_probability(classifier, x_test)))"
   ]
  },
  {
   "cell_type": "code",
   "execution_count": null,
   "metadata": {},
   "outputs": [],
   "source": []
  }
 ],
 "metadata": {
  "kernelspec": {
   "display_name": "Python 3",
   "language": "python",
   "name": "python3"
  },
  "language_info": {
   "codemirror_mode": {
    "name": "ipython",
    "version": 3
   },
   "file_extension": ".py",
   "mimetype": "text/x-python",
   "name": "python",
   "nbconvert_exporter": "python",
   "pygments_lexer": "ipython3",
   "version": "3.7.1"
  }
 },
 "nbformat": 4,
 "nbformat_minor": 2
}
