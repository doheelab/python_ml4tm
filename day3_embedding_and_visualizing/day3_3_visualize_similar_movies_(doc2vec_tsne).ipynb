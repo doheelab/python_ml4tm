{
 "cells": [
  {
   "cell_type": "markdown",
   "metadata": {},
   "source": [
    "### Load data\n",
    "\n",
    "앞서 학습한 doc2vec model 을 읽어옵니다."
   ]
  },
  {
   "cell_type": "code",
   "execution_count": 1,
   "metadata": {},
   "outputs": [
    {
     "name": "stdout",
     "output_type": "stream",
     "text": [
      "soynlp=0.0.492\n",
      "added lovit_textmining_dataset\n",
      "Gensim version = 3.6.0\n"
     ]
    }
   ],
   "source": [
    "import config\n",
    "import gensim\n",
    "print('Gensim version = {}'.format(gensim.__version__))\n",
    "\n",
    "import warnings\n",
    "warnings.filterwarnings('ignore')"
   ]
  },
  {
   "cell_type": "markdown",
   "metadata": {},
   "source": [
    "이전 (Gensim <= 3.6.x) 에는 document vectors 가 `Doc2Vec.docvecs.doctag_syn0` 에 있었습니다.\n",
    "\n",
    "Gensim >= 4.0.0 이후에 `Doc2Vec.docvecs.vectors_docs` 로 옮겨집니다."
   ]
  },
  {
   "cell_type": "code",
   "execution_count": 2,
   "metadata": {},
   "outputs": [
    {
     "name": "stdout",
     "output_type": "stream",
     "text": [
      "(172, 100)\n",
      "<class 'numpy.ndarray'>\n"
     ]
    }
   ],
   "source": [
    "from navermovie_comments import load_trained_embedding\n",
    "from navermovie_comments import load_id_to_movie\n",
    "\n",
    "\n",
    "tag_to_movie = load_id_to_movie()\n",
    "tag_to_movie = {'#%s'%idx:movie for idx, movie in tag_to_movie.items()}\n",
    "\n",
    "doc2vec_model = load_trained_embedding(\n",
    "    data_name='large',\n",
    "    tokenize='soynlp_unsup',\n",
    "    embedding='doc2vec')\n",
    "\n",
    "print(doc2vec_model.docvecs.vectors_docs.shape)\n",
    "print(type(doc2vec_model.docvecs.vectors_docs))"
   ]
  },
  {
   "cell_type": "code",
   "execution_count": 3,
   "metadata": {},
   "outputs": [
    {
     "data": {
      "text/plain": [
       "['고사 두 번째 이야기: 교생실습', '박쥐', '해무']"
      ]
     },
     "execution_count": 3,
     "metadata": {},
     "output_type": "execute_result"
    }
   ],
   "source": [
    "doctags = doc2vec_model.docvecs.doctags\n",
    "tag_to_idx = {tag:info.offset for tag, info in doctags.items()}\n",
    "idx_to_tag = [tag for tag, idx in sorted(tag_to_idx.items(), key=lambda x:x[1])]\n",
    "idx_to_movie = [tag_to_movie[tag] for tag in idx_to_tag]\n",
    "\n",
    "idx_to_movie[:3]"
   ]
  },
  {
   "cell_type": "markdown",
   "metadata": {},
   "source": [
    "### t-SNE"
   ]
  },
  {
   "cell_type": "code",
   "execution_count": 4,
   "metadata": {},
   "outputs": [
    {
     "name": "stdout",
     "output_type": "stream",
     "text": [
      "CPU times: user 1.69 s, sys: 8 ms, total: 1.7 s\n",
      "Wall time: 716 ms\n"
     ]
    }
   ],
   "source": [
    "%%time \n",
    "\n",
    "from sklearn.manifold import TSNE\n",
    "\n",
    "tsne = TSNE(n_components=2, metric='cosine')\n",
    "y_tsne = tsne.fit_transform(doc2vec_model.docvecs.vectors_docs)"
   ]
  },
  {
   "cell_type": "markdown",
   "metadata": {},
   "source": [
    "### preparing Bokeh"
   ]
  },
  {
   "cell_type": "code",
   "execution_count": 5,
   "metadata": {},
   "outputs": [
    {
     "data": {
      "text/html": [
       "\n",
       "    <div class=\"bk-root\">\n",
       "        <a href=\"https://bokeh.pydata.org\" target=\"_blank\" class=\"bk-logo bk-logo-small bk-logo-notebook\"></a>\n",
       "        <span id=\"1001\">Loading BokehJS ...</span>\n",
       "    </div>"
      ]
     },
     "metadata": {},
     "output_type": "display_data"
    },
    {
     "data": {
      "application/javascript": [
       "\n",
       "(function(root) {\n",
       "  function now() {\n",
       "    return new Date();\n",
       "  }\n",
       "\n",
       "  var force = true;\n",
       "\n",
       "  if (typeof (root._bokeh_onload_callbacks) === \"undefined\" || force === true) {\n",
       "    root._bokeh_onload_callbacks = [];\n",
       "    root._bokeh_is_loading = undefined;\n",
       "  }\n",
       "\n",
       "  var JS_MIME_TYPE = 'application/javascript';\n",
       "  var HTML_MIME_TYPE = 'text/html';\n",
       "  var EXEC_MIME_TYPE = 'application/vnd.bokehjs_exec.v0+json';\n",
       "  var CLASS_NAME = 'output_bokeh rendered_html';\n",
       "\n",
       "  /**\n",
       "   * Render data to the DOM node\n",
       "   */\n",
       "  function render(props, node) {\n",
       "    var script = document.createElement(\"script\");\n",
       "    node.appendChild(script);\n",
       "  }\n",
       "\n",
       "  /**\n",
       "   * Handle when an output is cleared or removed\n",
       "   */\n",
       "  function handleClearOutput(event, handle) {\n",
       "    var cell = handle.cell;\n",
       "\n",
       "    var id = cell.output_area._bokeh_element_id;\n",
       "    var server_id = cell.output_area._bokeh_server_id;\n",
       "    // Clean up Bokeh references\n",
       "    if (id != null && id in Bokeh.index) {\n",
       "      Bokeh.index[id].model.document.clear();\n",
       "      delete Bokeh.index[id];\n",
       "    }\n",
       "\n",
       "    if (server_id !== undefined) {\n",
       "      // Clean up Bokeh references\n",
       "      var cmd = \"from bokeh.io.state import curstate; print(curstate().uuid_to_server['\" + server_id + \"'].get_sessions()[0].document.roots[0]._id)\";\n",
       "      cell.notebook.kernel.execute(cmd, {\n",
       "        iopub: {\n",
       "          output: function(msg) {\n",
       "            var id = msg.content.text.trim();\n",
       "            if (id in Bokeh.index) {\n",
       "              Bokeh.index[id].model.document.clear();\n",
       "              delete Bokeh.index[id];\n",
       "            }\n",
       "          }\n",
       "        }\n",
       "      });\n",
       "      // Destroy server and session\n",
       "      var cmd = \"import bokeh.io.notebook as ion; ion.destroy_server('\" + server_id + \"')\";\n",
       "      cell.notebook.kernel.execute(cmd);\n",
       "    }\n",
       "  }\n",
       "\n",
       "  /**\n",
       "   * Handle when a new output is added\n",
       "   */\n",
       "  function handleAddOutput(event, handle) {\n",
       "    var output_area = handle.output_area;\n",
       "    var output = handle.output;\n",
       "\n",
       "    // limit handleAddOutput to display_data with EXEC_MIME_TYPE content only\n",
       "    if ((output.output_type != \"display_data\") || (!output.data.hasOwnProperty(EXEC_MIME_TYPE))) {\n",
       "      return\n",
       "    }\n",
       "\n",
       "    var toinsert = output_area.element.find(\".\" + CLASS_NAME.split(' ')[0]);\n",
       "\n",
       "    if (output.metadata[EXEC_MIME_TYPE][\"id\"] !== undefined) {\n",
       "      toinsert[toinsert.length - 1].firstChild.textContent = output.data[JS_MIME_TYPE];\n",
       "      // store reference to embed id on output_area\n",
       "      output_area._bokeh_element_id = output.metadata[EXEC_MIME_TYPE][\"id\"];\n",
       "    }\n",
       "    if (output.metadata[EXEC_MIME_TYPE][\"server_id\"] !== undefined) {\n",
       "      var bk_div = document.createElement(\"div\");\n",
       "      bk_div.innerHTML = output.data[HTML_MIME_TYPE];\n",
       "      var script_attrs = bk_div.children[0].attributes;\n",
       "      for (var i = 0; i < script_attrs.length; i++) {\n",
       "        toinsert[toinsert.length - 1].firstChild.setAttribute(script_attrs[i].name, script_attrs[i].value);\n",
       "      }\n",
       "      // store reference to server id on output_area\n",
       "      output_area._bokeh_server_id = output.metadata[EXEC_MIME_TYPE][\"server_id\"];\n",
       "    }\n",
       "  }\n",
       "\n",
       "  function register_renderer(events, OutputArea) {\n",
       "\n",
       "    function append_mime(data, metadata, element) {\n",
       "      // create a DOM node to render to\n",
       "      var toinsert = this.create_output_subarea(\n",
       "        metadata,\n",
       "        CLASS_NAME,\n",
       "        EXEC_MIME_TYPE\n",
       "      );\n",
       "      this.keyboard_manager.register_events(toinsert);\n",
       "      // Render to node\n",
       "      var props = {data: data, metadata: metadata[EXEC_MIME_TYPE]};\n",
       "      render(props, toinsert[toinsert.length - 1]);\n",
       "      element.append(toinsert);\n",
       "      return toinsert\n",
       "    }\n",
       "\n",
       "    /* Handle when an output is cleared or removed */\n",
       "    events.on('clear_output.CodeCell', handleClearOutput);\n",
       "    events.on('delete.Cell', handleClearOutput);\n",
       "\n",
       "    /* Handle when a new output is added */\n",
       "    events.on('output_added.OutputArea', handleAddOutput);\n",
       "\n",
       "    /**\n",
       "     * Register the mime type and append_mime function with output_area\n",
       "     */\n",
       "    OutputArea.prototype.register_mime_type(EXEC_MIME_TYPE, append_mime, {\n",
       "      /* Is output safe? */\n",
       "      safe: true,\n",
       "      /* Index of renderer in `output_area.display_order` */\n",
       "      index: 0\n",
       "    });\n",
       "  }\n",
       "\n",
       "  // register the mime type if in Jupyter Notebook environment and previously unregistered\n",
       "  if (root.Jupyter !== undefined) {\n",
       "    var events = require('base/js/events');\n",
       "    var OutputArea = require('notebook/js/outputarea').OutputArea;\n",
       "\n",
       "    if (OutputArea.prototype.mime_types().indexOf(EXEC_MIME_TYPE) == -1) {\n",
       "      register_renderer(events, OutputArea);\n",
       "    }\n",
       "  }\n",
       "\n",
       "  \n",
       "  if (typeof (root._bokeh_timeout) === \"undefined\" || force === true) {\n",
       "    root._bokeh_timeout = Date.now() + 5000;\n",
       "    root._bokeh_failed_load = false;\n",
       "  }\n",
       "\n",
       "  var NB_LOAD_WARNING = {'data': {'text/html':\n",
       "     \"<div style='background-color: #fdd'>\\n\"+\n",
       "     \"<p>\\n\"+\n",
       "     \"BokehJS does not appear to have successfully loaded. If loading BokehJS from CDN, this \\n\"+\n",
       "     \"may be due to a slow or bad network connection. Possible fixes:\\n\"+\n",
       "     \"</p>\\n\"+\n",
       "     \"<ul>\\n\"+\n",
       "     \"<li>re-rerun `output_notebook()` to attempt to load from CDN again, or</li>\\n\"+\n",
       "     \"<li>use INLINE resources instead, as so:</li>\\n\"+\n",
       "     \"</ul>\\n\"+\n",
       "     \"<code>\\n\"+\n",
       "     \"from bokeh.resources import INLINE\\n\"+\n",
       "     \"output_notebook(resources=INLINE)\\n\"+\n",
       "     \"</code>\\n\"+\n",
       "     \"</div>\"}};\n",
       "\n",
       "  function display_loaded() {\n",
       "    var el = document.getElementById(\"1001\");\n",
       "    if (el != null) {\n",
       "      el.textContent = \"BokehJS is loading...\";\n",
       "    }\n",
       "    if (root.Bokeh !== undefined) {\n",
       "      if (el != null) {\n",
       "        el.textContent = \"BokehJS \" + root.Bokeh.version + \" successfully loaded.\";\n",
       "      }\n",
       "    } else if (Date.now() < root._bokeh_timeout) {\n",
       "      setTimeout(display_loaded, 100)\n",
       "    }\n",
       "  }\n",
       "\n",
       "\n",
       "  function run_callbacks() {\n",
       "    try {\n",
       "      root._bokeh_onload_callbacks.forEach(function(callback) { callback() });\n",
       "    }\n",
       "    finally {\n",
       "      delete root._bokeh_onload_callbacks\n",
       "    }\n",
       "    console.info(\"Bokeh: all callbacks have finished\");\n",
       "  }\n",
       "\n",
       "  function load_libs(js_urls, callback) {\n",
       "    root._bokeh_onload_callbacks.push(callback);\n",
       "    if (root._bokeh_is_loading > 0) {\n",
       "      console.log(\"Bokeh: BokehJS is being loaded, scheduling callback at\", now());\n",
       "      return null;\n",
       "    }\n",
       "    if (js_urls == null || js_urls.length === 0) {\n",
       "      run_callbacks();\n",
       "      return null;\n",
       "    }\n",
       "    console.log(\"Bokeh: BokehJS not loaded, scheduling load and callback at\", now());\n",
       "    root._bokeh_is_loading = js_urls.length;\n",
       "    for (var i = 0; i < js_urls.length; i++) {\n",
       "      var url = js_urls[i];\n",
       "      var s = document.createElement('script');\n",
       "      s.src = url;\n",
       "      s.async = false;\n",
       "      s.onreadystatechange = s.onload = function() {\n",
       "        root._bokeh_is_loading--;\n",
       "        if (root._bokeh_is_loading === 0) {\n",
       "          console.log(\"Bokeh: all BokehJS libraries loaded\");\n",
       "          run_callbacks()\n",
       "        }\n",
       "      };\n",
       "      s.onerror = function() {\n",
       "        console.warn(\"failed to load library \" + url);\n",
       "      };\n",
       "      console.log(\"Bokeh: injecting script tag for BokehJS library: \", url);\n",
       "      document.getElementsByTagName(\"head\")[0].appendChild(s);\n",
       "    }\n",
       "  };var element = document.getElementById(\"1001\");\n",
       "  if (element == null) {\n",
       "    console.log(\"Bokeh: ERROR: autoload.js configured with elementid '1001' but no matching script tag was found. \")\n",
       "    return false;\n",
       "  }\n",
       "\n",
       "  var js_urls = [\"https://cdn.pydata.org/bokeh/release/bokeh-1.0.2.min.js\", \"https://cdn.pydata.org/bokeh/release/bokeh-widgets-1.0.2.min.js\", \"https://cdn.pydata.org/bokeh/release/bokeh-tables-1.0.2.min.js\", \"https://cdn.pydata.org/bokeh/release/bokeh-gl-1.0.2.min.js\"];\n",
       "\n",
       "  var inline_js = [\n",
       "    function(Bokeh) {\n",
       "      Bokeh.set_log_level(\"info\");\n",
       "    },\n",
       "    \n",
       "    function(Bokeh) {\n",
       "      \n",
       "    },\n",
       "    function(Bokeh) {\n",
       "      console.log(\"Bokeh: injecting CSS: https://cdn.pydata.org/bokeh/release/bokeh-1.0.2.min.css\");\n",
       "      Bokeh.embed.inject_css(\"https://cdn.pydata.org/bokeh/release/bokeh-1.0.2.min.css\");\n",
       "      console.log(\"Bokeh: injecting CSS: https://cdn.pydata.org/bokeh/release/bokeh-widgets-1.0.2.min.css\");\n",
       "      Bokeh.embed.inject_css(\"https://cdn.pydata.org/bokeh/release/bokeh-widgets-1.0.2.min.css\");\n",
       "      console.log(\"Bokeh: injecting CSS: https://cdn.pydata.org/bokeh/release/bokeh-tables-1.0.2.min.css\");\n",
       "      Bokeh.embed.inject_css(\"https://cdn.pydata.org/bokeh/release/bokeh-tables-1.0.2.min.css\");\n",
       "    }\n",
       "  ];\n",
       "\n",
       "  function run_inline_js() {\n",
       "    \n",
       "    if ((root.Bokeh !== undefined) || (force === true)) {\n",
       "      for (var i = 0; i < inline_js.length; i++) {\n",
       "        inline_js[i].call(root, root.Bokeh);\n",
       "      }if (force === true) {\n",
       "        display_loaded();\n",
       "      }} else if (Date.now() < root._bokeh_timeout) {\n",
       "      setTimeout(run_inline_js, 100);\n",
       "    } else if (!root._bokeh_failed_load) {\n",
       "      console.log(\"Bokeh: BokehJS failed to load within specified timeout.\");\n",
       "      root._bokeh_failed_load = true;\n",
       "    } else if (force !== true) {\n",
       "      var cell = $(document.getElementById(\"1001\")).parents('.cell').data().cell;\n",
       "      cell.output_area.append_execute_result(NB_LOAD_WARNING)\n",
       "    }\n",
       "\n",
       "  }\n",
       "\n",
       "  if (root._bokeh_is_loading === 0) {\n",
       "    console.log(\"Bokeh: BokehJS loaded, going straight to plotting\");\n",
       "    run_inline_js();\n",
       "  } else {\n",
       "    load_libs(js_urls, function() {\n",
       "      console.log(\"Bokeh: BokehJS plotting callback run at\", now());\n",
       "      run_inline_js();\n",
       "    });\n",
       "  }\n",
       "}(window));"
      ],
      "application/vnd.bokehjs_load.v0+json": "\n(function(root) {\n  function now() {\n    return new Date();\n  }\n\n  var force = true;\n\n  if (typeof (root._bokeh_onload_callbacks) === \"undefined\" || force === true) {\n    root._bokeh_onload_callbacks = [];\n    root._bokeh_is_loading = undefined;\n  }\n\n  \n\n  \n  if (typeof (root._bokeh_timeout) === \"undefined\" || force === true) {\n    root._bokeh_timeout = Date.now() + 5000;\n    root._bokeh_failed_load = false;\n  }\n\n  var NB_LOAD_WARNING = {'data': {'text/html':\n     \"<div style='background-color: #fdd'>\\n\"+\n     \"<p>\\n\"+\n     \"BokehJS does not appear to have successfully loaded. If loading BokehJS from CDN, this \\n\"+\n     \"may be due to a slow or bad network connection. Possible fixes:\\n\"+\n     \"</p>\\n\"+\n     \"<ul>\\n\"+\n     \"<li>re-rerun `output_notebook()` to attempt to load from CDN again, or</li>\\n\"+\n     \"<li>use INLINE resources instead, as so:</li>\\n\"+\n     \"</ul>\\n\"+\n     \"<code>\\n\"+\n     \"from bokeh.resources import INLINE\\n\"+\n     \"output_notebook(resources=INLINE)\\n\"+\n     \"</code>\\n\"+\n     \"</div>\"}};\n\n  function display_loaded() {\n    var el = document.getElementById(\"1001\");\n    if (el != null) {\n      el.textContent = \"BokehJS is loading...\";\n    }\n    if (root.Bokeh !== undefined) {\n      if (el != null) {\n        el.textContent = \"BokehJS \" + root.Bokeh.version + \" successfully loaded.\";\n      }\n    } else if (Date.now() < root._bokeh_timeout) {\n      setTimeout(display_loaded, 100)\n    }\n  }\n\n\n  function run_callbacks() {\n    try {\n      root._bokeh_onload_callbacks.forEach(function(callback) { callback() });\n    }\n    finally {\n      delete root._bokeh_onload_callbacks\n    }\n    console.info(\"Bokeh: all callbacks have finished\");\n  }\n\n  function load_libs(js_urls, callback) {\n    root._bokeh_onload_callbacks.push(callback);\n    if (root._bokeh_is_loading > 0) {\n      console.log(\"Bokeh: BokehJS is being loaded, scheduling callback at\", now());\n      return null;\n    }\n    if (js_urls == null || js_urls.length === 0) {\n      run_callbacks();\n      return null;\n    }\n    console.log(\"Bokeh: BokehJS not loaded, scheduling load and callback at\", now());\n    root._bokeh_is_loading = js_urls.length;\n    for (var i = 0; i < js_urls.length; i++) {\n      var url = js_urls[i];\n      var s = document.createElement('script');\n      s.src = url;\n      s.async = false;\n      s.onreadystatechange = s.onload = function() {\n        root._bokeh_is_loading--;\n        if (root._bokeh_is_loading === 0) {\n          console.log(\"Bokeh: all BokehJS libraries loaded\");\n          run_callbacks()\n        }\n      };\n      s.onerror = function() {\n        console.warn(\"failed to load library \" + url);\n      };\n      console.log(\"Bokeh: injecting script tag for BokehJS library: \", url);\n      document.getElementsByTagName(\"head\")[0].appendChild(s);\n    }\n  };var element = document.getElementById(\"1001\");\n  if (element == null) {\n    console.log(\"Bokeh: ERROR: autoload.js configured with elementid '1001' but no matching script tag was found. \")\n    return false;\n  }\n\n  var js_urls = [\"https://cdn.pydata.org/bokeh/release/bokeh-1.0.2.min.js\", \"https://cdn.pydata.org/bokeh/release/bokeh-widgets-1.0.2.min.js\", \"https://cdn.pydata.org/bokeh/release/bokeh-tables-1.0.2.min.js\", \"https://cdn.pydata.org/bokeh/release/bokeh-gl-1.0.2.min.js\"];\n\n  var inline_js = [\n    function(Bokeh) {\n      Bokeh.set_log_level(\"info\");\n    },\n    \n    function(Bokeh) {\n      \n    },\n    function(Bokeh) {\n      console.log(\"Bokeh: injecting CSS: https://cdn.pydata.org/bokeh/release/bokeh-1.0.2.min.css\");\n      Bokeh.embed.inject_css(\"https://cdn.pydata.org/bokeh/release/bokeh-1.0.2.min.css\");\n      console.log(\"Bokeh: injecting CSS: https://cdn.pydata.org/bokeh/release/bokeh-widgets-1.0.2.min.css\");\n      Bokeh.embed.inject_css(\"https://cdn.pydata.org/bokeh/release/bokeh-widgets-1.0.2.min.css\");\n      console.log(\"Bokeh: injecting CSS: https://cdn.pydata.org/bokeh/release/bokeh-tables-1.0.2.min.css\");\n      Bokeh.embed.inject_css(\"https://cdn.pydata.org/bokeh/release/bokeh-tables-1.0.2.min.css\");\n    }\n  ];\n\n  function run_inline_js() {\n    \n    if ((root.Bokeh !== undefined) || (force === true)) {\n      for (var i = 0; i < inline_js.length; i++) {\n        inline_js[i].call(root, root.Bokeh);\n      }if (force === true) {\n        display_loaded();\n      }} else if (Date.now() < root._bokeh_timeout) {\n      setTimeout(run_inline_js, 100);\n    } else if (!root._bokeh_failed_load) {\n      console.log(\"Bokeh: BokehJS failed to load within specified timeout.\");\n      root._bokeh_failed_load = true;\n    } else if (force !== true) {\n      var cell = $(document.getElementById(\"1001\")).parents('.cell').data().cell;\n      cell.output_area.append_execute_result(NB_LOAD_WARNING)\n    }\n\n  }\n\n  if (root._bokeh_is_loading === 0) {\n    console.log(\"Bokeh: BokehJS loaded, going straight to plotting\");\n    run_inline_js();\n  } else {\n    load_libs(js_urls, function() {\n      console.log(\"Bokeh: BokehJS plotting callback run at\", now());\n      run_inline_js();\n    });\n  }\n}(window));"
     },
     "metadata": {},
     "output_type": "display_data"
    }
   ],
   "source": [
    "from bokeh.plotting import figure, show, output_notebook\n",
    "from bokeh.plotting import ColumnDataSource\n",
    "\n",
    "output_notebook()\n",
    "\n",
    "def draw_scatterplot(tags, title, embedding):\n",
    "\n",
    "    # prepare data source\n",
    "\n",
    "    source = ColumnDataSource(data=dict(\n",
    "        x = embedding[:,0].tolist(),\n",
    "        y = embedding[:,1].tolist(),\n",
    "        desc= idx_to_movie\n",
    "    ))\n",
    "\n",
    "    TOOLTIPS = [\n",
    "        (\"(x,y)\", \"($x, $y)\"),\n",
    "        (\"desc\", \"@desc\"),\n",
    "    ]\n",
    "\n",
    "    # draw figure\n",
    "    p = figure(plot_width=600, plot_height=600, tooltips=TOOLTIPS, title=title)\n",
    "    p.grid.grid_line_color = None\n",
    "    p.background_fill_color = \"white\"\n",
    "    p.scatter('x', 'y', source=source, marker=\"circle\", size=5,\n",
    "        line_color=\"navy\", fill_color=\"orange\" , alpha=0.5)\n",
    "\n",
    "    def mtext(p, x, y, text):\n",
    "        p.text(x, y, text=[text], text_color=\"black\",\n",
    "               text_align=\"center\", text_font_size=\"10pt\")\n",
    "\n",
    "    # annotation\n",
    "    for tag in tags:\n",
    "        idx = tag_to_idx[tag]\n",
    "        movie = tag_to_movie[tag]\n",
    "        x, y = embedding[idx, 0], embedding[idx, 1]\n",
    "        mtext(p, x, y, movie)\n",
    "\n",
    "    return p"
   ]
  },
  {
   "cell_type": "code",
   "execution_count": 6,
   "metadata": {},
   "outputs": [
    {
     "data": {
      "text/html": [
       "\n",
       "\n",
       "\n",
       "\n",
       "\n",
       "\n",
       "  <div class=\"bk-root\" id=\"9d0215bd-779a-4d57-83b2-79ab0c002c9c\"></div>\n"
      ]
     },
     "metadata": {},
     "output_type": "display_data"
    },
    {
     "data": {
      "application/javascript": [
       "(function(root) {\n",
       "  function embed_document(root) {\n",
       "    \n",
       "  var docs_json = {\"cbd275d9-1069-4185-8502-969465ef125a\":{\"roots\":{\"references\":[{\"attributes\":{\"background_fill_color\":{\"value\":\"white\"},\"below\":[{\"id\":\"1014\",\"type\":\"LinearAxis\"}],\"left\":[{\"id\":\"1019\",\"type\":\"LinearAxis\"}],\"renderers\":[{\"id\":\"1014\",\"type\":\"LinearAxis\"},{\"id\":\"1018\",\"type\":\"Grid\"},{\"id\":\"1019\",\"type\":\"LinearAxis\"},{\"id\":\"1023\",\"type\":\"Grid\"},{\"id\":\"1033\",\"type\":\"BoxAnnotation\"},{\"id\":\"1044\",\"type\":\"GlyphRenderer\"},{\"id\":\"1049\",\"type\":\"GlyphRenderer\"},{\"id\":\"1054\",\"type\":\"GlyphRenderer\"},{\"id\":\"1059\",\"type\":\"GlyphRenderer\"},{\"id\":\"1064\",\"type\":\"GlyphRenderer\"},{\"id\":\"1069\",\"type\":\"GlyphRenderer\"},{\"id\":\"1074\",\"type\":\"GlyphRenderer\"},{\"id\":\"1079\",\"type\":\"GlyphRenderer\"},{\"id\":\"1084\",\"type\":\"GlyphRenderer\"},{\"id\":\"1089\",\"type\":\"GlyphRenderer\"},{\"id\":\"1094\",\"type\":\"GlyphRenderer\"}],\"title\":{\"id\":\"1003\",\"type\":\"Title\"},\"toolbar\":{\"id\":\"1031\",\"type\":\"Toolbar\"},\"x_range\":{\"id\":\"1006\",\"type\":\"DataRange1d\"},\"x_scale\":{\"id\":\"1010\",\"type\":\"LinearScale\"},\"y_range\":{\"id\":\"1008\",\"type\":\"DataRange1d\"},\"y_scale\":{\"id\":\"1012\",\"type\":\"LinearScale\"}},\"id\":\"1004\",\"subtype\":\"Figure\",\"type\":\"Plot\"},{\"attributes\":{},\"id\":\"1025\",\"type\":\"WheelZoomTool\"},{\"attributes\":{},\"id\":\"1024\",\"type\":\"PanTool\"},{\"attributes\":{\"active_drag\":\"auto\",\"active_inspect\":\"auto\",\"active_multi\":null,\"active_scroll\":\"auto\",\"active_tap\":\"auto\",\"tools\":[{\"id\":\"1024\",\"type\":\"PanTool\"},{\"id\":\"1025\",\"type\":\"WheelZoomTool\"},{\"id\":\"1026\",\"type\":\"BoxZoomTool\"},{\"id\":\"1027\",\"type\":\"SaveTool\"},{\"id\":\"1028\",\"type\":\"ResetTool\"},{\"id\":\"1029\",\"type\":\"HelpTool\"},{\"id\":\"1030\",\"type\":\"HoverTool\"}]},\"id\":\"1031\",\"type\":\"Toolbar\"},{\"attributes\":{\"overlay\":{\"id\":\"1033\",\"type\":\"BoxAnnotation\"}},\"id\":\"1026\",\"type\":\"BoxZoomTool\"},{\"attributes\":{},\"id\":\"1027\",\"type\":\"SaveTool\"},{\"attributes\":{},\"id\":\"1028\",\"type\":\"ResetTool\"},{\"attributes\":{},\"id\":\"1029\",\"type\":\"HelpTool\"},{\"attributes\":{\"data_source\":{\"id\":\"1002\",\"type\":\"ColumnDataSource\"},\"glyph\":{\"id\":\"1042\",\"type\":\"Scatter\"},\"hover_glyph\":null,\"muted_glyph\":null,\"nonselection_glyph\":{\"id\":\"1043\",\"type\":\"Scatter\"},\"selection_glyph\":null,\"view\":{\"id\":\"1045\",\"type\":\"CDSView\"}},\"id\":\"1044\",\"type\":\"GlyphRenderer\"},{\"attributes\":{\"bottom_units\":\"screen\",\"fill_alpha\":{\"value\":0.5},\"fill_color\":{\"value\":\"lightgrey\"},\"left_units\":\"screen\",\"level\":\"overlay\",\"line_alpha\":{\"value\":1.0},\"line_color\":{\"value\":\"black\"},\"line_dash\":[4,4],\"line_width\":{\"value\":2},\"plot\":null,\"render_mode\":\"css\",\"right_units\":\"screen\",\"top_units\":\"screen\"},\"id\":\"1033\",\"type\":\"BoxAnnotation\"},{\"attributes\":{\"source\":{\"id\":\"1002\",\"type\":\"ColumnDataSource\"}},\"id\":\"1045\",\"type\":\"CDSView\"},{\"attributes\":{\"callback\":null,\"data\":{\"text\":[\"\\ube44\\uae34 \\uc5b4\\uac8c\\uc778\"]},\"selected\":{\"id\":\"1103\",\"type\":\"Selection\"},\"selection_policy\":{\"id\":\"1104\",\"type\":\"UnionRenderers\"}},\"id\":\"1046\",\"type\":\"ColumnDataSource\"},{\"attributes\":{\"data_source\":{\"id\":\"1046\",\"type\":\"ColumnDataSource\"},\"glyph\":{\"id\":\"1047\",\"type\":\"Text\"},\"hover_glyph\":null,\"muted_glyph\":null,\"nonselection_glyph\":{\"id\":\"1048\",\"type\":\"Text\"},\"selection_glyph\":null,\"view\":{\"id\":\"1050\",\"type\":\"CDSView\"}},\"id\":\"1049\",\"type\":\"GlyphRenderer\"},{\"attributes\":{\"source\":{\"id\":\"1046\",\"type\":\"ColumnDataSource\"}},\"id\":\"1050\",\"type\":\"CDSView\"},{\"attributes\":{\"callback\":null,\"data\":{\"text\":[\"\\uc5b4\\ubc14\\uc6c3 \\ud0c0\\uc784\"]},\"selected\":{\"id\":\"1105\",\"type\":\"Selection\"},\"selection_policy\":{\"id\":\"1106\",\"type\":\"UnionRenderers\"}},\"id\":\"1051\",\"type\":\"ColumnDataSource\"},{\"attributes\":{\"text_align\":\"center\",\"text_color\":{\"value\":\"black\"},\"text_font_size\":{\"value\":\"10pt\"},\"x\":{\"value\":0.7311878800392151},\"y\":{\"value\":7.010550498962402}},\"id\":\"1052\",\"type\":\"Text\"},{\"attributes\":{\"text_align\":\"center\",\"text_alpha\":{\"value\":0.1},\"text_color\":{\"value\":\"black\"},\"text_font_size\":{\"value\":\"10pt\"},\"x\":{\"value\":0.7311878800392151},\"y\":{\"value\":7.010550498962402}},\"id\":\"1053\",\"type\":\"Text\"},{\"attributes\":{\"data_source\":{\"id\":\"1051\",\"type\":\"ColumnDataSource\"},\"glyph\":{\"id\":\"1052\",\"type\":\"Text\"},\"hover_glyph\":null,\"muted_glyph\":null,\"nonselection_glyph\":{\"id\":\"1053\",\"type\":\"Text\"},\"selection_glyph\":null,\"view\":{\"id\":\"1055\",\"type\":\"CDSView\"}},\"id\":\"1054\",\"type\":\"GlyphRenderer\"},{\"attributes\":{\"source\":{\"id\":\"1051\",\"type\":\"ColumnDataSource\"}},\"id\":\"1055\",\"type\":\"CDSView\"},{\"attributes\":{\"callback\":null,\"data\":{\"text\":[\"\\uc778\\ud134\"]},\"selected\":{\"id\":\"1107\",\"type\":\"Selection\"},\"selection_policy\":{\"id\":\"1108\",\"type\":\"UnionRenderers\"}},\"id\":\"1056\",\"type\":\"ColumnDataSource\"},{\"attributes\":{\"text_align\":\"center\",\"text_color\":{\"value\":\"black\"},\"text_font_size\":{\"value\":\"10pt\"},\"x\":{\"value\":0.6258216500282288},\"y\":{\"value\":7.639225006103516}},\"id\":\"1057\",\"type\":\"Text\"},{\"attributes\":{\"text_align\":\"center\",\"text_alpha\":{\"value\":0.1},\"text_color\":{\"value\":\"black\"},\"text_font_size\":{\"value\":\"10pt\"},\"x\":{\"value\":0.6258216500282288},\"y\":{\"value\":7.639225006103516}},\"id\":\"1058\",\"type\":\"Text\"},{\"attributes\":{\"data_source\":{\"id\":\"1056\",\"type\":\"ColumnDataSource\"},\"glyph\":{\"id\":\"1057\",\"type\":\"Text\"},\"hover_glyph\":null,\"muted_glyph\":null,\"nonselection_glyph\":{\"id\":\"1058\",\"type\":\"Text\"},\"selection_glyph\":null,\"view\":{\"id\":\"1060\",\"type\":\"CDSView\"}},\"id\":\"1059\",\"type\":\"GlyphRenderer\"},{\"attributes\":{\"text_align\":\"center\",\"text_color\":{\"value\":\"black\"},\"text_font_size\":{\"value\":\"10pt\"},\"x\":{\"value\":1.3386807441711426},\"y\":{\"value\":6.723056793212891}},\"id\":\"1047\",\"type\":\"Text\"},{\"attributes\":{\"source\":{\"id\":\"1056\",\"type\":\"ColumnDataSource\"}},\"id\":\"1060\",\"type\":\"CDSView\"},{\"attributes\":{\"callback\":null,\"tooltips\":[[\"(x,y)\",\"($x, $y)\"],[\"desc\",\"@desc\"]]},\"id\":\"1030\",\"type\":\"HoverTool\"},{\"attributes\":{\"grid_line_color\":{\"value\":null},\"plot\":{\"id\":\"1004\",\"subtype\":\"Figure\",\"type\":\"Plot\"},\"ticker\":{\"id\":\"1015\",\"type\":\"BasicTicker\"}},\"id\":\"1018\",\"type\":\"Grid\"},{\"attributes\":{\"callback\":null,\"data\":{\"text\":[\"\\uc778\\uc0ac\\uc774\\ub4dc \\uc544\\uc6c3\"]},\"selected\":{\"id\":\"1109\",\"type\":\"Selection\"},\"selection_policy\":{\"id\":\"1110\",\"type\":\"UnionRenderers\"}},\"id\":\"1061\",\"type\":\"ColumnDataSource\"},{\"attributes\":{\"text_align\":\"center\",\"text_color\":{\"value\":\"black\"},\"text_font_size\":{\"value\":\"10pt\"},\"x\":{\"value\":3.427353620529175},\"y\":{\"value\":6.137563228607178}},\"id\":\"1062\",\"type\":\"Text\"},{\"attributes\":{\"formatter\":{\"id\":\"1100\",\"type\":\"BasicTickFormatter\"},\"plot\":{\"id\":\"1004\",\"subtype\":\"Figure\",\"type\":\"Plot\"},\"ticker\":{\"id\":\"1020\",\"type\":\"BasicTicker\"}},\"id\":\"1019\",\"type\":\"LinearAxis\"},{\"attributes\":{\"text_align\":\"center\",\"text_alpha\":{\"value\":0.1},\"text_color\":{\"value\":\"black\"},\"text_font_size\":{\"value\":\"10pt\"},\"x\":{\"value\":3.427353620529175},\"y\":{\"value\":6.137563228607178}},\"id\":\"1063\",\"type\":\"Text\"},{\"attributes\":{},\"id\":\"1102\",\"type\":\"UnionRenderers\"},{\"attributes\":{\"data_source\":{\"id\":\"1061\",\"type\":\"ColumnDataSource\"},\"glyph\":{\"id\":\"1062\",\"type\":\"Text\"},\"hover_glyph\":null,\"muted_glyph\":null,\"nonselection_glyph\":{\"id\":\"1063\",\"type\":\"Text\"},\"selection_glyph\":null,\"view\":{\"id\":\"1065\",\"type\":\"CDSView\"}},\"id\":\"1064\",\"type\":\"GlyphRenderer\"},{\"attributes\":{},\"id\":\"1020\",\"type\":\"BasicTicker\"},{\"attributes\":{},\"id\":\"1103\",\"type\":\"Selection\"},{\"attributes\":{\"dimension\":1,\"grid_line_color\":{\"value\":null},\"plot\":{\"id\":\"1004\",\"subtype\":\"Figure\",\"type\":\"Plot\"},\"ticker\":{\"id\":\"1020\",\"type\":\"BasicTicker\"}},\"id\":\"1023\",\"type\":\"Grid\"},{\"attributes\":{\"callback\":null},\"id\":\"1006\",\"type\":\"DataRange1d\"},{\"attributes\":{\"source\":{\"id\":\"1061\",\"type\":\"ColumnDataSource\"}},\"id\":\"1065\",\"type\":\"CDSView\"},{\"attributes\":{},\"id\":\"1104\",\"type\":\"UnionRenderers\"},{\"attributes\":{\"callback\":null,\"data\":{\"text\":[\"\\uc2dc\\uac04\\uc744 \\ub2ec\\ub9ac\\ub294 \\uc18c\\ub140\"]},\"selected\":{\"id\":\"1111\",\"type\":\"Selection\"},\"selection_policy\":{\"id\":\"1112\",\"type\":\"UnionRenderers\"}},\"id\":\"1066\",\"type\":\"ColumnDataSource\"},{\"attributes\":{},\"id\":\"1105\",\"type\":\"Selection\"},{\"attributes\":{\"text_align\":\"center\",\"text_alpha\":{\"value\":0.1},\"text_color\":{\"value\":\"black\"},\"text_font_size\":{\"value\":\"10pt\"},\"x\":{\"value\":1.3386807441711426},\"y\":{\"value\":6.723056793212891}},\"id\":\"1048\",\"type\":\"Text\"},{\"attributes\":{\"text_align\":\"center\",\"text_color\":{\"value\":\"black\"},\"text_font_size\":{\"value\":\"10pt\"},\"x\":{\"value\":0.9384663105010986},\"y\":{\"value\":3.634448289871216}},\"id\":\"1067\",\"type\":\"Text\"},{\"attributes\":{},\"id\":\"1106\",\"type\":\"UnionRenderers\"},{\"attributes\":{\"text_align\":\"center\",\"text_alpha\":{\"value\":0.1},\"text_color\":{\"value\":\"black\"},\"text_font_size\":{\"value\":\"10pt\"},\"x\":{\"value\":0.9384663105010986},\"y\":{\"value\":3.634448289871216}},\"id\":\"1068\",\"type\":\"Text\"},{\"attributes\":{},\"id\":\"1107\",\"type\":\"Selection\"},{\"attributes\":{},\"id\":\"1015\",\"type\":\"BasicTicker\"},{\"attributes\":{\"formatter\":{\"id\":\"1098\",\"type\":\"BasicTickFormatter\"},\"plot\":{\"id\":\"1004\",\"subtype\":\"Figure\",\"type\":\"Plot\"},\"ticker\":{\"id\":\"1015\",\"type\":\"BasicTicker\"}},\"id\":\"1014\",\"type\":\"LinearAxis\"},{\"attributes\":{\"data_source\":{\"id\":\"1066\",\"type\":\"ColumnDataSource\"},\"glyph\":{\"id\":\"1067\",\"type\":\"Text\"},\"hover_glyph\":null,\"muted_glyph\":null,\"nonselection_glyph\":{\"id\":\"1068\",\"type\":\"Text\"},\"selection_glyph\":null,\"view\":{\"id\":\"1070\",\"type\":\"CDSView\"}},\"id\":\"1069\",\"type\":\"GlyphRenderer\"},{\"attributes\":{},\"id\":\"1108\",\"type\":\"UnionRenderers\"},{\"attributes\":{},\"id\":\"1010\",\"type\":\"LinearScale\"},{\"attributes\":{\"source\":{\"id\":\"1066\",\"type\":\"ColumnDataSource\"}},\"id\":\"1070\",\"type\":\"CDSView\"},{\"attributes\":{},\"id\":\"1109\",\"type\":\"Selection\"},{\"attributes\":{\"plot\":null,\"text\":\"\\\"\\ub77c\\ub77c\\ub79c\\ub4dc\\\" \\uc720\\uc0ac \\uc601\\ud654\"},\"id\":\"1003\",\"type\":\"Title\"},{\"attributes\":{\"callback\":null,\"data\":{\"text\":[\"\\ud558\\uc6b8\\uc758 \\uc6c0\\uc9c1\\uc774\\ub294 \\uc131\"]},\"selected\":{\"id\":\"1113\",\"type\":\"Selection\"},\"selection_policy\":{\"id\":\"1114\",\"type\":\"UnionRenderers\"}},\"id\":\"1071\",\"type\":\"ColumnDataSource\"},{\"attributes\":{},\"id\":\"1110\",\"type\":\"UnionRenderers\"},{\"attributes\":{\"fill_alpha\":{\"value\":0.1},\"fill_color\":{\"value\":\"#1f77b4\"},\"line_alpha\":{\"value\":0.1},\"line_color\":{\"value\":\"#1f77b4\"},\"size\":{\"units\":\"screen\",\"value\":5},\"x\":{\"field\":\"x\"},\"y\":{\"field\":\"y\"}},\"id\":\"1043\",\"type\":\"Scatter\"},{\"attributes\":{\"text_align\":\"center\",\"text_color\":{\"value\":\"black\"},\"text_font_size\":{\"value\":\"10pt\"},\"x\":{\"value\":1.749144434928894},\"y\":{\"value\":3.830357551574707}},\"id\":\"1072\",\"type\":\"Text\"},{\"attributes\":{},\"id\":\"1111\",\"type\":\"Selection\"},{\"attributes\":{\"callback\":null,\"data\":{\"desc\":[\"\\uace0\\uc0ac \\ub450 \\ubc88\\uc9f8 \\uc774\\uc57c\\uae30: \\uad50\\uc0dd\\uc2e4\\uc2b5\",\"\\ubc15\\uc950\",\"\\ud574\\ubb34\",\"\\ud574\\uc6b4\\ub300\",\"\\uc778\\ud130\\uc2a4\\ud154\\ub77c\",\"\\uad6d\\uac00\\ub300\\ud45c\",\"\\ub3c4\\ub451\\ub4e4\",\"\\ubca0\\ub97c\\ub9b0\",\"\\ud574\\ub9ac \\ud3ec\\ud130\\uc640 \\uc8fd\\uc74c\\uc758 \\uc131\\ubb3c - 2\\ubd80\",\"\\ubbf8\\uc2a4\\ud130 \\uace0\",\"7\\uad11\\uad6c\",\"\\ub7ed\\ud0a4\",\"\\ub2e4\\ud06c \\ub098\\uc774\\ud2b8 \\ub77c\\uc774\\uc988\",\"\\ud574\\uc801: \\ubc14\\ub2e4\\ub85c \\uac04 \\uc0b0\\uc801\",\"\\ubc30\\ud2b8\\ub9e8 \\ub300 \\uc288\\ud37c\\ub9e8: \\uc800\\uc2a4\\ud2f0\\uc2a4\\uc758 \\uc2dc\\uc791\",\"\\uc544\\uac00\\uc528\",\"\\ub0b4\\uac00 \\uc0b4\\uc778\\ubc94\\uc774\\ub2e4\",\"\\uba54\\uc774\\uc988 \\ub7ec\\ub108: \\uc2a4\\ucf54\\uce58 \\ud2b8\\ub77c\\uc774\\uc5bc\",\"\\ub2e4\\ud06c \\ub098\\uc774\\ud2b8\",\"\\ucea1\\ud2f4 \\uc544\\uba54\\ub9ac\\uce74: \\uc2dc\\ube4c \\uc6cc\",\"\\uacfc\\uc18d\\uc2a4\\uce94\\ub4e4\",\"\\ubbf8\\ub140\\ub294 \\uad34\\ub85c\\uc6cc\",\"\\ud130\\ub110\",\"\\uc601\\uc6c5: \\uc0d0\\ub7ec\\uba58\\ub354\\uc758 \\ube44\\ubc00\",\"\\uc751\\ub2f5\\ud558\\ub77c 1988\",\"\\ub300\\ud638\",\"\\uc2e0\\uc138\\uacc4\",\"\\uace1\\uc131(\\u54ed\\u8072)\",\"\\uaca8\\uc6b8\\uc655\\uad6d\",\"\\uc644\\ub4dd\\uc774\",\"\\ube45 \\ud788\\uc5b4\\ub85c\",\"\\uc778\\uc149\\uc158\",\"\\ud0c0\\uc774\\ud0c0\\ub2c9\",\"26\\ub144\",\"\\uc9c0\\uae08, \\ub9cc\\ub098\\ub7ec \\uac11\\ub2c8\\ub2e4\",\"\\uc554\\uc0b4\",\"\\ud3ec\\ud654 \\uc18d\\uc73c\\ub85c\",\"\\uc778\\ud134\",\"\\uc758\\ud615\\uc81c\",\"\\ud310\\ub3c4\\ub77c\",\"\\uac80\\uc740 \\uc0ac\\uc81c\\ub4e4\",\"\\uc545\\ub9c8\\ub97c \\ubcf4\\uc558\\ub2e4\",\"\\uc88b\\uc740 \\ub188, \\ub098\\uc05c \\ub188, \\uc774\\uc0c1\\ud55c \\ub188\",\"\\ucc9c\\uc548\\ud568 \\ud504\\ub85c\\uc81d\\ud2b8\",\"\\uc778\\ub514\\ud39c\\ub358\\uc2a4 \\ub370\\uc774: \\ub9ac\\uc368\\uc804\\uc2a4\",\"\\uc6a9\\uc758\\uc790\",\"\\uad11\\ud574, \\uc655\\uc774 \\ub41c \\ub0a8\\uc790\",\"\\uc81c\\uc774\\uc2a8 \\ubcf8\",\"\\uce90\\ub9ac\\ube44\\uc548\\uc758 \\ud574\\uc801 - \\uc138\\uc0c1\\uc758 \\ub05d\\uc5d0\\uc11c\",\"\\ub2d8\\uc544, \\uadf8 \\uac15\\uc744 \\uac74\\ub108\\uc9c0 \\ub9c8\\uc624\",\"\\ud2b8\\ub79c\\uc2a4\\ud3ec\\uba38 3\",\"\\uce74\\ud2b8\",\"\\ubc30\\ud2c0\\uc27d\",\"\\uac80\\uc0ac\\uc678\\uc804\",\"\\uad6d\\uc81c\\uc2dc\\uc7a5\",\"\\uc96c\\ub77c\\uae30 \\uc6d4\\ub4dc\",\"\\uad00\\uc0c1\",\"\\ud574\\ubc14\\ub77c\\uae30\",\"\\uc5d1\\uc2a4\\ub9e8: \\ub370\\uc774\\uc988 \\uc624\\ube0c \\ud4e8\\ucc98 \\ud328\\uc2a4\\ud2b8\",\"\\ubc15\\uc218\\uac74\\ub2ec\",\"\\uac10\\uae30\",\"\\ucd5c\\uc885\\ubcd1\\uae30 \\ud65c\",\"\\uace0\\uc9c0\\uc804\",\"\\ud074\\ub808\\uba58\\ud0c0\\uc778\",\"\\uac10\\uc2dc\\uc790\\ub4e4\",\"\\uc2a4\\uce74\\uc774\\ub77c\\uc778\",\"\\uc6cc\\ud06c\\ub798\\ud504\\ud2b8: \\uc804\\uc7c1\\uc758 \\uc11c\\ub9c9\",\"\\uc778\\uc0ac\\uc774\\ub4dc \\uc544\\uc6c3\",\"\\uc138 \\uc5bc\\uac04\\uc774\",\"\\ud615\",\"\\ud2b8\\uc640\\uc77c\\ub77c\\uc787\",\"\\uc5ed\\ub9b0\",\"\\ube44\\uae34 \\uc5b4\\uac8c\\uc778\",\"\\ub450\\uadfc\\ub450\\uadfc \\ub0b4 \\uc778\\uc0dd\",\"\\ub354 \\ud14c\\ub7ec \\ub77c\\uc774\\ube0c\",\"2012\",\"\\ub3c4\\uac00\\ub2c8\",\"\\uc5e3\\uc9c0 \\uc624\\ube0c \\ud22c\\ubaa8\\ub85c\\uc6b0\",\"\\ub9e8 \\uc624\\ube0c \\uc2a4\\ud2f8\",\"\\ud0b9\\uc2a4\\ub9e8 : \\uc2dc\\ud06c\\ub9bf \\uc5d0\\uc774\\uc804\\ud2b8\",\"\\uc655\\uc758 \\ub0a8\\uc790\",\"\\ubc00\\uc815\",\"\\ubbf8\\uc158 \\uc784\\ud30c\\uc11c\\ube14: \\ub85c\\uadf8\\ub124\\uc774\\uc158\",\"\\uc5f0\\uac00\\uc2dc\",\"\\uc5f0\\ud3c9\\ud574\\uc804\",\"\\ub808\\ubbf8\\uc81c\\ub77c\\ube14\",\"\\ucd08\\ub2a5\\ub825\\uc790\",\"\\ub05d\\uae4c\\uc9c0 \\uac04\\ub2e4\",\"\\uc5b4\\uac70\\uc2a4\\ud2b8 \\ub7ec\\uc26c\",\"\\ud035\",\"\\uadf8\\ub798\\ube44\\ud2f0\",\"\\uad34\\ubb3c\",\"\\uc778\\ucc9c\\uc0c1\\ub959\\uc791\\uc804\",\"\\ud558\\uc6b8\\uc758 \\uc6c0\\uc9c1\\uc774\\ub294 \\uc131\",\"\\ubbf8\\uc2a4 \\ud398\\ub808\\uadf8\\ub9b0\\uacfc \\uc774\\uc0c1\\ud55c \\uc544\\uc774\\ub4e4\\uc758 \\uc9d1\",\"\\uc2e0\\uc758 \\ud55c \\uc218\",\"\\uc2e0\\ube44\\ud55c \\ub3d9\\ubb3c\\uc0ac\\uc804\",\"7\\ubc88\\ubc29\\uc758 \\uc120\\ubb3c\",\"\\ud639\\uc131\\ud0c8\\ucd9c: \\ubc18\\uaca9\\uc758 \\uc11c\\ub9c9\",\"\\ud654\\ub824\\ud55c \\ud734\\uac00\",\"\\uc544\\uc774\\uc5b8\\ub9e8 3\",\"\\ub77c\\ub77c\\ub79c\\ub4dc\",\"\\uc5b4\\ubca4\\uc838\\uc2a4: \\uc5d0\\uc774\\uc9c0 \\uc624\\ube0c \\uc6b8\\ud2b8\\ub860\",\"\\uc228\\ubc14\\uaf2d\\uc9c8\",\"\\uc778\\uc0dd\\uc740 \\uc544\\ub984\\ub2e4\\uc6cc\",\"\\ub098\\ub294 \\uc804\\uc124\\uc774\\ub2e4\",\"\\uc6f0\\ucef4 \\ud22c \\ub3d9\\ub9c9\\uace8\",\"\\ub370\\ub4dc\\ud480\",\"\\ubc18\\ucc3d\\uaf2c\",\"\\ud574\\ub9ac \\ud3ec\\ud130\\uc640 \\ud63c\\ud608 \\uc655\\uc790\",\"\\uc544\\uc800\\uc528\",\"\\uadc0\\ud5a5\",\"\\ubd80\\uc0b0\\ud589\",\"\\ud22c\\uc0ac\\ubd80\\uc77c\\uccb4\",\"\\uc1fc\\uc0dd\\ud06c \\ud0c8\\ucd9c\",\"\\ud130\\ubbf8\\ub124\\uc774\\ud130 \\uc81c\\ub2c8\\uc2dc\\uc2a4\",\"\\uc544\\uc218\\ub77c\",\"\\uc2dc\\ub77c\\ub178; \\uc5f0\\uc560\\uc870\\uc791\\ub2e8\",\"\\ub291\\ub300\\uc18c\\ub144\",\"\\uc804\\uc6b0\\uce58\",\"\\uc368\\ub2c8\",\"\\ub514 \\uc6cc\",\"\\ub9ac\\uc5bc \\uc2a4\\ud2f8\",\"\\ud2b8\\ub79c\\uc2a4\\ud3ec\\uba38: \\ud328\\uc790\\uc758 \\uc5ed\\uc2b5\",\"\\uc218\\uc0c1\\ud55c \\uadf8\\ub140\",\"\\uc544\\uc774\\uc5b8\\ub9e8\",\"\\uac74\\ucd95\\ud559\\uac1c\\ub860\",\"\\uc218\\uc5b4\\uc0ac\\uc774\\ub4dc \\uc2a4\\ucffc\\ub4dc\",\"\\ub355\\ud61c\\uc639\\uc8fc\",\"\\ud14c\\uc774\\ud070\",\"\\ud0c0\\uc6cc\",\"\\uc13c\\uacfc \\uce58\\ud788\\ub85c\\uc758 \\ud589\\ubc29\\ubd88\\uba85\",\"\\uc2dc\\uac04\\uc744 \\ub2ec\\ub9ac\\ub294 \\uc18c\\ub140\",\"\\uc6b0\\ub9ac\\ub4e4\\uc758 \\ud589\\ubcf5\\ud55c \\uc2dc\\uac04\",\"\\ub2e5\\ud130 \\uc2a4\\ud2b8\\ub808\\uc778\\uc9c0\",\"\\ubca0\\ud14c\\ub791\",\"\\uc5b4\\ubca4\\uc838\\uc2a4\",\"\\ud558\\ubaa8\\ub2c8\",\"\\ub274 \\ubb38\",\"\\uc384\\uc2dc\\ubd09\",\"\\uc6dc \\ubc14\\ub514\\uc2a4\",\"\\ub2e4\\uc138\\ud3ec \\uc18c\\ub140\",\"\\ud0c0\\uc9dc-\\uc2e0\\uc758 \\uc190\",\"\\ucd94\\uaca9\\uc790\",\"\\uc5b4\\ubc14\\uc6c3 \\ud0c0\\uc784\",\"\\ud5ec\\ub85c\\uc6b0 \\uace0\\uc2a4\\ud2b8\",\"\\uc870\\uc120\\uba85\\ud0d0\\uc815: \\uac01\\uc2dc\\ud22c\\uad6c\\uaf43\\uc758 \\ube44\\ubc00\",\"\\ub9d0\\ud560 \\uc218 \\uc5c6\\ub294 \\ube44\\ubc00\",\"\\uc30d\\ud654\\uc810\",\"\\uc18c\\uc6d0\",\"\\uad70\\ub3c4:\\ubbfc\\ub780\\uc758 \\uc2dc\\ub300\",\"\\uc5d1\\uc2a4\\ub9e8: \\uc544\\ud3ec\\uce7c\\ub9bd\\uc2a4\",\"\\ud30c\\ud30c\\ub85c\\ud2f0\",\"\\ud788\\ub9d0\\ub77c\\uc57c\",\"\\uc124\\uad6d\\uc5f4\\ucc28\",\"\\ud2b8\\ub79c\\uc2a4\\ud3ec\\uba38: \\uc0ac\\ub77c\\uc9c4 \\uc2dc\\ub300\",\"\\uc6d4\\ub4dc\\uc6ccZ\",\"\\ub77c\\ub514\\uc624 \\uc2a4\\ud0c0\",\"\\ub514\\uc2a4\\ud2b8\\ub9ad\\ud2b8 9\",\"\\uc138\\ube10 \\ub370\\uc774\\uc988\",\"\\uce90\\ub9ac\\ube44\\uc548\\uc758 \\ud574\\uc801 - \\ub9dd\\uc790\\uc758 \\ud568\",\"\\ud2b8\\ub79c\\uc2a4\\ud3ec\\uba38\",\"\\ucea1\\ud2f4 \\uc544\\uba54\\ub9ac\\uce74: \\uc708\\ud130 \\uc194\\uc838\",\"\\ub77c\\uc2a4\\ud2b8 \\uac13\\ud30c\\ub354\",\"\\ub9e4\\ub4dc\\ub9e5\\uc2a4: \\ubd84\\ub178\\uc758 \\ub3c4\\ub85c\",\"\\ub098\\uc6b0 \\uc720 \\uc528 \\ubbf8 2\",\"\\uc5b4\\uba54\\uc774\\uc9d5 \\uc2a4\\ud30c\\uc774\\ub354\\ub9e8 2\",\"\\ubdf0\\ud2f0 \\uc778\\uc0ac\\uc774\\ub4dc\",\"\\ud37c\\uc2dc\\ud53d \\ub9bc\",\"\\uc0ac\\ub3c4\",\"\\ub9c8\\uc158\",\"\\uc544\\ubc14\\ud0c0\"],\"x\":[-1.2417422533035278,-5.527718544006348,-11.362713813781738,-2.499950885772705,6.542813777923584,-2.897256851196289,-10.151667594909668,-8.816000938415527,4.297421932220459,-3.1281542778015137,-1.3881421089172363,-13.2852201461792,6.565079212188721,-13.266230583190918,12.182969093322754,-12.14752197265625,-7.644370079040527,10.847612380981445,5.931966781616211,11.8508882522583,-4.051525115966797,-3.990029811859131,-10.880891799926758,0.4578981101512909,-10.828327178955078,-13.317018508911133,-8.85004997253418,-10.116515159606934,3.8388164043426514,-5.97818660736084,4.365294456481934,3.917346715927124,0.4114822447299957,-6.056029796600342,-0.8791018724441528,-14.5748872756958,-4.574305534362793,0.6258216500282288,-3.978398084640503,-10.742301940917969,-10.023324966430664,-6.030667781829834,-3.969606637954712,-6.38010311126709,8.400054931640625,-8.20632553100586,-14.838857650756836,9.723344802856445,6.6022257804870605,-8.434281349182129,7.216381549835205,-10.59183406829834,8.072895050048828,-12.82004451751709,-8.663778305053711,8.180937767028809,-14.07413101196289,-4.3920512199401855,10.754117965698242,-6.037174224853516,-8.971752166748047,-4.98257303237915,-4.604352951049805,0.4096064269542694,-9.651139259338379,4.499022483825684,12.237310409545898,3.427353620529175,-2.079671621322632,-8.713565826416016,3.1003332138061523,-13.553526878356934,1.3386807441711426,-9.896101951599121,-8.538276672363281,5.298337459564209,-4.787890434265137,11.207996368408203,8.474958419799805,14.371392250061035,-4.989552974700928,-14.295675277709961,9.784306526184082,-8.288983345031738,-7.179689407348633,-0.17651192843914032,-1.9704283475875854,-10.897067070007324,-0.16237710416316986,-2.388117551803589,6.614902496337891,0.3081521689891815,-7.776737213134766,1.749144434928894,9.067784309387207,-10.973694801330566,9.349530220031738,-6.622786521911621,9.691093444824219,-5.3860321044921875,9.912396430969238,1.5386079549789429,10.909656524658203,-8.262665748596191,-0.9549816846847534,2.752743721008301,-3.5819811820983887,14.142304420471191,-6.34929895401001,3.9025325775146484,-5.86229944229126,-9.163551330566406,-10.01072883605957,-1.630395770072937,-0.08064407855272293,9.488445281982422,-11.768089294433594,-4.130941867828369,-6.265974521636963,-2.5917603969573975,-3.519970417022705,4.447244644165039,9.548025131225586,7.0568013191223145,-7.771421909332275,9.004605293273926,-3.732011556625366,12.312178611755371,-13.947742462158203,-6.1608805656433105,-8.266409873962402,1.642738938331604,0.9384663105010986,-5.273005485534668,11.037147521972656,-11.751904487609863,9.599822044372559,-5.899590969085693,3.275975465774536,-10.568507194519043,6.84989070892334,-0.869495689868927,-11.645515441894531,-6.726255893707275,0.7311878800392151,-5.312809944152832,-2.8243236541748047,-0.16214413940906525,-5.314169406890869,-10.368622779846191,-12.585043907165527,11.085282325744629,-7.237429618835449,-12.840312004089355,1.7329562902450562,8.833335876464844,2.2930996417999268,-4.523906707763672,4.102285385131836,-6.6488118171691895,6.4663615226745605,6.307754993438721,10.817317008972168,-1.2381471395492554,9.216523170471191,10.937156677246094,11.862837791442871,-9.924774169921875,7.838601589202881,-13.782599449157715,7.393780708312988,5.039902210235596],\"y\":[-5.808131694793701,-3.9870169162750244,-4.491580486297607,-0.9084509015083313,3.1607649326324463,-0.15764686465263367,-6.803147315979004,-7.26457405090332,0.7664593458175659,6.690168857574463,-6.644083499908447,-7.901071071624756,-0.9273383021354675,-8.377531051635742,1.119315266609192,-3.962036609649658,-5.480298042297363,4.381303310394287,-1.1561375856399536,0.5809605121612549,1.2263189554214478,0.684576690196991,-1.7321823835372925,-0.27999699115753174,4.72668981552124,-1.2144012451171875,-6.452929973602295,-4.231428146362305,5.672828197479248,0.8434699177742004,5.578329086303711,-2.3979861736297607,2.0339698791503906,-11.133829116821289,3.2672243118286133,-3.853597640991211,-9.437932968139648,7.639225006103516,-3.5430362224578857,-1.150558352470398,-4.345241069793701,-4.5544328689575195,-5.669252395629883,-11.591418266296387,0.4054622948169708,-7.28031063079834,-5.851414203643799,2.2534713745117188,-5.567259311676025,4.881833553314209,-3.1962578296661377,1.7129873037338257,-3.7678921222686768,-7.755053997039795,-10.110219955444336,0.7780136466026306,-5.5866379737854,-1.0230807065963745,-0.2942740023136139,2.162338972091675,-1.9087308645248413,-7.478408336639404,-8.997560501098633,-0.10199356079101562,-7.507388591766357,-3.9951698780059814,3.1054091453552246,6.137563228607178,2.829659938812256,2.699101686477661,-0.39182302355766296,-4.975466728210449,6.723056793212891,3.2915093898773193,-4.132477760314941,-3.92720627784729,-11.54865837097168,-1.351428747177124,-1.5229883193969727,0.835036039352417,-1.6591917276382446,-3.7442877292633057,2.0077831745147705,-2.554216146469116,-11.389702796936035,5.080930709838867,-5.441433906555176,-7.815108776092529,4.068493366241455,-6.527425765991211,2.9416863918304443,-4.174890041351318,-11.601941108703613,3.830357551574707,5.258317470550537,-6.732658386230469,4.978240013122559,3.219693422317505,0.40427765250205994,-10.494569778442383,-1.6167187690734863,6.576526165008545,0.6848404407501221,-3.445018768310547,2.1382102966308594,-3.9938130378723145,-1.716842532157898,0.8776955008506775,1.9061951637268066,0.22020217776298523,-6.109340190887451,-11.077110290527344,-2.107363224029541,-3.848402976989746,2.3105499744415283,1.191057801246643,-5.350235939025879,2.018737554550171,4.377532482147217,-5.210034370422363,2.46264910697937,-5.4500412940979,-3.724302053451538,-3.872319221496582,2.6257760524749756,-2.884615421295166,3.317368745803833,1.648925542831421,-2.3412327766418457,-7.094928741455078,-1.2830649614334106,3.6103291511535645,3.634448289871216,4.537915229797363,2.5198419094085693,-7.808541774749756,-2.1490845680236816,3.568605899810791,-0.31765174865722656,3.6610114574432373,6.690087795257568,-4.572082042694092,-6.574735641479492,-5.377880573272705,7.010550498962402,2.9370739459991455,-4.700310707092285,3.539114236831665,-2.6484227180480957,1.0736844539642334,-5.716901779174805,1.2822225093841553,2.0171284675598145,-1.075071930885315,-5.937735557556152,-0.6504056453704834,-5.198598861694336,-0.15698283910751343,-3.3456151485443115,-5.920285224914551,-5.806536674499512,-3.728961706161499,0.3261513411998749,-3.2703166007995605,2.9882919788360596,3.338494062423706,-0.17474617063999176,3.9746766090393066,-2.3697659969329834,-2.8930699825286865,3.2293267250061035,-2.813737630844116]},\"selected\":{\"id\":\"1101\",\"type\":\"Selection\"},\"selection_policy\":{\"id\":\"1102\",\"type\":\"UnionRenderers\"}},\"id\":\"1002\",\"type\":\"ColumnDataSource\"},{\"attributes\":{\"text_align\":\"center\",\"text_alpha\":{\"value\":0.1},\"text_color\":{\"value\":\"black\"},\"text_font_size\":{\"value\":\"10pt\"},\"x\":{\"value\":1.749144434928894},\"y\":{\"value\":3.830357551574707}},\"id\":\"1073\",\"type\":\"Text\"},{\"attributes\":{},\"id\":\"1112\",\"type\":\"UnionRenderers\"},{\"attributes\":{\"fill_alpha\":{\"value\":0.5},\"fill_color\":{\"value\":\"orange\"},\"line_alpha\":{\"value\":0.5},\"line_color\":{\"value\":\"navy\"},\"size\":{\"units\":\"screen\",\"value\":5},\"x\":{\"field\":\"x\"},\"y\":{\"field\":\"y\"}},\"id\":\"1042\",\"type\":\"Scatter\"},{\"attributes\":{\"data_source\":{\"id\":\"1071\",\"type\":\"ColumnDataSource\"},\"glyph\":{\"id\":\"1072\",\"type\":\"Text\"},\"hover_glyph\":null,\"muted_glyph\":null,\"nonselection_glyph\":{\"id\":\"1073\",\"type\":\"Text\"},\"selection_glyph\":null,\"view\":{\"id\":\"1075\",\"type\":\"CDSView\"}},\"id\":\"1074\",\"type\":\"GlyphRenderer\"},{\"attributes\":{},\"id\":\"1113\",\"type\":\"Selection\"},{\"attributes\":{},\"id\":\"1012\",\"type\":\"LinearScale\"},{\"attributes\":{\"source\":{\"id\":\"1071\",\"type\":\"ColumnDataSource\"}},\"id\":\"1075\",\"type\":\"CDSView\"},{\"attributes\":{},\"id\":\"1114\",\"type\":\"UnionRenderers\"},{\"attributes\":{\"callback\":null,\"data\":{\"text\":[\"\\ub808\\ubbf8\\uc81c\\ub77c\\ube14\"]},\"selected\":{\"id\":\"1115\",\"type\":\"Selection\"},\"selection_policy\":{\"id\":\"1116\",\"type\":\"UnionRenderers\"}},\"id\":\"1076\",\"type\":\"ColumnDataSource\"},{\"attributes\":{},\"id\":\"1115\",\"type\":\"Selection\"},{\"attributes\":{\"data_source\":{\"id\":\"1091\",\"type\":\"ColumnDataSource\"},\"glyph\":{\"id\":\"1092\",\"type\":\"Text\"},\"hover_glyph\":null,\"muted_glyph\":null,\"nonselection_glyph\":{\"id\":\"1093\",\"type\":\"Text\"},\"selection_glyph\":null,\"view\":{\"id\":\"1095\",\"type\":\"CDSView\"}},\"id\":\"1094\",\"type\":\"GlyphRenderer\"},{\"attributes\":{\"text_align\":\"center\",\"text_color\":{\"value\":\"black\"},\"text_font_size\":{\"value\":\"10pt\"},\"x\":{\"value\":-0.17651192843914032},\"y\":{\"value\":5.080930709838867}},\"id\":\"1077\",\"type\":\"Text\"},{\"attributes\":{},\"id\":\"1116\",\"type\":\"UnionRenderers\"},{\"attributes\":{\"text_align\":\"center\",\"text_alpha\":{\"value\":0.1},\"text_color\":{\"value\":\"black\"},\"text_font_size\":{\"value\":\"10pt\"},\"x\":{\"value\":-0.17651192843914032},\"y\":{\"value\":5.080930709838867}},\"id\":\"1078\",\"type\":\"Text\"},{\"attributes\":{},\"id\":\"1117\",\"type\":\"Selection\"},{\"attributes\":{\"data_source\":{\"id\":\"1076\",\"type\":\"ColumnDataSource\"},\"glyph\":{\"id\":\"1077\",\"type\":\"Text\"},\"hover_glyph\":null,\"muted_glyph\":null,\"nonselection_glyph\":{\"id\":\"1078\",\"type\":\"Text\"},\"selection_glyph\":null,\"view\":{\"id\":\"1080\",\"type\":\"CDSView\"}},\"id\":\"1079\",\"type\":\"GlyphRenderer\"},{\"attributes\":{},\"id\":\"1118\",\"type\":\"UnionRenderers\"},{\"attributes\":{\"source\":{\"id\":\"1076\",\"type\":\"ColumnDataSource\"}},\"id\":\"1080\",\"type\":\"CDSView\"},{\"attributes\":{},\"id\":\"1119\",\"type\":\"Selection\"},{\"attributes\":{\"callback\":null,\"data\":{\"text\":[\"\\ubbf8\\uc2a4 \\ud398\\ub808\\uadf8\\ub9b0\\uacfc \\uc774\\uc0c1\\ud55c \\uc544\\uc774\\ub4e4\\uc758 \\uc9d1\"]},\"selected\":{\"id\":\"1117\",\"type\":\"Selection\"},\"selection_policy\":{\"id\":\"1118\",\"type\":\"UnionRenderers\"}},\"id\":\"1081\",\"type\":\"ColumnDataSource\"},{\"attributes\":{},\"id\":\"1120\",\"type\":\"UnionRenderers\"},{\"attributes\":{\"text_align\":\"center\",\"text_color\":{\"value\":\"black\"},\"text_font_size\":{\"value\":\"10pt\"},\"x\":{\"value\":9.067784309387207},\"y\":{\"value\":5.258317470550537}},\"id\":\"1082\",\"type\":\"Text\"},{\"attributes\":{},\"id\":\"1121\",\"type\":\"Selection\"},{\"attributes\":{\"text_align\":\"center\",\"text_alpha\":{\"value\":0.1},\"text_color\":{\"value\":\"black\"},\"text_font_size\":{\"value\":\"10pt\"},\"x\":{\"value\":9.067784309387207},\"y\":{\"value\":5.258317470550537}},\"id\":\"1083\",\"type\":\"Text\"},{\"attributes\":{},\"id\":\"1122\",\"type\":\"UnionRenderers\"},{\"attributes\":{\"data_source\":{\"id\":\"1081\",\"type\":\"ColumnDataSource\"},\"glyph\":{\"id\":\"1082\",\"type\":\"Text\"},\"hover_glyph\":null,\"muted_glyph\":null,\"nonselection_glyph\":{\"id\":\"1083\",\"type\":\"Text\"},\"selection_glyph\":null,\"view\":{\"id\":\"1085\",\"type\":\"CDSView\"}},\"id\":\"1084\",\"type\":\"GlyphRenderer\"},{\"attributes\":{\"source\":{\"id\":\"1081\",\"type\":\"ColumnDataSource\"}},\"id\":\"1085\",\"type\":\"CDSView\"},{\"attributes\":{\"callback\":null,\"data\":{\"text\":[\"\\ubdf0\\ud2f0 \\uc778\\uc0ac\\uc774\\ub4dc\"]},\"selected\":{\"id\":\"1119\",\"type\":\"Selection\"},\"selection_policy\":{\"id\":\"1120\",\"type\":\"UnionRenderers\"}},\"id\":\"1086\",\"type\":\"ColumnDataSource\"},{\"attributes\":{\"callback\":null},\"id\":\"1008\",\"type\":\"DataRange1d\"},{\"attributes\":{\"text_align\":\"center\",\"text_color\":{\"value\":\"black\"},\"text_font_size\":{\"value\":\"10pt\"},\"x\":{\"value\":-9.924774169921875},\"y\":{\"value\":3.9746766090393066}},\"id\":\"1087\",\"type\":\"Text\"},{\"attributes\":{\"text_align\":\"center\",\"text_alpha\":{\"value\":0.1},\"text_color\":{\"value\":\"black\"},\"text_font_size\":{\"value\":\"10pt\"},\"x\":{\"value\":-9.924774169921875},\"y\":{\"value\":3.9746766090393066}},\"id\":\"1088\",\"type\":\"Text\"},{\"attributes\":{\"data_source\":{\"id\":\"1086\",\"type\":\"ColumnDataSource\"},\"glyph\":{\"id\":\"1087\",\"type\":\"Text\"},\"hover_glyph\":null,\"muted_glyph\":null,\"nonselection_glyph\":{\"id\":\"1088\",\"type\":\"Text\"},\"selection_glyph\":null,\"view\":{\"id\":\"1090\",\"type\":\"CDSView\"}},\"id\":\"1089\",\"type\":\"GlyphRenderer\"},{\"attributes\":{\"source\":{\"id\":\"1086\",\"type\":\"ColumnDataSource\"}},\"id\":\"1090\",\"type\":\"CDSView\"},{\"attributes\":{\"callback\":null,\"data\":{\"text\":[\"\\uaca8\\uc6b8\\uc655\\uad6d\"]},\"selected\":{\"id\":\"1121\",\"type\":\"Selection\"},\"selection_policy\":{\"id\":\"1122\",\"type\":\"UnionRenderers\"}},\"id\":\"1091\",\"type\":\"ColumnDataSource\"},{\"attributes\":{\"text_align\":\"center\",\"text_color\":{\"value\":\"black\"},\"text_font_size\":{\"value\":\"10pt\"},\"x\":{\"value\":3.8388164043426514},\"y\":{\"value\":5.672828197479248}},\"id\":\"1092\",\"type\":\"Text\"},{\"attributes\":{\"text_align\":\"center\",\"text_alpha\":{\"value\":0.1},\"text_color\":{\"value\":\"black\"},\"text_font_size\":{\"value\":\"10pt\"},\"x\":{\"value\":3.8388164043426514},\"y\":{\"value\":5.672828197479248}},\"id\":\"1093\",\"type\":\"Text\"},{\"attributes\":{\"source\":{\"id\":\"1091\",\"type\":\"ColumnDataSource\"}},\"id\":\"1095\",\"type\":\"CDSView\"},{\"attributes\":{},\"id\":\"1098\",\"type\":\"BasicTickFormatter\"},{\"attributes\":{},\"id\":\"1100\",\"type\":\"BasicTickFormatter\"},{\"attributes\":{},\"id\":\"1101\",\"type\":\"Selection\"}],\"root_ids\":[\"1004\"]},\"title\":\"Bokeh Application\",\"version\":\"1.0.2\"}};\n",
       "  var render_items = [{\"docid\":\"cbd275d9-1069-4185-8502-969465ef125a\",\"roots\":{\"1004\":\"9d0215bd-779a-4d57-83b2-79ab0c002c9c\"}}];\n",
       "  root.Bokeh.embed.embed_items_notebook(docs_json, render_items);\n",
       "\n",
       "  }\n",
       "  if (root.Bokeh !== undefined) {\n",
       "    embed_document(root);\n",
       "  } else {\n",
       "    var attempts = 0;\n",
       "    var timer = setInterval(function(root) {\n",
       "      if (root.Bokeh !== undefined) {\n",
       "        embed_document(root);\n",
       "        clearInterval(timer);\n",
       "      }\n",
       "      attempts++;\n",
       "      if (attempts > 100) {\n",
       "        console.log(\"Bokeh: ERROR: Unable to run BokehJS code because BokehJS library is missing\");\n",
       "        clearInterval(timer);\n",
       "      }\n",
       "    }, 10, root)\n",
       "  }\n",
       "})(window);"
      ],
      "application/vnd.bokehjs_exec.v0+json": ""
     },
     "metadata": {
      "application/vnd.bokehjs_exec.v0+json": {
       "id": "1004"
      }
     },
     "output_type": "display_data"
    },
    {
     "data": {
      "text/html": [
       "\n",
       "\n",
       "\n",
       "\n",
       "\n",
       "\n",
       "  <div class=\"bk-root\" id=\"164117dc-02e6-4b76-b9fc-e62bf6cee9b9\"></div>\n"
      ]
     },
     "metadata": {},
     "output_type": "display_data"
    },
    {
     "data": {
      "application/javascript": [
       "(function(root) {\n",
       "  function embed_document(root) {\n",
       "    \n",
       "  var docs_json = {\"b1c3e22d-4bb7-48b8-9ac8-d94f2f5cd93f\":{\"roots\":{\"references\":[{\"attributes\":{\"background_fill_color\":{\"value\":\"white\"},\"below\":[{\"id\":\"1304\",\"type\":\"LinearAxis\"}],\"left\":[{\"id\":\"1309\",\"type\":\"LinearAxis\"}],\"renderers\":[{\"id\":\"1304\",\"type\":\"LinearAxis\"},{\"id\":\"1308\",\"type\":\"Grid\"},{\"id\":\"1309\",\"type\":\"LinearAxis\"},{\"id\":\"1313\",\"type\":\"Grid\"},{\"id\":\"1323\",\"type\":\"BoxAnnotation\"},{\"id\":\"1334\",\"type\":\"GlyphRenderer\"},{\"id\":\"1339\",\"type\":\"GlyphRenderer\"},{\"id\":\"1344\",\"type\":\"GlyphRenderer\"},{\"id\":\"1349\",\"type\":\"GlyphRenderer\"},{\"id\":\"1354\",\"type\":\"GlyphRenderer\"},{\"id\":\"1359\",\"type\":\"GlyphRenderer\"},{\"id\":\"1364\",\"type\":\"GlyphRenderer\"},{\"id\":\"1369\",\"type\":\"GlyphRenderer\"},{\"id\":\"1374\",\"type\":\"GlyphRenderer\"},{\"id\":\"1379\",\"type\":\"GlyphRenderer\"},{\"id\":\"1384\",\"type\":\"GlyphRenderer\"}],\"title\":{\"id\":\"1293\",\"type\":\"Title\"},\"toolbar\":{\"id\":\"1321\",\"type\":\"Toolbar\"},\"x_range\":{\"id\":\"1296\",\"type\":\"DataRange1d\"},\"x_scale\":{\"id\":\"1300\",\"type\":\"LinearScale\"},\"y_range\":{\"id\":\"1298\",\"type\":\"DataRange1d\"},\"y_scale\":{\"id\":\"1302\",\"type\":\"LinearScale\"}},\"id\":\"1294\",\"subtype\":\"Figure\",\"type\":\"Plot\"},{\"attributes\":{},\"id\":\"1425\",\"type\":\"Selection\"},{\"attributes\":{\"data_source\":{\"id\":\"1351\",\"type\":\"ColumnDataSource\"},\"glyph\":{\"id\":\"1352\",\"type\":\"Text\"},\"hover_glyph\":null,\"muted_glyph\":null,\"nonselection_glyph\":{\"id\":\"1353\",\"type\":\"Text\"},\"selection_glyph\":null,\"view\":{\"id\":\"1355\",\"type\":\"CDSView\"}},\"id\":\"1354\",\"type\":\"GlyphRenderer\"},{\"attributes\":{},\"id\":\"1314\",\"type\":\"PanTool\"},{\"attributes\":{\"active_drag\":\"auto\",\"active_inspect\":\"auto\",\"active_multi\":null,\"active_scroll\":\"auto\",\"active_tap\":\"auto\",\"tools\":[{\"id\":\"1314\",\"type\":\"PanTool\"},{\"id\":\"1315\",\"type\":\"WheelZoomTool\"},{\"id\":\"1316\",\"type\":\"BoxZoomTool\"},{\"id\":\"1317\",\"type\":\"SaveTool\"},{\"id\":\"1318\",\"type\":\"ResetTool\"},{\"id\":\"1319\",\"type\":\"HelpTool\"},{\"id\":\"1320\",\"type\":\"HoverTool\"}]},\"id\":\"1321\",\"type\":\"Toolbar\"},{\"attributes\":{},\"id\":\"1422\",\"type\":\"UnionRenderers\"},{\"attributes\":{\"fill_alpha\":{\"value\":0.5},\"fill_color\":{\"value\":\"orange\"},\"line_alpha\":{\"value\":0.5},\"line_color\":{\"value\":\"navy\"},\"size\":{\"units\":\"screen\",\"value\":5},\"x\":{\"field\":\"x\"},\"y\":{\"field\":\"y\"}},\"id\":\"1332\",\"type\":\"Scatter\"},{\"attributes\":{\"source\":{\"id\":\"1351\",\"type\":\"ColumnDataSource\"}},\"id\":\"1355\",\"type\":\"CDSView\"},{\"attributes\":{},\"id\":\"1423\",\"type\":\"Selection\"},{\"attributes\":{\"fill_alpha\":{\"value\":0.1},\"fill_color\":{\"value\":\"#1f77b4\"},\"line_alpha\":{\"value\":0.1},\"line_color\":{\"value\":\"#1f77b4\"},\"size\":{\"units\":\"screen\",\"value\":5},\"x\":{\"field\":\"x\"},\"y\":{\"field\":\"y\"}},\"id\":\"1333\",\"type\":\"Scatter\"},{\"attributes\":{\"callback\":null,\"data\":{\"text\":[\"\\ub3c4\\ub451\\ub4e4\"]},\"selected\":{\"id\":\"1429\",\"type\":\"Selection\"},\"selection_policy\":{\"id\":\"1430\",\"type\":\"UnionRenderers\"}},\"id\":\"1356\",\"type\":\"ColumnDataSource\"},{\"attributes\":{},\"id\":\"1424\",\"type\":\"UnionRenderers\"},{\"attributes\":{\"text_align\":\"center\",\"text_color\":{\"value\":\"black\"},\"text_font_size\":{\"value\":\"10pt\"},\"x\":{\"value\":-10.151667594909668},\"y\":{\"value\":-6.803147315979004}},\"id\":\"1357\",\"type\":\"Text\"},{\"attributes\":{\"overlay\":{\"id\":\"1323\",\"type\":\"BoxAnnotation\"}},\"id\":\"1316\",\"type\":\"BoxZoomTool\"},{\"attributes\":{\"text_align\":\"center\",\"text_alpha\":{\"value\":0.1},\"text_color\":{\"value\":\"black\"},\"text_font_size\":{\"value\":\"10pt\"},\"x\":{\"value\":-10.151667594909668},\"y\":{\"value\":-6.803147315979004}},\"id\":\"1358\",\"type\":\"Text\"},{\"attributes\":{},\"id\":\"1315\",\"type\":\"WheelZoomTool\"},{\"attributes\":{},\"id\":\"1431\",\"type\":\"Selection\"},{\"attributes\":{},\"id\":\"1429\",\"type\":\"Selection\"},{\"attributes\":{\"data_source\":{\"id\":\"1356\",\"type\":\"ColumnDataSource\"},\"glyph\":{\"id\":\"1357\",\"type\":\"Text\"},\"hover_glyph\":null,\"muted_glyph\":null,\"nonselection_glyph\":{\"id\":\"1358\",\"type\":\"Text\"},\"selection_glyph\":null,\"view\":{\"id\":\"1360\",\"type\":\"CDSView\"}},\"id\":\"1359\",\"type\":\"GlyphRenderer\"},{\"attributes\":{},\"id\":\"1317\",\"type\":\"SaveTool\"},{\"attributes\":{},\"id\":\"1426\",\"type\":\"UnionRenderers\"},{\"attributes\":{\"source\":{\"id\":\"1356\",\"type\":\"ColumnDataSource\"}},\"id\":\"1360\",\"type\":\"CDSView\"},{\"attributes\":{\"callback\":null,\"tooltips\":[[\"(x,y)\",\"($x, $y)\"],[\"desc\",\"@desc\"]]},\"id\":\"1320\",\"type\":\"HoverTool\"},{\"attributes\":{},\"id\":\"1427\",\"type\":\"Selection\"},{\"attributes\":{\"callback\":null,\"data\":{\"text\":[\"\\uac80\\uc0ac\\uc678\\uc804\"]},\"selected\":{\"id\":\"1431\",\"type\":\"Selection\"},\"selection_policy\":{\"id\":\"1432\",\"type\":\"UnionRenderers\"}},\"id\":\"1361\",\"type\":\"ColumnDataSource\"},{\"attributes\":{},\"id\":\"1319\",\"type\":\"HelpTool\"},{\"attributes\":{},\"id\":\"1428\",\"type\":\"UnionRenderers\"},{\"attributes\":{\"text_align\":\"center\",\"text_color\":{\"value\":\"black\"},\"text_font_size\":{\"value\":\"10pt\"},\"x\":{\"value\":-12.82004451751709},\"y\":{\"value\":-7.755053997039795}},\"id\":\"1362\",\"type\":\"Text\"},{\"attributes\":{},\"id\":\"1318\",\"type\":\"ResetTool\"},{\"attributes\":{},\"id\":\"1430\",\"type\":\"UnionRenderers\"},{\"attributes\":{\"bottom_units\":\"screen\",\"fill_alpha\":{\"value\":0.5},\"fill_color\":{\"value\":\"lightgrey\"},\"left_units\":\"screen\",\"level\":\"overlay\",\"line_alpha\":{\"value\":1.0},\"line_color\":{\"value\":\"black\"},\"line_dash\":[4,4],\"line_width\":{\"value\":2},\"plot\":null,\"render_mode\":\"css\",\"right_units\":\"screen\",\"top_units\":\"screen\"},\"id\":\"1323\",\"type\":\"BoxAnnotation\"},{\"attributes\":{\"text_align\":\"center\",\"text_alpha\":{\"value\":0.1},\"text_color\":{\"value\":\"black\"},\"text_font_size\":{\"value\":\"10pt\"},\"x\":{\"value\":-12.82004451751709},\"y\":{\"value\":-7.755053997039795}},\"id\":\"1363\",\"type\":\"Text\"},{\"attributes\":{\"data_source\":{\"id\":\"1361\",\"type\":\"ColumnDataSource\"},\"glyph\":{\"id\":\"1362\",\"type\":\"Text\"},\"hover_glyph\":null,\"muted_glyph\":null,\"nonselection_glyph\":{\"id\":\"1363\",\"type\":\"Text\"},\"selection_glyph\":null,\"view\":{\"id\":\"1365\",\"type\":\"CDSView\"}},\"id\":\"1364\",\"type\":\"GlyphRenderer\"},{\"attributes\":{},\"id\":\"1432\",\"type\":\"UnionRenderers\"},{\"attributes\":{\"data_source\":{\"id\":\"1292\",\"type\":\"ColumnDataSource\"},\"glyph\":{\"id\":\"1332\",\"type\":\"Scatter\"},\"hover_glyph\":null,\"muted_glyph\":null,\"nonselection_glyph\":{\"id\":\"1333\",\"type\":\"Scatter\"},\"selection_glyph\":null,\"view\":{\"id\":\"1335\",\"type\":\"CDSView\"}},\"id\":\"1334\",\"type\":\"GlyphRenderer\"},{\"attributes\":{\"source\":{\"id\":\"1361\",\"type\":\"ColumnDataSource\"}},\"id\":\"1365\",\"type\":\"CDSView\"},{\"attributes\":{},\"id\":\"1433\",\"type\":\"Selection\"},{\"attributes\":{\"source\":{\"id\":\"1292\",\"type\":\"ColumnDataSource\"}},\"id\":\"1335\",\"type\":\"CDSView\"},{\"attributes\":{\"callback\":null,\"data\":{\"text\":[\"\\uc2e0\\uc138\\uacc4\"]},\"selected\":{\"id\":\"1433\",\"type\":\"Selection\"},\"selection_policy\":{\"id\":\"1434\",\"type\":\"UnionRenderers\"}},\"id\":\"1366\",\"type\":\"ColumnDataSource\"},{\"attributes\":{},\"id\":\"1434\",\"type\":\"UnionRenderers\"},{\"attributes\":{\"callback\":null,\"data\":{\"text\":[\"\\uc5ed\\ub9b0\"]},\"selected\":{\"id\":\"1421\",\"type\":\"Selection\"},\"selection_policy\":{\"id\":\"1422\",\"type\":\"UnionRenderers\"}},\"id\":\"1336\",\"type\":\"ColumnDataSource\"},{\"attributes\":{\"text_align\":\"center\",\"text_color\":{\"value\":\"black\"},\"text_font_size\":{\"value\":\"10pt\"},\"x\":{\"value\":-8.85004997253418},\"y\":{\"value\":-6.452929973602295}},\"id\":\"1367\",\"type\":\"Text\"},{\"attributes\":{},\"id\":\"1436\",\"type\":\"UnionRenderers\"},{\"attributes\":{\"text_align\":\"center\",\"text_alpha\":{\"value\":0.1},\"text_color\":{\"value\":\"black\"},\"text_font_size\":{\"value\":\"10pt\"},\"x\":{\"value\":-8.85004997253418},\"y\":{\"value\":-6.452929973602295}},\"id\":\"1368\",\"type\":\"Text\"},{\"attributes\":{\"dimension\":1,\"grid_line_color\":{\"value\":null},\"plot\":{\"id\":\"1294\",\"subtype\":\"Figure\",\"type\":\"Plot\"},\"ticker\":{\"id\":\"1310\",\"type\":\"BasicTicker\"}},\"id\":\"1313\",\"type\":\"Grid\"},{\"attributes\":{},\"id\":\"1435\",\"type\":\"Selection\"},{\"attributes\":{\"data_source\":{\"id\":\"1366\",\"type\":\"ColumnDataSource\"},\"glyph\":{\"id\":\"1367\",\"type\":\"Text\"},\"hover_glyph\":null,\"muted_glyph\":null,\"nonselection_glyph\":{\"id\":\"1368\",\"type\":\"Text\"},\"selection_glyph\":null,\"view\":{\"id\":\"1370\",\"type\":\"CDSView\"}},\"id\":\"1369\",\"type\":\"GlyphRenderer\"},{\"attributes\":{\"source\":{\"id\":\"1366\",\"type\":\"ColumnDataSource\"}},\"id\":\"1370\",\"type\":\"CDSView\"},{\"attributes\":{\"text_align\":\"center\",\"text_alpha\":{\"value\":0.1},\"text_color\":{\"value\":\"black\"},\"text_font_size\":{\"value\":\"10pt\"},\"x\":{\"value\":-13.782599449157715},\"y\":{\"value\":-2.8930699825286865}},\"id\":\"1353\",\"type\":\"Text\"},{\"attributes\":{\"text_align\":\"center\",\"text_color\":{\"value\":\"black\"},\"text_font_size\":{\"value\":\"10pt\"},\"x\":{\"value\":-13.782599449157715},\"y\":{\"value\":-2.8930699825286865}},\"id\":\"1352\",\"type\":\"Text\"},{\"attributes\":{},\"id\":\"1437\",\"type\":\"Selection\"},{\"attributes\":{\"callback\":null,\"data\":{\"text\":[\"\\uc758\\ud615\\uc81c\"]},\"selected\":{\"id\":\"1435\",\"type\":\"Selection\"},\"selection_policy\":{\"id\":\"1436\",\"type\":\"UnionRenderers\"}},\"id\":\"1371\",\"type\":\"ColumnDataSource\"},{\"attributes\":{\"text_align\":\"center\",\"text_alpha\":{\"value\":0.1},\"text_color\":{\"value\":\"black\"},\"text_font_size\":{\"value\":\"10pt\"},\"x\":{\"value\":-14.838857650756836},\"y\":{\"value\":-5.851414203643799}},\"id\":\"1343\",\"type\":\"Text\"},{\"attributes\":{\"callback\":null,\"data\":{\"text\":[\"\\uc0ac\\ub3c4\"]},\"selected\":{\"id\":\"1427\",\"type\":\"Selection\"},\"selection_policy\":{\"id\":\"1428\",\"type\":\"UnionRenderers\"}},\"id\":\"1351\",\"type\":\"ColumnDataSource\"},{\"attributes\":{},\"id\":\"1438\",\"type\":\"UnionRenderers\"},{\"attributes\":{\"text_align\":\"center\",\"text_color\":{\"value\":\"black\"},\"text_font_size\":{\"value\":\"10pt\"},\"x\":{\"value\":-3.978398084640503},\"y\":{\"value\":-3.5430362224578857}},\"id\":\"1372\",\"type\":\"Text\"},{\"attributes\":{},\"id\":\"1439\",\"type\":\"Selection\"},{\"attributes\":{\"text_align\":\"center\",\"text_alpha\":{\"value\":0.1},\"text_color\":{\"value\":\"black\"},\"text_font_size\":{\"value\":\"10pt\"},\"x\":{\"value\":-3.978398084640503},\"y\":{\"value\":-3.5430362224578857}},\"id\":\"1373\",\"type\":\"Text\"},{\"attributes\":{\"source\":{\"id\":\"1336\",\"type\":\"ColumnDataSource\"}},\"id\":\"1340\",\"type\":\"CDSView\"},{\"attributes\":{},\"id\":\"1440\",\"type\":\"UnionRenderers\"},{\"attributes\":{\"text_align\":\"center\",\"text_color\":{\"value\":\"black\"},\"text_font_size\":{\"value\":\"10pt\"},\"x\":{\"value\":-13.553526878356934},\"y\":{\"value\":-4.975466728210449}},\"id\":\"1337\",\"type\":\"Text\"},{\"attributes\":{\"source\":{\"id\":\"1371\",\"type\":\"ColumnDataSource\"}},\"id\":\"1375\",\"type\":\"CDSView\"},{\"attributes\":{},\"id\":\"1310\",\"type\":\"BasicTicker\"},{\"attributes\":{\"data_source\":{\"id\":\"1341\",\"type\":\"ColumnDataSource\"},\"glyph\":{\"id\":\"1342\",\"type\":\"Text\"},\"hover_glyph\":null,\"muted_glyph\":null,\"nonselection_glyph\":{\"id\":\"1343\",\"type\":\"Text\"},\"selection_glyph\":null,\"view\":{\"id\":\"1345\",\"type\":\"CDSView\"}},\"id\":\"1344\",\"type\":\"GlyphRenderer\"},{\"attributes\":{\"callback\":null,\"data\":{\"text\":[\"\\ubc00\\uc815\"]},\"selected\":{\"id\":\"1437\",\"type\":\"Selection\"},\"selection_policy\":{\"id\":\"1438\",\"type\":\"UnionRenderers\"}},\"id\":\"1376\",\"type\":\"ColumnDataSource\"},{\"attributes\":{\"text_align\":\"center\",\"text_color\":{\"value\":\"black\"},\"text_font_size\":{\"value\":\"10pt\"},\"x\":{\"value\":-14.295675277709961},\"y\":{\"value\":-3.7442877292633057}},\"id\":\"1377\",\"type\":\"Text\"},{\"attributes\":{\"text_align\":\"center\",\"text_alpha\":{\"value\":0.1},\"text_color\":{\"value\":\"black\"},\"text_font_size\":{\"value\":\"10pt\"},\"x\":{\"value\":-14.295675277709961},\"y\":{\"value\":-3.7442877292633057}},\"id\":\"1378\",\"type\":\"Text\"},{\"attributes\":{\"data_source\":{\"id\":\"1376\",\"type\":\"ColumnDataSource\"},\"glyph\":{\"id\":\"1377\",\"type\":\"Text\"},\"hover_glyph\":null,\"muted_glyph\":null,\"nonselection_glyph\":{\"id\":\"1378\",\"type\":\"Text\"},\"selection_glyph\":null,\"view\":{\"id\":\"1380\",\"type\":\"CDSView\"}},\"id\":\"1379\",\"type\":\"GlyphRenderer\"},{\"attributes\":{\"data_source\":{\"id\":\"1336\",\"type\":\"ColumnDataSource\"},\"glyph\":{\"id\":\"1337\",\"type\":\"Text\"},\"hover_glyph\":null,\"muted_glyph\":null,\"nonselection_glyph\":{\"id\":\"1338\",\"type\":\"Text\"},\"selection_glyph\":null,\"view\":{\"id\":\"1340\",\"type\":\"CDSView\"}},\"id\":\"1339\",\"type\":\"GlyphRenderer\"},{\"attributes\":{\"source\":{\"id\":\"1376\",\"type\":\"ColumnDataSource\"}},\"id\":\"1380\",\"type\":\"CDSView\"},{\"attributes\":{\"text_align\":\"center\",\"text_color\":{\"value\":\"black\"},\"text_font_size\":{\"value\":\"10pt\"},\"x\":{\"value\":-14.838857650756836},\"y\":{\"value\":-5.851414203643799}},\"id\":\"1342\",\"type\":\"Text\"},{\"attributes\":{\"callback\":null,\"data\":{\"text\":[\"\\uc30d\\ud654\\uc810\"]},\"selected\":{\"id\":\"1439\",\"type\":\"Selection\"},\"selection_policy\":{\"id\":\"1440\",\"type\":\"UnionRenderers\"}},\"id\":\"1381\",\"type\":\"ColumnDataSource\"},{\"attributes\":{\"text_align\":\"center\",\"text_color\":{\"value\":\"black\"},\"text_font_size\":{\"value\":\"10pt\"},\"x\":{\"value\":-5.314169406890869},\"y\":{\"value\":-2.6484227180480957}},\"id\":\"1382\",\"type\":\"Text\"},{\"attributes\":{\"callback\":null,\"data\":{\"text\":[\"\\uad11\\ud574, \\uc655\\uc774 \\ub41c \\ub0a8\\uc790\"]},\"selected\":{\"id\":\"1423\",\"type\":\"Selection\"},\"selection_policy\":{\"id\":\"1424\",\"type\":\"UnionRenderers\"}},\"id\":\"1341\",\"type\":\"ColumnDataSource\"},{\"attributes\":{\"text_align\":\"center\",\"text_alpha\":{\"value\":0.1},\"text_color\":{\"value\":\"black\"},\"text_font_size\":{\"value\":\"10pt\"},\"x\":{\"value\":-5.314169406890869},\"y\":{\"value\":-2.6484227180480957}},\"id\":\"1383\",\"type\":\"Text\"},{\"attributes\":{\"text_align\":\"center\",\"text_alpha\":{\"value\":0.1},\"text_color\":{\"value\":\"black\"},\"text_font_size\":{\"value\":\"10pt\"},\"x\":{\"value\":-13.553526878356934},\"y\":{\"value\":-4.975466728210449}},\"id\":\"1338\",\"type\":\"Text\"},{\"attributes\":{\"data_source\":{\"id\":\"1381\",\"type\":\"ColumnDataSource\"},\"glyph\":{\"id\":\"1382\",\"type\":\"Text\"},\"hover_glyph\":null,\"muted_glyph\":null,\"nonselection_glyph\":{\"id\":\"1383\",\"type\":\"Text\"},\"selection_glyph\":null,\"view\":{\"id\":\"1385\",\"type\":\"CDSView\"}},\"id\":\"1384\",\"type\":\"GlyphRenderer\"},{\"attributes\":{\"source\":{\"id\":\"1341\",\"type\":\"ColumnDataSource\"}},\"id\":\"1345\",\"type\":\"CDSView\"},{\"attributes\":{\"source\":{\"id\":\"1381\",\"type\":\"ColumnDataSource\"}},\"id\":\"1385\",\"type\":\"CDSView\"},{\"attributes\":{},\"id\":\"1416\",\"type\":\"BasicTickFormatter\"},{\"attributes\":{\"callback\":null,\"data\":{\"text\":[\"\\uad70\\ub3c4:\\ubbfc\\ub780\\uc758 \\uc2dc\\ub300\"]},\"selected\":{\"id\":\"1425\",\"type\":\"Selection\"},\"selection_policy\":{\"id\":\"1426\",\"type\":\"UnionRenderers\"}},\"id\":\"1346\",\"type\":\"ColumnDataSource\"},{\"attributes\":{},\"id\":\"1418\",\"type\":\"BasicTickFormatter\"},{\"attributes\":{\"text_align\":\"center\",\"text_color\":{\"value\":\"black\"},\"text_font_size\":{\"value\":\"10pt\"},\"x\":{\"value\":-12.585043907165527},\"y\":{\"value\":-5.716901779174805}},\"id\":\"1347\",\"type\":\"Text\"},{\"attributes\":{\"text_align\":\"center\",\"text_alpha\":{\"value\":0.1},\"text_color\":{\"value\":\"black\"},\"text_font_size\":{\"value\":\"10pt\"},\"x\":{\"value\":-12.585043907165527},\"y\":{\"value\":-5.716901779174805}},\"id\":\"1348\",\"type\":\"Text\"},{\"attributes\":{},\"id\":\"1419\",\"type\":\"Selection\"},{\"attributes\":{\"data_source\":{\"id\":\"1346\",\"type\":\"ColumnDataSource\"},\"glyph\":{\"id\":\"1347\",\"type\":\"Text\"},\"hover_glyph\":null,\"muted_glyph\":null,\"nonselection_glyph\":{\"id\":\"1348\",\"type\":\"Text\"},\"selection_glyph\":null,\"view\":{\"id\":\"1350\",\"type\":\"CDSView\"}},\"id\":\"1349\",\"type\":\"GlyphRenderer\"},{\"attributes\":{},\"id\":\"1420\",\"type\":\"UnionRenderers\"},{\"attributes\":{\"source\":{\"id\":\"1346\",\"type\":\"ColumnDataSource\"}},\"id\":\"1350\",\"type\":\"CDSView\"},{\"attributes\":{},\"id\":\"1421\",\"type\":\"Selection\"},{\"attributes\":{\"formatter\":{\"id\":\"1416\",\"type\":\"BasicTickFormatter\"},\"plot\":{\"id\":\"1294\",\"subtype\":\"Figure\",\"type\":\"Plot\"},\"ticker\":{\"id\":\"1305\",\"type\":\"BasicTicker\"}},\"id\":\"1304\",\"type\":\"LinearAxis\"},{\"attributes\":{\"formatter\":{\"id\":\"1418\",\"type\":\"BasicTickFormatter\"},\"plot\":{\"id\":\"1294\",\"subtype\":\"Figure\",\"type\":\"Plot\"},\"ticker\":{\"id\":\"1310\",\"type\":\"BasicTicker\"}},\"id\":\"1309\",\"type\":\"LinearAxis\"},{\"attributes\":{},\"id\":\"1302\",\"type\":\"LinearScale\"},{\"attributes\":{\"grid_line_color\":{\"value\":null},\"plot\":{\"id\":\"1294\",\"subtype\":\"Figure\",\"type\":\"Plot\"},\"ticker\":{\"id\":\"1305\",\"type\":\"BasicTicker\"}},\"id\":\"1308\",\"type\":\"Grid\"},{\"attributes\":{},\"id\":\"1305\",\"type\":\"BasicTicker\"},{\"attributes\":{},\"id\":\"1300\",\"type\":\"LinearScale\"},{\"attributes\":{\"plot\":null,\"text\":\"\\\"\\uad00\\uc0c1\\\" \\uc720\\uc0ac \\uc601\\ud654\"},\"id\":\"1293\",\"type\":\"Title\"},{\"attributes\":{\"data_source\":{\"id\":\"1371\",\"type\":\"ColumnDataSource\"},\"glyph\":{\"id\":\"1372\",\"type\":\"Text\"},\"hover_glyph\":null,\"muted_glyph\":null,\"nonselection_glyph\":{\"id\":\"1373\",\"type\":\"Text\"},\"selection_glyph\":null,\"view\":{\"id\":\"1375\",\"type\":\"CDSView\"}},\"id\":\"1374\",\"type\":\"GlyphRenderer\"},{\"attributes\":{\"callback\":null,\"data\":{\"desc\":[\"\\uace0\\uc0ac \\ub450 \\ubc88\\uc9f8 \\uc774\\uc57c\\uae30: \\uad50\\uc0dd\\uc2e4\\uc2b5\",\"\\ubc15\\uc950\",\"\\ud574\\ubb34\",\"\\ud574\\uc6b4\\ub300\",\"\\uc778\\ud130\\uc2a4\\ud154\\ub77c\",\"\\uad6d\\uac00\\ub300\\ud45c\",\"\\ub3c4\\ub451\\ub4e4\",\"\\ubca0\\ub97c\\ub9b0\",\"\\ud574\\ub9ac \\ud3ec\\ud130\\uc640 \\uc8fd\\uc74c\\uc758 \\uc131\\ubb3c - 2\\ubd80\",\"\\ubbf8\\uc2a4\\ud130 \\uace0\",\"7\\uad11\\uad6c\",\"\\ub7ed\\ud0a4\",\"\\ub2e4\\ud06c \\ub098\\uc774\\ud2b8 \\ub77c\\uc774\\uc988\",\"\\ud574\\uc801: \\ubc14\\ub2e4\\ub85c \\uac04 \\uc0b0\\uc801\",\"\\ubc30\\ud2b8\\ub9e8 \\ub300 \\uc288\\ud37c\\ub9e8: \\uc800\\uc2a4\\ud2f0\\uc2a4\\uc758 \\uc2dc\\uc791\",\"\\uc544\\uac00\\uc528\",\"\\ub0b4\\uac00 \\uc0b4\\uc778\\ubc94\\uc774\\ub2e4\",\"\\uba54\\uc774\\uc988 \\ub7ec\\ub108: \\uc2a4\\ucf54\\uce58 \\ud2b8\\ub77c\\uc774\\uc5bc\",\"\\ub2e4\\ud06c \\ub098\\uc774\\ud2b8\",\"\\ucea1\\ud2f4 \\uc544\\uba54\\ub9ac\\uce74: \\uc2dc\\ube4c \\uc6cc\",\"\\uacfc\\uc18d\\uc2a4\\uce94\\ub4e4\",\"\\ubbf8\\ub140\\ub294 \\uad34\\ub85c\\uc6cc\",\"\\ud130\\ub110\",\"\\uc601\\uc6c5: \\uc0d0\\ub7ec\\uba58\\ub354\\uc758 \\ube44\\ubc00\",\"\\uc751\\ub2f5\\ud558\\ub77c 1988\",\"\\ub300\\ud638\",\"\\uc2e0\\uc138\\uacc4\",\"\\uace1\\uc131(\\u54ed\\u8072)\",\"\\uaca8\\uc6b8\\uc655\\uad6d\",\"\\uc644\\ub4dd\\uc774\",\"\\ube45 \\ud788\\uc5b4\\ub85c\",\"\\uc778\\uc149\\uc158\",\"\\ud0c0\\uc774\\ud0c0\\ub2c9\",\"26\\ub144\",\"\\uc9c0\\uae08, \\ub9cc\\ub098\\ub7ec \\uac11\\ub2c8\\ub2e4\",\"\\uc554\\uc0b4\",\"\\ud3ec\\ud654 \\uc18d\\uc73c\\ub85c\",\"\\uc778\\ud134\",\"\\uc758\\ud615\\uc81c\",\"\\ud310\\ub3c4\\ub77c\",\"\\uac80\\uc740 \\uc0ac\\uc81c\\ub4e4\",\"\\uc545\\ub9c8\\ub97c \\ubcf4\\uc558\\ub2e4\",\"\\uc88b\\uc740 \\ub188, \\ub098\\uc05c \\ub188, \\uc774\\uc0c1\\ud55c \\ub188\",\"\\ucc9c\\uc548\\ud568 \\ud504\\ub85c\\uc81d\\ud2b8\",\"\\uc778\\ub514\\ud39c\\ub358\\uc2a4 \\ub370\\uc774: \\ub9ac\\uc368\\uc804\\uc2a4\",\"\\uc6a9\\uc758\\uc790\",\"\\uad11\\ud574, \\uc655\\uc774 \\ub41c \\ub0a8\\uc790\",\"\\uc81c\\uc774\\uc2a8 \\ubcf8\",\"\\uce90\\ub9ac\\ube44\\uc548\\uc758 \\ud574\\uc801 - \\uc138\\uc0c1\\uc758 \\ub05d\\uc5d0\\uc11c\",\"\\ub2d8\\uc544, \\uadf8 \\uac15\\uc744 \\uac74\\ub108\\uc9c0 \\ub9c8\\uc624\",\"\\ud2b8\\ub79c\\uc2a4\\ud3ec\\uba38 3\",\"\\uce74\\ud2b8\",\"\\ubc30\\ud2c0\\uc27d\",\"\\uac80\\uc0ac\\uc678\\uc804\",\"\\uad6d\\uc81c\\uc2dc\\uc7a5\",\"\\uc96c\\ub77c\\uae30 \\uc6d4\\ub4dc\",\"\\uad00\\uc0c1\",\"\\ud574\\ubc14\\ub77c\\uae30\",\"\\uc5d1\\uc2a4\\ub9e8: \\ub370\\uc774\\uc988 \\uc624\\ube0c \\ud4e8\\ucc98 \\ud328\\uc2a4\\ud2b8\",\"\\ubc15\\uc218\\uac74\\ub2ec\",\"\\uac10\\uae30\",\"\\ucd5c\\uc885\\ubcd1\\uae30 \\ud65c\",\"\\uace0\\uc9c0\\uc804\",\"\\ud074\\ub808\\uba58\\ud0c0\\uc778\",\"\\uac10\\uc2dc\\uc790\\ub4e4\",\"\\uc2a4\\uce74\\uc774\\ub77c\\uc778\",\"\\uc6cc\\ud06c\\ub798\\ud504\\ud2b8: \\uc804\\uc7c1\\uc758 \\uc11c\\ub9c9\",\"\\uc778\\uc0ac\\uc774\\ub4dc \\uc544\\uc6c3\",\"\\uc138 \\uc5bc\\uac04\\uc774\",\"\\ud615\",\"\\ud2b8\\uc640\\uc77c\\ub77c\\uc787\",\"\\uc5ed\\ub9b0\",\"\\ube44\\uae34 \\uc5b4\\uac8c\\uc778\",\"\\ub450\\uadfc\\ub450\\uadfc \\ub0b4 \\uc778\\uc0dd\",\"\\ub354 \\ud14c\\ub7ec \\ub77c\\uc774\\ube0c\",\"2012\",\"\\ub3c4\\uac00\\ub2c8\",\"\\uc5e3\\uc9c0 \\uc624\\ube0c \\ud22c\\ubaa8\\ub85c\\uc6b0\",\"\\ub9e8 \\uc624\\ube0c \\uc2a4\\ud2f8\",\"\\ud0b9\\uc2a4\\ub9e8 : \\uc2dc\\ud06c\\ub9bf \\uc5d0\\uc774\\uc804\\ud2b8\",\"\\uc655\\uc758 \\ub0a8\\uc790\",\"\\ubc00\\uc815\",\"\\ubbf8\\uc158 \\uc784\\ud30c\\uc11c\\ube14: \\ub85c\\uadf8\\ub124\\uc774\\uc158\",\"\\uc5f0\\uac00\\uc2dc\",\"\\uc5f0\\ud3c9\\ud574\\uc804\",\"\\ub808\\ubbf8\\uc81c\\ub77c\\ube14\",\"\\ucd08\\ub2a5\\ub825\\uc790\",\"\\ub05d\\uae4c\\uc9c0 \\uac04\\ub2e4\",\"\\uc5b4\\uac70\\uc2a4\\ud2b8 \\ub7ec\\uc26c\",\"\\ud035\",\"\\uadf8\\ub798\\ube44\\ud2f0\",\"\\uad34\\ubb3c\",\"\\uc778\\ucc9c\\uc0c1\\ub959\\uc791\\uc804\",\"\\ud558\\uc6b8\\uc758 \\uc6c0\\uc9c1\\uc774\\ub294 \\uc131\",\"\\ubbf8\\uc2a4 \\ud398\\ub808\\uadf8\\ub9b0\\uacfc \\uc774\\uc0c1\\ud55c \\uc544\\uc774\\ub4e4\\uc758 \\uc9d1\",\"\\uc2e0\\uc758 \\ud55c \\uc218\",\"\\uc2e0\\ube44\\ud55c \\ub3d9\\ubb3c\\uc0ac\\uc804\",\"7\\ubc88\\ubc29\\uc758 \\uc120\\ubb3c\",\"\\ud639\\uc131\\ud0c8\\ucd9c: \\ubc18\\uaca9\\uc758 \\uc11c\\ub9c9\",\"\\ud654\\ub824\\ud55c \\ud734\\uac00\",\"\\uc544\\uc774\\uc5b8\\ub9e8 3\",\"\\ub77c\\ub77c\\ub79c\\ub4dc\",\"\\uc5b4\\ubca4\\uc838\\uc2a4: \\uc5d0\\uc774\\uc9c0 \\uc624\\ube0c \\uc6b8\\ud2b8\\ub860\",\"\\uc228\\ubc14\\uaf2d\\uc9c8\",\"\\uc778\\uc0dd\\uc740 \\uc544\\ub984\\ub2e4\\uc6cc\",\"\\ub098\\ub294 \\uc804\\uc124\\uc774\\ub2e4\",\"\\uc6f0\\ucef4 \\ud22c \\ub3d9\\ub9c9\\uace8\",\"\\ub370\\ub4dc\\ud480\",\"\\ubc18\\ucc3d\\uaf2c\",\"\\ud574\\ub9ac \\ud3ec\\ud130\\uc640 \\ud63c\\ud608 \\uc655\\uc790\",\"\\uc544\\uc800\\uc528\",\"\\uadc0\\ud5a5\",\"\\ubd80\\uc0b0\\ud589\",\"\\ud22c\\uc0ac\\ubd80\\uc77c\\uccb4\",\"\\uc1fc\\uc0dd\\ud06c \\ud0c8\\ucd9c\",\"\\ud130\\ubbf8\\ub124\\uc774\\ud130 \\uc81c\\ub2c8\\uc2dc\\uc2a4\",\"\\uc544\\uc218\\ub77c\",\"\\uc2dc\\ub77c\\ub178; \\uc5f0\\uc560\\uc870\\uc791\\ub2e8\",\"\\ub291\\ub300\\uc18c\\ub144\",\"\\uc804\\uc6b0\\uce58\",\"\\uc368\\ub2c8\",\"\\ub514 \\uc6cc\",\"\\ub9ac\\uc5bc \\uc2a4\\ud2f8\",\"\\ud2b8\\ub79c\\uc2a4\\ud3ec\\uba38: \\ud328\\uc790\\uc758 \\uc5ed\\uc2b5\",\"\\uc218\\uc0c1\\ud55c \\uadf8\\ub140\",\"\\uc544\\uc774\\uc5b8\\ub9e8\",\"\\uac74\\ucd95\\ud559\\uac1c\\ub860\",\"\\uc218\\uc5b4\\uc0ac\\uc774\\ub4dc \\uc2a4\\ucffc\\ub4dc\",\"\\ub355\\ud61c\\uc639\\uc8fc\",\"\\ud14c\\uc774\\ud070\",\"\\ud0c0\\uc6cc\",\"\\uc13c\\uacfc \\uce58\\ud788\\ub85c\\uc758 \\ud589\\ubc29\\ubd88\\uba85\",\"\\uc2dc\\uac04\\uc744 \\ub2ec\\ub9ac\\ub294 \\uc18c\\ub140\",\"\\uc6b0\\ub9ac\\ub4e4\\uc758 \\ud589\\ubcf5\\ud55c \\uc2dc\\uac04\",\"\\ub2e5\\ud130 \\uc2a4\\ud2b8\\ub808\\uc778\\uc9c0\",\"\\ubca0\\ud14c\\ub791\",\"\\uc5b4\\ubca4\\uc838\\uc2a4\",\"\\ud558\\ubaa8\\ub2c8\",\"\\ub274 \\ubb38\",\"\\uc384\\uc2dc\\ubd09\",\"\\uc6dc \\ubc14\\ub514\\uc2a4\",\"\\ub2e4\\uc138\\ud3ec \\uc18c\\ub140\",\"\\ud0c0\\uc9dc-\\uc2e0\\uc758 \\uc190\",\"\\ucd94\\uaca9\\uc790\",\"\\uc5b4\\ubc14\\uc6c3 \\ud0c0\\uc784\",\"\\ud5ec\\ub85c\\uc6b0 \\uace0\\uc2a4\\ud2b8\",\"\\uc870\\uc120\\uba85\\ud0d0\\uc815: \\uac01\\uc2dc\\ud22c\\uad6c\\uaf43\\uc758 \\ube44\\ubc00\",\"\\ub9d0\\ud560 \\uc218 \\uc5c6\\ub294 \\ube44\\ubc00\",\"\\uc30d\\ud654\\uc810\",\"\\uc18c\\uc6d0\",\"\\uad70\\ub3c4:\\ubbfc\\ub780\\uc758 \\uc2dc\\ub300\",\"\\uc5d1\\uc2a4\\ub9e8: \\uc544\\ud3ec\\uce7c\\ub9bd\\uc2a4\",\"\\ud30c\\ud30c\\ub85c\\ud2f0\",\"\\ud788\\ub9d0\\ub77c\\uc57c\",\"\\uc124\\uad6d\\uc5f4\\ucc28\",\"\\ud2b8\\ub79c\\uc2a4\\ud3ec\\uba38: \\uc0ac\\ub77c\\uc9c4 \\uc2dc\\ub300\",\"\\uc6d4\\ub4dc\\uc6ccZ\",\"\\ub77c\\ub514\\uc624 \\uc2a4\\ud0c0\",\"\\ub514\\uc2a4\\ud2b8\\ub9ad\\ud2b8 9\",\"\\uc138\\ube10 \\ub370\\uc774\\uc988\",\"\\uce90\\ub9ac\\ube44\\uc548\\uc758 \\ud574\\uc801 - \\ub9dd\\uc790\\uc758 \\ud568\",\"\\ud2b8\\ub79c\\uc2a4\\ud3ec\\uba38\",\"\\ucea1\\ud2f4 \\uc544\\uba54\\ub9ac\\uce74: \\uc708\\ud130 \\uc194\\uc838\",\"\\ub77c\\uc2a4\\ud2b8 \\uac13\\ud30c\\ub354\",\"\\ub9e4\\ub4dc\\ub9e5\\uc2a4: \\ubd84\\ub178\\uc758 \\ub3c4\\ub85c\",\"\\ub098\\uc6b0 \\uc720 \\uc528 \\ubbf8 2\",\"\\uc5b4\\uba54\\uc774\\uc9d5 \\uc2a4\\ud30c\\uc774\\ub354\\ub9e8 2\",\"\\ubdf0\\ud2f0 \\uc778\\uc0ac\\uc774\\ub4dc\",\"\\ud37c\\uc2dc\\ud53d \\ub9bc\",\"\\uc0ac\\ub3c4\",\"\\ub9c8\\uc158\",\"\\uc544\\ubc14\\ud0c0\"],\"x\":[-1.2417422533035278,-5.527718544006348,-11.362713813781738,-2.499950885772705,6.542813777923584,-2.897256851196289,-10.151667594909668,-8.816000938415527,4.297421932220459,-3.1281542778015137,-1.3881421089172363,-13.2852201461792,6.565079212188721,-13.266230583190918,12.182969093322754,-12.14752197265625,-7.644370079040527,10.847612380981445,5.931966781616211,11.8508882522583,-4.051525115966797,-3.990029811859131,-10.880891799926758,0.4578981101512909,-10.828327178955078,-13.317018508911133,-8.85004997253418,-10.116515159606934,3.8388164043426514,-5.97818660736084,4.365294456481934,3.917346715927124,0.4114822447299957,-6.056029796600342,-0.8791018724441528,-14.5748872756958,-4.574305534362793,0.6258216500282288,-3.978398084640503,-10.742301940917969,-10.023324966430664,-6.030667781829834,-3.969606637954712,-6.38010311126709,8.400054931640625,-8.20632553100586,-14.838857650756836,9.723344802856445,6.6022257804870605,-8.434281349182129,7.216381549835205,-10.59183406829834,8.072895050048828,-12.82004451751709,-8.663778305053711,8.180937767028809,-14.07413101196289,-4.3920512199401855,10.754117965698242,-6.037174224853516,-8.971752166748047,-4.98257303237915,-4.604352951049805,0.4096064269542694,-9.651139259338379,4.499022483825684,12.237310409545898,3.427353620529175,-2.079671621322632,-8.713565826416016,3.1003332138061523,-13.553526878356934,1.3386807441711426,-9.896101951599121,-8.538276672363281,5.298337459564209,-4.787890434265137,11.207996368408203,8.474958419799805,14.371392250061035,-4.989552974700928,-14.295675277709961,9.784306526184082,-8.288983345031738,-7.179689407348633,-0.17651192843914032,-1.9704283475875854,-10.897067070007324,-0.16237710416316986,-2.388117551803589,6.614902496337891,0.3081521689891815,-7.776737213134766,1.749144434928894,9.067784309387207,-10.973694801330566,9.349530220031738,-6.622786521911621,9.691093444824219,-5.3860321044921875,9.912396430969238,1.5386079549789429,10.909656524658203,-8.262665748596191,-0.9549816846847534,2.752743721008301,-3.5819811820983887,14.142304420471191,-6.34929895401001,3.9025325775146484,-5.86229944229126,-9.163551330566406,-10.01072883605957,-1.630395770072937,-0.08064407855272293,9.488445281982422,-11.768089294433594,-4.130941867828369,-6.265974521636963,-2.5917603969573975,-3.519970417022705,4.447244644165039,9.548025131225586,7.0568013191223145,-7.771421909332275,9.004605293273926,-3.732011556625366,12.312178611755371,-13.947742462158203,-6.1608805656433105,-8.266409873962402,1.642738938331604,0.9384663105010986,-5.273005485534668,11.037147521972656,-11.751904487609863,9.599822044372559,-5.899590969085693,3.275975465774536,-10.568507194519043,6.84989070892334,-0.869495689868927,-11.645515441894531,-6.726255893707275,0.7311878800392151,-5.312809944152832,-2.8243236541748047,-0.16214413940906525,-5.314169406890869,-10.368622779846191,-12.585043907165527,11.085282325744629,-7.237429618835449,-12.840312004089355,1.7329562902450562,8.833335876464844,2.2930996417999268,-4.523906707763672,4.102285385131836,-6.6488118171691895,6.4663615226745605,6.307754993438721,10.817317008972168,-1.2381471395492554,9.216523170471191,10.937156677246094,11.862837791442871,-9.924774169921875,7.838601589202881,-13.782599449157715,7.393780708312988,5.039902210235596],\"y\":[-5.808131694793701,-3.9870169162750244,-4.491580486297607,-0.9084509015083313,3.1607649326324463,-0.15764686465263367,-6.803147315979004,-7.26457405090332,0.7664593458175659,6.690168857574463,-6.644083499908447,-7.901071071624756,-0.9273383021354675,-8.377531051635742,1.119315266609192,-3.962036609649658,-5.480298042297363,4.381303310394287,-1.1561375856399536,0.5809605121612549,1.2263189554214478,0.684576690196991,-1.7321823835372925,-0.27999699115753174,4.72668981552124,-1.2144012451171875,-6.452929973602295,-4.231428146362305,5.672828197479248,0.8434699177742004,5.578329086303711,-2.3979861736297607,2.0339698791503906,-11.133829116821289,3.2672243118286133,-3.853597640991211,-9.437932968139648,7.639225006103516,-3.5430362224578857,-1.150558352470398,-4.345241069793701,-4.5544328689575195,-5.669252395629883,-11.591418266296387,0.4054622948169708,-7.28031063079834,-5.851414203643799,2.2534713745117188,-5.567259311676025,4.881833553314209,-3.1962578296661377,1.7129873037338257,-3.7678921222686768,-7.755053997039795,-10.110219955444336,0.7780136466026306,-5.5866379737854,-1.0230807065963745,-0.2942740023136139,2.162338972091675,-1.9087308645248413,-7.478408336639404,-8.997560501098633,-0.10199356079101562,-7.507388591766357,-3.9951698780059814,3.1054091453552246,6.137563228607178,2.829659938812256,2.699101686477661,-0.39182302355766296,-4.975466728210449,6.723056793212891,3.2915093898773193,-4.132477760314941,-3.92720627784729,-11.54865837097168,-1.351428747177124,-1.5229883193969727,0.835036039352417,-1.6591917276382446,-3.7442877292633057,2.0077831745147705,-2.554216146469116,-11.389702796936035,5.080930709838867,-5.441433906555176,-7.815108776092529,4.068493366241455,-6.527425765991211,2.9416863918304443,-4.174890041351318,-11.601941108703613,3.830357551574707,5.258317470550537,-6.732658386230469,4.978240013122559,3.219693422317505,0.40427765250205994,-10.494569778442383,-1.6167187690734863,6.576526165008545,0.6848404407501221,-3.445018768310547,2.1382102966308594,-3.9938130378723145,-1.716842532157898,0.8776955008506775,1.9061951637268066,0.22020217776298523,-6.109340190887451,-11.077110290527344,-2.107363224029541,-3.848402976989746,2.3105499744415283,1.191057801246643,-5.350235939025879,2.018737554550171,4.377532482147217,-5.210034370422363,2.46264910697937,-5.4500412940979,-3.724302053451538,-3.872319221496582,2.6257760524749756,-2.884615421295166,3.317368745803833,1.648925542831421,-2.3412327766418457,-7.094928741455078,-1.2830649614334106,3.6103291511535645,3.634448289871216,4.537915229797363,2.5198419094085693,-7.808541774749756,-2.1490845680236816,3.568605899810791,-0.31765174865722656,3.6610114574432373,6.690087795257568,-4.572082042694092,-6.574735641479492,-5.377880573272705,7.010550498962402,2.9370739459991455,-4.700310707092285,3.539114236831665,-2.6484227180480957,1.0736844539642334,-5.716901779174805,1.2822225093841553,2.0171284675598145,-1.075071930885315,-5.937735557556152,-0.6504056453704834,-5.198598861694336,-0.15698283910751343,-3.3456151485443115,-5.920285224914551,-5.806536674499512,-3.728961706161499,0.3261513411998749,-3.2703166007995605,2.9882919788360596,3.338494062423706,-0.17474617063999176,3.9746766090393066,-2.3697659969329834,-2.8930699825286865,3.2293267250061035,-2.813737630844116]},\"selected\":{\"id\":\"1419\",\"type\":\"Selection\"},\"selection_policy\":{\"id\":\"1420\",\"type\":\"UnionRenderers\"}},\"id\":\"1292\",\"type\":\"ColumnDataSource\"},{\"attributes\":{\"callback\":null},\"id\":\"1296\",\"type\":\"DataRange1d\"},{\"attributes\":{\"callback\":null},\"id\":\"1298\",\"type\":\"DataRange1d\"}],\"root_ids\":[\"1294\"]},\"title\":\"Bokeh Application\",\"version\":\"1.0.2\"}};\n",
       "  var render_items = [{\"docid\":\"b1c3e22d-4bb7-48b8-9ac8-d94f2f5cd93f\",\"roots\":{\"1294\":\"164117dc-02e6-4b76-b9fc-e62bf6cee9b9\"}}];\n",
       "  root.Bokeh.embed.embed_items_notebook(docs_json, render_items);\n",
       "\n",
       "  }\n",
       "  if (root.Bokeh !== undefined) {\n",
       "    embed_document(root);\n",
       "  } else {\n",
       "    var attempts = 0;\n",
       "    var timer = setInterval(function(root) {\n",
       "      if (root.Bokeh !== undefined) {\n",
       "        embed_document(root);\n",
       "        clearInterval(timer);\n",
       "      }\n",
       "      attempts++;\n",
       "      if (attempts > 100) {\n",
       "        console.log(\"Bokeh: ERROR: Unable to run BokehJS code because BokehJS library is missing\");\n",
       "        clearInterval(timer);\n",
       "      }\n",
       "    }, 10, root)\n",
       "  }\n",
       "})(window);"
      ],
      "application/vnd.bokehjs_exec.v0+json": ""
     },
     "metadata": {
      "application/vnd.bokehjs_exec.v0+json": {
       "id": "1294"
      }
     },
     "output_type": "display_data"
    }
   ],
   "source": [
    "queries = [\n",
    "    ('라라랜드', '#134963'),\n",
    "    ('관상', '#93728')\n",
    "]\n",
    "\n",
    "for query_name, query_tag in queries:\n",
    "    similars = doc2vec_model.docvecs.most_similar(query_tag)\n",
    "    similar_tags, _ = zip(*similars)\n",
    "\n",
    "    p = draw_scatterplot(\n",
    "        similar_tags,\n",
    "        title = '\"{}\" 유사 영화'.format(query_name),\n",
    "        embedding = y_tsne\n",
    "    )\n",
    "    show(p)"
   ]
  },
  {
   "cell_type": "code",
   "execution_count": null,
   "metadata": {
    "collapsed": true
   },
   "outputs": [],
   "source": []
  }
 ],
 "metadata": {
  "kernelspec": {
   "display_name": "Python 3",
   "language": "python",
   "name": "python3"
  },
  "language_info": {
   "codemirror_mode": {
    "name": "ipython",
    "version": 3
   },
   "file_extension": ".py",
   "mimetype": "text/x-python",
   "name": "python",
   "nbconvert_exporter": "python",
   "pygments_lexer": "ipython3",
   "version": "3.7.1"
  }
 },
 "nbformat": 4,
 "nbformat_minor": 2
}
